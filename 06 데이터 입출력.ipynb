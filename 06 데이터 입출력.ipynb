{
 "cells": [
  {
   "cell_type": "markdown",
   "metadata": {},
   "source": [
    "# 메모리 관리"
   ]
  },
  {
   "cell_type": "code",
   "execution_count": 1,
   "metadata": {},
   "outputs": [],
   "source": [
    "no <- c(1,2,3,4)\n",
    "name <- c(\"Apple\",\"Banana\",\"Peach\",\"Berry\")\n",
    "price <- c(500,400,300,200)\n",
    "qty <- c(5,6,7,8)\n",
    "\n",
    "\n",
    "\n",
    "\n"
   ]
  },
  {
   "cell_type": "code",
   "execution_count": 2,
   "metadata": {},
   "outputs": [
    {
     "data": {
      "text/html": [
       "<table>\n",
       "<thead><tr><th scope=col>No</th><th scope=col>Name</th><th scope=col>Price</th><th scope=col>Qty</th></tr></thead>\n",
       "<tbody>\n",
       "\t<tr><td>1     </td><td>Apple </td><td>500   </td><td>5     </td></tr>\n",
       "\t<tr><td>2     </td><td>Banana</td><td>400   </td><td>6     </td></tr>\n",
       "\t<tr><td>3     </td><td>Peach </td><td>300   </td><td>7     </td></tr>\n",
       "\t<tr><td>4     </td><td>Berry </td><td>200   </td><td>8     </td></tr>\n",
       "</tbody>\n",
       "</table>\n"
      ],
      "text/latex": [
       "\\begin{tabular}{r|llll}\n",
       " No & Name & Price & Qty\\\\\n",
       "\\hline\n",
       "\t 1      & Apple  & 500    & 5     \\\\\n",
       "\t 2      & Banana & 400    & 6     \\\\\n",
       "\t 3      & Peach  & 300    & 7     \\\\\n",
       "\t 4      & Berry  & 200    & 8     \\\\\n",
       "\\end{tabular}\n"
      ],
      "text/markdown": [
       "\n",
       "No | Name | Price | Qty | \n",
       "|---|---|---|---|\n",
       "| 1      | Apple  | 500    | 5      | \n",
       "| 2      | Banana | 400    | 6      | \n",
       "| 3      | Peach  | 300    | 7      | \n",
       "| 4      | Berry  | 200    | 8      | \n",
       "\n",
       "\n"
      ],
      "text/plain": [
       "  No Name   Price Qty\n",
       "1 1  Apple  500   5  \n",
       "2 2  Banana 400   6  \n",
       "3 3  Peach  300   7  \n",
       "4 4  Berry  200   8  "
      ]
     },
     "metadata": {},
     "output_type": "display_data"
    }
   ],
   "source": [
    "fruit <- data.frame(No=no,Name=name,Price=price,Qty=qty)\n",
    "fruit\n",
    "\n",
    "\n",
    "\n"
   ]
  },
  {
   "cell_type": "code",
   "execution_count": 3,
   "metadata": {},
   "outputs": [
    {
     "data": {
      "text/html": [
       "<ol class=list-inline>\n",
       "\t<li>'fruit'</li>\n",
       "\t<li>'name'</li>\n",
       "\t<li>'no'</li>\n",
       "\t<li>'price'</li>\n",
       "\t<li>'qty'</li>\n",
       "</ol>\n"
      ],
      "text/latex": [
       "\\begin{enumerate*}\n",
       "\\item 'fruit'\n",
       "\\item 'name'\n",
       "\\item 'no'\n",
       "\\item 'price'\n",
       "\\item 'qty'\n",
       "\\end{enumerate*}\n"
      ],
      "text/markdown": [
       "1. 'fruit'\n",
       "2. 'name'\n",
       "3. 'no'\n",
       "4. 'price'\n",
       "5. 'qty'\n",
       "\n",
       "\n"
      ],
      "text/plain": [
       "[1] \"fruit\" \"name\"  \"no\"    \"price\" \"qty\"  "
      ]
     },
     "metadata": {},
     "output_type": "display_data"
    }
   ],
   "source": [
    "# 메모리에 올려진 변수 보기\n",
    "ls()\n",
    "\n",
    "\n",
    "\n"
   ]
  },
  {
   "cell_type": "code",
   "execution_count": 4,
   "metadata": {},
   "outputs": [],
   "source": [
    "# Data 에 저장\n",
    "save(no,name,fruit, file=\"..//Data/testFruit.dat\")\n",
    "\n",
    "\n",
    "\n"
   ]
  },
  {
   "cell_type": "code",
   "execution_count": 5,
   "metadata": {},
   "outputs": [],
   "source": [
    "# 메모리 변수 삭제\n",
    "rm(no,name,fruit,price,qty)\n",
    "\n",
    "\n",
    "\n"
   ]
  },
  {
   "cell_type": "code",
   "execution_count": 6,
   "metadata": {},
   "outputs": [
    {
     "data": {
      "text/html": [],
      "text/latex": [],
      "text/markdown": [],
      "text/plain": [
       "character(0)"
      ]
     },
     "metadata": {},
     "output_type": "display_data"
    }
   ],
   "source": [
    "# 메모리가 삭제 되어있음\n",
    "ls()\n",
    "\n",
    "\n",
    "\n"
   ]
  },
  {
   "cell_type": "code",
   "execution_count": 7,
   "metadata": {},
   "outputs": [],
   "source": [
    "# 메모리에 data 올리기\n",
    "load(\"../Data/testFruit.dat\")\n",
    "\n",
    "\n",
    "\n"
   ]
  },
  {
   "cell_type": "code",
   "execution_count": 8,
   "metadata": {},
   "outputs": [
    {
     "data": {
      "text/html": [
       "<ol class=list-inline>\n",
       "\t<li>'fruit'</li>\n",
       "\t<li>'name'</li>\n",
       "\t<li>'no'</li>\n",
       "</ol>\n"
      ],
      "text/latex": [
       "\\begin{enumerate*}\n",
       "\\item 'fruit'\n",
       "\\item 'name'\n",
       "\\item 'no'\n",
       "\\end{enumerate*}\n"
      ],
      "text/markdown": [
       "1. 'fruit'\n",
       "2. 'name'\n",
       "3. 'no'\n",
       "\n",
       "\n"
      ],
      "text/plain": [
       "[1] \"fruit\" \"name\"  \"no\"   "
      ]
     },
     "metadata": {},
     "output_type": "display_data"
    }
   ],
   "source": [
    "ls()\n",
    "\n",
    "\n",
    "\n"
   ]
  },
  {
   "cell_type": "code",
   "execution_count": 11,
   "metadata": {},
   "outputs": [
    {
     "data": {
      "text/html": [
       "<table>\n",
       "<thead><tr><th scope=col>V1</th><th scope=col>V2</th><th scope=col>V3</th><th scope=col>V4</th></tr></thead>\n",
       "<tbody>\n",
       "\t<tr><td>101 </td><td>hong</td><td>175 </td><td>65  </td></tr>\n",
       "\t<tr><td>201 </td><td>lee </td><td>185 </td><td>85  </td></tr>\n",
       "\t<tr><td>301 </td><td>kim </td><td>173 </td><td>60  </td></tr>\n",
       "\t<tr><td>401 </td><td>park</td><td>180 </td><td>70  </td></tr>\n",
       "</tbody>\n",
       "</table>\n"
      ],
      "text/latex": [
       "\\begin{tabular}{r|llll}\n",
       " V1 & V2 & V3 & V4\\\\\n",
       "\\hline\n",
       "\t 101  & hong & 175  & 65  \\\\\n",
       "\t 201  & lee  & 185  & 85  \\\\\n",
       "\t 301  & kim  & 173  & 60  \\\\\n",
       "\t 401  & park & 180  & 70  \\\\\n",
       "\\end{tabular}\n"
      ],
      "text/markdown": [
       "\n",
       "V1 | V2 | V3 | V4 | \n",
       "|---|---|---|---|\n",
       "| 101  | hong | 175  | 65   | \n",
       "| 201  | lee  | 185  | 85   | \n",
       "| 301  | kim  | 173  | 60   | \n",
       "| 401  | park | 180  | 70   | \n",
       "\n",
       "\n"
      ],
      "text/plain": [
       "  V1  V2   V3  V4\n",
       "1 101 hong 175 65\n",
       "2 201 lee  185 85\n",
       "3 301 kim  173 60\n",
       "4 401 park 180 70"
      ]
     },
     "metadata": {},
     "output_type": "display_data"
    }
   ],
   "source": [
    "# student.txt 파일 불러오기\n",
    "student <- read.table(\"../Data/student.txt\")\n",
    "student\n",
    "\n",
    "\n",
    "\n"
   ]
  },
  {
   "cell_type": "code",
   "execution_count": 15,
   "metadata": {},
   "outputs": [
    {
     "data": {
      "text/html": [
       "<table>\n",
       "<thead><tr><th scope=col>번호</th><th scope=col>이름</th><th scope=col>키</th><th scope=col>몸무게</th></tr></thead>\n",
       "<tbody>\n",
       "\t<tr><td>101 </td><td>hong</td><td>175 </td><td>65  </td></tr>\n",
       "\t<tr><td>201 </td><td>lee </td><td>185 </td><td>85  </td></tr>\n",
       "\t<tr><td>301 </td><td>kim </td><td>173 </td><td>60  </td></tr>\n",
       "\t<tr><td>401 </td><td>park</td><td>180 </td><td>70  </td></tr>\n",
       "</tbody>\n",
       "</table>\n"
      ],
      "text/latex": [
       "\\begin{tabular}{r|llll}\n",
       " 번호 & 이름 & 키 & 몸무게\\\\\n",
       "\\hline\n",
       "\t 101  & hong & 175  & 65  \\\\\n",
       "\t 201  & lee  & 185  & 85  \\\\\n",
       "\t 301  & kim  & 173  & 60  \\\\\n",
       "\t 401  & park & 180  & 70  \\\\\n",
       "\\end{tabular}\n"
      ],
      "text/markdown": [
       "\n",
       "번호 | 이름 | 키 | 몸무게 | \n",
       "|---|---|---|---|\n",
       "| 101  | hong | 175  | 65   | \n",
       "| 201  | lee  | 185  | 85   | \n",
       "| 301  | kim  | 173  | 60   | \n",
       "| 401  | park | 180  | 70   | \n",
       "\n",
       "\n"
      ],
      "text/plain": [
       "  번호 이름 키  몸무게\n",
       "1 101  hong 175 65    \n",
       "2 201  lee  185 85    \n",
       "3 301  kim  173 60    \n",
       "4 401  park 180 70    "
      ]
     },
     "metadata": {},
     "output_type": "display_data"
    }
   ],
   "source": [
    "kk<-data.frame(번호=student[,1],이름=student[,2],키=student[,3],몸무게=student[,4])\n",
    "kk\n",
    "\n",
    "\n",
    "\n"
   ]
  },
  {
   "cell_type": "code",
   "execution_count": 17,
   "metadata": {},
   "outputs": [
    {
     "data": {
      "text/html": [
       "<table>\n",
       "<thead><tr><th scope=col>번호</th><th scope=col>이름</th><th scope=col>키</th><th scope=col>몸무게</th></tr></thead>\n",
       "<tbody>\n",
       "\t<tr><td>101 </td><td>hong</td><td>175 </td><td>65  </td></tr>\n",
       "\t<tr><td>201 </td><td>lee </td><td>185 </td><td>85  </td></tr>\n",
       "\t<tr><td>301 </td><td>kim </td><td>173 </td><td>60  </td></tr>\n",
       "\t<tr><td>401 </td><td>park</td><td>180 </td><td>70  </td></tr>\n",
       "</tbody>\n",
       "</table>\n"
      ],
      "text/latex": [
       "\\begin{tabular}{r|llll}\n",
       " 번호 & 이름 & 키 & 몸무게\\\\\n",
       "\\hline\n",
       "\t 101  & hong & 175  & 65  \\\\\n",
       "\t 201  & lee  & 185  & 85  \\\\\n",
       "\t 301  & kim  & 173  & 60  \\\\\n",
       "\t 401  & park & 180  & 70  \\\\\n",
       "\\end{tabular}\n"
      ],
      "text/markdown": [
       "\n",
       "번호 | 이름 | 키 | 몸무게 | \n",
       "|---|---|---|---|\n",
       "| 101  | hong | 175  | 65   | \n",
       "| 201  | lee  | 185  | 85   | \n",
       "| 301  | kim  | 173  | 60   | \n",
       "| 401  | park | 180  | 70   | \n",
       "\n",
       "\n"
      ],
      "text/plain": [
       "  번호 이름 키  몸무게\n",
       "1 101  hong 175 65    \n",
       "2 201  lee  185 85    \n",
       "3 301  kim  173 60    \n",
       "4 401  park 180 70    "
      ]
     },
     "metadata": {},
     "output_type": "display_data"
    }
   ],
   "source": [
    "names(student) <- c(\"번호\",\"이름\",\"키\",\"몸무게\")\n",
    "student\n",
    "\n",
    "\n",
    "\n"
   ]
  },
  {
   "cell_type": "markdown",
   "metadata": {},
   "source": [
    "## 텍스트 데이터 불러오기"
   ]
  },
  {
   "cell_type": "code",
   "execution_count": 39,
   "metadata": {},
   "outputs": [
    {
     "data": {
      "text/html": [
       "<table>\n",
       "<thead><tr><th scope=col>번호</th><th scope=col>이름</th><th scope=col>키</th><th scope=col>몸무게</th></tr></thead>\n",
       "<tbody>\n",
       "\t<tr><td>101 </td><td>hong</td><td>175 </td><td>65  </td></tr>\n",
       "\t<tr><td>201 </td><td>lee </td><td>185 </td><td>85  </td></tr>\n",
       "\t<tr><td>301 </td><td>kim </td><td>173 </td><td>60  </td></tr>\n",
       "\t<tr><td>401 </td><td>park</td><td>180 </td><td>70  </td></tr>\n",
       "</tbody>\n",
       "</table>\n"
      ],
      "text/latex": [
       "\\begin{tabular}{r|llll}\n",
       " 번호 & 이름 & 키 & 몸무게\\\\\n",
       "\\hline\n",
       "\t 101  & hong & 175  & 65  \\\\\n",
       "\t 201  & lee  & 185  & 85  \\\\\n",
       "\t 301  & kim  & 173  & 60  \\\\\n",
       "\t 401  & park & 180  & 70  \\\\\n",
       "\\end{tabular}\n"
      ],
      "text/markdown": [
       "\n",
       "번호 | 이름 | 키 | 몸무게 | \n",
       "|---|---|---|---|\n",
       "| 101  | hong | 175  | 65   | \n",
       "| 201  | lee  | 185  | 85   | \n",
       "| 301  | kim  | 173  | 60   | \n",
       "| 401  | park | 180  | 70   | \n",
       "\n",
       "\n"
      ],
      "text/plain": [
       "  번호 이름 키  몸무게\n",
       "1 101  hong 175 65    \n",
       "2 201  lee  185 85    \n",
       "3 301  kim  173 60    \n",
       "4 401  park 180 70    "
      ]
     },
     "metadata": {},
     "output_type": "display_data"
    }
   ],
   "source": [
    "# student.txt 파일 불러오기\n",
    "student1 <- read.table(\"../Data/student1.txt\",header = T)\n",
    "student1\n",
    "\n",
    "\n",
    "\n"
   ]
  },
  {
   "cell_type": "code",
   "execution_count": 51,
   "metadata": {},
   "outputs": [
    {
     "data": {
      "text/html": [
       "<table>\n",
       "<thead><tr><th scope=col>번호</th><th scope=col>이름</th><th scope=col>키</th><th scope=col>몸무게</th></tr></thead>\n",
       "<tbody>\n",
       "\t<tr><td>101 </td><td>hong</td><td>175 </td><td>65  </td></tr>\n",
       "\t<tr><td>201 </td><td>lee </td><td>185 </td><td>85  </td></tr>\n",
       "\t<tr><td>301 </td><td>kim </td><td>173 </td><td>60  </td></tr>\n",
       "\t<tr><td>401 </td><td>park</td><td>180 </td><td>70  </td></tr>\n",
       "</tbody>\n",
       "</table>\n"
      ],
      "text/latex": [
       "\\begin{tabular}{r|llll}\n",
       " 번호 & 이름 & 키 & 몸무게\\\\\n",
       "\\hline\n",
       "\t 101  & hong & 175  & 65  \\\\\n",
       "\t 201  & lee  & 185  & 85  \\\\\n",
       "\t 301  & kim  & 173  & 60  \\\\\n",
       "\t 401  & park & 180  & 70  \\\\\n",
       "\\end{tabular}\n"
      ],
      "text/markdown": [
       "\n",
       "번호 | 이름 | 키 | 몸무게 | \n",
       "|---|---|---|---|\n",
       "| 101  | hong | 175  | 65   | \n",
       "| 201  | lee  | 185  | 85   | \n",
       "| 301  | kim  | 173  | 60   | \n",
       "| 401  | park | 180  | 70   | \n",
       "\n",
       "\n"
      ],
      "text/plain": [
       "  번호 이름 키  몸무게\n",
       "1 101  hong 175 65    \n",
       "2 201  lee  185 85    \n",
       "3 301  kim  173 60    \n",
       "4 401  park 180 70    "
      ]
     },
     "metadata": {},
     "output_type": "display_data"
    }
   ],
   "source": [
    "# student.txt 파일 불러오기\n",
    "student2 <- read.table(\"../Data/student2.txt\",header = T,sep=\";\")\n",
    "student2\n",
    "\n",
    "\n",
    "\n"
   ]
  },
  {
   "cell_type": "code",
   "execution_count": 55,
   "metadata": {},
   "outputs": [
    {
     "data": {
      "text/html": [
       "<table>\n",
       "<thead><tr><th scope=col>번호</th><th scope=col>이름</th><th scope=col>키</th><th scope=col>몸무게</th></tr></thead>\n",
       "<tbody>\n",
       "\t<tr><td>101 </td><td>hong</td><td>175 </td><td>NA  </td></tr>\n",
       "\t<tr><td>201 </td><td>lee </td><td>185 </td><td>85  </td></tr>\n",
       "\t<tr><td>301 </td><td>kim </td><td>173 </td><td>NA  </td></tr>\n",
       "\t<tr><td>401 </td><td>park</td><td> NA </td><td>70  </td></tr>\n",
       "</tbody>\n",
       "</table>\n"
      ],
      "text/latex": [
       "\\begin{tabular}{r|llll}\n",
       " 번호 & 이름 & 키 & 몸무게\\\\\n",
       "\\hline\n",
       "\t 101  & hong & 175  & NA  \\\\\n",
       "\t 201  & lee  & 185  & 85  \\\\\n",
       "\t 301  & kim  & 173  & NA  \\\\\n",
       "\t 401  & park &  NA  & 70  \\\\\n",
       "\\end{tabular}\n"
      ],
      "text/markdown": [
       "\n",
       "번호 | 이름 | 키 | 몸무게 | \n",
       "|---|---|---|---|\n",
       "| 101  | hong | 175  | NA   | \n",
       "| 201  | lee  | 185  | 85   | \n",
       "| 301  | kim  | 173  | NA   | \n",
       "| 401  | park |  NA  | 70   | \n",
       "\n",
       "\n"
      ],
      "text/plain": [
       "  번호 이름 키  몸무게\n",
       "1 101  hong 175 NA    \n",
       "2 201  lee  185 85    \n",
       "3 301  kim  173 NA    \n",
       "4 401  park  NA 70    "
      ]
     },
     "metadata": {},
     "output_type": "display_data"
    }
   ],
   "source": [
    "# student.txt 파일 불러오기\n",
    "student3 <- read.table(\"../Data/student3.txt\",header = T,sep=\" \",na.strings = c(\"-\",\"&\"))\n",
    "student3\n",
    "\n",
    "\n",
    "\n"
   ]
  },
  {
   "cell_type": "code",
   "execution_count": 57,
   "metadata": {},
   "outputs": [
    {
     "data": {
      "text/html": [
       "<table>\n",
       "<thead><tr><th scope=col>번호</th><th scope=col>이름</th><th scope=col>키</th><th scope=col>몸무게</th></tr></thead>\n",
       "<tbody>\n",
       "\t<tr><td>101 </td><td>hong</td><td>175 </td><td>NA  </td></tr>\n",
       "\t<tr><td>201 </td><td>lee </td><td> NA </td><td>85  </td></tr>\n",
       "\t<tr><td>301 </td><td>kim </td><td>173 </td><td>NA  </td></tr>\n",
       "\t<tr><td>401 </td><td>park</td><td> NA </td><td>70  </td></tr>\n",
       "</tbody>\n",
       "</table>\n"
      ],
      "text/latex": [
       "\\begin{tabular}{r|llll}\n",
       " 번호 & 이름 & 키 & 몸무게\\\\\n",
       "\\hline\n",
       "\t 101  & hong & 175  & NA  \\\\\n",
       "\t 201  & lee  &  NA  & 85  \\\\\n",
       "\t 301  & kim  & 173  & NA  \\\\\n",
       "\t 401  & park &  NA  & 70  \\\\\n",
       "\\end{tabular}\n"
      ],
      "text/markdown": [
       "\n",
       "번호 | 이름 | 키 | 몸무게 | \n",
       "|---|---|---|---|\n",
       "| 101  | hong | 175  | NA   | \n",
       "| 201  | lee  |  NA  | 85   | \n",
       "| 301  | kim  | 173  | NA   | \n",
       "| 401  | park |  NA  | 70   | \n",
       "\n",
       "\n"
      ],
      "text/plain": [
       "  번호 이름 키  몸무게\n",
       "1 101  hong 175 NA    \n",
       "2 201  lee   NA 85    \n",
       "3 301  kim  173 NA    \n",
       "4 401  park  NA 70    "
      ]
     },
     "metadata": {},
     "output_type": "display_data"
    }
   ],
   "source": [
    "# student.txt 파일 불러오기\n",
    "student4 <- read.table(\"../Data/student4.txt\",header = T,sep=\",\",na.strings = c(\"-\",\"+\",\"$\",\"7\"))\n",
    "student4\n",
    "\n",
    "\n",
    "\n"
   ]
  },
  {
   "cell_type": "code",
   "execution_count": 58,
   "metadata": {},
   "outputs": [
    {
     "data": {
      "text/html": [
       "<table>\n",
       "<thead><tr><th scope=col>번호</th><th scope=col>이름</th><th scope=col>키</th><th scope=col>몸무게</th></tr></thead>\n",
       "<tbody>\n",
       "\t<tr><td>101 </td><td>hong</td><td>175 </td><td>NA  </td></tr>\n",
       "\t<tr><td>201 </td><td>lee </td><td> NA </td><td>85  </td></tr>\n",
       "\t<tr><td>301 </td><td>kim </td><td>173 </td><td>NA  </td></tr>\n",
       "\t<tr><td>401 </td><td>park</td><td> NA </td><td>70  </td></tr>\n",
       "</tbody>\n",
       "</table>\n"
      ],
      "text/latex": [
       "\\begin{tabular}{r|llll}\n",
       " 번호 & 이름 & 키 & 몸무게\\\\\n",
       "\\hline\n",
       "\t 101  & hong & 175  & NA  \\\\\n",
       "\t 201  & lee  &  NA  & 85  \\\\\n",
       "\t 301  & kim  & 173  & NA  \\\\\n",
       "\t 401  & park &  NA  & 70  \\\\\n",
       "\\end{tabular}\n"
      ],
      "text/markdown": [
       "\n",
       "번호 | 이름 | 키 | 몸무게 | \n",
       "|---|---|---|---|\n",
       "| 101  | hong | 175  | NA   | \n",
       "| 201  | lee  |  NA  | 85   | \n",
       "| 301  | kim  | 173  | NA   | \n",
       "| 401  | park |  NA  | 70   | \n",
       "\n",
       "\n"
      ],
      "text/plain": [
       "  번호 이름 키  몸무게\n",
       "1 101  hong 175 NA    \n",
       "2 201  lee   NA 85    \n",
       "3 301  kim  173 NA    \n",
       "4 401  park  NA 70    "
      ]
     },
     "metadata": {},
     "output_type": "display_data"
    }
   ],
   "source": [
    "# student.txt 파일 불러오기\n",
    "student4 <- read.csv(\"../Data/student4.txt\",header = T,na.strings = c(\"-\",\"+\",\"$\",\"7\"))\n",
    "student4\n",
    "\n",
    "\n",
    "\n"
   ]
  },
  {
   "cell_type": "markdown",
   "metadata": {},
   "source": [
    "#### 엑셀파일 불러오기\n",
    "#### install.packages(\"xlsx\")\n",
    "#### install.packages(\"rJava\")\n",
    "#### Sys.setenv(JAVA _HOME=\"/usr/lib/jvm/java-11-openjdk-amd64\")"
   ]
  },
  {
   "cell_type": "code",
   "execution_count": 65,
   "metadata": {},
   "outputs": [],
   "source": [
    "library(xlsx)\n",
    "library(rJava)\n",
    "\n",
    "\n",
    "\n"
   ]
  },
  {
   "cell_type": "code",
   "execution_count": 66,
   "metadata": {},
   "outputs": [],
   "source": [
    "Sys.setenv(JAVA_HOME=\"/usr/lib/jvm/java-11-openjdk-amd64\")\n",
    "\n",
    "\n",
    "\n"
   ]
  },
  {
   "cell_type": "code",
   "execution_count": 69,
   "metadata": {
    "scrolled": true
   },
   "outputs": [
    {
     "data": {
      "text/html": [
       "<table>\n",
       "<thead><tr><th scope=col>학번</th><th scope=col>이름</th><th scope=col>성적</th><th scope=col>평가</th></tr></thead>\n",
       "<tbody>\n",
       "\t<tr><td>101   </td><td>홍길동</td><td>80    </td><td>B     </td></tr>\n",
       "\t<tr><td>102   </td><td>이순신</td><td>95    </td><td>A+    </td></tr>\n",
       "\t<tr><td>103   </td><td>강감찬</td><td>78    </td><td>C+    </td></tr>\n",
       "\t<tr><td>104   </td><td>유관순</td><td>85    </td><td>B+    </td></tr>\n",
       "\t<tr><td>105   </td><td>김유신</td><td>65    </td><td>D+    </td></tr>\n",
       "</tbody>\n",
       "</table>\n"
      ],
      "text/latex": [
       "\\begin{tabular}{r|llll}\n",
       " 학번 & 이름 & 성적 & 평가\\\\\n",
       "\\hline\n",
       "\t 101    & 홍길동 & 80     & B     \\\\\n",
       "\t 102    & 이순신 & 95     & A+    \\\\\n",
       "\t 103    & 강감찬 & 78     & C+    \\\\\n",
       "\t 104    & 유관순 & 85     & B+    \\\\\n",
       "\t 105    & 김유신 & 65     & D+    \\\\\n",
       "\\end{tabular}\n"
      ],
      "text/markdown": [
       "\n",
       "학번 | 이름 | 성적 | 평가 | \n",
       "|---|---|---|---|---|\n",
       "| 101    | 홍길동 | 80     | B      | \n",
       "| 102    | 이순신 | 95     | A+     | \n",
       "| 103    | 강감찬 | 78     | C+     | \n",
       "| 104    | 유관순 | 85     | B+     | \n",
       "| 105    | 김유신 | 65     | D+     | \n",
       "\n",
       "\n"
      ],
      "text/plain": [
       "  학번 이름   성적 평가\n",
       "1 101  홍길동 80   B   \n",
       "2 102  이순신 95   A+  \n",
       "3 103  강감찬 78   C+  \n",
       "4 104  유관순 85   B+  \n",
       "5 105  김유신 65   D+  "
      ]
     },
     "metadata": {},
     "output_type": "display_data"
    }
   ],
   "source": [
    "# 엑셀 시트를 지정해서 부르기\n",
    "studentx <- read.xlsx(\"../Data/studentexcel.xlsx\",sheetIndex = 1)\n",
    "studentx\n",
    "\n",
    "\n",
    "\n"
   ]
  },
  {
   "cell_type": "markdown",
   "metadata": {},
   "source": [
    "## 인터넷에서 데이터 부르기"
   ]
  },
  {
   "cell_type": "code",
   "execution_count": 73,
   "metadata": {},
   "outputs": [
    {
     "data": {
      "text/html": [
       "<table>\n",
       "<thead><tr><th scope=col>X</th><th scope=col>Gross.domestic.product.2017</th><th scope=col>X.1</th><th scope=col>X.2</th><th scope=col>X.3</th><th scope=col>X.4</th><th scope=col>X.5</th></tr></thead>\n",
       "<tbody>\n",
       "\t<tr><td>              </td><td>              </td><td>NA            </td><td>              </td><td>              </td><td>              </td><td>NA            </td></tr>\n",
       "\t<tr><td>              </td><td>              </td><td>NA            </td><td>              </td><td>(millions of  </td><td>              </td><td>NA            </td></tr>\n",
       "\t<tr><td>              </td><td>Ranking       </td><td>NA            </td><td>Economy       </td><td>US dollars)   </td><td>              </td><td>NA            </td></tr>\n",
       "\t<tr><td>              </td><td>              </td><td>NA            </td><td>              </td><td>              </td><td>              </td><td>NA            </td></tr>\n",
       "\t<tr><td>USA           </td><td>1             </td><td>NA            </td><td>United States </td><td> 19,390,604   </td><td>              </td><td>NA            </td></tr>\n",
       "\t<tr><td>CHN           </td><td>2             </td><td>NA            </td><td>China         </td><td> 12,237,700   </td><td>              </td><td>NA            </td></tr>\n",
       "\t<tr><td>JPN           </td><td>3             </td><td>NA            </td><td>Japan         </td><td> 4,872,137    </td><td>              </td><td>NA            </td></tr>\n",
       "\t<tr><td>DEU           </td><td>4             </td><td>NA            </td><td>Germany       </td><td> 3,677,439    </td><td>              </td><td>NA            </td></tr>\n",
       "\t<tr><td>GBR           </td><td>5             </td><td>NA            </td><td>United Kingdom</td><td> 2,622,434    </td><td>              </td><td>NA            </td></tr>\n",
       "\t<tr><td>IND           </td><td>6             </td><td>NA            </td><td>India         </td><td> 2,597,491    </td><td>              </td><td>NA            </td></tr>\n",
       "</tbody>\n",
       "</table>\n"
      ],
      "text/latex": [
       "\\begin{tabular}{r|lllllll}\n",
       " X & Gross.domestic.product.2017 & X.1 & X.2 & X.3 & X.4 & X.5\\\\\n",
       "\\hline\n",
       "\t                &                & NA             &                &                &                & NA            \\\\\n",
       "\t                &                & NA             &                & (millions of   &                & NA            \\\\\n",
       "\t                & Ranking        & NA             & Economy        & US dollars)    &                & NA            \\\\\n",
       "\t                &                & NA             &                &                &                & NA            \\\\\n",
       "\t USA            & 1              & NA             & United States  &  19,390,604    &                & NA            \\\\\n",
       "\t CHN            & 2              & NA             & China          &  12,237,700    &                & NA            \\\\\n",
       "\t JPN            & 3              & NA             & Japan          &  4,872,137     &                & NA            \\\\\n",
       "\t DEU            & 4              & NA             & Germany        &  3,677,439     &                & NA            \\\\\n",
       "\t GBR            & 5              & NA             & United Kingdom &  2,622,434     &                & NA            \\\\\n",
       "\t IND            & 6              & NA             & India          &  2,597,491     &                & NA            \\\\\n",
       "\\end{tabular}\n"
      ],
      "text/markdown": [
       "\n",
       "X | Gross.domestic.product.2017 | X.1 | X.2 | X.3 | X.4 | X.5 | \n",
       "|---|---|---|---|---|---|---|---|---|---|\n",
       "|                |                | NA             |                |                |                | NA             | \n",
       "|                |                | NA             |                | (millions of   |                | NA             | \n",
       "|                | Ranking        | NA             | Economy        | US dollars)    |                | NA             | \n",
       "|                |                | NA             |                |                |                | NA             | \n",
       "| USA            | 1              | NA             | United States  |  19,390,604    |                | NA             | \n",
       "| CHN            | 2              | NA             | China          |  12,237,700    |                | NA             | \n",
       "| JPN            | 3              | NA             | Japan          |  4,872,137     |                | NA             | \n",
       "| DEU            | 4              | NA             | Germany        |  3,677,439     |                | NA             | \n",
       "| GBR            | 5              | NA             | United Kingdom |  2,622,434     |                | NA             | \n",
       "| IND            | 6              | NA             | India          |  2,597,491     |                | NA             | \n",
       "\n",
       "\n"
      ],
      "text/plain": [
       "   X   Gross.domestic.product.2017 X.1 X.2            X.3          X.4 X.5\n",
       "1                                  NA                                  NA \n",
       "2                                  NA                 (millions of     NA \n",
       "3      Ranking                     NA  Economy        US dollars)      NA \n",
       "4                                  NA                                  NA \n",
       "5  USA 1                           NA  United States   19,390,604      NA \n",
       "6  CHN 2                           NA  China           12,237,700      NA \n",
       "7  JPN 3                           NA  Japan           4,872,137       NA \n",
       "8  DEU 4                           NA  Germany         3,677,439       NA \n",
       "9  GBR 5                           NA  United Kingdom  2,622,434       NA \n",
       "10 IND 6                           NA  India           2,597,491       NA "
      ]
     },
     "metadata": {},
     "output_type": "display_data"
    }
   ],
   "source": [
    "# 인터넷에서 파일 불러오기\n",
    "# 세계 GDP 순위 불러오기\n",
    "GDP_ranking <- read.csv(\"https://databank.worldbank.org/data/download/GDP.csv\")\n",
    "head(GDP_ranking,10)\n",
    "\n",
    "\n",
    "\n"
   ]
  },
  {
   "cell_type": "code",
   "execution_count": 76,
   "metadata": {},
   "outputs": [
    {
     "data": {
      "text/html": [
       "<table>\n",
       "<thead><tr><th></th><th scope=col>X</th><th scope=col>Gross.domestic.product.2017</th><th scope=col>X.2</th><th scope=col>X.3</th></tr></thead>\n",
       "<tbody>\n",
       "\t<tr><th scope=row>5</th><td>USA           </td><td>1             </td><td>United States </td><td> 19,390,604   </td></tr>\n",
       "\t<tr><th scope=row>6</th><td>CHN           </td><td>2             </td><td>China         </td><td> 12,237,700   </td></tr>\n",
       "\t<tr><th scope=row>7</th><td>JPN           </td><td>3             </td><td>Japan         </td><td> 4,872,137    </td></tr>\n",
       "\t<tr><th scope=row>8</th><td>DEU           </td><td>4             </td><td>Germany       </td><td> 3,677,439    </td></tr>\n",
       "\t<tr><th scope=row>9</th><td>GBR           </td><td>5             </td><td>United Kingdom</td><td> 2,622,434    </td></tr>\n",
       "\t<tr><th scope=row>10</th><td>IND           </td><td>6             </td><td>India         </td><td> 2,597,491    </td></tr>\n",
       "</tbody>\n",
       "</table>\n"
      ],
      "text/latex": [
       "\\begin{tabular}{r|llll}\n",
       "  & X & Gross.domestic.product.2017 & X.2 & X.3\\\\\n",
       "\\hline\n",
       "\t5 & USA            & 1              & United States  &  19,390,604   \\\\\n",
       "\t6 & CHN            & 2              & China          &  12,237,700   \\\\\n",
       "\t7 & JPN            & 3              & Japan          &  4,872,137    \\\\\n",
       "\t8 & DEU            & 4              & Germany        &  3,677,439    \\\\\n",
       "\t9 & GBR            & 5              & United Kingdom &  2,622,434    \\\\\n",
       "\t10 & IND            & 6              & India          &  2,597,491    \\\\\n",
       "\\end{tabular}\n"
      ],
      "text/markdown": [
       "\n",
       "| <!--/--> | X | Gross.domestic.product.2017 | X.2 | X.3 | \n",
       "|---|---|---|---|---|---|\n",
       "| 5 | USA            | 1              | United States  |  19,390,604    | \n",
       "| 6 | CHN            | 2              | China          |  12,237,700    | \n",
       "| 7 | JPN            | 3              | Japan          |  4,872,137     | \n",
       "| 8 | DEU            | 4              | Germany        |  3,677,439     | \n",
       "| 9 | GBR            | 5              | United Kingdom |  2,622,434     | \n",
       "| 10 | IND            | 6              | India          |  2,597,491     | \n",
       "\n",
       "\n"
      ],
      "text/plain": [
       "   X   Gross.domestic.product.2017 X.2            X.3         \n",
       "5  USA 1                           United States   19,390,604 \n",
       "6  CHN 2                           China           12,237,700 \n",
       "7  JPN 3                           Japan           4,872,137  \n",
       "8  DEU 4                           Germany         3,677,439  \n",
       "9  GBR 5                           United Kingdom  2,622,434  \n",
       "10 IND 6                           India           2,597,491  "
      ]
     },
     "metadata": {},
     "output_type": "display_data"
    }
   ],
   "source": [
    "# 데이터를 가공하기 위해 불필요한 행과 열을 제거한다.\n",
    "GDP_ranking2 <- GDP_ranking[-c(1:4),c(1,2,4,5)]\n",
    "head(GDP_ranking2)\n",
    "\n",
    "\n",
    "\n"
   ]
  },
  {
   "cell_type": "code",
   "execution_count": 96,
   "metadata": {},
   "outputs": [
    {
     "data": {
      "text/html": [
       "<table>\n",
       "<thead><tr><th></th><th scope=col>Code</th><th scope=col>Ranking</th><th scope=col>Nation</th><th scope=col>GDP</th></tr></thead>\n",
       "<tbody>\n",
       "\t<tr><th scope=row>5</th><td>USA               </td><td>1                 </td><td>United States     </td><td> 19,390,604       </td></tr>\n",
       "\t<tr><th scope=row>6</th><td>CHN               </td><td>2                 </td><td>China             </td><td> 12,237,700       </td></tr>\n",
       "\t<tr><th scope=row>7</th><td>JPN               </td><td>3                 </td><td>Japan             </td><td> 4,872,137        </td></tr>\n",
       "\t<tr><th scope=row>8</th><td>DEU               </td><td>4                 </td><td>Germany           </td><td> 3,677,439        </td></tr>\n",
       "\t<tr><th scope=row>9</th><td>GBR               </td><td>5                 </td><td>United Kingdom    </td><td> 2,622,434        </td></tr>\n",
       "\t<tr><th scope=row>10</th><td>IND               </td><td>6                 </td><td>India             </td><td> 2,597,491        </td></tr>\n",
       "\t<tr><th scope=row>11</th><td>FRA               </td><td>7                 </td><td>France            </td><td> 2,582,501        </td></tr>\n",
       "\t<tr><th scope=row>12</th><td>BRA               </td><td>8                 </td><td>Brazil            </td><td> 2,055,506        </td></tr>\n",
       "\t<tr><th scope=row>13</th><td>ITA               </td><td>9                 </td><td>Italy             </td><td> 1,934,798        </td></tr>\n",
       "\t<tr><th scope=row>14</th><td>CAN               </td><td>10                </td><td>Canada            </td><td> 1,653,043        </td></tr>\n",
       "\t<tr><th scope=row>15</th><td>RUS               </td><td>11                </td><td>Russian Federation</td><td> 1,577,524        </td></tr>\n",
       "\t<tr><th scope=row>16</th><td>KOR               </td><td>12                </td><td>Korea, Rep.       </td><td> 1,530,751        </td></tr>\n",
       "\t<tr><th scope=row>17</th><td>AUS               </td><td>13                </td><td>Australia         </td><td> 1,323,421        </td></tr>\n",
       "\t<tr><th scope=row>18</th><td>ESP               </td><td>14                </td><td>Spain             </td><td> 1,311,320        </td></tr>\n",
       "\t<tr><th scope=row>19</th><td>MEX               </td><td>15                </td><td>Mexico            </td><td> 1,149,919        </td></tr>\n",
       "</tbody>\n",
       "</table>\n"
      ],
      "text/latex": [
       "\\begin{tabular}{r|llll}\n",
       "  & Code & Ranking & Nation & GDP\\\\\n",
       "\\hline\n",
       "\t5 & USA                & 1                  & United States      &  19,390,604       \\\\\n",
       "\t6 & CHN                & 2                  & China              &  12,237,700       \\\\\n",
       "\t7 & JPN                & 3                  & Japan              &  4,872,137        \\\\\n",
       "\t8 & DEU                & 4                  & Germany            &  3,677,439        \\\\\n",
       "\t9 & GBR                & 5                  & United Kingdom     &  2,622,434        \\\\\n",
       "\t10 & IND                & 6                  & India              &  2,597,491        \\\\\n",
       "\t11 & FRA                & 7                  & France             &  2,582,501        \\\\\n",
       "\t12 & BRA                & 8                  & Brazil             &  2,055,506        \\\\\n",
       "\t13 & ITA                & 9                  & Italy              &  1,934,798        \\\\\n",
       "\t14 & CAN                & 10                 & Canada             &  1,653,043        \\\\\n",
       "\t15 & RUS                & 11                 & Russian Federation &  1,577,524        \\\\\n",
       "\t16 & KOR                & 12                 & Korea, Rep.        &  1,530,751        \\\\\n",
       "\t17 & AUS                & 13                 & Australia          &  1,323,421        \\\\\n",
       "\t18 & ESP                & 14                 & Spain              &  1,311,320        \\\\\n",
       "\t19 & MEX                & 15                 & Mexico             &  1,149,919        \\\\\n",
       "\\end{tabular}\n"
      ],
      "text/markdown": [
       "\n",
       "| <!--/--> | Code | Ranking | Nation | GDP | \n",
       "|---|---|---|---|---|---|---|---|---|---|---|---|---|---|---|\n",
       "| 5 | USA                | 1                  | United States      |  19,390,604        | \n",
       "| 6 | CHN                | 2                  | China              |  12,237,700        | \n",
       "| 7 | JPN                | 3                  | Japan              |  4,872,137         | \n",
       "| 8 | DEU                | 4                  | Germany            |  3,677,439         | \n",
       "| 9 | GBR                | 5                  | United Kingdom     |  2,622,434         | \n",
       "| 10 | IND                | 6                  | India              |  2,597,491         | \n",
       "| 11 | FRA                | 7                  | France             |  2,582,501         | \n",
       "| 12 | BRA                | 8                  | Brazil             |  2,055,506         | \n",
       "| 13 | ITA                | 9                  | Italy              |  1,934,798         | \n",
       "| 14 | CAN                | 10                 | Canada             |  1,653,043         | \n",
       "| 15 | RUS                | 11                 | Russian Federation |  1,577,524         | \n",
       "| 16 | KOR                | 12                 | Korea, Rep.        |  1,530,751         | \n",
       "| 17 | AUS                | 13                 | Australia          |  1,323,421         | \n",
       "| 18 | ESP                | 14                 | Spain              |  1,311,320         | \n",
       "| 19 | MEX                | 15                 | Mexico             |  1,149,919         | \n",
       "\n",
       "\n"
      ],
      "text/plain": [
       "   Code Ranking Nation             GDP         \n",
       "5  USA  1       United States       19,390,604 \n",
       "6  CHN  2       China               12,237,700 \n",
       "7  JPN  3       Japan               4,872,137  \n",
       "8  DEU  4       Germany             3,677,439  \n",
       "9  GBR  5       United Kingdom      2,622,434  \n",
       "10 IND  6       India               2,597,491  \n",
       "11 FRA  7       France              2,582,501  \n",
       "12 BRA  8       Brazil              2,055,506  \n",
       "13 ITA  9       Italy               1,934,798  \n",
       "14 CAN  10      Canada              1,653,043  \n",
       "15 RUS  11      Russian Federation  1,577,524  \n",
       "16 KOR  12      Korea, Rep.         1,530,751  \n",
       "17 AUS  13      Australia           1,323,421  \n",
       "18 ESP  14      Spain               1,311,320  \n",
       "19 MEX  15      Mexico              1,149,919  "
      ]
     },
     "metadata": {},
     "output_type": "display_data"
    }
   ],
   "source": [
    "# 상위 15개국 선별\n",
    "GDP_ranking15<-head(GDP_ranking2,15)\n",
    "GDP_ranking15\n",
    "\n",
    "\n",
    "\n"
   ]
  },
  {
   "cell_type": "code",
   "execution_count": 83,
   "metadata": {},
   "outputs": [
    {
     "data": {
      "text/html": [
       "<table>\n",
       "<thead><tr><th></th><th scope=col>Code</th><th scope=col>Ranking</th><th scope=col>Nation</th><th scope=col>GDP</th></tr></thead>\n",
       "<tbody>\n",
       "\t<tr><th scope=row>5</th><td>USA           </td><td>1             </td><td>United States </td><td> 19,390,604   </td></tr>\n",
       "\t<tr><th scope=row>6</th><td>CHN           </td><td>2             </td><td>China         </td><td> 12,237,700   </td></tr>\n",
       "\t<tr><th scope=row>7</th><td>JPN           </td><td>3             </td><td>Japan         </td><td> 4,872,137    </td></tr>\n",
       "\t<tr><th scope=row>8</th><td>DEU           </td><td>4             </td><td>Germany       </td><td> 3,677,439    </td></tr>\n",
       "\t<tr><th scope=row>9</th><td>GBR           </td><td>5             </td><td>United Kingdom</td><td> 2,622,434    </td></tr>\n",
       "\t<tr><th scope=row>10</th><td>IND           </td><td>6             </td><td>India         </td><td> 2,597,491    </td></tr>\n",
       "</tbody>\n",
       "</table>\n"
      ],
      "text/latex": [
       "\\begin{tabular}{r|llll}\n",
       "  & Code & Ranking & Nation & GDP\\\\\n",
       "\\hline\n",
       "\t5 & USA            & 1              & United States  &  19,390,604   \\\\\n",
       "\t6 & CHN            & 2              & China          &  12,237,700   \\\\\n",
       "\t7 & JPN            & 3              & Japan          &  4,872,137    \\\\\n",
       "\t8 & DEU            & 4              & Germany        &  3,677,439    \\\\\n",
       "\t9 & GBR            & 5              & United Kingdom &  2,622,434    \\\\\n",
       "\t10 & IND            & 6              & India          &  2,597,491    \\\\\n",
       "\\end{tabular}\n"
      ],
      "text/markdown": [
       "\n",
       "| <!--/--> | Code | Ranking | Nation | GDP | \n",
       "|---|---|---|---|---|---|\n",
       "| 5 | USA            | 1              | United States  |  19,390,604    | \n",
       "| 6 | CHN            | 2              | China          |  12,237,700    | \n",
       "| 7 | JPN            | 3              | Japan          |  4,872,137     | \n",
       "| 8 | DEU            | 4              | Germany        |  3,677,439     | \n",
       "| 9 | GBR            | 5              | United Kingdom |  2,622,434     | \n",
       "| 10 | IND            | 6              | India          |  2,597,491     | \n",
       "\n",
       "\n"
      ],
      "text/plain": [
       "   Code Ranking Nation         GDP         \n",
       "5  USA  1       United States   19,390,604 \n",
       "6  CHN  2       China           12,237,700 \n",
       "7  JPN  3       Japan           4,872,137  \n",
       "8  DEU  4       Germany         3,677,439  \n",
       "9  GBR  5       United Kingdom  2,622,434  \n",
       "10 IND  6       India           2,597,491  "
      ]
     },
     "metadata": {},
     "output_type": "display_data"
    }
   ],
   "source": [
    "# code, Ranking, Nation, GDP\n",
    "names(GDP_ranking15) = c(\"Code\", \"Ranking\", \"Nation\", \"GDP\")\n",
    "head(GDP_ranking15)\n",
    "\n",
    "\n",
    "\n"
   ]
  },
  {
   "cell_type": "code",
   "execution_count": 97,
   "metadata": {},
   "outputs": [],
   "source": [
    "# 세계 GDP 상위 15개국 막대 차트 시각화\n",
    "gdp <- GDP_ranking15$GDP\n",
    "nation <- GDP_ranking15$Nation\n",
    "\n",
    "\n",
    "\n"
   ]
  },
  {
   "cell_type": "code",
   "execution_count": 98,
   "metadata": {},
   "outputs": [],
   "source": [
    "library(stringr)\n",
    "\n",
    "\n",
    "\n"
   ]
  },
  {
   "cell_type": "code",
   "execution_count": 99,
   "metadata": {},
   "outputs": [
    {
     "data": {
      "text/html": [
       "<table>\n",
       "<thead><tr><th></th><th scope=col>Code</th><th scope=col>Ranking</th><th scope=col>Nation</th><th scope=col>GDP</th></tr></thead>\n",
       "<tbody>\n",
       "\t<tr><th scope=row>5</th><td>USA               </td><td>1                 </td><td>United States     </td><td> 19,390,604       </td></tr>\n",
       "\t<tr><th scope=row>6</th><td>CHN               </td><td>2                 </td><td>China             </td><td> 12,237,700       </td></tr>\n",
       "\t<tr><th scope=row>7</th><td>JPN               </td><td>3                 </td><td>Japan             </td><td> 4,872,137        </td></tr>\n",
       "\t<tr><th scope=row>8</th><td>DEU               </td><td>4                 </td><td>Germany           </td><td> 3,677,439        </td></tr>\n",
       "\t<tr><th scope=row>9</th><td>GBR               </td><td>5                 </td><td>United Kingdom    </td><td> 2,622,434        </td></tr>\n",
       "\t<tr><th scope=row>10</th><td>IND               </td><td>6                 </td><td>India             </td><td> 2,597,491        </td></tr>\n",
       "\t<tr><th scope=row>11</th><td>FRA               </td><td>7                 </td><td>France            </td><td> 2,582,501        </td></tr>\n",
       "\t<tr><th scope=row>12</th><td>BRA               </td><td>8                 </td><td>Brazil            </td><td> 2,055,506        </td></tr>\n",
       "\t<tr><th scope=row>13</th><td>ITA               </td><td>9                 </td><td>Italy             </td><td> 1,934,798        </td></tr>\n",
       "\t<tr><th scope=row>14</th><td>CAN               </td><td>10                </td><td>Canada            </td><td> 1,653,043        </td></tr>\n",
       "\t<tr><th scope=row>15</th><td>RUS               </td><td>11                </td><td>Russian Federation</td><td> 1,577,524        </td></tr>\n",
       "\t<tr><th scope=row>16</th><td>KOR               </td><td>12                </td><td>Korea, Rep.       </td><td> 1,530,751        </td></tr>\n",
       "\t<tr><th scope=row>17</th><td>AUS               </td><td>13                </td><td>Australia         </td><td> 1,323,421        </td></tr>\n",
       "\t<tr><th scope=row>18</th><td>ESP               </td><td>14                </td><td>Spain             </td><td> 1,311,320        </td></tr>\n",
       "\t<tr><th scope=row>19</th><td>MEX               </td><td>15                </td><td>Mexico            </td><td> 1,149,919        </td></tr>\n",
       "</tbody>\n",
       "</table>\n"
      ],
      "text/latex": [
       "\\begin{tabular}{r|llll}\n",
       "  & Code & Ranking & Nation & GDP\\\\\n",
       "\\hline\n",
       "\t5 & USA                & 1                  & United States      &  19,390,604       \\\\\n",
       "\t6 & CHN                & 2                  & China              &  12,237,700       \\\\\n",
       "\t7 & JPN                & 3                  & Japan              &  4,872,137        \\\\\n",
       "\t8 & DEU                & 4                  & Germany            &  3,677,439        \\\\\n",
       "\t9 & GBR                & 5                  & United Kingdom     &  2,622,434        \\\\\n",
       "\t10 & IND                & 6                  & India              &  2,597,491        \\\\\n",
       "\t11 & FRA                & 7                  & France             &  2,582,501        \\\\\n",
       "\t12 & BRA                & 8                  & Brazil             &  2,055,506        \\\\\n",
       "\t13 & ITA                & 9                  & Italy              &  1,934,798        \\\\\n",
       "\t14 & CAN                & 10                 & Canada             &  1,653,043        \\\\\n",
       "\t15 & RUS                & 11                 & Russian Federation &  1,577,524        \\\\\n",
       "\t16 & KOR                & 12                 & Korea, Rep.        &  1,530,751        \\\\\n",
       "\t17 & AUS                & 13                 & Australia          &  1,323,421        \\\\\n",
       "\t18 & ESP                & 14                 & Spain              &  1,311,320        \\\\\n",
       "\t19 & MEX                & 15                 & Mexico             &  1,149,919        \\\\\n",
       "\\end{tabular}\n"
      ],
      "text/markdown": [
       "\n",
       "| <!--/--> | Code | Ranking | Nation | GDP | \n",
       "|---|---|---|---|---|---|---|---|---|---|---|---|---|---|---|\n",
       "| 5 | USA                | 1                  | United States      |  19,390,604        | \n",
       "| 6 | CHN                | 2                  | China              |  12,237,700        | \n",
       "| 7 | JPN                | 3                  | Japan              |  4,872,137         | \n",
       "| 8 | DEU                | 4                  | Germany            |  3,677,439         | \n",
       "| 9 | GBR                | 5                  | United Kingdom     |  2,622,434         | \n",
       "| 10 | IND                | 6                  | India              |  2,597,491         | \n",
       "| 11 | FRA                | 7                  | France             |  2,582,501         | \n",
       "| 12 | BRA                | 8                  | Brazil             |  2,055,506         | \n",
       "| 13 | ITA                | 9                  | Italy              |  1,934,798         | \n",
       "| 14 | CAN                | 10                 | Canada             |  1,653,043         | \n",
       "| 15 | RUS                | 11                 | Russian Federation |  1,577,524         | \n",
       "| 16 | KOR                | 12                 | Korea, Rep.        |  1,530,751         | \n",
       "| 17 | AUS                | 13                 | Australia          |  1,323,421         | \n",
       "| 18 | ESP                | 14                 | Spain              |  1,311,320         | \n",
       "| 19 | MEX                | 15                 | Mexico             |  1,149,919         | \n",
       "\n",
       "\n"
      ],
      "text/plain": [
       "   Code Ranking Nation             GDP         \n",
       "5  USA  1       United States       19,390,604 \n",
       "6  CHN  2       China               12,237,700 \n",
       "7  JPN  3       Japan               4,872,137  \n",
       "8  DEU  4       Germany             3,677,439  \n",
       "9  GBR  5       United Kingdom      2,622,434  \n",
       "10 IND  6       India               2,597,491  \n",
       "11 FRA  7       France              2,582,501  \n",
       "12 BRA  8       Brazil              2,055,506  \n",
       "13 ITA  9       Italy               1,934,798  \n",
       "14 CAN  10      Canada              1,653,043  \n",
       "15 RUS  11      Russian Federation  1,577,524  \n",
       "16 KOR  12      Korea, Rep.         1,530,751  \n",
       "17 AUS  13      Australia           1,323,421  \n",
       "18 ESP  14      Spain               1,311,320  \n",
       "19 MEX  15      Mexico              1,149,919  "
      ]
     },
     "metadata": {},
     "output_type": "display_data"
    }
   ],
   "source": [
    "GDP_ranking15\n",
    "\n",
    "\n",
    "\n"
   ]
  },
  {
   "cell_type": "code",
   "execution_count": 100,
   "metadata": {},
   "outputs": [],
   "source": [
    "num_gdp <- as.numeric(str_replace_all(gdp,',',''))\n",
    "\n",
    "\n",
    "\n"
   ]
  },
  {
   "cell_type": "code",
   "execution_count": 101,
   "metadata": {},
   "outputs": [],
   "source": [
    "GDP_ranking15$GDP <- num_gdp\n",
    "\n",
    "\n",
    "\n"
   ]
  },
  {
   "cell_type": "code",
   "execution_count": 104,
   "metadata": {},
   "outputs": [
    {
     "data": {
      "image/png": "[encoded data removed]",
      "text/plain": [
       "plot without title"
      ]
     },
     "metadata": {},
     "output_type": "display_data"
    }
   ],
   "source": [
    "# 막대차트 \n",
    "num_gdp2 <- num_gdp/1000\n",
    "GDP_ranking15$GDP <- num_gdp2\n",
    "barplot(GDP_ranking15$GDP, col =rainbow(15), xlab ='국가',ylab='단위(천달러)',names.arg = (nation))\n",
    "\n",
    "\n",
    "\n"
   ]
  },
  {
   "cell_type": "code",
   "execution_count": null,
   "metadata": {},
   "outputs": [],
   "source": []
  }
 ],
 "metadata": {
  "kernelspec": {
   "display_name": "R",
   "language": "R",
   "name": "ir"
  },
  "language_info": {
   "codemirror_mode": "r",
   "file_extension": ".r",
   "mimetype": "text/x-r-source",
   "name": "R",
   "pygments_lexer": "r",
   "version": "3.5.1"
  }
 },
 "nbformat": 4,
 "nbformat_minor": 2
}
