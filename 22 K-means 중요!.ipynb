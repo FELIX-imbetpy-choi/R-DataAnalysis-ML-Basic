{
 "cells": [
  {
   "cell_type": "markdown",
   "metadata": {},
   "source": [
    "# Clustering(군집분석)\n",
    "\n",
    "기본적인 원리가 \"자신과 가장 가까이 있는 것은 자신과 같은 편이다\"라고 인식하여 학습하는 것이다.\n",
    "\n",
    "K - means 군집화 실행 단계   \n",
    "1) 나누고자 하는 클러스터의 갯수를 설정한다. 그 갯수만큼 임의의 초기값 생성    \n",
    "2) \n",
    "\n",
    "장점    \n",
    "적용이 쉽다.\n",
    "\n",
    "단점   \n",
    "군집 갯수를 사전에 알아야 한다."
   ]
  },
  {
   "cell_type": "code",
   "execution_count": 1,
   "metadata": {},
   "outputs": [
    {
     "name": "stderr",
     "output_type": "stream",
     "text": [
      "Loading required package: lattice\n",
      "Loading required package: ggplot2\n"
     ]
    }
   ],
   "source": [
    "library(caret)\n",
    "\n",
    "\n",
    "\n"
   ]
  },
  {
   "cell_type": "code",
   "execution_count": 2,
   "metadata": {},
   "outputs": [],
   "source": [
    "set.seed(1234) \n",
    "data(iris)\n",
    "\n",
    "# 데이터가 잘 정리된 데이터에만 사용할 수 있는 함수\n",
    "inTrain <- createDataPartition(iris$Species, p = 0.7 , list = F) # list = F : 행렬로 생성\n",
    "\n",
    "# 데이터 분류\n",
    "training <- iris[inTrain,] # 학습용\n",
    "testing <- iris[-inTrain,] # 검증용\n",
    "\n",
    "\n",
    "\n",
    "\n",
    "\n",
    "\n",
    "\n"
   ]
  },
  {
   "cell_type": "code",
   "execution_count": 4,
   "metadata": {},
   "outputs": [
    {
     "data": {
      "text/plain": [
       "  Sepal.Length    Sepal.Width     Petal.Length   Petal.Width          Species  \n",
       " Min.   :4.400   Min.   :2.000   Min.   :1.00   Min.   :0.100   setosa    :35  \n",
       " 1st Qu.:5.100   1st Qu.:2.800   1st Qu.:1.60   1st Qu.:0.200   versicolor:35  \n",
       " Median :5.800   Median :3.000   Median :4.40   Median :1.300   virginica :35  \n",
       " Mean   :5.872   Mean   :3.046   Mean   :3.78   Mean   :1.203                  \n",
       " 3rd Qu.:6.500   3rd Qu.:3.200   3rd Qu.:5.10   3rd Qu.:1.800                  \n",
       " Max.   :7.900   Max.   :4.200   Max.   :6.90   Max.   :2.500                  "
      ]
     },
     "metadata": {},
     "output_type": "display_data"
    },
    {
     "data": {
      "text/plain": [
       "  Sepal.Length    Sepal.Width     Petal.Length    Petal.Width   \n",
       " Min.   :4.300   Min.   :2.200   Min.   :1.100   Min.   :0.100  \n",
       " 1st Qu.:5.300   1st Qu.:2.700   1st Qu.:1.600   1st Qu.:0.400  \n",
       " Median :5.700   Median :3.000   Median :4.200   Median :1.300  \n",
       " Mean   :5.776   Mean   :3.084   Mean   :3.707   Mean   :1.191  \n",
       " 3rd Qu.:6.300   3rd Qu.:3.400   3rd Qu.:5.100   3rd Qu.:1.800  \n",
       " Max.   :7.700   Max.   :4.400   Max.   :6.700   Max.   :2.500  \n",
       "       Species  \n",
       " setosa    :15  \n",
       " versicolor:15  \n",
       " virginica :15  \n",
       "                \n",
       "                \n",
       "                "
      ]
     },
     "metadata": {},
     "output_type": "display_data"
    }
   ],
   "source": [
    "# 데이터 구성 확인\n",
    "summary(training)\n",
    "summary(testing)\n",
    "\n",
    "\n",
    "\n"
   ]
  },
  {
   "cell_type": "code",
   "execution_count": 5,
   "metadata": {},
   "outputs": [
    {
     "data": {
      "text/plain": [
       "  Sepal.Length       Sepal.Width       Petal.Length      Petal.Width     \n",
       " Min.   :-1.70861   Min.   :-2.5024   Min.   :-1.5553   Min.   :-1.4280  \n",
       " 1st Qu.:-0.89630   1st Qu.:-0.5880   1st Qu.:-1.2196   1st Qu.:-1.2985  \n",
       " Median :-0.08399   Median :-0.1094   Median : 0.3469   Median : 0.1258  \n",
       " Mean   : 0.00000   Mean   : 0.0000   Mean   : 0.0000   Mean   : 0.0000  \n",
       " 3rd Qu.: 0.72832   3rd Qu.: 0.3692   3rd Qu.: 0.7385   3rd Qu.: 0.7732  \n",
       " Max.   : 2.35294   Max.   : 2.7623   Max.   : 1.7455   Max.   : 1.6796  "
      ]
     },
     "metadata": {},
     "output_type": "display_data"
    }
   ],
   "source": [
    "training.data <- scale(training[-5]) # 정답을 빼는 것\n",
    "summary(training.data)\n",
    "\n",
    "\n",
    "\n"
   ]
  },
  {
   "cell_type": "code",
   "execution_count": 6,
   "metadata": {},
   "outputs": [
    {
     "data": {
      "text/html": [
       "<table>\n",
       "<thead><tr><th></th><th scope=col>Sepal.Length</th><th scope=col>Sepal.Width</th><th scope=col>Petal.Length</th><th scope=col>Petal.Width</th></tr></thead>\n",
       "<tbody>\n",
       "\t<tr><th scope=row>1</th><td>-0.2746382  </td><td>-1.100803360</td><td> 0.1870153  </td><td> 0.1119119  </td></tr>\n",
       "\t<tr><th scope=row>2</th><td> 0.9685011  </td><td>-0.009222388</td><td> 0.8997998  </td><td> 0.9237729  </td></tr>\n",
       "\t<tr><th scope=row>3</th><td>-0.9986963  </td><td> 0.918207552</td><td>-1.2919946  </td><td>-1.2604638  </td></tr>\n",
       "</tbody>\n",
       "</table>\n"
      ],
      "text/latex": [
       "\\begin{tabular}{r|llll}\n",
       "  & Sepal.Length & Sepal.Width & Petal.Length & Petal.Width\\\\\n",
       "\\hline\n",
       "\t1 & -0.2746382   & -1.100803360 &  0.1870153   &  0.1119119  \\\\\n",
       "\t2 &  0.9685011   & -0.009222388 &  0.8997998   &  0.9237729  \\\\\n",
       "\t3 & -0.9986963   &  0.918207552 & -1.2919946   & -1.2604638  \\\\\n",
       "\\end{tabular}\n"
      ],
      "text/markdown": [
       "\n",
       "| <!--/--> | Sepal.Length | Sepal.Width | Petal.Length | Petal.Width | \n",
       "|---|---|---|\n",
       "| 1 | -0.2746382   | -1.100803360 |  0.1870153   |  0.1119119   | \n",
       "| 2 |  0.9685011   | -0.009222388 |  0.8997998   |  0.9237729   | \n",
       "| 3 | -0.9986963   |  0.918207552 | -1.2919946   | -1.2604638   | \n",
       "\n",
       "\n"
      ],
      "text/plain": [
       "  Sepal.Length Sepal.Width  Petal.Length Petal.Width\n",
       "1 -0.2746382   -1.100803360  0.1870153    0.1119119 \n",
       "2  0.9685011   -0.009222388  0.8997998    0.9237729 \n",
       "3 -0.9986963    0.918207552 -1.2919946   -1.2604638 "
      ]
     },
     "metadata": {},
     "output_type": "display_data"
    }
   ],
   "source": [
    "# k-means 모델 생성, 비지도 학습\n",
    "iris.kmeans <- kmeans(training.data, centers = 3, iter.max = 10000)  # center : 알고싶은 분류가 3개이다. / iter.max : 학습횟수\n",
    "\n",
    "# 1 번 2번 3번의 위치 중심을 알려줌\n",
    "iris.kmeans$centers\n",
    "\n",
    "\n",
    "\n"
   ]
  },
  {
   "cell_type": "code",
   "execution_count": 7,
   "metadata": {},
   "outputs": [
    {
     "data": {
      "text/plain": [
       "K-means clustering with 3 clusters of sizes 28, 43, 34\n",
       "\n",
       "Cluster means:\n",
       "  Sepal.Length  Sepal.Width Petal.Length Petal.Width\n",
       "1   -0.2746382 -1.100803360    0.1870153   0.1119119\n",
       "2    0.9685011 -0.009222388    0.8997998   0.9237729\n",
       "3   -0.9986963  0.918207552   -1.2919946  -1.2604638\n",
       "\n",
       "Clustering vector:\n",
       "  1   2   3   5   6   8   9  10  11  13  19  21  22  23  26  28  29  30  31  32 \n",
       "  3   3   3   3   3   3   3   3   3   3   3   3   3   3   3   3   3   3   3   3 \n",
       " 33  34  35  37  38  39  40  41  42  43  44  45  47  48  50  51  52  53  55  56 \n",
       "  3   3   3   3   3   3   3   3   1   3   3   3   3   3   3   2   2   2   2   1 \n",
       " 58  60  61  63  64  65  66  67  68  69  71  72  73  74  75  77  78  79  81  86 \n",
       "  1   1   1   1   1   1   2   1   1   1   2   1   1   1   2   2   2   1   1   2 \n",
       " 87  88  90  92  93  94  95  97  99 100 101 103 104 105 106 107 108 111 113 114 \n",
       "  2   1   1   2   1   1   1   1   1   1   2   2   2   2   2   1   2   2   2   1 \n",
       "116 117 119 121 123 124 126 127 128 129 131 132 133 135 136 137 138 140 141 142 \n",
       "  2   2   2   2   2   2   2   2   2   2   2   2   2   1   2   2   2   2   2   2 \n",
       "143 144 146 148 150 \n",
       "  1   2   2   2   2 \n",
       "\n",
       "Within cluster sum of squares by cluster:\n",
       "[1] 28.58442 39.18335 25.66495\n",
       " (between_SS / total_SS =  77.5 %)\n",
       "\n",
       "Available components:\n",
       "\n",
       "[1] \"cluster\"      \"centers\"      \"totss\"        \"withinss\"     \"tot.withinss\"\n",
       "[6] \"betweenss\"    \"size\"         \"iter\"         \"ifault\"      "
      ]
     },
     "metadata": {},
     "output_type": "display_data"
    }
   ],
   "source": [
    "iris.kmeans\n",
    "\n",
    "# Clustering vector: 데이터 분류 1 2 3 으로 분류 한 결과를 나타냄\n",
    "\n",
    "\n",
    "\n"
   ]
  },
  {
   "cell_type": "code",
   "execution_count": 8,
   "metadata": {},
   "outputs": [
    {
     "data": {
      "text/html": [
       "<ol class=list-inline>\n",
       "\t<li>3</li>\n",
       "\t<li>3</li>\n",
       "\t<li>3</li>\n",
       "\t<li>3</li>\n",
       "\t<li>3</li>\n",
       "\t<li>3</li>\n",
       "\t<li>3</li>\n",
       "\t<li>3</li>\n",
       "\t<li>3</li>\n",
       "\t<li>3</li>\n",
       "\t<li>3</li>\n",
       "\t<li>3</li>\n",
       "\t<li>3</li>\n",
       "\t<li>3</li>\n",
       "\t<li>3</li>\n",
       "\t<li>3</li>\n",
       "\t<li>3</li>\n",
       "\t<li>3</li>\n",
       "\t<li>3</li>\n",
       "\t<li>3</li>\n",
       "\t<li>3</li>\n",
       "\t<li>3</li>\n",
       "\t<li>3</li>\n",
       "\t<li>3</li>\n",
       "\t<li>3</li>\n",
       "\t<li>3</li>\n",
       "\t<li>3</li>\n",
       "\t<li>3</li>\n",
       "\t<li>1</li>\n",
       "\t<li>3</li>\n",
       "\t<li>3</li>\n",
       "\t<li>3</li>\n",
       "\t<li>3</li>\n",
       "\t<li>3</li>\n",
       "\t<li>3</li>\n",
       "\t<li>2</li>\n",
       "\t<li>2</li>\n",
       "\t<li>2</li>\n",
       "\t<li>2</li>\n",
       "\t<li>1</li>\n",
       "\t<li>1</li>\n",
       "\t<li>1</li>\n",
       "\t<li>1</li>\n",
       "\t<li>1</li>\n",
       "\t<li>1</li>\n",
       "\t<li>1</li>\n",
       "\t<li>2</li>\n",
       "\t<li>1</li>\n",
       "\t<li>1</li>\n",
       "\t<li>1</li>\n",
       "\t<li>2</li>\n",
       "\t<li>1</li>\n",
       "\t<li>1</li>\n",
       "\t<li>1</li>\n",
       "\t<li>2</li>\n",
       "\t<li>2</li>\n",
       "\t<li>2</li>\n",
       "\t<li>1</li>\n",
       "\t<li>1</li>\n",
       "\t<li>2</li>\n",
       "\t<li>2</li>\n",
       "\t<li>1</li>\n",
       "\t<li>1</li>\n",
       "\t<li>2</li>\n",
       "\t<li>1</li>\n",
       "\t<li>1</li>\n",
       "\t<li>1</li>\n",
       "\t<li>1</li>\n",
       "\t<li>1</li>\n",
       "\t<li>1</li>\n",
       "\t<li>2</li>\n",
       "\t<li>2</li>\n",
       "\t<li>2</li>\n",
       "\t<li>2</li>\n",
       "\t<li>2</li>\n",
       "\t<li>1</li>\n",
       "\t<li>2</li>\n",
       "\t<li>2</li>\n",
       "\t<li>2</li>\n",
       "\t<li>1</li>\n",
       "\t<li>2</li>\n",
       "\t<li>2</li>\n",
       "\t<li>2</li>\n",
       "\t<li>2</li>\n",
       "\t<li>2</li>\n",
       "\t<li>2</li>\n",
       "\t<li>2</li>\n",
       "\t<li>2</li>\n",
       "\t<li>2</li>\n",
       "\t<li>2</li>\n",
       "\t<li>2</li>\n",
       "\t<li>2</li>\n",
       "\t<li>2</li>\n",
       "\t<li>1</li>\n",
       "\t<li>2</li>\n",
       "\t<li>2</li>\n",
       "\t<li>2</li>\n",
       "\t<li>2</li>\n",
       "\t<li>2</li>\n",
       "\t<li>2</li>\n",
       "\t<li>1</li>\n",
       "\t<li>2</li>\n",
       "\t<li>2</li>\n",
       "\t<li>2</li>\n",
       "\t<li>2</li>\n",
       "</ol>\n",
       "\n",
       "<details>\n",
       "\t<summary style=display:list-item;cursor:pointer>\n",
       "\t\t<strong>Levels</strong>:\n",
       "\t</summary>\n",
       "\t<ol class=list-inline>\n",
       "\t\t<li>'1'</li>\n",
       "\t\t<li>'2'</li>\n",
       "\t\t<li>'3'</li>\n",
       "\t</ol>\n",
       "</details>"
      ],
      "text/latex": [
       "\\begin{enumerate*}\n",
       "\\item 3\n",
       "\\item 3\n",
       "\\item 3\n",
       "\\item 3\n",
       "\\item 3\n",
       "\\item 3\n",
       "\\item 3\n",
       "\\item 3\n",
       "\\item 3\n",
       "\\item 3\n",
       "\\item 3\n",
       "\\item 3\n",
       "\\item 3\n",
       "\\item 3\n",
       "\\item 3\n",
       "\\item 3\n",
       "\\item 3\n",
       "\\item 3\n",
       "\\item 3\n",
       "\\item 3\n",
       "\\item 3\n",
       "\\item 3\n",
       "\\item 3\n",
       "\\item 3\n",
       "\\item 3\n",
       "\\item 3\n",
       "\\item 3\n",
       "\\item 3\n",
       "\\item 1\n",
       "\\item 3\n",
       "\\item 3\n",
       "\\item 3\n",
       "\\item 3\n",
       "\\item 3\n",
       "\\item 3\n",
       "\\item 2\n",
       "\\item 2\n",
       "\\item 2\n",
       "\\item 2\n",
       "\\item 1\n",
       "\\item 1\n",
       "\\item 1\n",
       "\\item 1\n",
       "\\item 1\n",
       "\\item 1\n",
       "\\item 1\n",
       "\\item 2\n",
       "\\item 1\n",
       "\\item 1\n",
       "\\item 1\n",
       "\\item 2\n",
       "\\item 1\n",
       "\\item 1\n",
       "\\item 1\n",
       "\\item 2\n",
       "\\item 2\n",
       "\\item 2\n",
       "\\item 1\n",
       "\\item 1\n",
       "\\item 2\n",
       "\\item 2\n",
       "\\item 1\n",
       "\\item 1\n",
       "\\item 2\n",
       "\\item 1\n",
       "\\item 1\n",
       "\\item 1\n",
       "\\item 1\n",
       "\\item 1\n",
       "\\item 1\n",
       "\\item 2\n",
       "\\item 2\n",
       "\\item 2\n",
       "\\item 2\n",
       "\\item 2\n",
       "\\item 1\n",
       "\\item 2\n",
       "\\item 2\n",
       "\\item 2\n",
       "\\item 1\n",
       "\\item 2\n",
       "\\item 2\n",
       "\\item 2\n",
       "\\item 2\n",
       "\\item 2\n",
       "\\item 2\n",
       "\\item 2\n",
       "\\item 2\n",
       "\\item 2\n",
       "\\item 2\n",
       "\\item 2\n",
       "\\item 2\n",
       "\\item 2\n",
       "\\item 1\n",
       "\\item 2\n",
       "\\item 2\n",
       "\\item 2\n",
       "\\item 2\n",
       "\\item 2\n",
       "\\item 2\n",
       "\\item 1\n",
       "\\item 2\n",
       "\\item 2\n",
       "\\item 2\n",
       "\\item 2\n",
       "\\end{enumerate*}\n",
       "\n",
       "\\emph{Levels}: \\begin{enumerate*}\n",
       "\\item '1'\n",
       "\\item '2'\n",
       "\\item '3'\n",
       "\\end{enumerate*}\n"
      ],
      "text/markdown": [
       "1. 3\n",
       "2. 3\n",
       "3. 3\n",
       "4. 3\n",
       "5. 3\n",
       "6. 3\n",
       "7. 3\n",
       "8. 3\n",
       "9. 3\n",
       "10. 3\n",
       "11. 3\n",
       "12. 3\n",
       "13. 3\n",
       "14. 3\n",
       "15. 3\n",
       "16. 3\n",
       "17. 3\n",
       "18. 3\n",
       "19. 3\n",
       "20. 3\n",
       "21. 3\n",
       "22. 3\n",
       "23. 3\n",
       "24. 3\n",
       "25. 3\n",
       "26. 3\n",
       "27. 3\n",
       "28. 3\n",
       "29. 1\n",
       "30. 3\n",
       "31. 3\n",
       "32. 3\n",
       "33. 3\n",
       "34. 3\n",
       "35. 3\n",
       "36. 2\n",
       "37. 2\n",
       "38. 2\n",
       "39. 2\n",
       "40. 1\n",
       "41. 1\n",
       "42. 1\n",
       "43. 1\n",
       "44. 1\n",
       "45. 1\n",
       "46. 1\n",
       "47. 2\n",
       "48. 1\n",
       "49. 1\n",
       "50. 1\n",
       "51. 2\n",
       "52. 1\n",
       "53. 1\n",
       "54. 1\n",
       "55. 2\n",
       "56. 2\n",
       "57. 2\n",
       "58. 1\n",
       "59. 1\n",
       "60. 2\n",
       "61. 2\n",
       "62. 1\n",
       "63. 1\n",
       "64. 2\n",
       "65. 1\n",
       "66. 1\n",
       "67. 1\n",
       "68. 1\n",
       "69. 1\n",
       "70. 1\n",
       "71. 2\n",
       "72. 2\n",
       "73. 2\n",
       "74. 2\n",
       "75. 2\n",
       "76. 1\n",
       "77. 2\n",
       "78. 2\n",
       "79. 2\n",
       "80. 1\n",
       "81. 2\n",
       "82. 2\n",
       "83. 2\n",
       "84. 2\n",
       "85. 2\n",
       "86. 2\n",
       "87. 2\n",
       "88. 2\n",
       "89. 2\n",
       "90. 2\n",
       "91. 2\n",
       "92. 2\n",
       "93. 2\n",
       "94. 1\n",
       "95. 2\n",
       "96. 2\n",
       "97. 2\n",
       "98. 2\n",
       "99. 2\n",
       "100. 2\n",
       "101. 1\n",
       "102. 2\n",
       "103. 2\n",
       "104. 2\n",
       "105. 2\n",
       "\n",
       "\n",
       "\n",
       "**Levels**: 1. '1'\n",
       "2. '2'\n",
       "3. '3'\n",
       "\n",
       "\n"
      ],
      "text/plain": [
       "  [1] 3 3 3 3 3 3 3 3 3 3 3 3 3 3 3 3 3 3 3 3 3 3 3 3 3 3 3 3 1 3 3 3 3 3 3 2 2\n",
       " [38] 2 2 1 1 1 1 1 1 1 2 1 1 1 2 1 1 1 2 2 2 1 1 2 2 1 1 2 1 1 1 1 1 1 2 2 2 2\n",
       " [75] 2 1 2 2 2 1 2 2 2 2 2 2 2 2 2 2 2 2 2 1 2 2 2 2 2 2 1 2 2 2 2\n",
       "Levels: 1 2 3"
      ]
     },
     "metadata": {},
     "output_type": "display_data"
    }
   ],
   "source": [
    "# 칼럼추가 -  분류된 값들 표시\n",
    "training$cluster <- as.factor(iris.kmeans$cluster)\n",
    "training$cluster\n",
    "\n",
    "\n",
    "\n"
   ]
  },
  {
   "cell_type": "code",
   "execution_count": 9,
   "metadata": {},
   "outputs": [
    {
     "data": {},
     "metadata": {},
     "output_type": "display_data"
    },
    {
     "data": {
      "image/png": "[encoded data removed]",
      "text/plain": [
       "plot without title"
      ]
     },
     "metadata": {},
     "output_type": "display_data"
    }
   ],
   "source": [
    "# 분류된 값이 뭔지 이제 드러낼 때\n",
    "# 이 그래프를 확인해서 값을 정의 해 줘야 한다.\n",
    "qplot(Petal.Width, Petal.Length, color = cluster, data=training)\n",
    "\n",
    "\n",
    "\n"
   ]
  },
  {
   "cell_type": "code",
   "execution_count": 21,
   "metadata": {},
   "outputs": [],
   "source": [
    "# 학습용 데이터로 정확도 측정 - 클러스터 값을 문자의 값으로 변환시키는 함수 만들기\n",
    "convert <- function(i){\n",
    "    if(i == 1){\n",
    "        return(\"versicolor\")\n",
    "    }\n",
    "    else if(i == 2){\n",
    "        return(\"virginica\")\n",
    "    }\n",
    "    else if(i == 3){\n",
    "        return(\"setosa\")\n",
    "    }\n",
    "}\n",
    "\n",
    "\n",
    "\n",
    "\n",
    "\n",
    "\n",
    "\n"
   ]
  },
  {
   "cell_type": "code",
   "execution_count": 14,
   "metadata": {},
   "outputs": [
    {
     "data": {
      "text/plain": [
       "            \n",
       "              1  2  3\n",
       "  setosa      1  0 34\n",
       "  versicolor 23 12  0\n",
       "  virginica   4 31  0"
      ]
     },
     "metadata": {},
     "output_type": "display_data"
    }
   ],
   "source": [
    "table(training$Species, training$cluster)\n",
    "\n",
    "\n",
    "\n"
   ]
  },
  {
   "cell_type": "code",
   "execution_count": 22,
   "metadata": {},
   "outputs": [
    {
     "data": {
      "text/html": [
       "83.8095238095238"
      ],
      "text/latex": [
       "83.8095238095238"
      ],
      "text/markdown": [
       "83.8095238095238"
      ],
      "text/plain": [
       "[1] 83.80952"
      ]
     },
     "metadata": {},
     "output_type": "display_data"
    }
   ],
   "source": [
    "# 정확도 계산을 위해 숫자 1, 2, 3 을 품종으로 변경\n",
    "result <- sapply(training$cluster, convert)\n",
    "mean(training$Species == result) * 100\n",
    "\n",
    "\n",
    "\n"
   ]
  },
  {
   "cell_type": "code",
   "execution_count": null,
   "metadata": {},
   "outputs": [],
   "source": []
  },
  {
   "cell_type": "markdown",
   "metadata": {},
   "source": [
    "# 한칸에 정리하기"
   ]
  },
  {
   "cell_type": "code",
   "execution_count": 24,
   "metadata": {},
   "outputs": [
    {
     "data": {
      "text/plain": [
       "            \n",
       "              1  2  3\n",
       "  setosa      1  0 34\n",
       "  versicolor 23 12  0\n",
       "  virginica   4 31  0"
      ]
     },
     "metadata": {},
     "output_type": "display_data"
    },
    {
     "data": {
      "text/html": [
       "83.81"
      ],
      "text/latex": [
       "83.81"
      ],
      "text/markdown": [
       "83.81"
      ],
      "text/plain": [
       "[1] 83.81"
      ]
     },
     "metadata": {},
     "output_type": "display_data"
    }
   ],
   "source": [
    "set.seed(1234) \n",
    "data(iris)\n",
    "\n",
    "# 데이터가 잘 정리된 데이터에만 사용할 수 있는 함수\n",
    "inTrain <- createDataPartition(iris$Species, p = 0.7 , list = F) # list = F : 행렬로 생성\n",
    "\n",
    "# 데이터 분류\n",
    "training <- iris[inTrain,] # 학습용\n",
    "testing <- iris[-inTrain,] # 검증용\n",
    "\n",
    "training.data <- scale(training[-5]) # 정답을 빼는 것\n",
    "\n",
    "\n",
    "# k-means 모델 생성, 비지도 학습\n",
    "iris.kmeans <- kmeans(training.data, centers = 3, iter.max = 10000)  # center : 알고싶은 분류가 3개이다. / iter.max : 학습횟수\n",
    "\n",
    "\n",
    "# 칼럼추가 -  분류된 값들 표시\n",
    "training$cluster <- as.factor(iris.kmeans$cluster)\n",
    "\n",
    "# 학습용 데이터로 정확도 측정 - 클러스터 값을 문자의 값으로 변환시키는 함수 만들기\n",
    "convert <- function(i){\n",
    "    if(i == 1){\n",
    "        return(\"versicolor\")\n",
    "    }\n",
    "    else if(i == 2){\n",
    "        return(\"virginica\")\n",
    "    }\n",
    "    else if(i == 3){\n",
    "        return(\"setosa\")\n",
    "    }\n",
    "    \n",
    "}\n",
    "    \n",
    "table(training$Species, training$cluster)\n",
    "    \n",
    "# 정확도 계산을 위해 숫자 1, 2, 3 을 품종으로 변경\n",
    "result <- sapply(training$cluster, convert)\n",
    "round(mean(training$Species == result) * 100, 2)\n",
    "\n",
    "\n",
    "\n",
    "\n",
    "\n",
    "\n",
    "\n",
    "\n",
    "\n",
    "\n",
    "\n",
    "\n",
    "\n",
    "\n",
    "\n"
   ]
  },
  {
   "cell_type": "markdown",
   "metadata": {},
   "source": [
    "## 테스트 데이터로 진행해보기"
   ]
  },
  {
   "cell_type": "code",
   "execution_count": 28,
   "metadata": {},
   "outputs": [
    {
     "data": {},
     "metadata": {},
     "output_type": "display_data"
    },
    {
     "data": {
      "text/plain": [
       "            \n",
       "              1  2  3\n",
       "  setosa      0  0 15\n",
       "  versicolor 15  0  0\n",
       "  virginica   9  6  0"
      ]
     },
     "metadata": {},
     "output_type": "display_data"
    },
    {
     "data": {
      "text/html": [
       "80"
      ],
      "text/latex": [
       "80"
      ],
      "text/markdown": [
       "80"
      ],
      "text/plain": [
       "[1] 80"
      ]
     },
     "metadata": {},
     "output_type": "display_data"
    },
    {
     "data": {
      "image/png": "[encoded data removed]",
      "text/plain": [
       "plot without title"
      ]
     },
     "metadata": {},
     "output_type": "display_data"
    }
   ],
   "source": [
    "set.seed(1234) \n",
    "data(iris)\n",
    "\n",
    "# 데이터가 잘 정리된 데이터에만 사용할 수 있는 함수\n",
    "inTrain <- createDataPartition(iris$Species, p = 0.7 , list = F) # list = F : 행렬로 생성\n",
    "\n",
    "# 데이터 분류\n",
    "training <- iris[inTrain,] # 학습용\n",
    "testing <- iris[-inTrain,] # 검증용\n",
    "\n",
    "testing.data <- scale(testing[-5]) # 정답을 빼는 것\n",
    "\n",
    "\n",
    "# k-means 모델 생성, 비지도 학습\n",
    "iris.kmeans <- kmeans(testing.data, centers = 3, iter.max = 10000)  # center : 알고싶은 분류가 3개이다. / iter.max : 학습횟수\n",
    "\n",
    "\n",
    "# 칼럼추가 -  분류된 값들 표시\n",
    "testing$cluster <- as.factor(iris.kmeans$cluster)\n",
    "\n",
    "# 분류된 값이 뭔지 그래프\n",
    "qplot(Petal.Width, Petal.Length, color = cluster, data=testing)\n",
    "\n",
    "# 학습용 데이터로 정확도 측정 - 클러스터 값을 문자의 값으로 변환시키는 함수 만들기\n",
    "convert <- function(i){\n",
    "    if(i == 1){\n",
    "        return(\"versicolor\")\n",
    "    }\n",
    "    else if(i == 2){\n",
    "        return(\"virginica\")\n",
    "    }\n",
    "    else if(i == 3){\n",
    "        return(\"setosa\")\n",
    "    }\n",
    "    \n",
    "}\n",
    "    \n",
    "table(testing$Species, testing$cluster)\n",
    "    \n",
    "# 정확도 계산을 위해 숫자 1, 2, 3 을 품종으로 변경\n",
    "result <- sapply(testing$cluster, convert)\n",
    "round(mean(testing$Species == result) * 100, 2)\n",
    "\n",
    "\n",
    "\n",
    "\n",
    "\n",
    "\n",
    "\n",
    "\n",
    "\n",
    "\n",
    "\n",
    "\n",
    "\n",
    "\n",
    "\n"
   ]
  },
  {
   "cell_type": "markdown",
   "metadata": {},
   "source": [
    "# 현재는 종의 수를 알고 있지만 종을 모를 때 어떻게 할까?\n",
    "\n",
    "### center 값을 변경하면서 그래프를 살펴보아야 함\n",
    "kmeans(training.data, centers = 5, iter.max = 10000)"
   ]
  },
  {
   "cell_type": "code",
   "execution_count": 42,
   "metadata": {},
   "outputs": [
    {
     "data": {},
     "metadata": {},
     "output_type": "display_data"
    },
    {
     "data": {
      "image/png": "[encoded data removed]",
      "text/plain": [
       "plot without title"
      ]
     },
     "metadata": {},
     "output_type": "display_data"
    }
   ],
   "source": [
    "set.seed(1234) \n",
    "data(iris)\n",
    "\n",
    "# 데이터가 잘 정리된 데이터에만 사용할 수 있는 함수\n",
    "inTrain <- createDataPartition(iris$Species, p = 0.7 , list = F) # list = F : 행렬로 생성\n",
    "\n",
    "# 데이터 분류\n",
    "training <- iris[inTrain,] # 학습용\n",
    "testing <- iris[-inTrain,] # 검증용\n",
    "\n",
    "training.data <- scale(training[-5]) # 정답을 빼는 것\n",
    "\n",
    "\n",
    "# k-means 모델 생성, 비지도 학습\n",
    "iris.kmeans <- kmeans(training.data, centers = 3, iter.max = 10000)  # center : 알고싶은 분류가 3개이다. / iter.max : 학습횟수\n",
    "\n",
    "\n",
    "# 칼럼추가 -  분류된 값들 표시\n",
    "training$cluster <- as.factor(iris.kmeans$cluster)\n",
    "\n",
    "# 분류된 값이 뭔지 그래프\n",
    "qplot(Petal.Width, Petal.Length, color = cluster, data=training)\n",
    "\n",
    "\n",
    "# # 학습용 데이터로 정확도 측정 - 클러스터 값을 문자의 값으로 변환시키는 함수 만들기\n",
    "# convert <- function(i){\n",
    "#     if(i == 1){\n",
    "#         return(\"versicolor\")\n",
    "#     }\n",
    "#     else if(i == 2){\n",
    "#         return(\"virginica\")\n",
    "#     }\n",
    "#     else if(i == 3){\n",
    "#         return(\"setosa\")\n",
    "#     }\n",
    "    \n",
    "# }\n",
    "    \n",
    "# table(training$Species, training$cluster)\n",
    "    \n",
    "# # 정확도 계산을 위해 숫자 1, 2, 3 을 품종으로 변경\n",
    "# result <- sapply(training$cluster, convert)\n",
    "# round(mean(training$Species == result) * 100, 2)\n",
    "\n",
    "\n",
    "\n",
    "\n",
    "\n",
    "\n",
    "\n",
    "\n",
    "\n",
    "\n",
    "\n",
    "\n",
    "\n",
    "\n",
    "\n",
    "\n",
    "\n",
    "\n",
    "\n"
   ]
  },
  {
   "cell_type": "code",
   "execution_count": null,
   "metadata": {},
   "outputs": [],
   "source": []
  }
 ],
 "metadata": {
  "kernelspec": {
   "display_name": "R",
   "language": "R",
   "name": "ir"
  },
  "language_info": {
   "codemirror_mode": "r",
   "file_extension": ".r",
   "mimetype": "text/x-r-source",
   "name": "R",
   "pygments_lexer": "r",
   "version": "3.5.1"
  }
 },
 "nbformat": 4,
 "nbformat_minor": 2
}
