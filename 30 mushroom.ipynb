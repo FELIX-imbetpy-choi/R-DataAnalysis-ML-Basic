{
 "cells": [
  {
   "cell_type": "code",
   "execution_count": 6,
   "metadata": {},
   "outputs": [
    {
     "data": {
      "text/html": [
       "<table>\n",
       "<thead><tr><th scope=col>V1</th><th scope=col>V2</th><th scope=col>V3</th><th scope=col>V4</th><th scope=col>V5</th><th scope=col>V6</th><th scope=col>V7</th><th scope=col>V8</th><th scope=col>V9</th><th scope=col>V10</th><th scope=col>⋯</th><th scope=col>V14</th><th scope=col>V15</th><th scope=col>V16</th><th scope=col>V17</th><th scope=col>V18</th><th scope=col>V19</th><th scope=col>V20</th><th scope=col>V21</th><th scope=col>V22</th><th scope=col>V23</th></tr></thead>\n",
       "<tbody>\n",
       "\t<tr><td>p</td><td>x</td><td>s</td><td>n</td><td>t</td><td>p</td><td>f</td><td>c</td><td>n</td><td>k</td><td>⋯</td><td>s</td><td>w</td><td>w</td><td>p</td><td>w</td><td>o</td><td>p</td><td>k</td><td>s</td><td>u</td></tr>\n",
       "\t<tr><td>e</td><td>x</td><td>s</td><td>y</td><td>t</td><td>a</td><td>f</td><td>c</td><td>b</td><td>k</td><td>⋯</td><td>s</td><td>w</td><td>w</td><td>p</td><td>w</td><td>o</td><td>p</td><td>n</td><td>n</td><td>g</td></tr>\n",
       "\t<tr><td>e</td><td>b</td><td>s</td><td>w</td><td>t</td><td>l</td><td>f</td><td>c</td><td>b</td><td>n</td><td>⋯</td><td>s</td><td>w</td><td>w</td><td>p</td><td>w</td><td>o</td><td>p</td><td>n</td><td>n</td><td>m</td></tr>\n",
       "\t<tr><td>p</td><td>x</td><td>y</td><td>w</td><td>t</td><td>p</td><td>f</td><td>c</td><td>n</td><td>n</td><td>⋯</td><td>s</td><td>w</td><td>w</td><td>p</td><td>w</td><td>o</td><td>p</td><td>k</td><td>s</td><td>u</td></tr>\n",
       "\t<tr><td>e</td><td>x</td><td>s</td><td>g</td><td>f</td><td>n</td><td>f</td><td>w</td><td>b</td><td>k</td><td>⋯</td><td>s</td><td>w</td><td>w</td><td>p</td><td>w</td><td>o</td><td>e</td><td>n</td><td>a</td><td>g</td></tr>\n",
       "\t<tr><td>e</td><td>x</td><td>y</td><td>y</td><td>t</td><td>a</td><td>f</td><td>c</td><td>b</td><td>n</td><td>⋯</td><td>s</td><td>w</td><td>w</td><td>p</td><td>w</td><td>o</td><td>p</td><td>k</td><td>n</td><td>g</td></tr>\n",
       "</tbody>\n",
       "</table>\n"
      ],
      "text/latex": [
       "\\begin{tabular}{r|lllllllllllllllllllllll}\n",
       " V1 & V2 & V3 & V4 & V5 & V6 & V7 & V8 & V9 & V10 & ⋯ & V14 & V15 & V16 & V17 & V18 & V19 & V20 & V21 & V22 & V23\\\\\n",
       "\\hline\n",
       "\t p & x & s & n & t & p & f & c & n & k & ⋯ & s & w & w & p & w & o & p & k & s & u\\\\\n",
       "\t e & x & s & y & t & a & f & c & b & k & ⋯ & s & w & w & p & w & o & p & n & n & g\\\\\n",
       "\t e & b & s & w & t & l & f & c & b & n & ⋯ & s & w & w & p & w & o & p & n & n & m\\\\\n",
       "\t p & x & y & w & t & p & f & c & n & n & ⋯ & s & w & w & p & w & o & p & k & s & u\\\\\n",
       "\t e & x & s & g & f & n & f & w & b & k & ⋯ & s & w & w & p & w & o & e & n & a & g\\\\\n",
       "\t e & x & y & y & t & a & f & c & b & n & ⋯ & s & w & w & p & w & o & p & k & n & g\\\\\n",
       "\\end{tabular}\n"
      ],
      "text/markdown": [
       "\n",
       "V1 | V2 | V3 | V4 | V5 | V6 | V7 | V8 | V9 | V10 | ⋯ | V14 | V15 | V16 | V17 | V18 | V19 | V20 | V21 | V22 | V23 | \n",
       "|---|---|---|---|---|---|\n",
       "| p | x | s | n | t | p | f | c | n | k | ⋯ | s | w | w | p | w | o | p | k | s | u | \n",
       "| e | x | s | y | t | a | f | c | b | k | ⋯ | s | w | w | p | w | o | p | n | n | g | \n",
       "| e | b | s | w | t | l | f | c | b | n | ⋯ | s | w | w | p | w | o | p | n | n | m | \n",
       "| p | x | y | w | t | p | f | c | n | n | ⋯ | s | w | w | p | w | o | p | k | s | u | \n",
       "| e | x | s | g | f | n | f | w | b | k | ⋯ | s | w | w | p | w | o | e | n | a | g | \n",
       "| e | x | y | y | t | a | f | c | b | n | ⋯ | s | w | w | p | w | o | p | k | n | g | \n",
       "\n",
       "\n"
      ],
      "text/plain": [
       "  V1 V2 V3 V4 V5 V6 V7 V8 V9 V10 ⋯ V14 V15 V16 V17 V18 V19 V20 V21 V22 V23\n",
       "1 p  x  s  n  t  p  f  c  n  k   ⋯ s   w   w   p   w   o   p   k   s   u  \n",
       "2 e  x  s  y  t  a  f  c  b  k   ⋯ s   w   w   p   w   o   p   n   n   g  \n",
       "3 e  b  s  w  t  l  f  c  b  n   ⋯ s   w   w   p   w   o   p   n   n   m  \n",
       "4 p  x  y  w  t  p  f  c  n  n   ⋯ s   w   w   p   w   o   p   k   s   u  \n",
       "5 e  x  s  g  f  n  f  w  b  k   ⋯ s   w   w   p   w   o   e   n   a   g  \n",
       "6 e  x  y  y  t  a  f  c  b  n   ⋯ s   w   w   p   w   o   p   k   n   g  "
      ]
     },
     "metadata": {},
     "output_type": "display_data"
    }
   ],
   "source": [
    "mush <- read.csv('..//Data//mushroom.csv', header = F)\n",
    "head(mush)\n",
    "\n",
    "\n",
    "\n"
   ]
  },
  {
   "cell_type": "code",
   "execution_count": 7,
   "metadata": {},
   "outputs": [
    {
     "name": "stdout",
     "output_type": "stream",
     "text": [
      "'data.frame':\t8124 obs. of  23 variables:\n",
      " $ V1 : Factor w/ 2 levels \"e\",\"p\": 2 1 1 2 1 1 1 1 2 1 ...\n",
      " $ V2 : Factor w/ 6 levels \"b\",\"c\",\"f\",\"k\",..: 6 6 1 6 6 6 1 1 6 1 ...\n",
      " $ V3 : Factor w/ 4 levels \"f\",\"g\",\"s\",\"y\": 3 3 3 4 3 4 3 4 4 3 ...\n",
      " $ V4 : Factor w/ 10 levels \"b\",\"c\",\"e\",\"g\",..: 5 10 9 9 4 10 9 9 9 10 ...\n",
      " $ V5 : Factor w/ 2 levels \"f\",\"t\": 2 2 2 2 1 2 2 2 2 2 ...\n",
      " $ V6 : Factor w/ 9 levels \"a\",\"c\",\"f\",\"l\",..: 7 1 4 7 6 1 1 4 7 1 ...\n",
      " $ V7 : Factor w/ 2 levels \"a\",\"f\": 2 2 2 2 2 2 2 2 2 2 ...\n",
      " $ V8 : Factor w/ 2 levels \"c\",\"w\": 1 1 1 1 2 1 1 1 1 1 ...\n",
      " $ V9 : Factor w/ 2 levels \"b\",\"n\": 2 1 1 2 1 1 1 1 2 1 ...\n",
      " $ V10: Factor w/ 12 levels \"b\",\"e\",\"g\",\"h\",..: 5 5 6 6 5 6 3 6 8 3 ...\n",
      " $ V11: Factor w/ 2 levels \"e\",\"t\": 1 1 1 1 2 1 1 1 1 1 ...\n",
      " $ V12: Factor w/ 5 levels \"?\",\"b\",\"c\",\"e\",..: 4 3 3 4 4 3 3 3 4 3 ...\n",
      " $ V13: Factor w/ 4 levels \"f\",\"k\",\"s\",\"y\": 3 3 3 3 3 3 3 3 3 3 ...\n",
      " $ V14: Factor w/ 4 levels \"f\",\"k\",\"s\",\"y\": 3 3 3 3 3 3 3 3 3 3 ...\n",
      " $ V15: Factor w/ 9 levels \"b\",\"c\",\"e\",\"g\",..: 8 8 8 8 8 8 8 8 8 8 ...\n",
      " $ V16: Factor w/ 9 levels \"b\",\"c\",\"e\",\"g\",..: 8 8 8 8 8 8 8 8 8 8 ...\n",
      " $ V17: Factor w/ 1 level \"p\": 1 1 1 1 1 1 1 1 1 1 ...\n",
      " $ V18: Factor w/ 4 levels \"n\",\"o\",\"w\",\"y\": 3 3 3 3 3 3 3 3 3 3 ...\n",
      " $ V19: Factor w/ 3 levels \"n\",\"o\",\"t\": 2 2 2 2 2 2 2 2 2 2 ...\n",
      " $ V20: Factor w/ 5 levels \"e\",\"f\",\"l\",\"n\",..: 5 5 5 5 1 5 5 5 5 5 ...\n",
      " $ V21: Factor w/ 9 levels \"b\",\"h\",\"k\",\"n\",..: 3 4 4 3 4 3 3 4 3 3 ...\n",
      " $ V22: Factor w/ 6 levels \"a\",\"c\",\"n\",\"s\",..: 4 3 3 4 1 3 3 4 5 4 ...\n",
      " $ V23: Factor w/ 7 levels \"d\",\"g\",\"l\",\"m\",..: 6 2 4 6 2 2 4 4 2 4 ...\n"
     ]
    }
   ],
   "source": [
    "str(mush)\n",
    "\n",
    "\n",
    "\n"
   ]
  },
  {
   "cell_type": "code",
   "execution_count": 96,
   "metadata": {},
   "outputs": [
    {
     "data": {
      "text/html": [
       "8124"
      ],
      "text/latex": [
       "8124"
      ],
      "text/markdown": [
       "8124"
      ],
      "text/plain": [
       "[1] 8124"
      ]
     },
     "metadata": {},
     "output_type": "display_data"
    }
   ],
   "source": [
    "nrow(mush)"
   ]
  },
  {
   "cell_type": "code",
   "execution_count": 84,
   "metadata": {},
   "outputs": [
    {
     "data": {
      "text/html": [
       "<table>\n",
       "<thead><tr><th scope=col>X6</th><th scope=col>X3</th><th scope=col>X5</th><th scope=col>X2</th><th scope=col>X7</th><th scope=col>X2.1</th><th scope=col>X1</th><th scope=col>X2.2</th><th scope=col>X5.1</th><th scope=col>X1.1</th><th scope=col>⋯</th><th scope=col>X3.2</th><th scope=col>X8</th><th scope=col>X8.1</th><th scope=col>X1.2</th><th scope=col>X3.3</th><th scope=col>X2.3</th><th scope=col>X5.2</th><th scope=col>X3.4</th><th scope=col>X4.1</th><th scope=col>X6.1</th></tr></thead>\n",
       "<tbody>\n",
       "\t<tr><td>6 </td><td>3 </td><td> 5</td><td>2 </td><td>7 </td><td>2 </td><td>1 </td><td>2 </td><td> 5</td><td>1 </td><td>⋯ </td><td>3 </td><td>8 </td><td>8 </td><td>1 </td><td>3 </td><td>2 </td><td>5 </td><td>3 </td><td>4 </td><td>6 </td></tr>\n",
       "\t<tr><td>6 </td><td>3 </td><td>10</td><td>2 </td><td>1 </td><td>2 </td><td>1 </td><td>1 </td><td> 5</td><td>1 </td><td>⋯ </td><td>3 </td><td>8 </td><td>8 </td><td>1 </td><td>3 </td><td>2 </td><td>5 </td><td>4 </td><td>3 </td><td>2 </td></tr>\n",
       "\t<tr><td>1 </td><td>3 </td><td> 9</td><td>2 </td><td>4 </td><td>2 </td><td>1 </td><td>1 </td><td> 6</td><td>1 </td><td>⋯ </td><td>3 </td><td>8 </td><td>8 </td><td>1 </td><td>3 </td><td>2 </td><td>5 </td><td>4 </td><td>3 </td><td>4 </td></tr>\n",
       "\t<tr><td>6 </td><td>4 </td><td> 9</td><td>2 </td><td>7 </td><td>2 </td><td>1 </td><td>2 </td><td> 6</td><td>1 </td><td>⋯ </td><td>3 </td><td>8 </td><td>8 </td><td>1 </td><td>3 </td><td>2 </td><td>5 </td><td>3 </td><td>4 </td><td>6 </td></tr>\n",
       "\t<tr><td>6 </td><td>3 </td><td> 4</td><td>1 </td><td>6 </td><td>2 </td><td>2 </td><td>1 </td><td> 5</td><td>2 </td><td>⋯ </td><td>3 </td><td>8 </td><td>8 </td><td>1 </td><td>3 </td><td>2 </td><td>1 </td><td>4 </td><td>1 </td><td>2 </td></tr>\n",
       "\t<tr><td>6 </td><td>4 </td><td>10</td><td>2 </td><td>1 </td><td>2 </td><td>1 </td><td>1 </td><td> 6</td><td>1 </td><td>⋯ </td><td>3 </td><td>8 </td><td>8 </td><td>1 </td><td>3 </td><td>2 </td><td>5 </td><td>3 </td><td>3 </td><td>2 </td></tr>\n",
       "\t<tr><td>1 </td><td>3 </td><td> 9</td><td>2 </td><td>1 </td><td>2 </td><td>1 </td><td>1 </td><td> 3</td><td>1 </td><td>⋯ </td><td>3 </td><td>8 </td><td>8 </td><td>1 </td><td>3 </td><td>2 </td><td>5 </td><td>3 </td><td>3 </td><td>4 </td></tr>\n",
       "\t<tr><td>1 </td><td>4 </td><td> 9</td><td>2 </td><td>4 </td><td>2 </td><td>1 </td><td>1 </td><td> 6</td><td>1 </td><td>⋯ </td><td>3 </td><td>8 </td><td>8 </td><td>1 </td><td>3 </td><td>2 </td><td>5 </td><td>4 </td><td>4 </td><td>4 </td></tr>\n",
       "\t<tr><td>6 </td><td>4 </td><td> 9</td><td>2 </td><td>7 </td><td>2 </td><td>1 </td><td>2 </td><td> 8</td><td>1 </td><td>⋯ </td><td>3 </td><td>8 </td><td>8 </td><td>1 </td><td>3 </td><td>2 </td><td>5 </td><td>3 </td><td>5 </td><td>2 </td></tr>\n",
       "\t<tr><td>1 </td><td>3 </td><td>10</td><td>2 </td><td>1 </td><td>2 </td><td>1 </td><td>1 </td><td> 3</td><td>1 </td><td>⋯ </td><td>3 </td><td>8 </td><td>8 </td><td>1 </td><td>3 </td><td>2 </td><td>5 </td><td>3 </td><td>4 </td><td>4 </td></tr>\n",
       "\t<tr><td>6 </td><td>4 </td><td>10</td><td>2 </td><td>4 </td><td>2 </td><td>1 </td><td>1 </td><td> 3</td><td>1 </td><td>⋯ </td><td>3 </td><td>8 </td><td>8 </td><td>1 </td><td>3 </td><td>2 </td><td>5 </td><td>4 </td><td>3 </td><td>2 </td></tr>\n",
       "\t<tr><td>6 </td><td>4 </td><td>10</td><td>2 </td><td>1 </td><td>2 </td><td>1 </td><td>1 </td><td> 6</td><td>1 </td><td>⋯ </td><td>3 </td><td>8 </td><td>8 </td><td>1 </td><td>3 </td><td>2 </td><td>5 </td><td>3 </td><td>4 </td><td>4 </td></tr>\n",
       "\t<tr><td>1 </td><td>3 </td><td>10</td><td>2 </td><td>1 </td><td>2 </td><td>1 </td><td>1 </td><td>11</td><td>1 </td><td>⋯ </td><td>3 </td><td>8 </td><td>8 </td><td>1 </td><td>3 </td><td>2 </td><td>5 </td><td>4 </td><td>4 </td><td>2 </td></tr>\n",
       "\t<tr><td>6 </td><td>4 </td><td> 9</td><td>2 </td><td>7 </td><td>2 </td><td>1 </td><td>2 </td><td> 5</td><td>1 </td><td>⋯ </td><td>3 </td><td>8 </td><td>8 </td><td>1 </td><td>3 </td><td>2 </td><td>5 </td><td>4 </td><td>5 </td><td>6 </td></tr>\n",
       "\t<tr><td>6 </td><td>1 </td><td> 5</td><td>1 </td><td>6 </td><td>2 </td><td>2 </td><td>1 </td><td> 6</td><td>2 </td><td>⋯ </td><td>1 </td><td>8 </td><td>8 </td><td>1 </td><td>3 </td><td>2 </td><td>1 </td><td>3 </td><td>1 </td><td>2 </td></tr>\n",
       "\t<tr><td>5 </td><td>1 </td><td> 4</td><td>1 </td><td>6 </td><td>2 </td><td>1 </td><td>2 </td><td> 5</td><td>1 </td><td>⋯ </td><td>3 </td><td>8 </td><td>8 </td><td>1 </td><td>3 </td><td>2 </td><td>5 </td><td>4 </td><td>6 </td><td>6 </td></tr>\n",
       "\t<tr><td>3 </td><td>1 </td><td> 9</td><td>1 </td><td>6 </td><td>2 </td><td>2 </td><td>1 </td><td> 5</td><td>2 </td><td>⋯ </td><td>3 </td><td>8 </td><td>8 </td><td>1 </td><td>3 </td><td>2 </td><td>1 </td><td>4 </td><td>1 </td><td>2 </td></tr>\n",
       "\t<tr><td>6 </td><td>3 </td><td> 5</td><td>2 </td><td>7 </td><td>2 </td><td>1 </td><td>2 </td><td> 6</td><td>1 </td><td>⋯ </td><td>3 </td><td>8 </td><td>8 </td><td>1 </td><td>3 </td><td>2 </td><td>5 </td><td>3 </td><td>4 </td><td>2 </td></tr>\n",
       "\t<tr><td>6 </td><td>4 </td><td> 9</td><td>2 </td><td>7 </td><td>2 </td><td>1 </td><td>2 </td><td> 6</td><td>1 </td><td>⋯ </td><td>3 </td><td>8 </td><td>8 </td><td>1 </td><td>3 </td><td>2 </td><td>5 </td><td>4 </td><td>4 </td><td>6 </td></tr>\n",
       "\t<tr><td>6 </td><td>3 </td><td> 5</td><td>2 </td><td>7 </td><td>2 </td><td>1 </td><td>2 </td><td> 5</td><td>1 </td><td>⋯ </td><td>3 </td><td>8 </td><td>8 </td><td>1 </td><td>3 </td><td>2 </td><td>5 </td><td>4 </td><td>4 </td><td>6 </td></tr>\n",
       "\t<tr><td>1 </td><td>3 </td><td>10</td><td>2 </td><td>1 </td><td>2 </td><td>1 </td><td>1 </td><td> 5</td><td>1 </td><td>⋯ </td><td>3 </td><td>8 </td><td>8 </td><td>1 </td><td>3 </td><td>2 </td><td>5 </td><td>4 </td><td>4 </td><td>4 </td></tr>\n",
       "\t<tr><td>6 </td><td>4 </td><td> 5</td><td>2 </td><td>7 </td><td>2 </td><td>1 </td><td>2 </td><td> 6</td><td>1 </td><td>⋯ </td><td>3 </td><td>8 </td><td>8 </td><td>1 </td><td>3 </td><td>2 </td><td>5 </td><td>4 </td><td>5 </td><td>2 </td></tr>\n",
       "\t<tr><td>1 </td><td>4 </td><td>10</td><td>2 </td><td>4 </td><td>2 </td><td>1 </td><td>1 </td><td> 5</td><td>1 </td><td>⋯ </td><td>3 </td><td>8 </td><td>8 </td><td>1 </td><td>3 </td><td>2 </td><td>5 </td><td>4 </td><td>4 </td><td>4 </td></tr>\n",
       "\t<tr><td>1 </td><td>4 </td><td> 9</td><td>2 </td><td>1 </td><td>2 </td><td>1 </td><td>1 </td><td>11</td><td>1 </td><td>⋯ </td><td>3 </td><td>8 </td><td>8 </td><td>1 </td><td>3 </td><td>2 </td><td>5 </td><td>4 </td><td>3 </td><td>4 </td></tr>\n",
       "\t<tr><td>1 </td><td>3 </td><td> 9</td><td>2 </td><td>4 </td><td>2 </td><td>1 </td><td>1 </td><td> 3</td><td>1 </td><td>⋯ </td><td>3 </td><td>8 </td><td>8 </td><td>1 </td><td>3 </td><td>2 </td><td>5 </td><td>3 </td><td>4 </td><td>4 </td></tr>\n",
       "\t<tr><td>3 </td><td>3 </td><td> 9</td><td>2 </td><td>7 </td><td>2 </td><td>1 </td><td>2 </td><td> 6</td><td>1 </td><td>⋯ </td><td>3 </td><td>8 </td><td>8 </td><td>1 </td><td>3 </td><td>2 </td><td>5 </td><td>4 </td><td>5 </td><td>2 </td></tr>\n",
       "\t<tr><td>6 </td><td>4 </td><td>10</td><td>2 </td><td>1 </td><td>2 </td><td>1 </td><td>1 </td><td> 6</td><td>1 </td><td>⋯ </td><td>3 </td><td>8 </td><td>8 </td><td>1 </td><td>3 </td><td>2 </td><td>5 </td><td>4 </td><td>3 </td><td>4 </td></tr>\n",
       "\t<tr><td>6 </td><td>4 </td><td> 9</td><td>2 </td><td>4 </td><td>2 </td><td>1 </td><td>1 </td><td>11</td><td>1 </td><td>⋯ </td><td>3 </td><td>8 </td><td>8 </td><td>1 </td><td>3 </td><td>2 </td><td>5 </td><td>4 </td><td>3 </td><td>4 </td></tr>\n",
       "\t<tr><td>3 </td><td>1 </td><td> 5</td><td>1 </td><td>6 </td><td>2 </td><td>1 </td><td>2 </td><td> 5</td><td>1 </td><td>⋯ </td><td>3 </td><td>8 </td><td>8 </td><td>1 </td><td>3 </td><td>2 </td><td>5 </td><td>3 </td><td>6 </td><td>6 </td></tr>\n",
       "\t<tr><td>6 </td><td>3 </td><td>10</td><td>2 </td><td>1 </td><td>2 </td><td>2 </td><td>2 </td><td> 6</td><td>2 </td><td>⋯ </td><td>3 </td><td>8 </td><td>8 </td><td>1 </td><td>3 </td><td>2 </td><td>5 </td><td>4 </td><td>5 </td><td>1 </td></tr>\n",
       "\t<tr><td>⋮</td><td>⋮</td><td>⋮</td><td>⋮</td><td>⋮</td><td>⋮</td><td>⋮</td><td>⋮</td><td>⋮</td><td>⋮</td><td>⋱</td><td>⋮</td><td>⋮</td><td>⋮</td><td>⋮</td><td>⋮</td><td>⋮</td><td>⋮</td><td>⋮</td><td>⋮</td><td>⋮</td></tr>\n",
       "\t<tr><td>1 </td><td>3 </td><td>4 </td><td>1 </td><td>6 </td><td>2 </td><td>2 </td><td>1 </td><td> 3</td><td>1 </td><td>⋯ </td><td>3 </td><td>8 </td><td>8 </td><td>1 </td><td>3 </td><td>3 </td><td>5 </td><td>8 </td><td>3 </td><td>2 </td></tr>\n",
       "\t<tr><td>6 </td><td>4 </td><td>2 </td><td>1 </td><td>5 </td><td>2 </td><td>1 </td><td>1 </td><td>12</td><td>1 </td><td>⋯ </td><td>4 </td><td>2 </td><td>2 </td><td>1 </td><td>3 </td><td>1 </td><td>4 </td><td>8 </td><td>2 </td><td>1 </td></tr>\n",
       "\t<tr><td>4 </td><td>1 </td><td>9 </td><td>1 </td><td>6 </td><td>2 </td><td>2 </td><td>1 </td><td>11</td><td>1 </td><td>⋯ </td><td>3 </td><td>8 </td><td>8 </td><td>1 </td><td>3 </td><td>3 </td><td>5 </td><td>8 </td><td>3 </td><td>2 </td></tr>\n",
       "\t<tr><td>4 </td><td>4 </td><td>5 </td><td>1 </td><td>8 </td><td>2 </td><td>1 </td><td>2 </td><td> 1</td><td>2 </td><td>⋯ </td><td>2 </td><td>7 </td><td>7 </td><td>1 </td><td>3 </td><td>2 </td><td>1 </td><td>8 </td><td>5 </td><td>3 </td></tr>\n",
       "\t<tr><td>4 </td><td>3 </td><td>3 </td><td>1 </td><td>9 </td><td>2 </td><td>1 </td><td>2 </td><td> 1</td><td>2 </td><td>⋯ </td><td>2 </td><td>8 </td><td>7 </td><td>1 </td><td>3 </td><td>2 </td><td>1 </td><td>8 </td><td>5 </td><td>1 </td></tr>\n",
       "\t<tr><td>4 </td><td>1 </td><td>9 </td><td>1 </td><td>6 </td><td>2 </td><td>2 </td><td>1 </td><td>11</td><td>1 </td><td>⋯ </td><td>2 </td><td>8 </td><td>8 </td><td>1 </td><td>3 </td><td>3 </td><td>5 </td><td>8 </td><td>4 </td><td>2 </td></tr>\n",
       "\t<tr><td>3 </td><td>3 </td><td>5 </td><td>1 </td><td>6 </td><td>1 </td><td>1 </td><td>1 </td><td> 7</td><td>1 </td><td>⋯ </td><td>3 </td><td>6 </td><td>6 </td><td>1 </td><td>1 </td><td>2 </td><td>5 </td><td>1 </td><td>5 </td><td>3 </td></tr>\n",
       "\t<tr><td>4 </td><td>3 </td><td>3 </td><td>1 </td><td>8 </td><td>2 </td><td>1 </td><td>2 </td><td> 1</td><td>2 </td><td>⋯ </td><td>3 </td><td>7 </td><td>8 </td><td>1 </td><td>3 </td><td>2 </td><td>1 </td><td>8 </td><td>5 </td><td>5 </td></tr>\n",
       "\t<tr><td>6 </td><td>3 </td><td>5 </td><td>1 </td><td>6 </td><td>1 </td><td>1 </td><td>1 </td><td>12</td><td>1 </td><td>⋯ </td><td>3 </td><td>6 </td><td>6 </td><td>1 </td><td>1 </td><td>2 </td><td>5 </td><td>4 </td><td>2 </td><td>3 </td></tr>\n",
       "\t<tr><td>4 </td><td>3 </td><td>5 </td><td>1 </td><td>6 </td><td>1 </td><td>1 </td><td>1 </td><td>12</td><td>1 </td><td>⋯ </td><td>3 </td><td>6 </td><td>6 </td><td>1 </td><td>1 </td><td>2 </td><td>5 </td><td>5 </td><td>2 </td><td>3 </td></tr>\n",
       "\t<tr><td>4 </td><td>3 </td><td>5 </td><td>1 </td><td>6 </td><td>1 </td><td>1 </td><td>1 </td><td>12</td><td>1 </td><td>⋯ </td><td>3 </td><td>6 </td><td>6 </td><td>1 </td><td>2 </td><td>2 </td><td>5 </td><td>4 </td><td>5 </td><td>3 </td></tr>\n",
       "\t<tr><td>4 </td><td>3 </td><td>5 </td><td>1 </td><td>6 </td><td>1 </td><td>1 </td><td>1 </td><td>12</td><td>1 </td><td>⋯ </td><td>3 </td><td>6 </td><td>6 </td><td>1 </td><td>1 </td><td>2 </td><td>5 </td><td>9 </td><td>5 </td><td>3 </td></tr>\n",
       "\t<tr><td>4 </td><td>3 </td><td>5 </td><td>1 </td><td>6 </td><td>1 </td><td>1 </td><td>1 </td><td> 7</td><td>1 </td><td>⋯ </td><td>3 </td><td>6 </td><td>6 </td><td>1 </td><td>2 </td><td>2 </td><td>5 </td><td>4 </td><td>5 </td><td>3 </td></tr>\n",
       "\t<tr><td>6 </td><td>3 </td><td>5 </td><td>1 </td><td>6 </td><td>1 </td><td>1 </td><td>1 </td><td>12</td><td>1 </td><td>⋯ </td><td>3 </td><td>6 </td><td>6 </td><td>1 </td><td>2 </td><td>2 </td><td>5 </td><td>4 </td><td>2 </td><td>3 </td></tr>\n",
       "\t<tr><td>4 </td><td>4 </td><td>3 </td><td>1 </td><td>9 </td><td>2 </td><td>1 </td><td>2 </td><td> 1</td><td>2 </td><td>⋯ </td><td>3 </td><td>7 </td><td>8 </td><td>1 </td><td>3 </td><td>2 </td><td>1 </td><td>8 </td><td>5 </td><td>3 </td></tr>\n",
       "\t<tr><td>1 </td><td>3 </td><td>9 </td><td>1 </td><td>6 </td><td>2 </td><td>2 </td><td>1 </td><td>11</td><td>1 </td><td>⋯ </td><td>3 </td><td>8 </td><td>8 </td><td>1 </td><td>3 </td><td>3 </td><td>5 </td><td>8 </td><td>3 </td><td>2 </td></tr>\n",
       "\t<tr><td>6 </td><td>3 </td><td>5 </td><td>1 </td><td>6 </td><td>1 </td><td>1 </td><td>1 </td><td> 7</td><td>1 </td><td>⋯ </td><td>3 </td><td>6 </td><td>6 </td><td>1 </td><td>2 </td><td>2 </td><td>5 </td><td>4 </td><td>5 </td><td>3 </td></tr>\n",
       "\t<tr><td>4 </td><td>3 </td><td>9 </td><td>1 </td><td>6 </td><td>2 </td><td>2 </td><td>1 </td><td> 8</td><td>1 </td><td>⋯ </td><td>3 </td><td>8 </td><td>8 </td><td>1 </td><td>3 </td><td>3 </td><td>5 </td><td>8 </td><td>3 </td><td>2 </td></tr>\n",
       "\t<tr><td>4 </td><td>3 </td><td>5 </td><td>1 </td><td>6 </td><td>1 </td><td>1 </td><td>1 </td><td> 7</td><td>1 </td><td>⋯ </td><td>3 </td><td>6 </td><td>6 </td><td>1 </td><td>1 </td><td>2 </td><td>5 </td><td>1 </td><td>5 </td><td>3 </td></tr>\n",
       "\t<tr><td>4 </td><td>4 </td><td>3 </td><td>1 </td><td>9 </td><td>2 </td><td>1 </td><td>2 </td><td> 1</td><td>2 </td><td>⋯ </td><td>2 </td><td>7 </td><td>7 </td><td>1 </td><td>3 </td><td>2 </td><td>1 </td><td>8 </td><td>5 </td><td>1 </td></tr>\n",
       "\t<tr><td>3 </td><td>4 </td><td>2 </td><td>1 </td><td>5 </td><td>1 </td><td>1 </td><td>1 </td><td>12</td><td>1 </td><td>⋯ </td><td>4 </td><td>2 </td><td>2 </td><td>1 </td><td>3 </td><td>1 </td><td>4 </td><td>8 </td><td>2 </td><td>1 </td></tr>\n",
       "\t<tr><td>6 </td><td>3 </td><td>5 </td><td>1 </td><td>6 </td><td>1 </td><td>1 </td><td>1 </td><td>12</td><td>1 </td><td>⋯ </td><td>3 </td><td>6 </td><td>6 </td><td>1 </td><td>2 </td><td>2 </td><td>5 </td><td>5 </td><td>5 </td><td>3 </td></tr>\n",
       "\t<tr><td>4 </td><td>4 </td><td>5 </td><td>1 </td><td>8 </td><td>2 </td><td>1 </td><td>2 </td><td> 1</td><td>2 </td><td>⋯ </td><td>2 </td><td>7 </td><td>8 </td><td>1 </td><td>3 </td><td>2 </td><td>1 </td><td>8 </td><td>5 </td><td>3 </td></tr>\n",
       "\t<tr><td>4 </td><td>3 </td><td>3 </td><td>1 </td><td>9 </td><td>2 </td><td>1 </td><td>2 </td><td> 1</td><td>2 </td><td>⋯ </td><td>3 </td><td>7 </td><td>8 </td><td>1 </td><td>3 </td><td>2 </td><td>1 </td><td>8 </td><td>5 </td><td>1 </td></tr>\n",
       "\t<tr><td>4 </td><td>4 </td><td>5 </td><td>1 </td><td>3 </td><td>2 </td><td>1 </td><td>2 </td><td> 1</td><td>2 </td><td>⋯ </td><td>3 </td><td>7 </td><td>8 </td><td>1 </td><td>3 </td><td>2 </td><td>1 </td><td>8 </td><td>5 </td><td>1 </td></tr>\n",
       "\t<tr><td>4 </td><td>3 </td><td>5 </td><td>1 </td><td>6 </td><td>1 </td><td>1 </td><td>1 </td><td>12</td><td>1 </td><td>⋯ </td><td>3 </td><td>6 </td><td>6 </td><td>1 </td><td>2 </td><td>2 </td><td>5 </td><td>1 </td><td>2 </td><td>3 </td></tr>\n",
       "\t<tr><td>6 </td><td>3 </td><td>5 </td><td>1 </td><td>6 </td><td>1 </td><td>1 </td><td>1 </td><td>12</td><td>1 </td><td>⋯ </td><td>3 </td><td>6 </td><td>6 </td><td>1 </td><td>1 </td><td>2 </td><td>5 </td><td>1 </td><td>5 </td><td>3 </td></tr>\n",
       "\t<tr><td>3 </td><td>3 </td><td>5 </td><td>1 </td><td>6 </td><td>1 </td><td>1 </td><td>1 </td><td> 6</td><td>1 </td><td>⋯ </td><td>3 </td><td>6 </td><td>6 </td><td>1 </td><td>2 </td><td>2 </td><td>5 </td><td>1 </td><td>2 </td><td>3 </td></tr>\n",
       "\t<tr><td>4 </td><td>4 </td><td>5 </td><td>1 </td><td>9 </td><td>2 </td><td>1 </td><td>2 </td><td> 1</td><td>2 </td><td>⋯ </td><td>2 </td><td>8 </td><td>8 </td><td>1 </td><td>3 </td><td>2 </td><td>1 </td><td>8 </td><td>5 </td><td>3 </td></tr>\n",
       "\t<tr><td>6 </td><td>3 </td><td>5 </td><td>1 </td><td>6 </td><td>1 </td><td>1 </td><td>1 </td><td>12</td><td>1 </td><td>⋯ </td><td>3 </td><td>6 </td><td>6 </td><td>1 </td><td>2 </td><td>2 </td><td>5 </td><td>5 </td><td>2 </td><td>3 </td></tr>\n",
       "</tbody>\n",
       "</table>\n"
      ],
      "text/latex": [
       "\\begin{tabular}{r|llllllllllllllllllllll}\n",
       " X6 & X3 & X5 & X2 & X7 & X2.1 & X1 & X2.2 & X5.1 & X1.1 & ⋯ & X3.2 & X8 & X8.1 & X1.2 & X3.3 & X2.3 & X5.2 & X3.4 & X4.1 & X6.1\\\\\n",
       "\\hline\n",
       "\t 6  & 3  &  5 & 2  & 7  & 2  & 1  & 2  &  5 & 1  & ⋯  & 3  & 8  & 8  & 1  & 3  & 2  & 5  & 3  & 4  & 6 \\\\\n",
       "\t 6  & 3  & 10 & 2  & 1  & 2  & 1  & 1  &  5 & 1  & ⋯  & 3  & 8  & 8  & 1  & 3  & 2  & 5  & 4  & 3  & 2 \\\\\n",
       "\t 1  & 3  &  9 & 2  & 4  & 2  & 1  & 1  &  6 & 1  & ⋯  & 3  & 8  & 8  & 1  & 3  & 2  & 5  & 4  & 3  & 4 \\\\\n",
       "\t 6  & 4  &  9 & 2  & 7  & 2  & 1  & 2  &  6 & 1  & ⋯  & 3  & 8  & 8  & 1  & 3  & 2  & 5  & 3  & 4  & 6 \\\\\n",
       "\t 6  & 3  &  4 & 1  & 6  & 2  & 2  & 1  &  5 & 2  & ⋯  & 3  & 8  & 8  & 1  & 3  & 2  & 1  & 4  & 1  & 2 \\\\\n",
       "\t 6  & 4  & 10 & 2  & 1  & 2  & 1  & 1  &  6 & 1  & ⋯  & 3  & 8  & 8  & 1  & 3  & 2  & 5  & 3  & 3  & 2 \\\\\n",
       "\t 1  & 3  &  9 & 2  & 1  & 2  & 1  & 1  &  3 & 1  & ⋯  & 3  & 8  & 8  & 1  & 3  & 2  & 5  & 3  & 3  & 4 \\\\\n",
       "\t 1  & 4  &  9 & 2  & 4  & 2  & 1  & 1  &  6 & 1  & ⋯  & 3  & 8  & 8  & 1  & 3  & 2  & 5  & 4  & 4  & 4 \\\\\n",
       "\t 6  & 4  &  9 & 2  & 7  & 2  & 1  & 2  &  8 & 1  & ⋯  & 3  & 8  & 8  & 1  & 3  & 2  & 5  & 3  & 5  & 2 \\\\\n",
       "\t 1  & 3  & 10 & 2  & 1  & 2  & 1  & 1  &  3 & 1  & ⋯  & 3  & 8  & 8  & 1  & 3  & 2  & 5  & 3  & 4  & 4 \\\\\n",
       "\t 6  & 4  & 10 & 2  & 4  & 2  & 1  & 1  &  3 & 1  & ⋯  & 3  & 8  & 8  & 1  & 3  & 2  & 5  & 4  & 3  & 2 \\\\\n",
       "\t 6  & 4  & 10 & 2  & 1  & 2  & 1  & 1  &  6 & 1  & ⋯  & 3  & 8  & 8  & 1  & 3  & 2  & 5  & 3  & 4  & 4 \\\\\n",
       "\t 1  & 3  & 10 & 2  & 1  & 2  & 1  & 1  & 11 & 1  & ⋯  & 3  & 8  & 8  & 1  & 3  & 2  & 5  & 4  & 4  & 2 \\\\\n",
       "\t 6  & 4  &  9 & 2  & 7  & 2  & 1  & 2  &  5 & 1  & ⋯  & 3  & 8  & 8  & 1  & 3  & 2  & 5  & 4  & 5  & 6 \\\\\n",
       "\t 6  & 1  &  5 & 1  & 6  & 2  & 2  & 1  &  6 & 2  & ⋯  & 1  & 8  & 8  & 1  & 3  & 2  & 1  & 3  & 1  & 2 \\\\\n",
       "\t 5  & 1  &  4 & 1  & 6  & 2  & 1  & 2  &  5 & 1  & ⋯  & 3  & 8  & 8  & 1  & 3  & 2  & 5  & 4  & 6  & 6 \\\\\n",
       "\t 3  & 1  &  9 & 1  & 6  & 2  & 2  & 1  &  5 & 2  & ⋯  & 3  & 8  & 8  & 1  & 3  & 2  & 1  & 4  & 1  & 2 \\\\\n",
       "\t 6  & 3  &  5 & 2  & 7  & 2  & 1  & 2  &  6 & 1  & ⋯  & 3  & 8  & 8  & 1  & 3  & 2  & 5  & 3  & 4  & 2 \\\\\n",
       "\t 6  & 4  &  9 & 2  & 7  & 2  & 1  & 2  &  6 & 1  & ⋯  & 3  & 8  & 8  & 1  & 3  & 2  & 5  & 4  & 4  & 6 \\\\\n",
       "\t 6  & 3  &  5 & 2  & 7  & 2  & 1  & 2  &  5 & 1  & ⋯  & 3  & 8  & 8  & 1  & 3  & 2  & 5  & 4  & 4  & 6 \\\\\n",
       "\t 1  & 3  & 10 & 2  & 1  & 2  & 1  & 1  &  5 & 1  & ⋯  & 3  & 8  & 8  & 1  & 3  & 2  & 5  & 4  & 4  & 4 \\\\\n",
       "\t 6  & 4  &  5 & 2  & 7  & 2  & 1  & 2  &  6 & 1  & ⋯  & 3  & 8  & 8  & 1  & 3  & 2  & 5  & 4  & 5  & 2 \\\\\n",
       "\t 1  & 4  & 10 & 2  & 4  & 2  & 1  & 1  &  5 & 1  & ⋯  & 3  & 8  & 8  & 1  & 3  & 2  & 5  & 4  & 4  & 4 \\\\\n",
       "\t 1  & 4  &  9 & 2  & 1  & 2  & 1  & 1  & 11 & 1  & ⋯  & 3  & 8  & 8  & 1  & 3  & 2  & 5  & 4  & 3  & 4 \\\\\n",
       "\t 1  & 3  &  9 & 2  & 4  & 2  & 1  & 1  &  3 & 1  & ⋯  & 3  & 8  & 8  & 1  & 3  & 2  & 5  & 3  & 4  & 4 \\\\\n",
       "\t 3  & 3  &  9 & 2  & 7  & 2  & 1  & 2  &  6 & 1  & ⋯  & 3  & 8  & 8  & 1  & 3  & 2  & 5  & 4  & 5  & 2 \\\\\n",
       "\t 6  & 4  & 10 & 2  & 1  & 2  & 1  & 1  &  6 & 1  & ⋯  & 3  & 8  & 8  & 1  & 3  & 2  & 5  & 4  & 3  & 4 \\\\\n",
       "\t 6  & 4  &  9 & 2  & 4  & 2  & 1  & 1  & 11 & 1  & ⋯  & 3  & 8  & 8  & 1  & 3  & 2  & 5  & 4  & 3  & 4 \\\\\n",
       "\t 3  & 1  &  5 & 1  & 6  & 2  & 1  & 2  &  5 & 1  & ⋯  & 3  & 8  & 8  & 1  & 3  & 2  & 5  & 3  & 6  & 6 \\\\\n",
       "\t 6  & 3  & 10 & 2  & 1  & 2  & 2  & 2  &  6 & 2  & ⋯  & 3  & 8  & 8  & 1  & 3  & 2  & 5  & 4  & 5  & 1 \\\\\n",
       "\t ⋮ & ⋮ & ⋮ & ⋮ & ⋮ & ⋮ & ⋮ & ⋮ & ⋮ & ⋮ & ⋱ & ⋮ & ⋮ & ⋮ & ⋮ & ⋮ & ⋮ & ⋮ & ⋮ & ⋮ & ⋮\\\\\n",
       "\t 1  & 3  & 4  & 1  & 6  & 2  & 2  & 1  &  3 & 1  & ⋯  & 3  & 8  & 8  & 1  & 3  & 3  & 5  & 8  & 3  & 2 \\\\\n",
       "\t 6  & 4  & 2  & 1  & 5  & 2  & 1  & 1  & 12 & 1  & ⋯  & 4  & 2  & 2  & 1  & 3  & 1  & 4  & 8  & 2  & 1 \\\\\n",
       "\t 4  & 1  & 9  & 1  & 6  & 2  & 2  & 1  & 11 & 1  & ⋯  & 3  & 8  & 8  & 1  & 3  & 3  & 5  & 8  & 3  & 2 \\\\\n",
       "\t 4  & 4  & 5  & 1  & 8  & 2  & 1  & 2  &  1 & 2  & ⋯  & 2  & 7  & 7  & 1  & 3  & 2  & 1  & 8  & 5  & 3 \\\\\n",
       "\t 4  & 3  & 3  & 1  & 9  & 2  & 1  & 2  &  1 & 2  & ⋯  & 2  & 8  & 7  & 1  & 3  & 2  & 1  & 8  & 5  & 1 \\\\\n",
       "\t 4  & 1  & 9  & 1  & 6  & 2  & 2  & 1  & 11 & 1  & ⋯  & 2  & 8  & 8  & 1  & 3  & 3  & 5  & 8  & 4  & 2 \\\\\n",
       "\t 3  & 3  & 5  & 1  & 6  & 1  & 1  & 1  &  7 & 1  & ⋯  & 3  & 6  & 6  & 1  & 1  & 2  & 5  & 1  & 5  & 3 \\\\\n",
       "\t 4  & 3  & 3  & 1  & 8  & 2  & 1  & 2  &  1 & 2  & ⋯  & 3  & 7  & 8  & 1  & 3  & 2  & 1  & 8  & 5  & 5 \\\\\n",
       "\t 6  & 3  & 5  & 1  & 6  & 1  & 1  & 1  & 12 & 1  & ⋯  & 3  & 6  & 6  & 1  & 1  & 2  & 5  & 4  & 2  & 3 \\\\\n",
       "\t 4  & 3  & 5  & 1  & 6  & 1  & 1  & 1  & 12 & 1  & ⋯  & 3  & 6  & 6  & 1  & 1  & 2  & 5  & 5  & 2  & 3 \\\\\n",
       "\t 4  & 3  & 5  & 1  & 6  & 1  & 1  & 1  & 12 & 1  & ⋯  & 3  & 6  & 6  & 1  & 2  & 2  & 5  & 4  & 5  & 3 \\\\\n",
       "\t 4  & 3  & 5  & 1  & 6  & 1  & 1  & 1  & 12 & 1  & ⋯  & 3  & 6  & 6  & 1  & 1  & 2  & 5  & 9  & 5  & 3 \\\\\n",
       "\t 4  & 3  & 5  & 1  & 6  & 1  & 1  & 1  &  7 & 1  & ⋯  & 3  & 6  & 6  & 1  & 2  & 2  & 5  & 4  & 5  & 3 \\\\\n",
       "\t 6  & 3  & 5  & 1  & 6  & 1  & 1  & 1  & 12 & 1  & ⋯  & 3  & 6  & 6  & 1  & 2  & 2  & 5  & 4  & 2  & 3 \\\\\n",
       "\t 4  & 4  & 3  & 1  & 9  & 2  & 1  & 2  &  1 & 2  & ⋯  & 3  & 7  & 8  & 1  & 3  & 2  & 1  & 8  & 5  & 3 \\\\\n",
       "\t 1  & 3  & 9  & 1  & 6  & 2  & 2  & 1  & 11 & 1  & ⋯  & 3  & 8  & 8  & 1  & 3  & 3  & 5  & 8  & 3  & 2 \\\\\n",
       "\t 6  & 3  & 5  & 1  & 6  & 1  & 1  & 1  &  7 & 1  & ⋯  & 3  & 6  & 6  & 1  & 2  & 2  & 5  & 4  & 5  & 3 \\\\\n",
       "\t 4  & 3  & 9  & 1  & 6  & 2  & 2  & 1  &  8 & 1  & ⋯  & 3  & 8  & 8  & 1  & 3  & 3  & 5  & 8  & 3  & 2 \\\\\n",
       "\t 4  & 3  & 5  & 1  & 6  & 1  & 1  & 1  &  7 & 1  & ⋯  & 3  & 6  & 6  & 1  & 1  & 2  & 5  & 1  & 5  & 3 \\\\\n",
       "\t 4  & 4  & 3  & 1  & 9  & 2  & 1  & 2  &  1 & 2  & ⋯  & 2  & 7  & 7  & 1  & 3  & 2  & 1  & 8  & 5  & 1 \\\\\n",
       "\t 3  & 4  & 2  & 1  & 5  & 1  & 1  & 1  & 12 & 1  & ⋯  & 4  & 2  & 2  & 1  & 3  & 1  & 4  & 8  & 2  & 1 \\\\\n",
       "\t 6  & 3  & 5  & 1  & 6  & 1  & 1  & 1  & 12 & 1  & ⋯  & 3  & 6  & 6  & 1  & 2  & 2  & 5  & 5  & 5  & 3 \\\\\n",
       "\t 4  & 4  & 5  & 1  & 8  & 2  & 1  & 2  &  1 & 2  & ⋯  & 2  & 7  & 8  & 1  & 3  & 2  & 1  & 8  & 5  & 3 \\\\\n",
       "\t 4  & 3  & 3  & 1  & 9  & 2  & 1  & 2  &  1 & 2  & ⋯  & 3  & 7  & 8  & 1  & 3  & 2  & 1  & 8  & 5  & 1 \\\\\n",
       "\t 4  & 4  & 5  & 1  & 3  & 2  & 1  & 2  &  1 & 2  & ⋯  & 3  & 7  & 8  & 1  & 3  & 2  & 1  & 8  & 5  & 1 \\\\\n",
       "\t 4  & 3  & 5  & 1  & 6  & 1  & 1  & 1  & 12 & 1  & ⋯  & 3  & 6  & 6  & 1  & 2  & 2  & 5  & 1  & 2  & 3 \\\\\n",
       "\t 6  & 3  & 5  & 1  & 6  & 1  & 1  & 1  & 12 & 1  & ⋯  & 3  & 6  & 6  & 1  & 1  & 2  & 5  & 1  & 5  & 3 \\\\\n",
       "\t 3  & 3  & 5  & 1  & 6  & 1  & 1  & 1  &  6 & 1  & ⋯  & 3  & 6  & 6  & 1  & 2  & 2  & 5  & 1  & 2  & 3 \\\\\n",
       "\t 4  & 4  & 5  & 1  & 9  & 2  & 1  & 2  &  1 & 2  & ⋯  & 2  & 8  & 8  & 1  & 3  & 2  & 1  & 8  & 5  & 3 \\\\\n",
       "\t 6  & 3  & 5  & 1  & 6  & 1  & 1  & 1  & 12 & 1  & ⋯  & 3  & 6  & 6  & 1  & 2  & 2  & 5  & 5  & 2  & 3 \\\\\n",
       "\\end{tabular}\n"
      ],
      "text/markdown": [
       "\n",
       "X6 | X3 | X5 | X2 | X7 | X2.1 | X1 | X2.2 | X5.1 | X1.1 | ⋯ | X3.2 | X8 | X8.1 | X1.2 | X3.3 | X2.3 | X5.2 | X3.4 | X4.1 | X6.1 | \n",
       "|---|---|---|---|---|---|---|---|---|---|---|---|---|---|---|---|---|---|---|---|---|---|---|---|---|---|---|---|---|---|---|---|---|---|---|---|---|---|---|---|---|---|---|---|---|---|---|---|---|---|---|---|---|---|---|---|---|---|---|---|---|\n",
       "| 6  | 3  |  5 | 2  | 7  | 2  | 1  | 2  |  5 | 1  | ⋯  | 3  | 8  | 8  | 1  | 3  | 2  | 5  | 3  | 4  | 6  | \n",
       "| 6  | 3  | 10 | 2  | 1  | 2  | 1  | 1  |  5 | 1  | ⋯  | 3  | 8  | 8  | 1  | 3  | 2  | 5  | 4  | 3  | 2  | \n",
       "| 1  | 3  |  9 | 2  | 4  | 2  | 1  | 1  |  6 | 1  | ⋯  | 3  | 8  | 8  | 1  | 3  | 2  | 5  | 4  | 3  | 4  | \n",
       "| 6  | 4  |  9 | 2  | 7  | 2  | 1  | 2  |  6 | 1  | ⋯  | 3  | 8  | 8  | 1  | 3  | 2  | 5  | 3  | 4  | 6  | \n",
       "| 6  | 3  |  4 | 1  | 6  | 2  | 2  | 1  |  5 | 2  | ⋯  | 3  | 8  | 8  | 1  | 3  | 2  | 1  | 4  | 1  | 2  | \n",
       "| 6  | 4  | 10 | 2  | 1  | 2  | 1  | 1  |  6 | 1  | ⋯  | 3  | 8  | 8  | 1  | 3  | 2  | 5  | 3  | 3  | 2  | \n",
       "| 1  | 3  |  9 | 2  | 1  | 2  | 1  | 1  |  3 | 1  | ⋯  | 3  | 8  | 8  | 1  | 3  | 2  | 5  | 3  | 3  | 4  | \n",
       "| 1  | 4  |  9 | 2  | 4  | 2  | 1  | 1  |  6 | 1  | ⋯  | 3  | 8  | 8  | 1  | 3  | 2  | 5  | 4  | 4  | 4  | \n",
       "| 6  | 4  |  9 | 2  | 7  | 2  | 1  | 2  |  8 | 1  | ⋯  | 3  | 8  | 8  | 1  | 3  | 2  | 5  | 3  | 5  | 2  | \n",
       "| 1  | 3  | 10 | 2  | 1  | 2  | 1  | 1  |  3 | 1  | ⋯  | 3  | 8  | 8  | 1  | 3  | 2  | 5  | 3  | 4  | 4  | \n",
       "| 6  | 4  | 10 | 2  | 4  | 2  | 1  | 1  |  3 | 1  | ⋯  | 3  | 8  | 8  | 1  | 3  | 2  | 5  | 4  | 3  | 2  | \n",
       "| 6  | 4  | 10 | 2  | 1  | 2  | 1  | 1  |  6 | 1  | ⋯  | 3  | 8  | 8  | 1  | 3  | 2  | 5  | 3  | 4  | 4  | \n",
       "| 1  | 3  | 10 | 2  | 1  | 2  | 1  | 1  | 11 | 1  | ⋯  | 3  | 8  | 8  | 1  | 3  | 2  | 5  | 4  | 4  | 2  | \n",
       "| 6  | 4  |  9 | 2  | 7  | 2  | 1  | 2  |  5 | 1  | ⋯  | 3  | 8  | 8  | 1  | 3  | 2  | 5  | 4  | 5  | 6  | \n",
       "| 6  | 1  |  5 | 1  | 6  | 2  | 2  | 1  |  6 | 2  | ⋯  | 1  | 8  | 8  | 1  | 3  | 2  | 1  | 3  | 1  | 2  | \n",
       "| 5  | 1  |  4 | 1  | 6  | 2  | 1  | 2  |  5 | 1  | ⋯  | 3  | 8  | 8  | 1  | 3  | 2  | 5  | 4  | 6  | 6  | \n",
       "| 3  | 1  |  9 | 1  | 6  | 2  | 2  | 1  |  5 | 2  | ⋯  | 3  | 8  | 8  | 1  | 3  | 2  | 1  | 4  | 1  | 2  | \n",
       "| 6  | 3  |  5 | 2  | 7  | 2  | 1  | 2  |  6 | 1  | ⋯  | 3  | 8  | 8  | 1  | 3  | 2  | 5  | 3  | 4  | 2  | \n",
       "| 6  | 4  |  9 | 2  | 7  | 2  | 1  | 2  |  6 | 1  | ⋯  | 3  | 8  | 8  | 1  | 3  | 2  | 5  | 4  | 4  | 6  | \n",
       "| 6  | 3  |  5 | 2  | 7  | 2  | 1  | 2  |  5 | 1  | ⋯  | 3  | 8  | 8  | 1  | 3  | 2  | 5  | 4  | 4  | 6  | \n",
       "| 1  | 3  | 10 | 2  | 1  | 2  | 1  | 1  |  5 | 1  | ⋯  | 3  | 8  | 8  | 1  | 3  | 2  | 5  | 4  | 4  | 4  | \n",
       "| 6  | 4  |  5 | 2  | 7  | 2  | 1  | 2  |  6 | 1  | ⋯  | 3  | 8  | 8  | 1  | 3  | 2  | 5  | 4  | 5  | 2  | \n",
       "| 1  | 4  | 10 | 2  | 4  | 2  | 1  | 1  |  5 | 1  | ⋯  | 3  | 8  | 8  | 1  | 3  | 2  | 5  | 4  | 4  | 4  | \n",
       "| 1  | 4  |  9 | 2  | 1  | 2  | 1  | 1  | 11 | 1  | ⋯  | 3  | 8  | 8  | 1  | 3  | 2  | 5  | 4  | 3  | 4  | \n",
       "| 1  | 3  |  9 | 2  | 4  | 2  | 1  | 1  |  3 | 1  | ⋯  | 3  | 8  | 8  | 1  | 3  | 2  | 5  | 3  | 4  | 4  | \n",
       "| 3  | 3  |  9 | 2  | 7  | 2  | 1  | 2  |  6 | 1  | ⋯  | 3  | 8  | 8  | 1  | 3  | 2  | 5  | 4  | 5  | 2  | \n",
       "| 6  | 4  | 10 | 2  | 1  | 2  | 1  | 1  |  6 | 1  | ⋯  | 3  | 8  | 8  | 1  | 3  | 2  | 5  | 4  | 3  | 4  | \n",
       "| 6  | 4  |  9 | 2  | 4  | 2  | 1  | 1  | 11 | 1  | ⋯  | 3  | 8  | 8  | 1  | 3  | 2  | 5  | 4  | 3  | 4  | \n",
       "| 3  | 1  |  5 | 1  | 6  | 2  | 1  | 2  |  5 | 1  | ⋯  | 3  | 8  | 8  | 1  | 3  | 2  | 5  | 3  | 6  | 6  | \n",
       "| 6  | 3  | 10 | 2  | 1  | 2  | 2  | 2  |  6 | 2  | ⋯  | 3  | 8  | 8  | 1  | 3  | 2  | 5  | 4  | 5  | 1  | \n",
       "| ⋮ | ⋮ | ⋮ | ⋮ | ⋮ | ⋮ | ⋮ | ⋮ | ⋮ | ⋮ | ⋱ | ⋮ | ⋮ | ⋮ | ⋮ | ⋮ | ⋮ | ⋮ | ⋮ | ⋮ | ⋮ | \n",
       "| 1  | 3  | 4  | 1  | 6  | 2  | 2  | 1  |  3 | 1  | ⋯  | 3  | 8  | 8  | 1  | 3  | 3  | 5  | 8  | 3  | 2  | \n",
       "| 6  | 4  | 2  | 1  | 5  | 2  | 1  | 1  | 12 | 1  | ⋯  | 4  | 2  | 2  | 1  | 3  | 1  | 4  | 8  | 2  | 1  | \n",
       "| 4  | 1  | 9  | 1  | 6  | 2  | 2  | 1  | 11 | 1  | ⋯  | 3  | 8  | 8  | 1  | 3  | 3  | 5  | 8  | 3  | 2  | \n",
       "| 4  | 4  | 5  | 1  | 8  | 2  | 1  | 2  |  1 | 2  | ⋯  | 2  | 7  | 7  | 1  | 3  | 2  | 1  | 8  | 5  | 3  | \n",
       "| 4  | 3  | 3  | 1  | 9  | 2  | 1  | 2  |  1 | 2  | ⋯  | 2  | 8  | 7  | 1  | 3  | 2  | 1  | 8  | 5  | 1  | \n",
       "| 4  | 1  | 9  | 1  | 6  | 2  | 2  | 1  | 11 | 1  | ⋯  | 2  | 8  | 8  | 1  | 3  | 3  | 5  | 8  | 4  | 2  | \n",
       "| 3  | 3  | 5  | 1  | 6  | 1  | 1  | 1  |  7 | 1  | ⋯  | 3  | 6  | 6  | 1  | 1  | 2  | 5  | 1  | 5  | 3  | \n",
       "| 4  | 3  | 3  | 1  | 8  | 2  | 1  | 2  |  1 | 2  | ⋯  | 3  | 7  | 8  | 1  | 3  | 2  | 1  | 8  | 5  | 5  | \n",
       "| 6  | 3  | 5  | 1  | 6  | 1  | 1  | 1  | 12 | 1  | ⋯  | 3  | 6  | 6  | 1  | 1  | 2  | 5  | 4  | 2  | 3  | \n",
       "| 4  | 3  | 5  | 1  | 6  | 1  | 1  | 1  | 12 | 1  | ⋯  | 3  | 6  | 6  | 1  | 1  | 2  | 5  | 5  | 2  | 3  | \n",
       "| 4  | 3  | 5  | 1  | 6  | 1  | 1  | 1  | 12 | 1  | ⋯  | 3  | 6  | 6  | 1  | 2  | 2  | 5  | 4  | 5  | 3  | \n",
       "| 4  | 3  | 5  | 1  | 6  | 1  | 1  | 1  | 12 | 1  | ⋯  | 3  | 6  | 6  | 1  | 1  | 2  | 5  | 9  | 5  | 3  | \n",
       "| 4  | 3  | 5  | 1  | 6  | 1  | 1  | 1  |  7 | 1  | ⋯  | 3  | 6  | 6  | 1  | 2  | 2  | 5  | 4  | 5  | 3  | \n",
       "| 6  | 3  | 5  | 1  | 6  | 1  | 1  | 1  | 12 | 1  | ⋯  | 3  | 6  | 6  | 1  | 2  | 2  | 5  | 4  | 2  | 3  | \n",
       "| 4  | 4  | 3  | 1  | 9  | 2  | 1  | 2  |  1 | 2  | ⋯  | 3  | 7  | 8  | 1  | 3  | 2  | 1  | 8  | 5  | 3  | \n",
       "| 1  | 3  | 9  | 1  | 6  | 2  | 2  | 1  | 11 | 1  | ⋯  | 3  | 8  | 8  | 1  | 3  | 3  | 5  | 8  | 3  | 2  | \n",
       "| 6  | 3  | 5  | 1  | 6  | 1  | 1  | 1  |  7 | 1  | ⋯  | 3  | 6  | 6  | 1  | 2  | 2  | 5  | 4  | 5  | 3  | \n",
       "| 4  | 3  | 9  | 1  | 6  | 2  | 2  | 1  |  8 | 1  | ⋯  | 3  | 8  | 8  | 1  | 3  | 3  | 5  | 8  | 3  | 2  | \n",
       "| 4  | 3  | 5  | 1  | 6  | 1  | 1  | 1  |  7 | 1  | ⋯  | 3  | 6  | 6  | 1  | 1  | 2  | 5  | 1  | 5  | 3  | \n",
       "| 4  | 4  | 3  | 1  | 9  | 2  | 1  | 2  |  1 | 2  | ⋯  | 2  | 7  | 7  | 1  | 3  | 2  | 1  | 8  | 5  | 1  | \n",
       "| 3  | 4  | 2  | 1  | 5  | 1  | 1  | 1  | 12 | 1  | ⋯  | 4  | 2  | 2  | 1  | 3  | 1  | 4  | 8  | 2  | 1  | \n",
       "| 6  | 3  | 5  | 1  | 6  | 1  | 1  | 1  | 12 | 1  | ⋯  | 3  | 6  | 6  | 1  | 2  | 2  | 5  | 5  | 5  | 3  | \n",
       "| 4  | 4  | 5  | 1  | 8  | 2  | 1  | 2  |  1 | 2  | ⋯  | 2  | 7  | 8  | 1  | 3  | 2  | 1  | 8  | 5  | 3  | \n",
       "| 4  | 3  | 3  | 1  | 9  | 2  | 1  | 2  |  1 | 2  | ⋯  | 3  | 7  | 8  | 1  | 3  | 2  | 1  | 8  | 5  | 1  | \n",
       "| 4  | 4  | 5  | 1  | 3  | 2  | 1  | 2  |  1 | 2  | ⋯  | 3  | 7  | 8  | 1  | 3  | 2  | 1  | 8  | 5  | 1  | \n",
       "| 4  | 3  | 5  | 1  | 6  | 1  | 1  | 1  | 12 | 1  | ⋯  | 3  | 6  | 6  | 1  | 2  | 2  | 5  | 1  | 2  | 3  | \n",
       "| 6  | 3  | 5  | 1  | 6  | 1  | 1  | 1  | 12 | 1  | ⋯  | 3  | 6  | 6  | 1  | 1  | 2  | 5  | 1  | 5  | 3  | \n",
       "| 3  | 3  | 5  | 1  | 6  | 1  | 1  | 1  |  6 | 1  | ⋯  | 3  | 6  | 6  | 1  | 2  | 2  | 5  | 1  | 2  | 3  | \n",
       "| 4  | 4  | 5  | 1  | 9  | 2  | 1  | 2  |  1 | 2  | ⋯  | 2  | 8  | 8  | 1  | 3  | 2  | 1  | 8  | 5  | 3  | \n",
       "| 6  | 3  | 5  | 1  | 6  | 1  | 1  | 1  | 12 | 1  | ⋯  | 3  | 6  | 6  | 1  | 2  | 2  | 5  | 5  | 2  | 3  | \n",
       "\n",
       "\n"
      ],
      "text/plain": [
       "     X6 X3 X5 X2 X7 X2.1 X1 X2.2 X5.1 X1.1 ⋯ X3.2 X8 X8.1 X1.2 X3.3 X2.3 X5.2\n",
       "1    6  3   5 2  7  2    1  2     5   1    ⋯ 3    8  8    1    3    2    5   \n",
       "2    6  3  10 2  1  2    1  1     5   1    ⋯ 3    8  8    1    3    2    5   \n",
       "3    1  3   9 2  4  2    1  1     6   1    ⋯ 3    8  8    1    3    2    5   \n",
       "4    6  4   9 2  7  2    1  2     6   1    ⋯ 3    8  8    1    3    2    5   \n",
       "5    6  3   4 1  6  2    2  1     5   2    ⋯ 3    8  8    1    3    2    1   \n",
       "6    6  4  10 2  1  2    1  1     6   1    ⋯ 3    8  8    1    3    2    5   \n",
       "7    1  3   9 2  1  2    1  1     3   1    ⋯ 3    8  8    1    3    2    5   \n",
       "8    1  4   9 2  4  2    1  1     6   1    ⋯ 3    8  8    1    3    2    5   \n",
       "9    6  4   9 2  7  2    1  2     8   1    ⋯ 3    8  8    1    3    2    5   \n",
       "10   1  3  10 2  1  2    1  1     3   1    ⋯ 3    8  8    1    3    2    5   \n",
       "11   6  4  10 2  4  2    1  1     3   1    ⋯ 3    8  8    1    3    2    5   \n",
       "12   6  4  10 2  1  2    1  1     6   1    ⋯ 3    8  8    1    3    2    5   \n",
       "13   1  3  10 2  1  2    1  1    11   1    ⋯ 3    8  8    1    3    2    5   \n",
       "14   6  4   9 2  7  2    1  2     5   1    ⋯ 3    8  8    1    3    2    5   \n",
       "15   6  1   5 1  6  2    2  1     6   2    ⋯ 1    8  8    1    3    2    1   \n",
       "16   5  1   4 1  6  2    1  2     5   1    ⋯ 3    8  8    1    3    2    5   \n",
       "17   3  1   9 1  6  2    2  1     5   2    ⋯ 3    8  8    1    3    2    1   \n",
       "18   6  3   5 2  7  2    1  2     6   1    ⋯ 3    8  8    1    3    2    5   \n",
       "19   6  4   9 2  7  2    1  2     6   1    ⋯ 3    8  8    1    3    2    5   \n",
       "20   6  3   5 2  7  2    1  2     5   1    ⋯ 3    8  8    1    3    2    5   \n",
       "21   1  3  10 2  1  2    1  1     5   1    ⋯ 3    8  8    1    3    2    5   \n",
       "22   6  4   5 2  7  2    1  2     6   1    ⋯ 3    8  8    1    3    2    5   \n",
       "23   1  4  10 2  4  2    1  1     5   1    ⋯ 3    8  8    1    3    2    5   \n",
       "24   1  4   9 2  1  2    1  1    11   1    ⋯ 3    8  8    1    3    2    5   \n",
       "25   1  3   9 2  4  2    1  1     3   1    ⋯ 3    8  8    1    3    2    5   \n",
       "26   3  3   9 2  7  2    1  2     6   1    ⋯ 3    8  8    1    3    2    5   \n",
       "27   6  4  10 2  1  2    1  1     6   1    ⋯ 3    8  8    1    3    2    5   \n",
       "28   6  4   9 2  4  2    1  1    11   1    ⋯ 3    8  8    1    3    2    5   \n",
       "29   3  1   5 1  6  2    1  2     5   1    ⋯ 3    8  8    1    3    2    5   \n",
       "30   6  3  10 2  1  2    2  2     6   2    ⋯ 3    8  8    1    3    2    5   \n",
       "⋮    ⋮  ⋮  ⋮  ⋮  ⋮  ⋮    ⋮  ⋮    ⋮    ⋮    ⋱ ⋮    ⋮  ⋮    ⋮    ⋮    ⋮    ⋮   \n",
       "8095 1  3  4  1  6  2    2  1     3   1    ⋯ 3    8  8    1    3    3    5   \n",
       "8096 6  4  2  1  5  2    1  1    12   1    ⋯ 4    2  2    1    3    1    4   \n",
       "8097 4  1  9  1  6  2    2  1    11   1    ⋯ 3    8  8    1    3    3    5   \n",
       "8098 4  4  5  1  8  2    1  2     1   2    ⋯ 2    7  7    1    3    2    1   \n",
       "8099 4  3  3  1  9  2    1  2     1   2    ⋯ 2    8  7    1    3    2    1   \n",
       "8100 4  1  9  1  6  2    2  1    11   1    ⋯ 2    8  8    1    3    3    5   \n",
       "8101 3  3  5  1  6  1    1  1     7   1    ⋯ 3    6  6    1    1    2    5   \n",
       "8102 4  3  3  1  8  2    1  2     1   2    ⋯ 3    7  8    1    3    2    1   \n",
       "8103 6  3  5  1  6  1    1  1    12   1    ⋯ 3    6  6    1    1    2    5   \n",
       "8104 4  3  5  1  6  1    1  1    12   1    ⋯ 3    6  6    1    1    2    5   \n",
       "8105 4  3  5  1  6  1    1  1    12   1    ⋯ 3    6  6    1    2    2    5   \n",
       "8106 4  3  5  1  6  1    1  1    12   1    ⋯ 3    6  6    1    1    2    5   \n",
       "8107 4  3  5  1  6  1    1  1     7   1    ⋯ 3    6  6    1    2    2    5   \n",
       "8108 6  3  5  1  6  1    1  1    12   1    ⋯ 3    6  6    1    2    2    5   \n",
       "8109 4  4  3  1  9  2    1  2     1   2    ⋯ 3    7  8    1    3    2    1   \n",
       "8110 1  3  9  1  6  2    2  1    11   1    ⋯ 3    8  8    1    3    3    5   \n",
       "8111 6  3  5  1  6  1    1  1     7   1    ⋯ 3    6  6    1    2    2    5   \n",
       "8112 4  3  9  1  6  2    2  1     8   1    ⋯ 3    8  8    1    3    3    5   \n",
       "8113 4  3  5  1  6  1    1  1     7   1    ⋯ 3    6  6    1    1    2    5   \n",
       "8114 4  4  3  1  9  2    1  2     1   2    ⋯ 2    7  7    1    3    2    1   \n",
       "8115 3  4  2  1  5  1    1  1    12   1    ⋯ 4    2  2    1    3    1    4   \n",
       "8116 6  3  5  1  6  1    1  1    12   1    ⋯ 3    6  6    1    2    2    5   \n",
       "8117 4  4  5  1  8  2    1  2     1   2    ⋯ 2    7  8    1    3    2    1   \n",
       "8118 4  3  3  1  9  2    1  2     1   2    ⋯ 3    7  8    1    3    2    1   \n",
       "8119 4  4  5  1  3  2    1  2     1   2    ⋯ 3    7  8    1    3    2    1   \n",
       "8120 4  3  5  1  6  1    1  1    12   1    ⋯ 3    6  6    1    2    2    5   \n",
       "8121 6  3  5  1  6  1    1  1    12   1    ⋯ 3    6  6    1    1    2    5   \n",
       "8122 3  3  5  1  6  1    1  1     6   1    ⋯ 3    6  6    1    2    2    5   \n",
       "8123 4  4  5  1  9  2    1  2     1   2    ⋯ 2    8  8    1    3    2    1   \n",
       "8124 6  3  5  1  6  1    1  1    12   1    ⋯ 3    6  6    1    2    2    5   \n",
       "     X3.4 X4.1 X6.1\n",
       "1    3    4    6   \n",
       "2    4    3    2   \n",
       "3    4    3    4   \n",
       "4    3    4    6   \n",
       "5    4    1    2   \n",
       "6    3    3    2   \n",
       "7    3    3    4   \n",
       "8    4    4    4   \n",
       "9    3    5    2   \n",
       "10   3    4    4   \n",
       "11   4    3    2   \n",
       "12   3    4    4   \n",
       "13   4    4    2   \n",
       "14   4    5    6   \n",
       "15   3    1    2   \n",
       "16   4    6    6   \n",
       "17   4    1    2   \n",
       "18   3    4    2   \n",
       "19   4    4    6   \n",
       "20   4    4    6   \n",
       "21   4    4    4   \n",
       "22   4    5    2   \n",
       "23   4    4    4   \n",
       "24   4    3    4   \n",
       "25   3    4    4   \n",
       "26   4    5    2   \n",
       "27   4    3    4   \n",
       "28   4    3    4   \n",
       "29   3    6    6   \n",
       "30   4    5    1   \n",
       "⋮    ⋮    ⋮    ⋮   \n",
       "8095 8    3    2   \n",
       "8096 8    2    1   \n",
       "8097 8    3    2   \n",
       "8098 8    5    3   \n",
       "8099 8    5    1   \n",
       "8100 8    4    2   \n",
       "8101 1    5    3   \n",
       "8102 8    5    5   \n",
       "8103 4    2    3   \n",
       "8104 5    2    3   \n",
       "8105 4    5    3   \n",
       "8106 9    5    3   \n",
       "8107 4    5    3   \n",
       "8108 4    2    3   \n",
       "8109 8    5    3   \n",
       "8110 8    3    2   \n",
       "8111 4    5    3   \n",
       "8112 8    3    2   \n",
       "8113 1    5    3   \n",
       "8114 8    5    1   \n",
       "8115 8    2    1   \n",
       "8116 5    5    3   \n",
       "8117 8    5    3   \n",
       "8118 8    5    1   \n",
       "8119 8    5    1   \n",
       "8120 1    2    3   \n",
       "8121 1    5    3   \n",
       "8122 1    2    3   \n",
       "8123 8    5    3   \n",
       "8124 5    2    3   "
      ]
     },
     "metadata": {},
     "output_type": "display_data"
    }
   ],
   "source": [
    "# 숫자값으로 변환시키기\n",
    "k <- data.frame()\n",
    "for (i in seq(1,nrow(mush))){\n",
    "    k <- rbind(k, as.numeric(mush[i,-1]))\n",
    "}\n",
    "k\n",
    "\n",
    "\n",
    "\n"
   ]
  },
  {
   "cell_type": "code",
   "execution_count": 86,
   "metadata": {},
   "outputs": [],
   "source": [
    "# 답과 결합하기\n",
    "k <- cbind(mush[1],k)\n",
    "\n",
    "\n",
    "\n"
   ]
  },
  {
   "cell_type": "code",
   "execution_count": 89,
   "metadata": {},
   "outputs": [
    {
     "data": {
      "text/html": [
       "0"
      ],
      "text/latex": [
       "0"
      ],
      "text/markdown": [
       "0"
      ],
      "text/plain": [
       "[1] 0"
      ]
     },
     "metadata": {},
     "output_type": "display_data"
    },
    {
     "data": {
      "text/html": [
       "0"
      ],
      "text/latex": [
       "0"
      ],
      "text/markdown": [
       "0"
      ],
      "text/plain": [
       "[1] 0"
      ]
     },
     "metadata": {},
     "output_type": "display_data"
    },
    {
     "data": {
      "text/html": [
       "8124"
      ],
      "text/latex": [
       "8124"
      ],
      "text/markdown": [
       "8124"
      ],
      "text/plain": [
       "[1] 8124"
      ]
     },
     "metadata": {},
     "output_type": "display_data"
    },
    {
     "data": {
      "text/html": [
       "2945.6"
      ],
      "text/latex": [
       "2945.6"
      ],
      "text/markdown": [
       "2945.6"
      ],
      "text/plain": [
       "[1] 2945.6"
      ]
     },
     "metadata": {},
     "output_type": "display_data"
    },
    {
     "data": {
      "text/html": [
       "2741.2"
      ],
      "text/latex": [
       "2741.2"
      ],
      "text/markdown": [
       "2741.2"
      ],
      "text/plain": [
       "[1] 2741.2"
      ]
     },
     "metadata": {},
     "output_type": "display_data"
    }
   ],
   "source": [
    "# 정렬시키기\n",
    "library(doBy)\n",
    "k <- orderBy(~V1,k)\n",
    "sum(k[,1] == 1)\n",
    "sum(k[,1] == 2)\n",
    "4208 + 3916\n",
    "4208 * 0.7\n",
    "3916 * 0.7\n",
    "row.names(k) <- seq(1,nrow(k))\n",
    "\n",
    "\n",
    "\n",
    "\n",
    "\n",
    "\n",
    "\n"
   ]
  },
  {
   "cell_type": "code",
   "execution_count": 95,
   "metadata": {},
   "outputs": [
    {
     "data": {
      "text/plain": [
       "   pred\n",
       "       e    p\n",
       "  e 1263    0\n",
       "  p    0 1175"
      ]
     },
     "metadata": {},
     "output_type": "display_data"
    },
    {
     "data": {
      "text/html": [
       "'100 %'"
      ],
      "text/latex": [
       "'100 \\%'"
      ],
      "text/markdown": [
       "'100 %'"
      ],
      "text/plain": [
       "[1] \"100 %\""
      ]
     },
     "metadata": {},
     "output_type": "display_data"
    }
   ],
   "source": [
    "library(randomForest)\n",
    "set.seed(12) # 샘플값 고정\n",
    "samp <- c(sample(1:4208, 2945),sample(4209:8124, 2741))\n",
    "\n",
    "# 학습용 검증용 데이터 분류\n",
    "# 학습용 데이터\n",
    "data.tr <- k[samp,]\n",
    "# 검증용 데이터\n",
    "data.test <- k[-samp,]\n",
    "\n",
    "# 학습시키기\n",
    "rf <- randomForest(V1 ~., data = data.tr, ntree = 100)\n",
    "\n",
    "# 예측하기\n",
    "pred <- predict(rf, data.test)\n",
    "\n",
    "# 확인하기 - 정답 오답을\n",
    "table(data.test$V1, pred)\n",
    "\n",
    "# 예측률\n",
    "paste(round(mean(data.test$V1 == pred) * 100,2),\"%\")\n",
    "\n",
    "\n",
    "\n",
    "\n",
    "\n",
    "\n",
    "\n",
    "\n",
    "\n",
    "\n",
    "\n"
   ]
  },
  {
   "cell_type": "code",
   "execution_count": null,
   "metadata": {},
   "outputs": [],
   "source": []
  }
 ],
 "metadata": {
  "kernelspec": {
   "display_name": "R",
   "language": "R",
   "name": "ir"
  },
  "language_info": {
   "codemirror_mode": "r",
   "file_extension": ".r",
   "mimetype": "text/x-r-source",
   "name": "R",
   "pygments_lexer": "r",
   "version": "3.5.1"
  }
 },
 "nbformat": 4,
 "nbformat_minor": 2
}
