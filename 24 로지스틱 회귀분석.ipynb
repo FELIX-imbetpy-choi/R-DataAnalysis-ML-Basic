{
 "cells": [
  {
   "cell_type": "code",
   "execution_count": 1,
   "metadata": {},
   "outputs": [],
   "source": [
    "library(nnet)\n",
    "\n",
    "\n",
    "\n"
   ]
  },
  {
   "cell_type": "code",
   "execution_count": 2,
   "metadata": {},
   "outputs": [],
   "source": [
    "data(iris)\n",
    "\n",
    "\n",
    "\n"
   ]
  },
  {
   "cell_type": "markdown",
   "metadata": {},
   "source": [
    "# 단항 로지스틱"
   ]
  },
  {
   "cell_type": "code",
   "execution_count": 7,
   "metadata": {},
   "outputs": [],
   "source": [
    "# 로지스틱 회귀분석 예측값은 0 또는 1의 두개 분류에 사용\n",
    "# 3개 이상 분류할 경우에는 다항 로지스틱 분석을 사용\n",
    "d <- subset(iris, Species == \"setosa\"| Species == \"versicolor\")\n",
    "\n",
    "\n",
    "\n"
   ]
  },
  {
   "cell_type": "code",
   "execution_count": 8,
   "metadata": {},
   "outputs": [
    {
     "data": {
      "text/html": [
       "<table>\n",
       "<thead><tr><th></th><th scope=col>Sepal.Length</th><th scope=col>Sepal.Width</th><th scope=col>Petal.Length</th><th scope=col>Petal.Width</th><th scope=col>Species</th></tr></thead>\n",
       "<tbody>\n",
       "\t<tr><th scope=row>95</th><td>5.6       </td><td>2.7       </td><td>4.2       </td><td>1.3       </td><td>versicolor</td></tr>\n",
       "\t<tr><th scope=row>96</th><td>5.7       </td><td>3.0       </td><td>4.2       </td><td>1.2       </td><td>versicolor</td></tr>\n",
       "\t<tr><th scope=row>97</th><td>5.7       </td><td>2.9       </td><td>4.2       </td><td>1.3       </td><td>versicolor</td></tr>\n",
       "\t<tr><th scope=row>98</th><td>6.2       </td><td>2.9       </td><td>4.3       </td><td>1.3       </td><td>versicolor</td></tr>\n",
       "\t<tr><th scope=row>99</th><td>5.1       </td><td>2.5       </td><td>3.0       </td><td>1.1       </td><td>versicolor</td></tr>\n",
       "\t<tr><th scope=row>100</th><td>5.7       </td><td>2.8       </td><td>4.1       </td><td>1.3       </td><td>versicolor</td></tr>\n",
       "</tbody>\n",
       "</table>\n"
      ],
      "text/latex": [
       "\\begin{tabular}{r|lllll}\n",
       "  & Sepal.Length & Sepal.Width & Petal.Length & Petal.Width & Species\\\\\n",
       "\\hline\n",
       "\t95 & 5.6        & 2.7        & 4.2        & 1.3        & versicolor\\\\\n",
       "\t96 & 5.7        & 3.0        & 4.2        & 1.2        & versicolor\\\\\n",
       "\t97 & 5.7        & 2.9        & 4.2        & 1.3        & versicolor\\\\\n",
       "\t98 & 6.2        & 2.9        & 4.3        & 1.3        & versicolor\\\\\n",
       "\t99 & 5.1        & 2.5        & 3.0        & 1.1        & versicolor\\\\\n",
       "\t100 & 5.7        & 2.8        & 4.1        & 1.3        & versicolor\\\\\n",
       "\\end{tabular}\n"
      ],
      "text/markdown": [
       "\n",
       "| <!--/--> | Sepal.Length | Sepal.Width | Petal.Length | Petal.Width | Species | \n",
       "|---|---|---|---|---|---|\n",
       "| 95 | 5.6        | 2.7        | 4.2        | 1.3        | versicolor | \n",
       "| 96 | 5.7        | 3.0        | 4.2        | 1.2        | versicolor | \n",
       "| 97 | 5.7        | 2.9        | 4.2        | 1.3        | versicolor | \n",
       "| 98 | 6.2        | 2.9        | 4.3        | 1.3        | versicolor | \n",
       "| 99 | 5.1        | 2.5        | 3.0        | 1.1        | versicolor | \n",
       "| 100 | 5.7        | 2.8        | 4.1        | 1.3        | versicolor | \n",
       "\n",
       "\n"
      ],
      "text/plain": [
       "    Sepal.Length Sepal.Width Petal.Length Petal.Width Species   \n",
       "95  5.6          2.7         4.2          1.3         versicolor\n",
       "96  5.7          3.0         4.2          1.2         versicolor\n",
       "97  5.7          2.9         4.2          1.3         versicolor\n",
       "98  6.2          2.9         4.3          1.3         versicolor\n",
       "99  5.1          2.5         3.0          1.1         versicolor\n",
       "100 5.7          2.8         4.1          1.3         versicolor"
      ]
     },
     "metadata": {},
     "output_type": "display_data"
    },
    {
     "name": "stdout",
     "output_type": "stream",
     "text": [
      "'data.frame':\t100 obs. of  5 variables:\n",
      " $ Sepal.Length: num  5.1 4.9 4.7 4.6 5 5.4 4.6 5 4.4 4.9 ...\n",
      " $ Sepal.Width : num  3.5 3 3.2 3.1 3.6 3.9 3.4 3.4 2.9 3.1 ...\n",
      " $ Petal.Length: num  1.4 1.4 1.3 1.5 1.4 1.7 1.4 1.5 1.4 1.5 ...\n",
      " $ Petal.Width : num  0.2 0.2 0.2 0.2 0.2 0.4 0.3 0.2 0.2 0.1 ...\n",
      " $ Species     : Factor w/ 3 levels \"setosa\",\"versicolor\",..: 1 1 1 1 1 1 1 1 1 1 ...\n"
     ]
    }
   ],
   "source": [
    "tail(d)\n",
    "str(d)\n",
    "# Species     : Factor w/ 3 levels 로 factor 가 3개로 되어 있다. 변경이 필요함\n",
    "\n",
    "\n",
    "\n"
   ]
  },
  {
   "cell_type": "code",
   "execution_count": 9,
   "metadata": {},
   "outputs": [
    {
     "name": "stdout",
     "output_type": "stream",
     "text": [
      "'data.frame':\t100 obs. of  5 variables:\n",
      " $ Sepal.Length: num  5.1 4.9 4.7 4.6 5 5.4 4.6 5 4.4 4.9 ...\n",
      " $ Sepal.Width : num  3.5 3 3.2 3.1 3.6 3.9 3.4 3.4 2.9 3.1 ...\n",
      " $ Petal.Length: num  1.4 1.4 1.3 1.5 1.4 1.7 1.4 1.5 1.4 1.5 ...\n",
      " $ Petal.Width : num  0.2 0.2 0.2 0.2 0.2 0.4 0.3 0.2 0.2 0.1 ...\n",
      " $ Species     : Factor w/ 2 levels \"setosa\",\"versicolor\": 1 1 1 1 1 1 1 1 1 1 ...\n"
     ]
    }
   ],
   "source": [
    "# factor 변경\n",
    "d$Species <- factor(d$Species)\n",
    "str(d)\n",
    "\n",
    "\n",
    "\n"
   ]
  },
  {
   "cell_type": "code",
   "execution_count": 11,
   "metadata": {},
   "outputs": [
    {
     "data": {
      "text/html": [
       "<ol class=list-inline>\n",
       "\t<li>70</li>\n",
       "\t<li>5</li>\n",
       "</ol>\n"
      ],
      "text/latex": [
       "\\begin{enumerate*}\n",
       "\\item 70\n",
       "\\item 5\n",
       "\\end{enumerate*}\n"
      ],
      "text/markdown": [
       "1. 70\n",
       "2. 5\n",
       "\n",
       "\n"
      ],
      "text/plain": [
       "[1] 70  5"
      ]
     },
     "metadata": {},
     "output_type": "display_data"
    },
    {
     "data": {
      "text/html": [
       "<ol class=list-inline>\n",
       "\t<li>30</li>\n",
       "\t<li>5</li>\n",
       "</ol>\n"
      ],
      "text/latex": [
       "\\begin{enumerate*}\n",
       "\\item 30\n",
       "\\item 5\n",
       "\\end{enumerate*}\n"
      ],
      "text/markdown": [
       "1. 30\n",
       "2. 5\n",
       "\n",
       "\n"
      ],
      "text/plain": [
       "[1] 30  5"
      ]
     },
     "metadata": {},
     "output_type": "display_data"
    }
   ],
   "source": [
    "# 데이터 설정\n",
    "set.seed(1234) # 샘플값 고정\n",
    "samp <- c(sample(1:50, 35), sample(51:100, 35))\n",
    "train_set <- d[samp,]\n",
    "test_set <- d[-samp,]\n",
    "dim(train_set)\n",
    "dim(test_set)\n",
    "\n",
    "\n",
    "\n",
    "\n",
    "\n",
    "\n",
    "\n"
   ]
  },
  {
   "cell_type": "code",
   "execution_count": 13,
   "metadata": {},
   "outputs": [
    {
     "name": "stderr",
     "output_type": "stream",
     "text": [
      "Warning message:\n",
      "“glm.fit: algorithm did not converge”Warning message:\n",
      "“glm.fit: fitted probabilities numerically 0 or 1 occurred”"
     ]
    }
   ],
   "source": [
    "# 모델생성\n",
    "model <- glm(Species ~ . , data = train_set, family = binomial) # bionmial = 이분류\n",
    "\n",
    "\n",
    "\n"
   ]
  },
  {
   "cell_type": "code",
   "execution_count": 14,
   "metadata": {},
   "outputs": [
    {
     "data": {
      "text/html": [
       "<dl class=dl-horizontal>\n",
       "\t<dt>6</dt>\n",
       "\t\t<dd>2.22044604925031e-16</dd>\n",
       "\t<dt>31</dt>\n",
       "\t\t<dd>2.37449249388997e-13</dd>\n",
       "\t<dt>30</dt>\n",
       "\t\t<dd>1.02590001713383e-12</dd>\n",
       "\t<dt>48</dt>\n",
       "\t\t<dd>1.14191257385243e-13</dd>\n",
       "\t<dt>40</dt>\n",
       "\t\t<dd>2.22044604925031e-16</dd>\n",
       "\t<dt>53</dt>\n",
       "\t\t<dd>1</dd>\n",
       "\t<dt>61</dt>\n",
       "\t\t<dd>1</dd>\n",
       "\t<dt>74</dt>\n",
       "\t\t<dd>1</dd>\n",
       "\t<dt>67</dt>\n",
       "\t\t<dd>1</dd>\n",
       "\t<dt>55</dt>\n",
       "\t\t<dd>1</dd>\n",
       "</dl>\n"
      ],
      "text/latex": [
       "\\begin{description*}\n",
       "\\item[6] 2.22044604925031e-16\n",
       "\\item[31] 2.37449249388997e-13\n",
       "\\item[30] 1.02590001713383e-12\n",
       "\\item[48] 1.14191257385243e-13\n",
       "\\item[40] 2.22044604925031e-16\n",
       "\\item[53] 1\n",
       "\\item[61] 1\n",
       "\\item[74] 1\n",
       "\\item[67] 1\n",
       "\\item[55] 1\n",
       "\\end{description*}\n"
      ],
      "text/markdown": [
       "6\n",
       ":   2.22044604925031e-1631\n",
       ":   2.37449249388997e-1330\n",
       ":   1.02590001713383e-1248\n",
       ":   1.14191257385243e-1340\n",
       ":   2.22044604925031e-1653\n",
       ":   161\n",
       ":   174\n",
       ":   167\n",
       ":   155\n",
       ":   1\n",
       "\n"
      ],
      "text/plain": [
       "           6           31           30           48           40           53 \n",
       "2.220446e-16 2.374492e-13 1.025900e-12 1.141913e-13 2.220446e-16 1.000000e+00 \n",
       "          61           74           67           55 \n",
       "1.000000e+00 1.000000e+00 1.000000e+00 1.000000e+00 "
      ]
     },
     "metadata": {},
     "output_type": "display_data"
    }
   ],
   "source": [
    "# 앞의 5개는 0 뒤의 5개는 1로 분류 되어 있는 것이다.\n",
    "# 샘플을 확인하기.\n",
    "# fitted 는 다른 머신러닝에서도 확인 할 수 있다.\n",
    "fitted(model)[c(1:5, 51:55)]\n",
    "\n",
    "\n",
    "\n"
   ]
  },
  {
   "cell_type": "code",
   "execution_count": 15,
   "metadata": {},
   "outputs": [
    {
     "data": {
      "text/html": [
       "<ol class=list-inline>\n",
       "\t<li>1</li>\n",
       "\t<li>1</li>\n",
       "\t<li>1</li>\n",
       "\t<li>1</li>\n",
       "\t<li>1</li>\n",
       "\t<li>1</li>\n",
       "\t<li>1</li>\n",
       "\t<li>1</li>\n",
       "\t<li>1</li>\n",
       "\t<li>1</li>\n",
       "\t<li>1</li>\n",
       "\t<li>1</li>\n",
       "\t<li>1</li>\n",
       "\t<li>1</li>\n",
       "\t<li>1</li>\n",
       "\t<li>1</li>\n",
       "\t<li>1</li>\n",
       "\t<li>1</li>\n",
       "\t<li>1</li>\n",
       "\t<li>1</li>\n",
       "\t<li>1</li>\n",
       "\t<li>1</li>\n",
       "\t<li>1</li>\n",
       "\t<li>1</li>\n",
       "\t<li>1</li>\n",
       "\t<li>1</li>\n",
       "\t<li>1</li>\n",
       "\t<li>1</li>\n",
       "\t<li>1</li>\n",
       "\t<li>1</li>\n",
       "\t<li>1</li>\n",
       "\t<li>1</li>\n",
       "\t<li>1</li>\n",
       "\t<li>1</li>\n",
       "\t<li>1</li>\n",
       "\t<li>2</li>\n",
       "\t<li>2</li>\n",
       "\t<li>2</li>\n",
       "\t<li>2</li>\n",
       "\t<li>2</li>\n",
       "\t<li>2</li>\n",
       "\t<li>2</li>\n",
       "\t<li>2</li>\n",
       "\t<li>2</li>\n",
       "\t<li>2</li>\n",
       "\t<li>2</li>\n",
       "\t<li>2</li>\n",
       "\t<li>2</li>\n",
       "\t<li>2</li>\n",
       "\t<li>2</li>\n",
       "\t<li>2</li>\n",
       "\t<li>2</li>\n",
       "\t<li>2</li>\n",
       "\t<li>2</li>\n",
       "\t<li>2</li>\n",
       "\t<li>2</li>\n",
       "\t<li>2</li>\n",
       "\t<li>2</li>\n",
       "\t<li>2</li>\n",
       "\t<li>2</li>\n",
       "\t<li>2</li>\n",
       "\t<li>2</li>\n",
       "\t<li>2</li>\n",
       "\t<li>2</li>\n",
       "\t<li>2</li>\n",
       "\t<li>2</li>\n",
       "\t<li>2</li>\n",
       "\t<li>2</li>\n",
       "\t<li>2</li>\n",
       "\t<li>2</li>\n",
       "</ol>\n"
      ],
      "text/latex": [
       "\\begin{enumerate*}\n",
       "\\item 1\n",
       "\\item 1\n",
       "\\item 1\n",
       "\\item 1\n",
       "\\item 1\n",
       "\\item 1\n",
       "\\item 1\n",
       "\\item 1\n",
       "\\item 1\n",
       "\\item 1\n",
       "\\item 1\n",
       "\\item 1\n",
       "\\item 1\n",
       "\\item 1\n",
       "\\item 1\n",
       "\\item 1\n",
       "\\item 1\n",
       "\\item 1\n",
       "\\item 1\n",
       "\\item 1\n",
       "\\item 1\n",
       "\\item 1\n",
       "\\item 1\n",
       "\\item 1\n",
       "\\item 1\n",
       "\\item 1\n",
       "\\item 1\n",
       "\\item 1\n",
       "\\item 1\n",
       "\\item 1\n",
       "\\item 1\n",
       "\\item 1\n",
       "\\item 1\n",
       "\\item 1\n",
       "\\item 1\n",
       "\\item 2\n",
       "\\item 2\n",
       "\\item 2\n",
       "\\item 2\n",
       "\\item 2\n",
       "\\item 2\n",
       "\\item 2\n",
       "\\item 2\n",
       "\\item 2\n",
       "\\item 2\n",
       "\\item 2\n",
       "\\item 2\n",
       "\\item 2\n",
       "\\item 2\n",
       "\\item 2\n",
       "\\item 2\n",
       "\\item 2\n",
       "\\item 2\n",
       "\\item 2\n",
       "\\item 2\n",
       "\\item 2\n",
       "\\item 2\n",
       "\\item 2\n",
       "\\item 2\n",
       "\\item 2\n",
       "\\item 2\n",
       "\\item 2\n",
       "\\item 2\n",
       "\\item 2\n",
       "\\item 2\n",
       "\\item 2\n",
       "\\item 2\n",
       "\\item 2\n",
       "\\item 2\n",
       "\\item 2\n",
       "\\end{enumerate*}\n"
      ],
      "text/markdown": [
       "1. 1\n",
       "2. 1\n",
       "3. 1\n",
       "4. 1\n",
       "5. 1\n",
       "6. 1\n",
       "7. 1\n",
       "8. 1\n",
       "9. 1\n",
       "10. 1\n",
       "11. 1\n",
       "12. 1\n",
       "13. 1\n",
       "14. 1\n",
       "15. 1\n",
       "16. 1\n",
       "17. 1\n",
       "18. 1\n",
       "19. 1\n",
       "20. 1\n",
       "21. 1\n",
       "22. 1\n",
       "23. 1\n",
       "24. 1\n",
       "25. 1\n",
       "26. 1\n",
       "27. 1\n",
       "28. 1\n",
       "29. 1\n",
       "30. 1\n",
       "31. 1\n",
       "32. 1\n",
       "33. 1\n",
       "34. 1\n",
       "35. 1\n",
       "36. 2\n",
       "37. 2\n",
       "38. 2\n",
       "39. 2\n",
       "40. 2\n",
       "41. 2\n",
       "42. 2\n",
       "43. 2\n",
       "44. 2\n",
       "45. 2\n",
       "46. 2\n",
       "47. 2\n",
       "48. 2\n",
       "49. 2\n",
       "50. 2\n",
       "51. 2\n",
       "52. 2\n",
       "53. 2\n",
       "54. 2\n",
       "55. 2\n",
       "56. 2\n",
       "57. 2\n",
       "58. 2\n",
       "59. 2\n",
       "60. 2\n",
       "61. 2\n",
       "62. 2\n",
       "63. 2\n",
       "64. 2\n",
       "65. 2\n",
       "66. 2\n",
       "67. 2\n",
       "68. 2\n",
       "69. 2\n",
       "70. 2\n",
       "\n",
       "\n"
      ],
      "text/plain": [
       " [1] 1 1 1 1 1 1 1 1 1 1 1 1 1 1 1 1 1 1 1 1 1 1 1 1 1 1 1 1 1 1 1 1 1 1 1 2 2 2\n",
       "[39] 2 2 2 2 2 2 2 2 2 2 2 2 2 2 2 2 2 2 2 2 2 2 2 2 2 2 2 2 2 2 2 2"
      ]
     },
     "metadata": {},
     "output_type": "display_data"
    }
   ],
   "source": [
    "f <- fitted(model)\n",
    "# 품종을 숫자형으로 변환, Setosa = 1, Versicolor = 2\n",
    "as.numeric(train_set$Species)\n",
    "\n",
    "\n",
    "\n"
   ]
  },
  {
   "cell_type": "code",
   "execution_count": 20,
   "metadata": {},
   "outputs": [
    {
     "data": {
      "text/html": [
       "70"
      ],
      "text/latex": [
       "70"
      ],
      "text/markdown": [
       "70"
      ],
      "text/plain": [
       "[1] 70"
      ]
     },
     "metadata": {},
     "output_type": "display_data"
    },
    {
     "data": {
      "text/html": [
       "70"
      ],
      "text/latex": [
       "70"
      ],
      "text/markdown": [
       "70"
      ],
      "text/plain": [
       "[1] 70"
      ]
     },
     "metadata": {},
     "output_type": "display_data"
    }
   ],
   "source": [
    "is_correct <- ifelse(f > 0.5, 1, 0) == as.numeric(train_set$Species)-1 # f 값이 0.5 보다 크면 1 아니면 0]\n",
    "sum(is_correct) # 맞춘 값 70\n",
    "NROW(is_correct) # is_correct 갯수\n",
    "\n",
    "\n",
    "\n"
   ]
  },
  {
   "cell_type": "code",
   "execution_count": 22,
   "metadata": {},
   "outputs": [
    {
     "data": {
      "text/html": [
       "100"
      ],
      "text/latex": [
       "100"
      ],
      "text/markdown": [
       "100"
      ],
      "text/plain": [
       "[1] 100"
      ]
     },
     "metadata": {},
     "output_type": "display_data"
    }
   ],
   "source": [
    "# 확률\n",
    "sum(is_correct) / NROW(is_correct) * 100\n",
    "\n",
    "\n",
    "\n"
   ]
  },
  {
   "cell_type": "code",
   "execution_count": null,
   "metadata": {},
   "outputs": [],
   "source": [
    "# setosa versicolor 는 데이터가 많이 떨어져 있어서 이렇게 맞출 수 있다.\n",
    "\n",
    "\n",
    "\n"
   ]
  },
  {
   "cell_type": "code",
   "execution_count": 24,
   "metadata": {},
   "outputs": [
    {
     "data": {
      "text/html": [
       "100"
      ],
      "text/latex": [
       "100"
      ],
      "text/markdown": [
       "100"
      ],
      "text/plain": [
       "[1] 100"
      ]
     },
     "metadata": {},
     "output_type": "display_data"
    }
   ],
   "source": [
    "# 검증\n",
    "pre <- predict(model, newdata = test_set, type = \"response\") # response : 0~1 사이의 결과 값\n",
    "\n",
    "is_correct <- ifelse(pre > 0.5, 1, 0) == as.numeric(test_set$Species)-1 # f 값이 0.5 보다 크면 1 아니면 0]\n",
    "\n",
    "sum(is_correct) / NROW(is_correct) * 100\n",
    "\n",
    "\n",
    "\n"
   ]
  },
  {
   "cell_type": "markdown",
   "metadata": {},
   "source": [
    "## 한칸에 정리하기"
   ]
  },
  {
   "cell_type": "code",
   "execution_count": 34,
   "metadata": {},
   "outputs": [
    {
     "name": "stdout",
     "output_type": "stream",
     "text": [
      "'data.frame':\t100 obs. of  5 variables:\n",
      " $ Sepal.Length: num  5.1 4.9 4.7 4.6 5 5.4 4.6 5 4.4 4.9 ...\n",
      " $ Sepal.Width : num  3.5 3 3.2 3.1 3.6 3.9 3.4 3.4 2.9 3.1 ...\n",
      " $ Petal.Length: num  1.4 1.4 1.3 1.5 1.4 1.7 1.4 1.5 1.4 1.5 ...\n",
      " $ Petal.Width : num  0.2 0.2 0.2 0.2 0.2 0.4 0.3 0.2 0.2 0.1 ...\n",
      " $ Species     : Factor w/ 2 levels \"setosa\",\"versicolor\": 1 1 1 1 1 1 1 1 1 1 ...\n"
     ]
    },
    {
     "name": "stderr",
     "output_type": "stream",
     "text": [
      "Warning message:\n",
      "“glm.fit: algorithm did not converge”Warning message:\n",
      "“glm.fit: fitted probabilities numerically 0 or 1 occurred”"
     ]
    },
    {
     "data": {
      "text/html": [
       "<dl class=dl-horizontal>\n",
       "\t<dt>6</dt>\n",
       "\t\t<dd>2.22044604925031e-16</dd>\n",
       "\t<dt>31</dt>\n",
       "\t\t<dd>2.37449249388997e-13</dd>\n",
       "\t<dt>30</dt>\n",
       "\t\t<dd>1.02590001713383e-12</dd>\n",
       "\t<dt>48</dt>\n",
       "\t\t<dd>1.14191257385243e-13</dd>\n",
       "\t<dt>40</dt>\n",
       "\t\t<dd>2.22044604925031e-16</dd>\n",
       "\t<dt>53</dt>\n",
       "\t\t<dd>1</dd>\n",
       "\t<dt>61</dt>\n",
       "\t\t<dd>1</dd>\n",
       "\t<dt>74</dt>\n",
       "\t\t<dd>1</dd>\n",
       "\t<dt>67</dt>\n",
       "\t\t<dd>1</dd>\n",
       "\t<dt>55</dt>\n",
       "\t\t<dd>1</dd>\n",
       "</dl>\n"
      ],
      "text/latex": [
       "\\begin{description*}\n",
       "\\item[6] 2.22044604925031e-16\n",
       "\\item[31] 2.37449249388997e-13\n",
       "\\item[30] 1.02590001713383e-12\n",
       "\\item[48] 1.14191257385243e-13\n",
       "\\item[40] 2.22044604925031e-16\n",
       "\\item[53] 1\n",
       "\\item[61] 1\n",
       "\\item[74] 1\n",
       "\\item[67] 1\n",
       "\\item[55] 1\n",
       "\\end{description*}\n"
      ],
      "text/markdown": [
       "6\n",
       ":   2.22044604925031e-1631\n",
       ":   2.37449249388997e-1330\n",
       ":   1.02590001713383e-1248\n",
       ":   1.14191257385243e-1340\n",
       ":   2.22044604925031e-1653\n",
       ":   161\n",
       ":   174\n",
       ":   167\n",
       ":   155\n",
       ":   1\n",
       "\n"
      ],
      "text/plain": [
       "           6           31           30           48           40           53 \n",
       "2.220446e-16 2.374492e-13 1.025900e-12 1.141913e-13 2.220446e-16 1.000000e+00 \n",
       "          61           74           67           55 \n",
       "1.000000e+00 1.000000e+00 1.000000e+00 1.000000e+00 "
      ]
     },
     "metadata": {},
     "output_type": "display_data"
    },
    {
     "data": {
      "text/html": [
       "<ol class=list-inline>\n",
       "\t<li>1</li>\n",
       "\t<li>1</li>\n",
       "\t<li>1</li>\n",
       "\t<li>1</li>\n",
       "\t<li>1</li>\n",
       "\t<li>1</li>\n",
       "\t<li>1</li>\n",
       "\t<li>1</li>\n",
       "\t<li>1</li>\n",
       "\t<li>1</li>\n",
       "\t<li>1</li>\n",
       "\t<li>1</li>\n",
       "\t<li>1</li>\n",
       "\t<li>1</li>\n",
       "\t<li>1</li>\n",
       "\t<li>1</li>\n",
       "\t<li>1</li>\n",
       "\t<li>1</li>\n",
       "\t<li>1</li>\n",
       "\t<li>1</li>\n",
       "\t<li>1</li>\n",
       "\t<li>1</li>\n",
       "\t<li>1</li>\n",
       "\t<li>1</li>\n",
       "\t<li>1</li>\n",
       "\t<li>1</li>\n",
       "\t<li>1</li>\n",
       "\t<li>1</li>\n",
       "\t<li>1</li>\n",
       "\t<li>1</li>\n",
       "\t<li>1</li>\n",
       "\t<li>1</li>\n",
       "\t<li>1</li>\n",
       "\t<li>1</li>\n",
       "\t<li>1</li>\n",
       "\t<li>2</li>\n",
       "\t<li>2</li>\n",
       "\t<li>2</li>\n",
       "\t<li>2</li>\n",
       "\t<li>2</li>\n",
       "\t<li>2</li>\n",
       "\t<li>2</li>\n",
       "\t<li>2</li>\n",
       "\t<li>2</li>\n",
       "\t<li>2</li>\n",
       "\t<li>2</li>\n",
       "\t<li>2</li>\n",
       "\t<li>2</li>\n",
       "\t<li>2</li>\n",
       "\t<li>2</li>\n",
       "\t<li>2</li>\n",
       "\t<li>2</li>\n",
       "\t<li>2</li>\n",
       "\t<li>2</li>\n",
       "\t<li>2</li>\n",
       "\t<li>2</li>\n",
       "\t<li>2</li>\n",
       "\t<li>2</li>\n",
       "\t<li>2</li>\n",
       "\t<li>2</li>\n",
       "\t<li>2</li>\n",
       "\t<li>2</li>\n",
       "\t<li>2</li>\n",
       "\t<li>2</li>\n",
       "\t<li>2</li>\n",
       "\t<li>2</li>\n",
       "\t<li>2</li>\n",
       "\t<li>2</li>\n",
       "\t<li>2</li>\n",
       "\t<li>2</li>\n",
       "</ol>\n"
      ],
      "text/latex": [
       "\\begin{enumerate*}\n",
       "\\item 1\n",
       "\\item 1\n",
       "\\item 1\n",
       "\\item 1\n",
       "\\item 1\n",
       "\\item 1\n",
       "\\item 1\n",
       "\\item 1\n",
       "\\item 1\n",
       "\\item 1\n",
       "\\item 1\n",
       "\\item 1\n",
       "\\item 1\n",
       "\\item 1\n",
       "\\item 1\n",
       "\\item 1\n",
       "\\item 1\n",
       "\\item 1\n",
       "\\item 1\n",
       "\\item 1\n",
       "\\item 1\n",
       "\\item 1\n",
       "\\item 1\n",
       "\\item 1\n",
       "\\item 1\n",
       "\\item 1\n",
       "\\item 1\n",
       "\\item 1\n",
       "\\item 1\n",
       "\\item 1\n",
       "\\item 1\n",
       "\\item 1\n",
       "\\item 1\n",
       "\\item 1\n",
       "\\item 1\n",
       "\\item 2\n",
       "\\item 2\n",
       "\\item 2\n",
       "\\item 2\n",
       "\\item 2\n",
       "\\item 2\n",
       "\\item 2\n",
       "\\item 2\n",
       "\\item 2\n",
       "\\item 2\n",
       "\\item 2\n",
       "\\item 2\n",
       "\\item 2\n",
       "\\item 2\n",
       "\\item 2\n",
       "\\item 2\n",
       "\\item 2\n",
       "\\item 2\n",
       "\\item 2\n",
       "\\item 2\n",
       "\\item 2\n",
       "\\item 2\n",
       "\\item 2\n",
       "\\item 2\n",
       "\\item 2\n",
       "\\item 2\n",
       "\\item 2\n",
       "\\item 2\n",
       "\\item 2\n",
       "\\item 2\n",
       "\\item 2\n",
       "\\item 2\n",
       "\\item 2\n",
       "\\item 2\n",
       "\\item 2\n",
       "\\end{enumerate*}\n"
      ],
      "text/markdown": [
       "1. 1\n",
       "2. 1\n",
       "3. 1\n",
       "4. 1\n",
       "5. 1\n",
       "6. 1\n",
       "7. 1\n",
       "8. 1\n",
       "9. 1\n",
       "10. 1\n",
       "11. 1\n",
       "12. 1\n",
       "13. 1\n",
       "14. 1\n",
       "15. 1\n",
       "16. 1\n",
       "17. 1\n",
       "18. 1\n",
       "19. 1\n",
       "20. 1\n",
       "21. 1\n",
       "22. 1\n",
       "23. 1\n",
       "24. 1\n",
       "25. 1\n",
       "26. 1\n",
       "27. 1\n",
       "28. 1\n",
       "29. 1\n",
       "30. 1\n",
       "31. 1\n",
       "32. 1\n",
       "33. 1\n",
       "34. 1\n",
       "35. 1\n",
       "36. 2\n",
       "37. 2\n",
       "38. 2\n",
       "39. 2\n",
       "40. 2\n",
       "41. 2\n",
       "42. 2\n",
       "43. 2\n",
       "44. 2\n",
       "45. 2\n",
       "46. 2\n",
       "47. 2\n",
       "48. 2\n",
       "49. 2\n",
       "50. 2\n",
       "51. 2\n",
       "52. 2\n",
       "53. 2\n",
       "54. 2\n",
       "55. 2\n",
       "56. 2\n",
       "57. 2\n",
       "58. 2\n",
       "59. 2\n",
       "60. 2\n",
       "61. 2\n",
       "62. 2\n",
       "63. 2\n",
       "64. 2\n",
       "65. 2\n",
       "66. 2\n",
       "67. 2\n",
       "68. 2\n",
       "69. 2\n",
       "70. 2\n",
       "\n",
       "\n"
      ],
      "text/plain": [
       " [1] 1 1 1 1 1 1 1 1 1 1 1 1 1 1 1 1 1 1 1 1 1 1 1 1 1 1 1 1 1 1 1 1 1 1 1 2 2 2\n",
       "[39] 2 2 2 2 2 2 2 2 2 2 2 2 2 2 2 2 2 2 2 2 2 2 2 2 2 2 2 2 2 2 2 2"
      ]
     },
     "metadata": {},
     "output_type": "display_data"
    },
    {
     "data": {
      "text/html": [
       "70"
      ],
      "text/latex": [
       "70"
      ],
      "text/markdown": [
       "70"
      ],
      "text/plain": [
       "[1] 70"
      ]
     },
     "metadata": {},
     "output_type": "display_data"
    },
    {
     "data": {
      "text/html": [
       "70"
      ],
      "text/latex": [
       "70"
      ],
      "text/markdown": [
       "70"
      ],
      "text/plain": [
       "[1] 70"
      ]
     },
     "metadata": {},
     "output_type": "display_data"
    },
    {
     "data": {
      "text/html": [
       "100"
      ],
      "text/latex": [
       "100"
      ],
      "text/markdown": [
       "100"
      ],
      "text/plain": [
       "[1] 100"
      ]
     },
     "metadata": {},
     "output_type": "display_data"
    }
   ],
   "source": [
    "library(nnet)\n",
    "data(iris)\n",
    "\n",
    "# 로지스틱 회귀분석 예측값은 0 또는 1의 두개 분류에 사용\n",
    "# 3개 이상 분류할 경우에는 다항 로지스틱 분석을 사용\n",
    "d <- subset(iris, Species == \"setosa\"| Species == \"versicolor\")\n",
    "\n",
    "# factor 변경\n",
    "d$Species <- factor(d$Species)\n",
    "str(d)\n",
    "\n",
    "# 데이터 설정\n",
    "set.seed(1234) # 샘플값 고정\n",
    "samp <- c(sample(1:50, 35), sample(51:100, 35))\n",
    "train_set <- d[samp,]\n",
    "test_set <- d[-samp,]\n",
    "\n",
    "\n",
    "# 모델생성\n",
    "model <- glm(Species ~ . , data = train_set, family = binomial) # bionmial = 이분류\n",
    "\n",
    "# 앞의 5개는 0 뒤의 5개는 1로 분류 되어 있는 것이다.\n",
    "# 샘플을 확인하기.\n",
    "fitted(model)[c(1:5, 51:55)]\n",
    "\n",
    "f <- fitted(model)\n",
    "# 품종을 숫자형으로 변환, Setosa = 1, Versicolor = 2\n",
    "as.numeric(train_set$Species)\n",
    "\n",
    "is_correct <- ifelse(f > 0.5, 1, 0) == as.numeric(train_set$Species)-1 # f 값이 0.5 보다 크면 1 아니면 0]\n",
    "sum(is_correct) # 맞춘 값 70\n",
    "NROW(is_correct) # is_correct 갯수\n",
    "\n",
    "# 확률\n",
    "sum(is_correct) / NROW(is_correct) * 100\n",
    "\n",
    "\n",
    "\n",
    "\n",
    "\n",
    "\n",
    "\n",
    "\n",
    "\n",
    "\n",
    "\n",
    "\n",
    "\n",
    "\n",
    "\n"
   ]
  },
  {
   "cell_type": "markdown",
   "metadata": {},
   "source": [
    "## versicolor 와  versicolor 로 진행하기"
   ]
  },
  {
   "cell_type": "code",
   "execution_count": 68,
   "metadata": {},
   "outputs": [
    {
     "name": "stdout",
     "output_type": "stream",
     "text": [
      "'data.frame':\t100 obs. of  5 variables:\n",
      " $ Sepal.Length: num  7 6.4 6.9 5.5 6.5 5.7 6.3 4.9 6.6 5.2 ...\n",
      " $ Sepal.Width : num  3.2 3.2 3.1 2.3 2.8 2.8 3.3 2.4 2.9 2.7 ...\n",
      " $ Petal.Length: num  4.7 4.5 4.9 4 4.6 4.5 4.7 3.3 4.6 3.9 ...\n",
      " $ Petal.Width : num  1.4 1.5 1.5 1.3 1.5 1.3 1.6 1 1.3 1.4 ...\n",
      " $ Species     : Factor w/ 2 levels \"versicolor\",\"virginica\": 1 1 1 1 1 1 1 1 1 1 ...\n"
     ]
    },
    {
     "data": {
      "text/html": [
       "68"
      ],
      "text/latex": [
       "68"
      ],
      "text/markdown": [
       "68"
      ],
      "text/plain": [
       "[1] 68"
      ]
     },
     "metadata": {},
     "output_type": "display_data"
    },
    {
     "data": {
      "text/html": [
       "70"
      ],
      "text/latex": [
       "70"
      ],
      "text/markdown": [
       "70"
      ],
      "text/plain": [
       "[1] 70"
      ]
     },
     "metadata": {},
     "output_type": "display_data"
    },
    {
     "data": {
      "text/html": [
       "97.14"
      ],
      "text/latex": [
       "97.14"
      ],
      "text/markdown": [
       "97.14"
      ],
      "text/plain": [
       "[1] 97.14"
      ]
     },
     "metadata": {},
     "output_type": "display_data"
    }
   ],
   "source": [
    "library(nnet)\n",
    "data(iris)\n",
    "\n",
    "# 로지스틱 회귀분석 예측값은 0 또는 1의 두개 분류에 사용\n",
    "# 3개 이상 분류할 경우에는 다항 로지스틱 분석을 사용\n",
    "d <- iris[(iris$Species == \"versicolor\"| iris$Species == \"virginica\"),]\n",
    "\n",
    "# factor 변경\n",
    "d$Species <- factor(d$Species)\n",
    "str(d)\n",
    "\n",
    "# 데이터 설정\n",
    "set.seed(1) # 샘플값 고정\n",
    "samp <- c(sample(1:50, 35), sample(50:100, 35))\n",
    "\n",
    "train_set <- d[c(samp),]\n",
    "test_set <- d[-samp,]\n",
    "\n",
    "\n",
    "# 모델생성\n",
    "model <- glm(Species ~ . , data = train_set, family = binomial) # bionmial = 이분류\n",
    "\n",
    "\n",
    "is_correct <- ifelse(f > 0.5, 1, 0) == as.numeric(train_set$Species)-1 # f 값이 0.5 보다 크면 1 아니면 0]\n",
    "sum(is_correct) # 맞춘 값 70\n",
    "NROW(is_correct) # is_correct 갯수\n",
    "\n",
    "# 확률\n",
    "round(sum(is_correct) / NROW(is_correct) * 100, 2)\n",
    "\n",
    "\n",
    "\n",
    "\n",
    "\n",
    "\n",
    "\n",
    "\n",
    "\n",
    "\n",
    "\n",
    "\n",
    "\n",
    "\n",
    "\n"
   ]
  },
  {
   "cell_type": "code",
   "execution_count": null,
   "metadata": {},
   "outputs": [],
   "source": []
  },
  {
   "cell_type": "markdown",
   "metadata": {},
   "source": [
    "# 다항 로지스틱 회귀분석\n",
    "우리가 알고자 하는 것이 3개 이상의 항을 사용할 경우에 다항을 적용시킨다."
   ]
  },
  {
   "cell_type": "code",
   "execution_count": 69,
   "metadata": {},
   "outputs": [],
   "source": [
    "set.seed(1234) # 샘플값 고정\n",
    "samp <- c(sample(1:50, 35), sample(51:100, 35),sample(101:150, 35))\n",
    "# 학습용 데이터\n",
    "iris.train <- iris[samp,]\n",
    "# 검증용 데이터\n",
    "iris.test <- iris[-samp,]\n",
    "\n",
    "\n",
    "\n",
    "\n",
    "\n",
    "\n",
    "\n"
   ]
  },
  {
   "cell_type": "code",
   "execution_count": 70,
   "metadata": {},
   "outputs": [
    {
     "name": "stdout",
     "output_type": "stream",
     "text": [
      "# weights:  18 (10 variable)\n",
      "initial  value 115.354290 \n",
      "iter  10 value 11.209758\n",
      "iter  20 value 1.050245\n",
      "iter  30 value 0.193559\n",
      "iter  40 value 0.139833\n",
      "iter  50 value 0.120643\n",
      "iter  60 value 0.100448\n",
      "iter  70 value 0.093315\n",
      "iter  80 value 0.063313\n",
      "iter  90 value 0.060537\n",
      "iter 100 value 0.055955\n",
      "final  value 0.055955 \n",
      "stopped after 100 iterations\n"
     ]
    }
   ],
   "source": [
    "# model -  모델은 적용할 때 마다 변경\n",
    "model <- multinom(Species ~ . , data = iris.train)\n",
    "\n",
    "\n",
    "\n"
   ]
  },
  {
   "cell_type": "code",
   "execution_count": 71,
   "metadata": {},
   "outputs": [
    {
     "data": {
      "text/html": [
       "<table>\n",
       "<thead><tr><th></th><th scope=col>setosa</th><th scope=col>versicolor</th><th scope=col>virginica</th></tr></thead>\n",
       "<tbody>\n",
       "\t<tr><th scope=row>6</th><td>1.0000000    </td><td>1.130150e-09 </td><td>2.713565e-120</td></tr>\n",
       "\t<tr><th scope=row>31</th><td>0.9999820    </td><td>1.803720e-05 </td><td>1.062286e-105</td></tr>\n",
       "\t<tr><th scope=row>30</th><td>0.9996575    </td><td>3.425392e-04 </td><td>2.923771e-105</td></tr>\n",
       "\t<tr><th scope=row>48</th><td>0.9999966    </td><td>3.444398e-06 </td><td>1.549959e-109</td></tr>\n",
       "\t<tr><th scope=row>40</th><td>1.0000000    </td><td>3.404362e-09 </td><td>5.676660e-119</td></tr>\n",
       "\t<tr><th scope=row>29</th><td>1.0000000    </td><td>1.044754e-11 </td><td>5.524002e-124</td></tr>\n",
       "</tbody>\n",
       "</table>\n"
      ],
      "text/latex": [
       "\\begin{tabular}{r|lll}\n",
       "  & setosa & versicolor & virginica\\\\\n",
       "\\hline\n",
       "\t6 & 1.0000000     & 1.130150e-09  & 2.713565e-120\\\\\n",
       "\t31 & 0.9999820     & 1.803720e-05  & 1.062286e-105\\\\\n",
       "\t30 & 0.9996575     & 3.425392e-04  & 2.923771e-105\\\\\n",
       "\t48 & 0.9999966     & 3.444398e-06  & 1.549959e-109\\\\\n",
       "\t40 & 1.0000000     & 3.404362e-09  & 5.676660e-119\\\\\n",
       "\t29 & 1.0000000     & 1.044754e-11  & 5.524002e-124\\\\\n",
       "\\end{tabular}\n"
      ],
      "text/markdown": [
       "\n",
       "| <!--/--> | setosa | versicolor | virginica | \n",
       "|---|---|---|---|---|---|\n",
       "| 6 | 1.0000000     | 1.130150e-09  | 2.713565e-120 | \n",
       "| 31 | 0.9999820     | 1.803720e-05  | 1.062286e-105 | \n",
       "| 30 | 0.9996575     | 3.425392e-04  | 2.923771e-105 | \n",
       "| 48 | 0.9999966     | 3.444398e-06  | 1.549959e-109 | \n",
       "| 40 | 1.0000000     | 3.404362e-09  | 5.676660e-119 | \n",
       "| 29 | 1.0000000     | 1.044754e-11  | 5.524002e-124 | \n",
       "\n",
       "\n"
      ],
      "text/plain": [
       "   setosa    versicolor   virginica    \n",
       "6  1.0000000 1.130150e-09 2.713565e-120\n",
       "31 0.9999820 1.803720e-05 1.062286e-105\n",
       "30 0.9996575 3.425392e-04 2.923771e-105\n",
       "48 0.9999966 3.444398e-06 1.549959e-109\n",
       "40 1.0000000 3.404362e-09 5.676660e-119\n",
       "29 1.0000000 1.044754e-11 5.524002e-124"
      ]
     },
     "metadata": {},
     "output_type": "display_data"
    }
   ],
   "source": [
    "head(fitted(model))\n",
    "\n",
    "\n",
    "\n"
   ]
  },
  {
   "cell_type": "code",
   "execution_count": 72,
   "metadata": {},
   "outputs": [
    {
     "data": {
      "text/plain": [
       "            pre\n",
       "             setosa versicolor virginica\n",
       "  setosa         14          1         0\n",
       "  versicolor      0         14         1\n",
       "  virginica       0          2        13"
      ]
     },
     "metadata": {},
     "output_type": "display_data"
    }
   ],
   "source": [
    "pre <- predict(model, iris.test)\n",
    "table(iris.test$Species, pre)\n",
    "\n",
    "\n",
    "\n"
   ]
  },
  {
   "cell_type": "code",
   "execution_count": 74,
   "metadata": {},
   "outputs": [
    {
     "data": {
      "text/html": [
       "91.1111111111111"
      ],
      "text/latex": [
       "91.1111111111111"
      ],
      "text/markdown": [
       "91.1111111111111"
      ],
      "text/plain": [
       "[1] 91.11111"
      ]
     },
     "metadata": {},
     "output_type": "display_data"
    }
   ],
   "source": [
    "mean((iris.test$Species == pre)) * 100"
   ]
  },
  {
   "cell_type": "markdown",
   "metadata": {},
   "source": [
    "## 한칸에 정리"
   ]
  },
  {
   "cell_type": "code",
   "execution_count": 77,
   "metadata": {
    "scrolled": false
   },
   "outputs": [
    {
     "name": "stdout",
     "output_type": "stream",
     "text": [
      "# weights:  18 (10 variable)\n",
      "initial  value 115.354290 \n",
      "iter  10 value 11.209758\n",
      "iter  20 value 1.050245\n",
      "iter  30 value 0.193559\n",
      "iter  40 value 0.139833\n",
      "iter  50 value 0.120643\n",
      "iter  60 value 0.100448\n",
      "iter  70 value 0.093315\n",
      "iter  80 value 0.063313\n",
      "iter  90 value 0.060537\n",
      "iter 100 value 0.055955\n",
      "final  value 0.055955 \n",
      "stopped after 100 iterations\n"
     ]
    },
    {
     "data": {
      "text/plain": [
       "            pre\n",
       "             setosa versicolor virginica\n",
       "  setosa         14          1         0\n",
       "  versicolor      0         14         1\n",
       "  virginica       0          2        13"
      ]
     },
     "metadata": {},
     "output_type": "display_data"
    },
    {
     "data": {
      "text/html": [
       "91.11"
      ],
      "text/latex": [
       "91.11"
      ],
      "text/markdown": [
       "91.11"
      ],
      "text/plain": [
       "[1] 91.11"
      ]
     },
     "metadata": {},
     "output_type": "display_data"
    }
   ],
   "source": [
    "set.seed(1234) # 샘플값 고정\n",
    "samp <- c(sample(1:50, 35), sample(51:100, 35),sample(101:150, 35))\n",
    "# 학습용 데이터\n",
    "iris.train <- iris[samp,]\n",
    "# 검증용 데이터\n",
    "iris.test <- iris[-samp,]\n",
    "\n",
    "# model -  모델은 적용할 때 마다 변경\n",
    "model <- multinom(Species ~ . , data = iris.train)\n",
    "\n",
    "pre <- predict(model, iris.test)\n",
    "table(iris.test$Species, pre)\n",
    "\n",
    "round(mean((iris.test$Species == pre)) * 100, 2)\n",
    "\n",
    "\n",
    "\n",
    "\n",
    "\n",
    "\n",
    "\n",
    "\n",
    "\n",
    "\n",
    "\n"
   ]
  },
  {
   "cell_type": "markdown",
   "metadata": {},
   "source": [
    "### 정답을  train 으로 주었을 때"
   ]
  },
  {
   "cell_type": "code",
   "execution_count": 79,
   "metadata": {},
   "outputs": [
    {
     "name": "stdout",
     "output_type": "stream",
     "text": [
      "# weights:  18 (10 variable)\n",
      "initial  value 115.354290 \n",
      "iter  10 value 11.209758\n",
      "iter  20 value 1.050245\n",
      "iter  30 value 0.193559\n",
      "iter  40 value 0.139833\n",
      "iter  50 value 0.120643\n",
      "iter  60 value 0.100448\n",
      "iter  70 value 0.093315\n",
      "iter  80 value 0.063313\n",
      "iter  90 value 0.060537\n",
      "iter 100 value 0.055955\n",
      "final  value 0.055955 \n",
      "stopped after 100 iterations\n"
     ]
    },
    {
     "data": {
      "text/plain": [
       "            pre\n",
       "             setosa versicolor virginica\n",
       "  setosa         35          0         0\n",
       "  versicolor      0         35         0\n",
       "  virginica       0          0        35"
      ]
     },
     "metadata": {},
     "output_type": "display_data"
    },
    {
     "data": {
      "text/html": [
       "100"
      ],
      "text/latex": [
       "100"
      ],
      "text/markdown": [
       "100"
      ],
      "text/plain": [
       "[1] 100"
      ]
     },
     "metadata": {},
     "output_type": "display_data"
    }
   ],
   "source": [
    "# 정답을  train 으로 주었을 때\n",
    "set.seed(1234) # 샘플값 고정\n",
    "samp <- c(sample(1:50, 35), sample(51:100, 35),sample(101:150, 35))\n",
    "# 학습용 데이터\n",
    "iris.train <- iris[samp,]\n",
    "# 검증용 데이터\n",
    "iris.test <- iris[-samp,]\n",
    "\n",
    "# model -  모델은 적용할 때 마다 변경\n",
    "model <- multinom(Species ~ . , data = iris.train)\n",
    "\n",
    "pre <- predict(model, iris.train)\n",
    "table(iris.train$Species, pre)\n",
    "\n",
    "round(mean((iris.train$Species == pre)) * 100, 2)\n",
    "\n",
    "\n",
    "\n",
    "\n",
    "\n",
    "\n",
    "\n",
    "\n",
    "\n",
    "\n",
    "\n"
   ]
  }
 ],
 "metadata": {
  "kernelspec": {
   "display_name": "R",
   "language": "R",
   "name": "ir"
  },
  "language_info": {
   "codemirror_mode": "r",
   "file_extension": ".r",
   "mimetype": "text/x-r-source",
   "name": "R",
   "pygments_lexer": "r",
   "version": "3.5.1"
  }
 },
 "nbformat": 4,
 "nbformat_minor": 2
}
