{
 "cells": [
  {
   "cell_type": "markdown",
   "metadata": {},
   "source": [
    "1) 불러온 데이터 s에 넣기    \n",
    "2) s 확인하기    \n",
    "3) 기본통계 확인하기   \n",
    "4) 분산구하기   \n",
    "5) 분산에 제곱근 씌워확인   \n",
    "6) 표준편차로 확인하여5)의 결과와 비교하기   \n",
    "7) 히스토그램으로 확인하기   \n",
    "8) 각 항목별 히스토그램을 한 화면에 그리기    \n",
    "9) 각 항목별 산점도 그려보기    \n",
    "  "
   ]
  },
  {
   "cell_type": "code",
   "execution_count": 1,
   "metadata": {},
   "outputs": [
    {
     "data": {
      "text/html": [
       "<table>\n",
       "<thead><tr><th scope=col>X2015</th><th scope=col>X2015.1</th><th scope=col>X5</th></tr></thead>\n",
       "<tbody>\n",
       "\t<tr><td>2014</td><td>2015</td><td>4.5 </td></tr>\n",
       "\t<tr><td>2015</td><td>2015</td><td>5.0 </td></tr>\n",
       "\t<tr><td>2015</td><td>2016</td><td>5.0 </td></tr>\n",
       "\t<tr><td>2015</td><td>2015</td><td>5.0 </td></tr>\n",
       "\t<tr><td>2016</td><td>2016</td><td>5.5 </td></tr>\n",
       "\t<tr><td>2016</td><td>2016</td><td>6.0 </td></tr>\n",
       "</tbody>\n",
       "</table>\n"
      ],
      "text/latex": [
       "\\begin{tabular}{r|lll}\n",
       " X2015 & X2015.1 & X5\\\\\n",
       "\\hline\n",
       "\t 2014 & 2015 & 4.5 \\\\\n",
       "\t 2015 & 2015 & 5.0 \\\\\n",
       "\t 2015 & 2016 & 5.0 \\\\\n",
       "\t 2015 & 2015 & 5.0 \\\\\n",
       "\t 2016 & 2016 & 5.5 \\\\\n",
       "\t 2016 & 2016 & 6.0 \\\\\n",
       "\\end{tabular}\n"
      ],
      "text/markdown": [
       "\n",
       "X2015 | X2015.1 | X5 | \n",
       "|---|---|---|---|---|---|\n",
       "| 2014 | 2015 | 4.5  | \n",
       "| 2015 | 2015 | 5.0  | \n",
       "| 2015 | 2016 | 5.0  | \n",
       "| 2015 | 2015 | 5.0  | \n",
       "| 2016 | 2016 | 5.5  | \n",
       "| 2016 | 2016 | 6.0  | \n",
       "\n",
       "\n"
      ],
      "text/plain": [
       "  X2015 X2015.1 X5 \n",
       "1 2014  2015    4.5\n",
       "2 2015  2015    5.0\n",
       "3 2015  2016    5.0\n",
       "4 2015  2015    5.0\n",
       "5 2016  2016    5.5\n",
       "6 2016  2016    6.0"
      ]
     },
     "metadata": {},
     "output_type": "display_data"
    }
   ],
   "source": [
    "# 데이터 불러오기\n",
    "s <- read.csv('../Data/phone.csv')\n",
    "head(s)\n",
    "\n",
    "\n",
    "\n"
   ]
  },
  {
   "cell_type": "code",
   "execution_count": 3,
   "metadata": {},
   "outputs": [
    {
     "name": "stdout",
     "output_type": "stream",
     "text": [
      "'data.frame':\t23 obs. of  3 variables:\n",
      " $ X2015  : int  2014 2015 2015 2015 2016 2016 2014 2014 2015 2014 ...\n",
      " $ X2015.1: int  2015 2015 2016 2015 2016 2016 2014 2014 2015 2014 ...\n",
      " $ X5     : num  4.5 5 5 5 5.5 6 5 4.5 5 4.5 ...\n"
     ]
    },
    {
     "data": {
      "text/plain": [
       "     X2015         X2015.1           X5       \n",
       " Min.   :2014   Min.   :2014   Min.   :4.500  \n",
       " 1st Qu.:2015   1st Qu.:2015   1st Qu.:5.000  \n",
       " Median :2015   Median :2015   Median :5.500  \n",
       " Mean   :2015   Mean   :2015   Mean   :5.261  \n",
       " 3rd Qu.:2016   3rd Qu.:2016   3rd Qu.:5.500  \n",
       " Max.   :2016   Max.   :2016   Max.   :6.000  "
      ]
     },
     "metadata": {},
     "output_type": "display_data"
    },
    {
     "data": {
      "text/plain": [
       ", , X5 = 4.5\n",
       "\n",
       "      X2015.1\n",
       "X2015  2014 2015 2016\n",
       "  2014    2    1    0\n",
       "  2015    0    1    0\n",
       "  2016    0    0    0\n",
       "\n",
       ", , X5 = 5\n",
       "\n",
       "      X2015.1\n",
       "X2015  2014 2015 2016\n",
       "  2014    1    0    0\n",
       "  2015    0    5    1\n",
       "  2016    0    0    0\n",
       "\n",
       ", , X5 = 5.5\n",
       "\n",
       "      X2015.1\n",
       "X2015  2014 2015 2016\n",
       "  2014    0    0    0\n",
       "  2015    0    4    0\n",
       "  2016    0    0    4\n",
       "\n",
       ", , X5 = 6\n",
       "\n",
       "      X2015.1\n",
       "X2015  2014 2015 2016\n",
       "  2014    0    0    0\n",
       "  2015    0    0    1\n",
       "  2016    0    0    3\n"
      ]
     },
     "metadata": {},
     "output_type": "display_data"
    }
   ],
   "source": [
    "# 기본 통계 확인\n",
    "str(s)\n",
    "summary(s)\n",
    "table(s)\n",
    "\n",
    "\n",
    "\n"
   ]
  },
  {
   "cell_type": "code",
   "execution_count": 29,
   "metadata": {
    "collapsed": true
   },
   "outputs": [
    {
     "data": {
      "text/html": [
       "<table>\n",
       "<thead><tr><th></th><th scope=col>X2015</th><th scope=col>X2015.1</th><th scope=col>X5</th></tr></thead>\n",
       "<tbody>\n",
       "\t<tr><th scope=row>X2015</th><td>0.4822134</td><td>0.4189723</td><td>0.2598814</td></tr>\n",
       "\t<tr><th scope=row>X2015.1</th><td>0.4189723</td><td>0.4743083</td><td>0.2470356</td></tr>\n",
       "\t<tr><th scope=row>X5</th><td>0.2598814</td><td>0.2470356</td><td>0.2470356</td></tr>\n",
       "</tbody>\n",
       "</table>\n"
      ],
      "text/latex": [
       "\\begin{tabular}{r|lll}\n",
       "  & X2015 & X2015.1 & X5\\\\\n",
       "\\hline\n",
       "\tX2015 & 0.4822134 & 0.4189723 & 0.2598814\\\\\n",
       "\tX2015.1 & 0.4189723 & 0.4743083 & 0.2470356\\\\\n",
       "\tX5 & 0.2598814 & 0.2470356 & 0.2470356\\\\\n",
       "\\end{tabular}\n"
      ],
      "text/markdown": [
       "\n",
       "| <!--/--> | X2015 | X2015.1 | X5 | \n",
       "|---|---|---|\n",
       "| X2015 | 0.4822134 | 0.4189723 | 0.2598814 | \n",
       "| X2015.1 | 0.4189723 | 0.4743083 | 0.2470356 | \n",
       "| X5 | 0.2598814 | 0.2470356 | 0.2470356 | \n",
       "\n",
       "\n"
      ],
      "text/plain": [
       "        X2015     X2015.1   X5       \n",
       "X2015   0.4822134 0.4189723 0.2598814\n",
       "X2015.1 0.4189723 0.4743083 0.2470356\n",
       "X5      0.2598814 0.2470356 0.2470356"
      ]
     },
     "metadata": {},
     "output_type": "display_data"
    },
    {
     "data": {
      "text/html": [
       "<table>\n",
       "<thead><tr><th></th><th scope=col>X2015</th><th scope=col>X2015.1</th><th scope=col>X5</th></tr></thead>\n",
       "<tbody>\n",
       "\t<tr><th scope=row>X2015</th><td>0.6944159</td><td>0.6472807</td><td>0.5097857</td></tr>\n",
       "\t<tr><th scope=row>X2015.1</th><td>0.6472807</td><td>0.6887004</td><td>0.4970267</td></tr>\n",
       "\t<tr><th scope=row>X5</th><td>0.5097857</td><td>0.4970267</td><td>0.4970267</td></tr>\n",
       "</tbody>\n",
       "</table>\n"
      ],
      "text/latex": [
       "\\begin{tabular}{r|lll}\n",
       "  & X2015 & X2015.1 & X5\\\\\n",
       "\\hline\n",
       "\tX2015 & 0.6944159 & 0.6472807 & 0.5097857\\\\\n",
       "\tX2015.1 & 0.6472807 & 0.6887004 & 0.4970267\\\\\n",
       "\tX5 & 0.5097857 & 0.4970267 & 0.4970267\\\\\n",
       "\\end{tabular}\n"
      ],
      "text/markdown": [
       "\n",
       "| <!--/--> | X2015 | X2015.1 | X5 | \n",
       "|---|---|---|\n",
       "| X2015 | 0.6944159 | 0.6472807 | 0.5097857 | \n",
       "| X2015.1 | 0.6472807 | 0.6887004 | 0.4970267 | \n",
       "| X5 | 0.5097857 | 0.4970267 | 0.4970267 | \n",
       "\n",
       "\n"
      ],
      "text/plain": [
       "        X2015     X2015.1   X5       \n",
       "X2015   0.6944159 0.6472807 0.5097857\n",
       "X2015.1 0.6472807 0.6887004 0.4970267\n",
       "X5      0.5097857 0.4970267 0.4970267"
      ]
     },
     "metadata": {},
     "output_type": "display_data"
    },
    {
     "data": {
      "text/html": [
       "0.105770594872705"
      ],
      "text/latex": [
       "0.105770594872705"
      ],
      "text/markdown": [
       "0.105770594872705"
      ],
      "text/plain": [
       "[1] 0.1057706"
      ]
     },
     "metadata": {},
     "output_type": "display_data"
    }
   ],
   "source": [
    "# 분산 구하기\n",
    "var(s)\n",
    "\n",
    "# 분산에 제곱근 씌워 확인\n",
    "sqrt(var(s))\n",
    "\n",
    "# 표준편차로 확인\n",
    "sd(var(s))"
   ]
  },
  {
   "cell_type": "code",
   "execution_count": 16,
   "metadata": {},
   "outputs": [
    {
     "data": {
      "image/png": "[encoded data removed]",
      "text/plain": [
       "Plot with title “Histogram of s$X5”"
      ]
     },
     "metadata": {},
     "output_type": "display_data"
    }
   ],
   "source": [
    "par(mfrow = c(2,2))  \n",
    "\n",
    "hist(s$X2015)\n",
    "hist(s$X2015.1)\n",
    "hist(s$X5)\n",
    "\n",
    "\n",
    "\n"
   ]
  },
  {
   "cell_type": "code",
   "execution_count": 17,
   "metadata": {},
   "outputs": [
    {
     "data": {
      "image/png": "[encoded data removed]",
      "text/plain": [
       "plot without title"
      ]
     },
     "metadata": {},
     "output_type": "display_data"
    }
   ],
   "source": [
    "par(mfrow = c(2,2))  \n",
    "\n",
    "plot(s$X2015)\n",
    "plot(s$X2015.1)\n",
    "plot(s$X5)\n",
    "\n",
    "\n",
    "\n"
   ]
  },
  {
   "cell_type": "code",
   "execution_count": null,
   "metadata": {},
   "outputs": [],
   "source": []
  }
 ],
 "metadata": {
  "kernelspec": {
   "display_name": "R",
   "language": "R",
   "name": "ir"
  },
  "language_info": {
   "codemirror_mode": "r",
   "file_extension": ".r",
   "mimetype": "text/x-r-source",
   "name": "R",
   "pygments_lexer": "r",
   "version": "3.5.1"
  }
 },
 "nbformat": 4,
 "nbformat_minor": 2
}
