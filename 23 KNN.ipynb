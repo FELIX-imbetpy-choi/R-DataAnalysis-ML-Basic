{
 "cells": [
  {
   "cell_type": "code",
   "execution_count": 1,
   "metadata": {},
   "outputs": [],
   "source": [
    "library(plyr)\n",
    "library(ggplot2)\n",
    "library(class)\n",
    "\n",
    "\n",
    "\n"
   ]
  },
  {
   "cell_type": "code",
   "execution_count": 4,
   "metadata": {},
   "outputs": [
    {
     "data": {
      "text/html": [
       "<table>\n",
       "<thead><tr><th scope=col>Sepal.Length</th><th scope=col>Sepal.Width</th><th scope=col>Species</th></tr></thead>\n",
       "<tbody>\n",
       "\t<tr><td>5.1   </td><td>3.5   </td><td>setosa</td></tr>\n",
       "\t<tr><td>4.9   </td><td>3.0   </td><td>setosa</td></tr>\n",
       "\t<tr><td>4.7   </td><td>3.2   </td><td>setosa</td></tr>\n",
       "\t<tr><td>4.6   </td><td>3.1   </td><td>setosa</td></tr>\n",
       "\t<tr><td>5.0   </td><td>3.6   </td><td>setosa</td></tr>\n",
       "\t<tr><td>5.4   </td><td>3.9   </td><td>setosa</td></tr>\n",
       "</tbody>\n",
       "</table>\n"
      ],
      "text/latex": [
       "\\begin{tabular}{r|lll}\n",
       " Sepal.Length & Sepal.Width & Species\\\\\n",
       "\\hline\n",
       "\t 5.1    & 3.5    & setosa\\\\\n",
       "\t 4.9    & 3.0    & setosa\\\\\n",
       "\t 4.7    & 3.2    & setosa\\\\\n",
       "\t 4.6    & 3.1    & setosa\\\\\n",
       "\t 5.0    & 3.6    & setosa\\\\\n",
       "\t 5.4    & 3.9    & setosa\\\\\n",
       "\\end{tabular}\n"
      ],
      "text/markdown": [
       "\n",
       "Sepal.Length | Sepal.Width | Species | \n",
       "|---|---|---|---|---|---|\n",
       "| 5.1    | 3.5    | setosa | \n",
       "| 4.9    | 3.0    | setosa | \n",
       "| 4.7    | 3.2    | setosa | \n",
       "| 4.6    | 3.1    | setosa | \n",
       "| 5.0    | 3.6    | setosa | \n",
       "| 5.4    | 3.9    | setosa | \n",
       "\n",
       "\n"
      ],
      "text/plain": [
       "  Sepal.Length Sepal.Width Species\n",
       "1 5.1          3.5         setosa \n",
       "2 4.9          3.0         setosa \n",
       "3 4.7          3.2         setosa \n",
       "4 4.6          3.1         setosa \n",
       "5 5.0          3.6         setosa \n",
       "6 5.4          3.9         setosa "
      ]
     },
     "metadata": {},
     "output_type": "display_data"
    }
   ],
   "source": [
    "# iris 데이터의 갯수를 2개만 \n",
    "iris_data <- iris[,c(\"Sepal.Length\",\"Sepal.Width\",\"Species\")]\n",
    "head(iris_data)\n",
    "\n",
    "\n",
    "\n"
   ]
  },
  {
   "cell_type": "code",
   "execution_count": 5,
   "metadata": {},
   "outputs": [],
   "source": [
    "set.seed(1234) # 샘플값 고정\n",
    "samp <- c(sample(1:50, 35), sample(51:100, 35),sample(101:150, 35))\n",
    "\n",
    "\n",
    "\n"
   ]
  },
  {
   "cell_type": "code",
   "execution_count": 8,
   "metadata": {},
   "outputs": [],
   "source": [
    "# 학습용 검증용 데이터 분류\n",
    "#문제\n",
    "# 학습용 데이터\n",
    "data.train <- iris_data[samp, -3]\n",
    "# 검증용 데이터\n",
    "data.test <- iris_data[-samp, -3]\n",
    "\n",
    "# 답\n",
    "# 학습용 데이터\n",
    "data.train.y <- iris_data[samp, 3]\n",
    "# 검증용 데이터\n",
    "data.test.y <- iris_data[-samp, 3]\n",
    "\n",
    "\n",
    "\n",
    "\n",
    "\n",
    "\n",
    "\n"
   ]
  },
  {
   "cell_type": "code",
   "execution_count": 11,
   "metadata": {},
   "outputs": [
    {
     "data": {
      "text/html": [
       "<ol class=list-inline>\n",
       "\t<li>105</li>\n",
       "\t<li>2</li>\n",
       "</ol>\n"
      ],
      "text/latex": [
       "\\begin{enumerate*}\n",
       "\\item 105\n",
       "\\item 2\n",
       "\\end{enumerate*}\n"
      ],
      "text/markdown": [
       "1. 105\n",
       "2. 2\n",
       "\n",
       "\n"
      ],
      "text/plain": [
       "[1] 105   2"
      ]
     },
     "metadata": {},
     "output_type": "display_data"
    },
    {
     "data": {
      "text/html": [
       "<ol class=list-inline>\n",
       "\t<li>45</li>\n",
       "\t<li>2</li>\n",
       "</ol>\n"
      ],
      "text/latex": [
       "\\begin{enumerate*}\n",
       "\\item 45\n",
       "\\item 2\n",
       "\\end{enumerate*}\n"
      ],
      "text/markdown": [
       "1. 45\n",
       "2. 2\n",
       "\n",
       "\n"
      ],
      "text/plain": [
       "[1] 45  2"
      ]
     },
     "metadata": {},
     "output_type": "display_data"
    }
   ],
   "source": [
    "# 학습용 검증용 확인\n",
    "dim(data.train)\n",
    "dim(data.test)\n",
    "\n",
    "\n",
    "\n"
   ]
  },
  {
   "cell_type": "code",
   "execution_count": 16,
   "metadata": {},
   "outputs": [
    {
     "data": {
      "image/png": "[encoded data removed]",
      "text/plain": [
       "Plot with title “종별 군집화”"
      ]
     },
     "metadata": {},
     "output_type": "display_data"
    }
   ],
   "source": [
    "# 학습용 데이터셋의 산점도 그리기\n",
    "plot(Sepal.Length ~ Sepal.Width, data = data.train,\n",
    "     col = c(\"red\",\"blue\",\"green\"),\n",
    "     main = \"종별 군집화\")\n",
    "\n",
    "# 검증용 데이터 표시하기\n",
    "points(Sepal.Length ~ Sepal.Width, data = data.test,\n",
    "      pch = 12, cex = 1.2, col=\"brown\")\n",
    "\n",
    "\n",
    "\n",
    "\n",
    "\n",
    "\n",
    "\n"
   ]
  },
  {
   "cell_type": "markdown",
   "metadata": {},
   "source": [
    "## K의 값을 찾는 것이 중요하다!!!!"
   ]
  },
  {
   "cell_type": "code",
   "execution_count": 18,
   "metadata": {},
   "outputs": [],
   "source": [
    "# k 의 값을 찾자\n",
    "# 분류 정확도를 저장할 비어 있는 벡터 생성 - k 가 1부터 105 까지 정확도를 다 저장 할 것\n",
    "accuracy_k <- NULL\n",
    "\n",
    "# k값을 1 에서 105 까지 증가시켜 가면서 최적의 K 값을 찾는다.\n",
    "for(i in c(1:nrow(data.train))){\n",
    "    set.seed(1234)\n",
    "    knn_k = knn(train = data.train, test = data.test, cl = data.train.y, k = i) # 훈련용 테스트용 정답 k 값 순으로 지정 i 값을 k에 적용\n",
    "    accuracy_k = c(accuracy_k, mean(data.test.y == knn_k))\n",
    "}\n",
    "\n",
    "\n",
    "\n",
    "\n",
    "\n",
    "\n",
    "\n",
    "\n",
    "\n",
    "\n",
    "\n"
   ]
  },
  {
   "cell_type": "code",
   "execution_count": 21,
   "metadata": {},
   "outputs": [
    {
     "data": {
      "text/html": [
       "<table>\n",
       "<thead><tr><th scope=col>k</th><th scope=col>accuracy</th></tr></thead>\n",
       "<tbody>\n",
       "\t<tr><td>1        </td><td>0.7333333</td></tr>\n",
       "\t<tr><td>2        </td><td>0.7111111</td></tr>\n",
       "\t<tr><td>3        </td><td>0.7555556</td></tr>\n",
       "\t<tr><td>4        </td><td>0.8000000</td></tr>\n",
       "\t<tr><td>5        </td><td>0.8000000</td></tr>\n",
       "\t<tr><td>6        </td><td>0.8000000</td></tr>\n",
       "</tbody>\n",
       "</table>\n"
      ],
      "text/latex": [
       "\\begin{tabular}{r|ll}\n",
       " k & accuracy\\\\\n",
       "\\hline\n",
       "\t 1         & 0.7333333\\\\\n",
       "\t 2         & 0.7111111\\\\\n",
       "\t 3         & 0.7555556\\\\\n",
       "\t 4         & 0.8000000\\\\\n",
       "\t 5         & 0.8000000\\\\\n",
       "\t 6         & 0.8000000\\\\\n",
       "\\end{tabular}\n"
      ],
      "text/markdown": [
       "\n",
       "k | accuracy | \n",
       "|---|---|---|---|---|---|\n",
       "| 1         | 0.7333333 | \n",
       "| 2         | 0.7111111 | \n",
       "| 3         | 0.7555556 | \n",
       "| 4         | 0.8000000 | \n",
       "| 5         | 0.8000000 | \n",
       "| 6         | 0.8000000 | \n",
       "\n",
       "\n"
      ],
      "text/plain": [
       "  k accuracy \n",
       "1 1 0.7333333\n",
       "2 2 0.7111111\n",
       "3 3 0.7555556\n",
       "4 4 0.8000000\n",
       "5 5 0.8000000\n",
       "6 6 0.8000000"
      ]
     },
     "metadata": {},
     "output_type": "display_data"
    }
   ],
   "source": [
    "df_accuracy <- data.frame(k = c(1:nrow(data.train)), accuracy = accuracy_k)\n",
    "head(df_accuracy)\n",
    "\n",
    "\n",
    "\n"
   ]
  },
  {
   "cell_type": "code",
   "execution_count": 28,
   "metadata": {},
   "outputs": [],
   "source": [
    "library(doBy)\n",
    "\n",
    "\n",
    "\n"
   ]
  },
  {
   "cell_type": "code",
   "execution_count": 39,
   "metadata": {},
   "outputs": [
    {
     "data": {
      "text/html": [
       "<table>\n",
       "<thead><tr><th></th><th scope=col>k</th><th scope=col>accuracy</th></tr></thead>\n",
       "<tbody>\n",
       "\t<tr><th scope=row>4</th><td> 4       </td><td>0.8000000</td></tr>\n",
       "\t<tr><th scope=row>5</th><td> 5       </td><td>0.8000000</td></tr>\n",
       "\t<tr><th scope=row>6</th><td> 6       </td><td>0.8000000</td></tr>\n",
       "\t<tr><th scope=row>7</th><td> 7       </td><td>0.8000000</td></tr>\n",
       "\t<tr><th scope=row>8</th><td> 8       </td><td>0.8000000</td></tr>\n",
       "\t<tr><th scope=row>12</th><td>12       </td><td>0.8000000</td></tr>\n",
       "\t<tr><th scope=row>9</th><td> 9       </td><td>0.7777778</td></tr>\n",
       "\t<tr><th scope=row>13</th><td>13       </td><td>0.7777778</td></tr>\n",
       "</tbody>\n",
       "</table>\n"
      ],
      "text/latex": [
       "\\begin{tabular}{r|ll}\n",
       "  & k & accuracy\\\\\n",
       "\\hline\n",
       "\t4 &  4        & 0.8000000\\\\\n",
       "\t5 &  5        & 0.8000000\\\\\n",
       "\t6 &  6        & 0.8000000\\\\\n",
       "\t7 &  7        & 0.8000000\\\\\n",
       "\t8 &  8        & 0.8000000\\\\\n",
       "\t12 & 12        & 0.8000000\\\\\n",
       "\t9 &  9        & 0.7777778\\\\\n",
       "\t13 & 13        & 0.7777778\\\\\n",
       "\\end{tabular}\n"
      ],
      "text/markdown": [
       "\n",
       "| <!--/--> | k | accuracy | \n",
       "|---|---|---|---|---|---|---|---|\n",
       "| 4 |  4        | 0.8000000 | \n",
       "| 5 |  5        | 0.8000000 | \n",
       "| 6 |  6        | 0.8000000 | \n",
       "| 7 |  7        | 0.8000000 | \n",
       "| 8 |  8        | 0.8000000 | \n",
       "| 12 | 12        | 0.8000000 | \n",
       "| 9 |  9        | 0.7777778 | \n",
       "| 13 | 13        | 0.7777778 | \n",
       "\n",
       "\n"
      ],
      "text/plain": [
       "   k  accuracy \n",
       "4   4 0.8000000\n",
       "5   5 0.8000000\n",
       "6   6 0.8000000\n",
       "7   7 0.8000000\n",
       "8   8 0.8000000\n",
       "12 12 0.8000000\n",
       "9   9 0.7777778\n",
       "13 13 0.7777778"
      ]
     },
     "metadata": {},
     "output_type": "display_data"
    }
   ],
   "source": [
    "head(orderBy(~ -accuracy + k, df_accuracy), 8)\n",
    "\n",
    "\n",
    "\n"
   ]
  },
  {
   "cell_type": "code",
   "execution_count": 54,
   "metadata": {},
   "outputs": [
    {
     "data": {
      "text/html": [
       "<table>\n",
       "<thead><tr><th scope=col>data.test.y</th><th scope=col>predicted</th></tr></thead>\n",
       "<tbody>\n",
       "\t<tr><td>setosa</td><td>setosa</td></tr>\n",
       "\t<tr><td>setosa</td><td>setosa</td></tr>\n",
       "\t<tr><td>setosa</td><td>setosa</td></tr>\n",
       "\t<tr><td>setosa</td><td>setosa</td></tr>\n",
       "\t<tr><td>setosa</td><td>setosa</td></tr>\n",
       "\t<tr><td>setosa</td><td>setosa</td></tr>\n",
       "</tbody>\n",
       "</table>\n"
      ],
      "text/latex": [
       "\\begin{tabular}{r|ll}\n",
       " data.test.y & predicted\\\\\n",
       "\\hline\n",
       "\t setosa & setosa\\\\\n",
       "\t setosa & setosa\\\\\n",
       "\t setosa & setosa\\\\\n",
       "\t setosa & setosa\\\\\n",
       "\t setosa & setosa\\\\\n",
       "\t setosa & setosa\\\\\n",
       "\\end{tabular}\n"
      ],
      "text/markdown": [
       "\n",
       "data.test.y | predicted | \n",
       "|---|---|---|---|---|---|\n",
       "| setosa | setosa | \n",
       "| setosa | setosa | \n",
       "| setosa | setosa | \n",
       "| setosa | setosa | \n",
       "| setosa | setosa | \n",
       "| setosa | setosa | \n",
       "\n",
       "\n"
      ],
      "text/plain": [
       "  data.test.y predicted\n",
       "1 setosa      setosa   \n",
       "2 setosa      setosa   \n",
       "3 setosa      setosa   \n",
       "4 setosa      setosa   \n",
       "5 setosa      setosa   \n",
       "6 setosa      setosa   "
      ]
     },
     "metadata": {},
     "output_type": "display_data"
    },
    {
     "data": {
      "text/plain": [
       "            knn\n",
       "data.test.y  setosa versicolor virginica\n",
       "  setosa         15          0         0\n",
       "  versicolor      0         12         3\n",
       "  virginica       0          6         9"
      ]
     },
     "metadata": {},
     "output_type": "display_data"
    },
    {
     "data": {
      "text/html": [
       "80"
      ],
      "text/latex": [
       "80"
      ],
      "text/markdown": [
       "80"
      ],
      "text/plain": [
       "[1] 80"
      ]
     },
     "metadata": {},
     "output_type": "display_data"
    }
   ],
   "source": [
    "# knn model\n",
    "set.seed(1234)\n",
    "knn = knn(train = data.train, test = data.test, cl = data.train.y, k = 4)\n",
    "\n",
    "df <- data.frame(data.test.y, predicted = knn )\n",
    "head(df)\n",
    "\n",
    "table(data.test.y, knn)\n",
    "\n",
    "round(mean(knn == data.test.y) * 100, 2)\n",
    "\n",
    "\n",
    "\n",
    "\n",
    "\n",
    "\n",
    "\n"
   ]
  },
  {
   "cell_type": "markdown",
   "metadata": {},
   "source": [
    "# 한 칸에서 진행하기"
   ]
  },
  {
   "cell_type": "code",
   "execution_count": 55,
   "metadata": {},
   "outputs": [
    {
     "data": {
      "text/html": [
       "<table>\n",
       "<thead><tr><th scope=col>Sepal.Length</th><th scope=col>Sepal.Width</th><th scope=col>Petal.Length</th><th scope=col>Petal.Width</th><th scope=col>Species</th></tr></thead>\n",
       "<tbody>\n",
       "\t<tr><td>5.1   </td><td>3.5   </td><td>1.4   </td><td>0.2   </td><td>setosa</td></tr>\n",
       "\t<tr><td>4.9   </td><td>3.0   </td><td>1.4   </td><td>0.2   </td><td>setosa</td></tr>\n",
       "\t<tr><td>4.7   </td><td>3.2   </td><td>1.3   </td><td>0.2   </td><td>setosa</td></tr>\n",
       "\t<tr><td>4.6   </td><td>3.1   </td><td>1.5   </td><td>0.2   </td><td>setosa</td></tr>\n",
       "\t<tr><td>5.0   </td><td>3.6   </td><td>1.4   </td><td>0.2   </td><td>setosa</td></tr>\n",
       "\t<tr><td>5.4   </td><td>3.9   </td><td>1.7   </td><td>0.4   </td><td>setosa</td></tr>\n",
       "</tbody>\n",
       "</table>\n"
      ],
      "text/latex": [
       "\\begin{tabular}{r|lllll}\n",
       " Sepal.Length & Sepal.Width & Petal.Length & Petal.Width & Species\\\\\n",
       "\\hline\n",
       "\t 5.1    & 3.5    & 1.4    & 0.2    & setosa\\\\\n",
       "\t 4.9    & 3.0    & 1.4    & 0.2    & setosa\\\\\n",
       "\t 4.7    & 3.2    & 1.3    & 0.2    & setosa\\\\\n",
       "\t 4.6    & 3.1    & 1.5    & 0.2    & setosa\\\\\n",
       "\t 5.0    & 3.6    & 1.4    & 0.2    & setosa\\\\\n",
       "\t 5.4    & 3.9    & 1.7    & 0.4    & setosa\\\\\n",
       "\\end{tabular}\n"
      ],
      "text/markdown": [
       "\n",
       "Sepal.Length | Sepal.Width | Petal.Length | Petal.Width | Species | \n",
       "|---|---|---|---|---|---|\n",
       "| 5.1    | 3.5    | 1.4    | 0.2    | setosa | \n",
       "| 4.9    | 3.0    | 1.4    | 0.2    | setosa | \n",
       "| 4.7    | 3.2    | 1.3    | 0.2    | setosa | \n",
       "| 4.6    | 3.1    | 1.5    | 0.2    | setosa | \n",
       "| 5.0    | 3.6    | 1.4    | 0.2    | setosa | \n",
       "| 5.4    | 3.9    | 1.7    | 0.4    | setosa | \n",
       "\n",
       "\n"
      ],
      "text/plain": [
       "  Sepal.Length Sepal.Width Petal.Length Petal.Width Species\n",
       "1 5.1          3.5         1.4          0.2         setosa \n",
       "2 4.9          3.0         1.4          0.2         setosa \n",
       "3 4.7          3.2         1.3          0.2         setosa \n",
       "4 4.6          3.1         1.5          0.2         setosa \n",
       "5 5.0          3.6         1.4          0.2         setosa \n",
       "6 5.4          3.9         1.7          0.4         setosa "
      ]
     },
     "metadata": {},
     "output_type": "display_data"
    }
   ],
   "source": [
    "head(iris)\n",
    "\n",
    "\n",
    "\n"
   ]
  },
  {
   "cell_type": "code",
   "execution_count": 59,
   "metadata": {},
   "outputs": [
    {
     "data": {
      "text/html": [
       "<table>\n",
       "<thead><tr><th scope=col>k</th><th scope=col>accuracy</th></tr></thead>\n",
       "<tbody>\n",
       "\t<tr><td>1        </td><td>0.7333333</td></tr>\n",
       "\t<tr><td>2        </td><td>0.7111111</td></tr>\n",
       "\t<tr><td>3        </td><td>0.7555556</td></tr>\n",
       "\t<tr><td>4        </td><td>0.8000000</td></tr>\n",
       "\t<tr><td>5        </td><td>0.8000000</td></tr>\n",
       "\t<tr><td>6        </td><td>0.8000000</td></tr>\n",
       "</tbody>\n",
       "</table>\n"
      ],
      "text/latex": [
       "\\begin{tabular}{r|ll}\n",
       " k & accuracy\\\\\n",
       "\\hline\n",
       "\t 1         & 0.7333333\\\\\n",
       "\t 2         & 0.7111111\\\\\n",
       "\t 3         & 0.7555556\\\\\n",
       "\t 4         & 0.8000000\\\\\n",
       "\t 5         & 0.8000000\\\\\n",
       "\t 6         & 0.8000000\\\\\n",
       "\\end{tabular}\n"
      ],
      "text/markdown": [
       "\n",
       "k | accuracy | \n",
       "|---|---|---|---|---|---|\n",
       "| 1         | 0.7333333 | \n",
       "| 2         | 0.7111111 | \n",
       "| 3         | 0.7555556 | \n",
       "| 4         | 0.8000000 | \n",
       "| 5         | 0.8000000 | \n",
       "| 6         | 0.8000000 | \n",
       "\n",
       "\n"
      ],
      "text/plain": [
       "  k accuracy \n",
       "1 1 0.7333333\n",
       "2 2 0.7111111\n",
       "3 3 0.7555556\n",
       "4 4 0.8000000\n",
       "5 5 0.8000000\n",
       "6 6 0.8000000"
      ]
     },
     "metadata": {},
     "output_type": "display_data"
    },
    {
     "data": {
      "text/html": [
       "<table>\n",
       "<thead><tr><th></th><th scope=col>k</th><th scope=col>accuracy</th></tr></thead>\n",
       "<tbody>\n",
       "\t<tr><th scope=row>4</th><td> 4       </td><td>0.8000000</td></tr>\n",
       "\t<tr><th scope=row>5</th><td> 5       </td><td>0.8000000</td></tr>\n",
       "\t<tr><th scope=row>6</th><td> 6       </td><td>0.8000000</td></tr>\n",
       "\t<tr><th scope=row>7</th><td> 7       </td><td>0.8000000</td></tr>\n",
       "\t<tr><th scope=row>8</th><td> 8       </td><td>0.8000000</td></tr>\n",
       "\t<tr><th scope=row>12</th><td>12       </td><td>0.8000000</td></tr>\n",
       "\t<tr><th scope=row>9</th><td> 9       </td><td>0.7777778</td></tr>\n",
       "\t<tr><th scope=row>13</th><td>13       </td><td>0.7777778</td></tr>\n",
       "</tbody>\n",
       "</table>\n"
      ],
      "text/latex": [
       "\\begin{tabular}{r|ll}\n",
       "  & k & accuracy\\\\\n",
       "\\hline\n",
       "\t4 &  4        & 0.8000000\\\\\n",
       "\t5 &  5        & 0.8000000\\\\\n",
       "\t6 &  6        & 0.8000000\\\\\n",
       "\t7 &  7        & 0.8000000\\\\\n",
       "\t8 &  8        & 0.8000000\\\\\n",
       "\t12 & 12        & 0.8000000\\\\\n",
       "\t9 &  9        & 0.7777778\\\\\n",
       "\t13 & 13        & 0.7777778\\\\\n",
       "\\end{tabular}\n"
      ],
      "text/markdown": [
       "\n",
       "| <!--/--> | k | accuracy | \n",
       "|---|---|---|---|---|---|---|---|\n",
       "| 4 |  4        | 0.8000000 | \n",
       "| 5 |  5        | 0.8000000 | \n",
       "| 6 |  6        | 0.8000000 | \n",
       "| 7 |  7        | 0.8000000 | \n",
       "| 8 |  8        | 0.8000000 | \n",
       "| 12 | 12        | 0.8000000 | \n",
       "| 9 |  9        | 0.7777778 | \n",
       "| 13 | 13        | 0.7777778 | \n",
       "\n",
       "\n"
      ],
      "text/plain": [
       "   k  accuracy \n",
       "4   4 0.8000000\n",
       "5   5 0.8000000\n",
       "6   6 0.8000000\n",
       "7   7 0.8000000\n",
       "8   8 0.8000000\n",
       "12 12 0.8000000\n",
       "9   9 0.7777778\n",
       "13 13 0.7777778"
      ]
     },
     "metadata": {},
     "output_type": "display_data"
    },
    {
     "data": {
      "text/html": [
       "<table>\n",
       "<thead><tr><th scope=col>data.test.y</th><th scope=col>predicted</th></tr></thead>\n",
       "<tbody>\n",
       "\t<tr><td>setosa</td><td>setosa</td></tr>\n",
       "\t<tr><td>setosa</td><td>setosa</td></tr>\n",
       "\t<tr><td>setosa</td><td>setosa</td></tr>\n",
       "\t<tr><td>setosa</td><td>setosa</td></tr>\n",
       "\t<tr><td>setosa</td><td>setosa</td></tr>\n",
       "\t<tr><td>setosa</td><td>setosa</td></tr>\n",
       "</tbody>\n",
       "</table>\n"
      ],
      "text/latex": [
       "\\begin{tabular}{r|ll}\n",
       " data.test.y & predicted\\\\\n",
       "\\hline\n",
       "\t setosa & setosa\\\\\n",
       "\t setosa & setosa\\\\\n",
       "\t setosa & setosa\\\\\n",
       "\t setosa & setosa\\\\\n",
       "\t setosa & setosa\\\\\n",
       "\t setosa & setosa\\\\\n",
       "\\end{tabular}\n"
      ],
      "text/markdown": [
       "\n",
       "data.test.y | predicted | \n",
       "|---|---|---|---|---|---|\n",
       "| setosa | setosa | \n",
       "| setosa | setosa | \n",
       "| setosa | setosa | \n",
       "| setosa | setosa | \n",
       "| setosa | setosa | \n",
       "| setosa | setosa | \n",
       "\n",
       "\n"
      ],
      "text/plain": [
       "  data.test.y predicted\n",
       "1 setosa      setosa   \n",
       "2 setosa      setosa   \n",
       "3 setosa      setosa   \n",
       "4 setosa      setosa   \n",
       "5 setosa      setosa   \n",
       "6 setosa      setosa   "
      ]
     },
     "metadata": {},
     "output_type": "display_data"
    },
    {
     "data": {
      "text/plain": [
       "            knn\n",
       "data.test.y  setosa versicolor virginica\n",
       "  setosa         15          0         0\n",
       "  versicolor      0         12         3\n",
       "  virginica       0          6         9"
      ]
     },
     "metadata": {},
     "output_type": "display_data"
    },
    {
     "data": {
      "text/html": [
       "<span style=white-space:pre-wrap>'예측률 :  80'</span>"
      ],
      "text/latex": [
       "'예측률 :  80'"
      ],
      "text/markdown": [
       "<span style=white-space:pre-wrap>'예측률 :  80'</span>"
      ],
      "text/plain": [
       "[1] \"예측률 :  80\""
      ]
     },
     "metadata": {},
     "output_type": "display_data"
    }
   ],
   "source": [
    "# iris 데이터의 갯수를 2개만 \n",
    "iris_data <- iris[,c(\"Sepal.Length\",\"Sepal.Width\",\"Species\")]\n",
    "\n",
    "\n",
    "set.seed(1234) # 샘플값 고정\n",
    "samp <- c(sample(1:50, 35), sample(51:100, 35),sample(101:150, 35))\n",
    "\n",
    "\n",
    "# 학습용 검증용 데이터 분류\n",
    "#문제\n",
    "# 학습용 데이터\n",
    "data.train <- iris_data[samp, -3]\n",
    "# 검증용 데이터\n",
    "data.test <- iris_data[-samp, -3]\n",
    "\n",
    "# 답\n",
    "# 학습용 데이터\n",
    "data.train.y <- iris_data[samp, 3]\n",
    "# 검증용 데이터\n",
    "data.test.y <- iris_data[-samp, 3]\n",
    "\n",
    "# k 의 값을 찾자\n",
    "# 분류 정확도를 저장할 비어 있는 벡터 생성 - k 가 1부터 105 까지 정확도를 다 저장 할 것\n",
    "accuracy_k <- NULL\n",
    "\n",
    "# k값을 1 에서 105 까지 증가시켜 가면서 최적의 K 값을 찾는다.\n",
    "for(i in c(1:nrow(data.train))){\n",
    "    set.seed(1234)\n",
    "    knn_k = knn(train = data.train, test = data.test, cl = data.train.y, k = i) # 훈련용 테스트용 정답 k 값 순으로 지정 i 값을 k에 적용\n",
    "    accuracy_k = c(accuracy_k, mean(data.test.y == knn_k))\n",
    "}\n",
    "\n",
    "df_accuracy <- data.frame(k = c(1:nrow(data.train)), accuracy = accuracy_k)\n",
    "head(df_accuracy)\n",
    "\n",
    "\n",
    "library(doBy)\n",
    "head(orderBy(~ -accuracy + k, df_accuracy), 8)\n",
    "\n",
    "# knn model\n",
    "set.seed(1234)\n",
    "knn = knn(train = data.train, test = data.test, cl = data.train.y, k = 4)\n",
    "\n",
    "df <- data.frame(data.test.y, predicted = knn )\n",
    "head(df)\n",
    "\n",
    "table(data.test.y, knn)\n",
    "\n",
    "paste(\"예측률 : \",round(mean(knn == data.test.y) * 100, 4))\n",
    "\n",
    "\n",
    "\n",
    "\n",
    "\n",
    "\n",
    "\n",
    "\n",
    "\n",
    "\n",
    "\n",
    "\n",
    "\n",
    "\n",
    "\n",
    "\n",
    "\n",
    "\n",
    "\n"
   ]
  },
  {
   "cell_type": "code",
   "execution_count": null,
   "metadata": {},
   "outputs": [],
   "source": []
  },
  {
   "cell_type": "markdown",
   "metadata": {},
   "source": [
    "# 모든 구성을 다 합해서 모델 구성하기"
   ]
  },
  {
   "cell_type": "code",
   "execution_count": 60,
   "metadata": {},
   "outputs": [
    {
     "data": {
      "text/html": [
       "<table>\n",
       "<thead><tr><th scope=col>Sepal.Length</th><th scope=col>Sepal.Width</th><th scope=col>Petal.Length</th><th scope=col>Petal.Width</th><th scope=col>Species</th></tr></thead>\n",
       "<tbody>\n",
       "\t<tr><td>5.1   </td><td>3.5   </td><td>1.4   </td><td>0.2   </td><td>setosa</td></tr>\n",
       "\t<tr><td>4.9   </td><td>3.0   </td><td>1.4   </td><td>0.2   </td><td>setosa</td></tr>\n",
       "\t<tr><td>4.7   </td><td>3.2   </td><td>1.3   </td><td>0.2   </td><td>setosa</td></tr>\n",
       "\t<tr><td>4.6   </td><td>3.1   </td><td>1.5   </td><td>0.2   </td><td>setosa</td></tr>\n",
       "\t<tr><td>5.0   </td><td>3.6   </td><td>1.4   </td><td>0.2   </td><td>setosa</td></tr>\n",
       "\t<tr><td>5.4   </td><td>3.9   </td><td>1.7   </td><td>0.4   </td><td>setosa</td></tr>\n",
       "</tbody>\n",
       "</table>\n"
      ],
      "text/latex": [
       "\\begin{tabular}{r|lllll}\n",
       " Sepal.Length & Sepal.Width & Petal.Length & Petal.Width & Species\\\\\n",
       "\\hline\n",
       "\t 5.1    & 3.5    & 1.4    & 0.2    & setosa\\\\\n",
       "\t 4.9    & 3.0    & 1.4    & 0.2    & setosa\\\\\n",
       "\t 4.7    & 3.2    & 1.3    & 0.2    & setosa\\\\\n",
       "\t 4.6    & 3.1    & 1.5    & 0.2    & setosa\\\\\n",
       "\t 5.0    & 3.6    & 1.4    & 0.2    & setosa\\\\\n",
       "\t 5.4    & 3.9    & 1.7    & 0.4    & setosa\\\\\n",
       "\\end{tabular}\n"
      ],
      "text/markdown": [
       "\n",
       "Sepal.Length | Sepal.Width | Petal.Length | Petal.Width | Species | \n",
       "|---|---|---|---|---|---|\n",
       "| 5.1    | 3.5    | 1.4    | 0.2    | setosa | \n",
       "| 4.9    | 3.0    | 1.4    | 0.2    | setosa | \n",
       "| 4.7    | 3.2    | 1.3    | 0.2    | setosa | \n",
       "| 4.6    | 3.1    | 1.5    | 0.2    | setosa | \n",
       "| 5.0    | 3.6    | 1.4    | 0.2    | setosa | \n",
       "| 5.4    | 3.9    | 1.7    | 0.4    | setosa | \n",
       "\n",
       "\n"
      ],
      "text/plain": [
       "  Sepal.Length Sepal.Width Petal.Length Petal.Width Species\n",
       "1 5.1          3.5         1.4          0.2         setosa \n",
       "2 4.9          3.0         1.4          0.2         setosa \n",
       "3 4.7          3.2         1.3          0.2         setosa \n",
       "4 4.6          3.1         1.5          0.2         setosa \n",
       "5 5.0          3.6         1.4          0.2         setosa \n",
       "6 5.4          3.9         1.7          0.4         setosa "
      ]
     },
     "metadata": {},
     "output_type": "display_data"
    }
   ],
   "source": [
    "head(iris)\n",
    "\n",
    "\n",
    "\n"
   ]
  },
  {
   "cell_type": "code",
   "execution_count": 63,
   "metadata": {},
   "outputs": [
    {
     "data": {
      "text/html": [
       "<table>\n",
       "<thead><tr><th scope=col>k</th><th scope=col>accuracy</th></tr></thead>\n",
       "<tbody>\n",
       "\t<tr><td>1        </td><td>0.9333333</td></tr>\n",
       "\t<tr><td>2        </td><td>0.9333333</td></tr>\n",
       "\t<tr><td>3        </td><td>0.9555556</td></tr>\n",
       "\t<tr><td>4        </td><td>0.9555556</td></tr>\n",
       "\t<tr><td>5        </td><td>0.9777778</td></tr>\n",
       "\t<tr><td>6        </td><td>0.9333333</td></tr>\n",
       "</tbody>\n",
       "</table>\n"
      ],
      "text/latex": [
       "\\begin{tabular}{r|ll}\n",
       " k & accuracy\\\\\n",
       "\\hline\n",
       "\t 1         & 0.9333333\\\\\n",
       "\t 2         & 0.9333333\\\\\n",
       "\t 3         & 0.9555556\\\\\n",
       "\t 4         & 0.9555556\\\\\n",
       "\t 5         & 0.9777778\\\\\n",
       "\t 6         & 0.9333333\\\\\n",
       "\\end{tabular}\n"
      ],
      "text/markdown": [
       "\n",
       "k | accuracy | \n",
       "|---|---|---|---|---|---|\n",
       "| 1         | 0.9333333 | \n",
       "| 2         | 0.9333333 | \n",
       "| 3         | 0.9555556 | \n",
       "| 4         | 0.9555556 | \n",
       "| 5         | 0.9777778 | \n",
       "| 6         | 0.9333333 | \n",
       "\n",
       "\n"
      ],
      "text/plain": [
       "  k accuracy \n",
       "1 1 0.9333333\n",
       "2 2 0.9333333\n",
       "3 3 0.9555556\n",
       "4 4 0.9555556\n",
       "5 5 0.9777778\n",
       "6 6 0.9333333"
      ]
     },
     "metadata": {},
     "output_type": "display_data"
    },
    {
     "data": {
      "text/html": [
       "<table>\n",
       "<thead><tr><th></th><th scope=col>k</th><th scope=col>accuracy</th></tr></thead>\n",
       "<tbody>\n",
       "\t<tr><th scope=row>5</th><td> 5       </td><td>0.9777778</td></tr>\n",
       "\t<tr><th scope=row>3</th><td> 3       </td><td>0.9555556</td></tr>\n",
       "\t<tr><th scope=row>4</th><td> 4       </td><td>0.9555556</td></tr>\n",
       "\t<tr><th scope=row>7</th><td> 7       </td><td>0.9555556</td></tr>\n",
       "\t<tr><th scope=row>8</th><td> 8       </td><td>0.9555556</td></tr>\n",
       "\t<tr><th scope=row>9</th><td> 9       </td><td>0.9555556</td></tr>\n",
       "\t<tr><th scope=row>10</th><td>10       </td><td>0.9555556</td></tr>\n",
       "\t<tr><th scope=row>1</th><td> 1       </td><td>0.9333333</td></tr>\n",
       "</tbody>\n",
       "</table>\n"
      ],
      "text/latex": [
       "\\begin{tabular}{r|ll}\n",
       "  & k & accuracy\\\\\n",
       "\\hline\n",
       "\t5 &  5        & 0.9777778\\\\\n",
       "\t3 &  3        & 0.9555556\\\\\n",
       "\t4 &  4        & 0.9555556\\\\\n",
       "\t7 &  7        & 0.9555556\\\\\n",
       "\t8 &  8        & 0.9555556\\\\\n",
       "\t9 &  9        & 0.9555556\\\\\n",
       "\t10 & 10        & 0.9555556\\\\\n",
       "\t1 &  1        & 0.9333333\\\\\n",
       "\\end{tabular}\n"
      ],
      "text/markdown": [
       "\n",
       "| <!--/--> | k | accuracy | \n",
       "|---|---|---|---|---|---|---|---|\n",
       "| 5 |  5        | 0.9777778 | \n",
       "| 3 |  3        | 0.9555556 | \n",
       "| 4 |  4        | 0.9555556 | \n",
       "| 7 |  7        | 0.9555556 | \n",
       "| 8 |  8        | 0.9555556 | \n",
       "| 9 |  9        | 0.9555556 | \n",
       "| 10 | 10        | 0.9555556 | \n",
       "| 1 |  1        | 0.9333333 | \n",
       "\n",
       "\n"
      ],
      "text/plain": [
       "   k  accuracy \n",
       "5   5 0.9777778\n",
       "3   3 0.9555556\n",
       "4   4 0.9555556\n",
       "7   7 0.9555556\n",
       "8   8 0.9555556\n",
       "9   9 0.9555556\n",
       "10 10 0.9555556\n",
       "1   1 0.9333333"
      ]
     },
     "metadata": {},
     "output_type": "display_data"
    },
    {
     "data": {
      "text/html": [
       "<table>\n",
       "<thead><tr><th scope=col>data.test.y</th><th scope=col>predicted</th></tr></thead>\n",
       "<tbody>\n",
       "\t<tr><td>setosa</td><td>setosa</td></tr>\n",
       "\t<tr><td>setosa</td><td>setosa</td></tr>\n",
       "\t<tr><td>setosa</td><td>setosa</td></tr>\n",
       "\t<tr><td>setosa</td><td>setosa</td></tr>\n",
       "\t<tr><td>setosa</td><td>setosa</td></tr>\n",
       "\t<tr><td>setosa</td><td>setosa</td></tr>\n",
       "</tbody>\n",
       "</table>\n"
      ],
      "text/latex": [
       "\\begin{tabular}{r|ll}\n",
       " data.test.y & predicted\\\\\n",
       "\\hline\n",
       "\t setosa & setosa\\\\\n",
       "\t setosa & setosa\\\\\n",
       "\t setosa & setosa\\\\\n",
       "\t setosa & setosa\\\\\n",
       "\t setosa & setosa\\\\\n",
       "\t setosa & setosa\\\\\n",
       "\\end{tabular}\n"
      ],
      "text/markdown": [
       "\n",
       "data.test.y | predicted | \n",
       "|---|---|---|---|---|---|\n",
       "| setosa | setosa | \n",
       "| setosa | setosa | \n",
       "| setosa | setosa | \n",
       "| setosa | setosa | \n",
       "| setosa | setosa | \n",
       "| setosa | setosa | \n",
       "\n",
       "\n"
      ],
      "text/plain": [
       "  data.test.y predicted\n",
       "1 setosa      setosa   \n",
       "2 setosa      setosa   \n",
       "3 setosa      setosa   \n",
       "4 setosa      setosa   \n",
       "5 setosa      setosa   \n",
       "6 setosa      setosa   "
      ]
     },
     "metadata": {},
     "output_type": "display_data"
    },
    {
     "data": {
      "text/plain": [
       "            knn\n",
       "data.test.y  setosa versicolor virginica\n",
       "  setosa         15          0         0\n",
       "  versicolor      0         14         1\n",
       "  virginica       0          0        15"
      ]
     },
     "metadata": {},
     "output_type": "display_data"
    },
    {
     "data": {
      "text/html": [
       "<span style=white-space:pre-wrap>'예측률 :  97.78'</span>"
      ],
      "text/latex": [
       "'예측률 :  97.78'"
      ],
      "text/markdown": [
       "<span style=white-space:pre-wrap>'예측률 :  97.78'</span>"
      ],
      "text/plain": [
       "[1] \"예측률 :  97.78\""
      ]
     },
     "metadata": {},
     "output_type": "display_data"
    }
   ],
   "source": [
    "set.seed(1234) # 샘플값 고정\n",
    "samp <- c(sample(1:50, 35), sample(51:100, 35),sample(101:150, 35))\n",
    "\n",
    "\n",
    "# 학습용 검증용 데이터 분류\n",
    "#문제\n",
    "# 학습용 데이터\n",
    "data.train <- iris[samp, -5]\n",
    "# 검증용 데이터\n",
    "data.test <- iris[-samp, -5]\n",
    "\n",
    "# 답\n",
    "# 학습용 데이터\n",
    "data.train.y <- iris[samp, 5]\n",
    "# 검증용 데이터\n",
    "data.test.y <- iris[-samp, 5]\n",
    "\n",
    "# k 의 값을 찾자\n",
    "# 분류 정확도를 저장할 비어 있는 벡터 생성 - k 가 1부터 105 까지 정확도를 다 저장 할 것\n",
    "accuracy_k <- NULL\n",
    "\n",
    "# k값을 1 에서 105 까지 증가시켜 가면서 최적의 K 값을 찾는다.\n",
    "for(i in c(1:nrow(data.train))){\n",
    "    set.seed(1234)\n",
    "    knn_k = knn(train = data.train, test = data.test, cl = data.train.y, k = i) # 훈련용 테스트용 정답 k 값 순으로 지정 i 값을 k에 적용\n",
    "    accuracy_k = c(accuracy_k, mean(data.test.y == knn_k))\n",
    "}\n",
    "\n",
    "df_accuracy <- data.frame(k = c(1:nrow(data.train)), accuracy = accuracy_k)\n",
    "head(df_accuracy)\n",
    "\n",
    "\n",
    "library(doBy)\n",
    "head(orderBy(~ -accuracy + k, df_accuracy), 8)\n",
    "\n",
    "# knn model\n",
    "set.seed(1234)\n",
    "knn = knn(train = data.train, test = data.test, cl = data.train.y, k = 5)\n",
    "\n",
    "df <- data.frame(data.test.y, predicted = knn )\n",
    "head(df)\n",
    "\n",
    "table(data.test.y, knn)\n",
    "\n",
    "paste(\"예측률 : \",round(mean(knn == data.test.y) * 100, 2))\n",
    "\n",
    "\n",
    "\n",
    "\n",
    "\n",
    "\n",
    "\n",
    "\n",
    "\n",
    "\n",
    "\n",
    "\n",
    "\n",
    "\n",
    "\n",
    "\n",
    "\n",
    "\n",
    "\n"
   ]
  },
  {
   "cell_type": "code",
   "execution_count": null,
   "metadata": {},
   "outputs": [],
   "source": []
  }
 ],
 "metadata": {
  "kernelspec": {
   "display_name": "R",
   "language": "R",
   "name": "ir"
  },
  "language_info": {
   "codemirror_mode": "r",
   "file_extension": ".r",
   "mimetype": "text/x-r-source",
   "name": "R",
   "pygments_lexer": "r",
   "version": "3.5.1"
  }
 },
 "nbformat": 4,
 "nbformat_minor": 2
}
