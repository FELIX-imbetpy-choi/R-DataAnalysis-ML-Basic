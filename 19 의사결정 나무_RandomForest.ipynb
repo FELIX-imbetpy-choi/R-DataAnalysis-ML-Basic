{
 "cells": [
  {
   "cell_type": "markdown",
   "metadata": {},
   "source": [
    "install.packages(\"party\")    \n",
    "install.packages(\"e1071\")    \n",
    "install.packages(\"caret\")    "
   ]
  },
  {
   "cell_type": "code",
   "execution_count": 12,
   "metadata": {},
   "outputs": [],
   "source": [
    "library(party)\n",
    "library(e1071)\n",
    "library(caret)\n",
    "\n",
    "\n",
    "\n",
    "\n"
   ]
  },
  {
   "cell_type": "markdown",
   "metadata": {},
   "source": [
    "# ctree"
   ]
  },
  {
   "cell_type": "markdown",
   "metadata": {},
   "source": [
    "### 진행과정 살펴보기"
   ]
  },
  {
   "cell_type": "code",
   "execution_count": 4,
   "metadata": {},
   "outputs": [],
   "source": [
    "# 학습용과 검증용 데이터셋 나누기\n",
    "#  150 : 105 (70%) + 45 (30%)\n",
    "set.seed(1234) # 샘플값 고정\n",
    "samp <- c(sample(1:50, 35), sample(51:100, 35),sample(101:150, 35))\n",
    "\n",
    "# 학습용 데이터\n",
    "data.tr <- iris[samp,]\n",
    "# 검증용 데이터\n",
    "data.test <- iris[-samp,]\n",
    "\n",
    "\n",
    "\n",
    "\n",
    "\n",
    "\n",
    "\n"
   ]
  },
  {
   "cell_type": "code",
   "execution_count": 5,
   "metadata": {},
   "outputs": [
    {
     "data": {
      "text/plain": [
       "\n",
       "\t Conditional inference tree with 4 terminal nodes\n",
       "\n",
       "Response:  Species \n",
       "Inputs:  Sepal.Length, Sepal.Width, Petal.Length, Petal.Width \n",
       "Number of observations:  105 \n",
       "\n",
       "1) Petal.Length <= 1.9; criterion = 1, statistic = 97.715\n",
       "  2)*  weights = 35 \n",
       "1) Petal.Length > 1.9\n",
       "  3) Petal.Width <= 1.6; criterion = 1, statistic = 49.173\n",
       "    4) Petal.Length <= 4.6; criterion = 0.954, statistic = 6.36\n",
       "      5)*  weights = 26 \n",
       "    4) Petal.Length > 4.6\n",
       "      6)*  weights = 8 \n",
       "  3) Petal.Width > 1.6\n",
       "    7)*  weights = 36 "
      ]
     },
     "metadata": {},
     "output_type": "display_data"
    }
   ],
   "source": [
    "iris_tree <- ctree(Species ~., data=data.tr)\n",
    "iris_tree\n",
    "\n",
    "\n",
    "\n"
   ]
  },
  {
   "cell_type": "code",
   "execution_count": 7,
   "metadata": {},
   "outputs": [
    {
     "data": {
      "image/png": "[encoded data removed]",
      "text/plain": [
       "plot without title"
      ]
     },
     "metadata": {},
     "output_type": "display_data"
    }
   ],
   "source": [
    "plot(iris_tree)\n",
    "\n",
    "\n",
    "\n"
   ]
  },
  {
   "cell_type": "code",
   "execution_count": 19,
   "metadata": {},
   "outputs": [
    {
     "data": {
      "text/html": [
       "<ol class=list-inline>\n",
       "\t<li>setosa</li>\n",
       "\t<li>setosa</li>\n",
       "\t<li>setosa</li>\n",
       "\t<li>setosa</li>\n",
       "\t<li>setosa</li>\n",
       "\t<li>setosa</li>\n",
       "\t<li>setosa</li>\n",
       "\t<li>setosa</li>\n",
       "\t<li>setosa</li>\n",
       "\t<li>setosa</li>\n",
       "\t<li>setosa</li>\n",
       "\t<li>setosa</li>\n",
       "\t<li>setosa</li>\n",
       "\t<li>setosa</li>\n",
       "\t<li>setosa</li>\n",
       "\t<li>versicolor</li>\n",
       "\t<li>versicolor</li>\n",
       "\t<li>versicolor</li>\n",
       "\t<li>versicolor</li>\n",
       "\t<li>versicolor</li>\n",
       "\t<li>versicolor</li>\n",
       "\t<li>versicolor</li>\n",
       "\t<li>versicolor</li>\n",
       "\t<li>versicolor</li>\n",
       "\t<li>versicolor</li>\n",
       "\t<li>versicolor</li>\n",
       "\t<li>versicolor</li>\n",
       "\t<li>versicolor</li>\n",
       "\t<li>versicolor</li>\n",
       "\t<li>versicolor</li>\n",
       "\t<li>virginica</li>\n",
       "\t<li>virginica</li>\n",
       "\t<li>virginica</li>\n",
       "\t<li>virginica</li>\n",
       "\t<li>virginica</li>\n",
       "\t<li>virginica</li>\n",
       "\t<li>versicolor</li>\n",
       "\t<li>virginica</li>\n",
       "\t<li>virginica</li>\n",
       "\t<li>versicolor</li>\n",
       "\t<li>versicolor</li>\n",
       "\t<li>virginica</li>\n",
       "\t<li>virginica</li>\n",
       "\t<li>virginica</li>\n",
       "\t<li>virginica</li>\n",
       "</ol>\n",
       "\n",
       "<details>\n",
       "\t<summary style=display:list-item;cursor:pointer>\n",
       "\t\t<strong>Levels</strong>:\n",
       "\t</summary>\n",
       "\t<ol class=list-inline>\n",
       "\t\t<li>'setosa'</li>\n",
       "\t\t<li>'versicolor'</li>\n",
       "\t\t<li>'virginica'</li>\n",
       "\t</ol>\n",
       "</details>"
      ],
      "text/latex": [
       "\\begin{enumerate*}\n",
       "\\item setosa\n",
       "\\item setosa\n",
       "\\item setosa\n",
       "\\item setosa\n",
       "\\item setosa\n",
       "\\item setosa\n",
       "\\item setosa\n",
       "\\item setosa\n",
       "\\item setosa\n",
       "\\item setosa\n",
       "\\item setosa\n",
       "\\item setosa\n",
       "\\item setosa\n",
       "\\item setosa\n",
       "\\item setosa\n",
       "\\item versicolor\n",
       "\\item versicolor\n",
       "\\item versicolor\n",
       "\\item versicolor\n",
       "\\item versicolor\n",
       "\\item versicolor\n",
       "\\item versicolor\n",
       "\\item versicolor\n",
       "\\item versicolor\n",
       "\\item versicolor\n",
       "\\item versicolor\n",
       "\\item versicolor\n",
       "\\item versicolor\n",
       "\\item versicolor\n",
       "\\item versicolor\n",
       "\\item virginica\n",
       "\\item virginica\n",
       "\\item virginica\n",
       "\\item virginica\n",
       "\\item virginica\n",
       "\\item virginica\n",
       "\\item versicolor\n",
       "\\item virginica\n",
       "\\item virginica\n",
       "\\item versicolor\n",
       "\\item versicolor\n",
       "\\item virginica\n",
       "\\item virginica\n",
       "\\item virginica\n",
       "\\item virginica\n",
       "\\end{enumerate*}\n",
       "\n",
       "\\emph{Levels}: \\begin{enumerate*}\n",
       "\\item 'setosa'\n",
       "\\item 'versicolor'\n",
       "\\item 'virginica'\n",
       "\\end{enumerate*}\n"
      ],
      "text/markdown": [
       "1. setosa\n",
       "2. setosa\n",
       "3. setosa\n",
       "4. setosa\n",
       "5. setosa\n",
       "6. setosa\n",
       "7. setosa\n",
       "8. setosa\n",
       "9. setosa\n",
       "10. setosa\n",
       "11. setosa\n",
       "12. setosa\n",
       "13. setosa\n",
       "14. setosa\n",
       "15. setosa\n",
       "16. versicolor\n",
       "17. versicolor\n",
       "18. versicolor\n",
       "19. versicolor\n",
       "20. versicolor\n",
       "21. versicolor\n",
       "22. versicolor\n",
       "23. versicolor\n",
       "24. versicolor\n",
       "25. versicolor\n",
       "26. versicolor\n",
       "27. versicolor\n",
       "28. versicolor\n",
       "29. versicolor\n",
       "30. versicolor\n",
       "31. virginica\n",
       "32. virginica\n",
       "33. virginica\n",
       "34. virginica\n",
       "35. virginica\n",
       "36. virginica\n",
       "37. versicolor\n",
       "38. virginica\n",
       "39. virginica\n",
       "40. versicolor\n",
       "41. versicolor\n",
       "42. virginica\n",
       "43. virginica\n",
       "44. virginica\n",
       "45. virginica\n",
       "\n",
       "\n",
       "\n",
       "**Levels**: 1. 'setosa'\n",
       "2. 'versicolor'\n",
       "3. 'virginica'\n",
       "\n",
       "\n"
      ],
      "text/plain": [
       " [1] setosa     setosa     setosa     setosa     setosa     setosa    \n",
       " [7] setosa     setosa     setosa     setosa     setosa     setosa    \n",
       "[13] setosa     setosa     setosa     versicolor versicolor versicolor\n",
       "[19] versicolor versicolor versicolor versicolor versicolor versicolor\n",
       "[25] versicolor versicolor versicolor versicolor versicolor versicolor\n",
       "[31] virginica  virginica  virginica  virginica  virginica  virginica \n",
       "[37] versicolor virginica  virginica  versicolor versicolor virginica \n",
       "[43] virginica  virginica  virginica \n",
       "Levels: setosa versicolor virginica"
      ]
     },
     "metadata": {},
     "output_type": "display_data"
    }
   ],
   "source": [
    "pred <- predict(iris_tree, data.test)\n",
    "pred\n",
    "\n",
    "\n",
    "\n"
   ]
  },
  {
   "cell_type": "code",
   "execution_count": 9,
   "metadata": {},
   "outputs": [
    {
     "data": {
      "text/plain": [
       "            pred\n",
       "             setosa versicolor virginica\n",
       "  setosa         15          0         0\n",
       "  versicolor      0         15         0\n",
       "  virginica       0          3        12"
      ]
     },
     "metadata": {},
     "output_type": "display_data"
    }
   ],
   "source": [
    "# 예측\n",
    "pred <- predict(iris_tree, data.test)\n",
    "table(data.test$Species, pred)\n",
    "\n",
    "\n",
    "\n"
   ]
  },
  {
   "cell_type": "code",
   "execution_count": 8,
   "metadata": {},
   "outputs": [
    {
     "data": {
      "text/html": [
       "93.3333333333333"
      ],
      "text/latex": [
       "93.3333333333333"
      ],
      "text/markdown": [
       "93.3333333333333"
      ],
      "text/plain": [
       "[1] 93.33333"
      ]
     },
     "metadata": {},
     "output_type": "display_data"
    }
   ],
   "source": [
    "mean(data.test$Species == pred) * 100\n",
    "\n",
    "\n",
    "\n"
   ]
  },
  {
   "cell_type": "markdown",
   "metadata": {},
   "source": [
    "## 과정 한칸 요약"
   ]
  },
  {
   "cell_type": "code",
   "execution_count": 45,
   "metadata": {},
   "outputs": [
    {
     "data": {
      "text/plain": [
       "            pred\n",
       "             setosa versicolor virginica\n",
       "  setosa         15          0         0\n",
       "  versicolor      0         15         0\n",
       "  virginica       0          3        12"
      ]
     },
     "metadata": {},
     "output_type": "display_data"
    },
    {
     "data": {
      "text/html": [
       "93.33"
      ],
      "text/latex": [
       "93.33"
      ],
      "text/markdown": [
       "93.33"
      ],
      "text/plain": [
       "[1] 93.33"
      ]
     },
     "metadata": {},
     "output_type": "display_data"
    }
   ],
   "source": [
    "# 샘플 데이터 형성\n",
    "#  150 : 105 (70%) + 45 (30%)\n",
    "set.seed(1234) # 샘플값 고정\n",
    "samp <- c(sample(1:50, 35), sample(51:100, 35),sample(101:150, 35))\n",
    "\n",
    "# 학습용 검증용 데이터 분류\n",
    "# 학습용 데이터\n",
    "data.tr <- iris[samp,]\n",
    "# 검증용 데이터\n",
    "data.test <- iris[-samp,]\n",
    "\n",
    "# 학습시키기\n",
    "iris_tree <- ctree(Species ~., data = data.tr)\n",
    "\n",
    "# 예측하기\n",
    "pred <- predict(iris_tree, data.test)\n",
    "\n",
    "# 확인하기 - 정답 오답을\n",
    "table(data.test$Species, pred)\n",
    "\n",
    "# 예측률\n",
    "round(mean(data.test$Species == pred) * 100,2)\n",
    "\n",
    "\n",
    "\n",
    "\n",
    "\n",
    "\n",
    "\n",
    "\n",
    "\n",
    "\n",
    "\n"
   ]
  },
  {
   "cell_type": "markdown",
   "metadata": {},
   "source": [
    "### 문제1) train 데이터로 예측률 살펴보기"
   ]
  },
  {
   "cell_type": "code",
   "execution_count": 39,
   "metadata": {},
   "outputs": [
    {
     "data": {
      "text/plain": [
       "            pred\n",
       "             setosa versicolor virginica\n",
       "  setosa         35          0         0\n",
       "  versicolor      0         33         2\n",
       "  virginica       0          1        34"
      ]
     },
     "metadata": {},
     "output_type": "display_data"
    },
    {
     "data": {
      "text/html": [
       "97.1428571428571"
      ],
      "text/latex": [
       "97.1428571428571"
      ],
      "text/markdown": [
       "97.1428571428571"
      ],
      "text/plain": [
       "[1] 97.14286"
      ]
     },
     "metadata": {},
     "output_type": "display_data"
    }
   ],
   "source": [
    "# 샘플 데이터 형성\n",
    "#  150 : 105 (70%) + 45 (30%)\n",
    "set.seed(1234) # 샘플값 고정\n",
    "samp <- c(sample(1:50, 35), sample(51:100, 35),sample(101:150, 35))\n",
    "\n",
    "# 학습용 검증용 데이터 분류\n",
    "# 학습용 데이터\n",
    "data.tr <- iris[samp,]\n",
    "# 검증용 데이터\n",
    "data.test <- iris[-samp,]\n",
    "\n",
    "# 학습시키기\n",
    "iris_tree <- ctree(Species ~., data = data.tr)\n",
    "\n",
    "# 예측하기\n",
    "pred <- predict(iris_tree, data.tr)\n",
    "\n",
    "# 확인하기 - 정답 오답을\n",
    "table(data.tr$Species, pred)\n",
    "\n",
    "# 예측률\n",
    "mean(data.tr$Species == pred) * 100\n",
    "\n",
    "\n",
    "\n",
    "\n",
    "\n",
    "\n",
    "\n",
    "\n",
    "\n",
    "\n",
    "\n",
    "\n",
    "\n",
    "\n",
    "\n"
   ]
  },
  {
   "cell_type": "markdown",
   "metadata": {},
   "source": [
    "똑같은 데이터로 학습시키고 답을 똑같이 주었는데 정답률이 97.14 이다. 뭔가 문제가 있지 않나?   \n",
    "\n",
    "다른 방식인 RandomFrest 를 활용해 보자.    "
   ]
  },
  {
   "cell_type": "markdown",
   "metadata": {},
   "source": [
    "------------------------------------\n",
    "## Randomforest 로 하기"
   ]
  },
  {
   "cell_type": "markdown",
   "metadata": {},
   "source": [
    "install.packages(\"randomforest\")"
   ]
  },
  {
   "cell_type": "code",
   "execution_count": 13,
   "metadata": {},
   "outputs": [
    {
     "name": "stderr",
     "output_type": "stream",
     "text": [
      "randomForest 4.6-14\n",
      "Type rfNews() to see new features/changes/bug fixes.\n",
      "\n",
      "Attaching package: ‘randomForest’\n",
      "\n",
      "The following object is masked from ‘package:ggplot2’:\n",
      "\n",
      "    margin\n",
      "\n"
     ]
    }
   ],
   "source": [
    "library(randomForest)\n",
    "\n",
    "\n",
    "\n"
   ]
  },
  {
   "cell_type": "code",
   "execution_count": 44,
   "metadata": {},
   "outputs": [
    {
     "data": {
      "text/plain": [
       "            pred\n",
       "             setosa versicolor virginica\n",
       "  setosa         15          0         0\n",
       "  versicolor      0         15         0\n",
       "  virginica       0          2        13"
      ]
     },
     "metadata": {},
     "output_type": "display_data"
    },
    {
     "data": {
      "text/html": [
       "95.56"
      ],
      "text/latex": [
       "95.56"
      ],
      "text/markdown": [
       "95.56"
      ],
      "text/plain": [
       "[1] 95.56"
      ]
     },
     "metadata": {},
     "output_type": "display_data"
    }
   ],
   "source": [
    "library(randomForest)\n",
    "# 샘플 데이터 형성\n",
    "#  150 : 105 (70%) + 45 (30%)\n",
    "set.seed(1234) # 샘플값 고정\n",
    "samp <- c(sample(1:50, 35), sample(51:100, 35),sample(101:150, 35))\n",
    "\n",
    "# 학습용 검증용 데이터 분류\n",
    "# 학습용 데이터\n",
    "data.tr <- iris[samp,]\n",
    "# 검증용 데이터\n",
    "data.test <- iris[-samp,]\n",
    "\n",
    "# 학습시키기\n",
    "rf <- randomForest(Species ~., data = data.tr, ntree = 100)\n",
    "\n",
    "# 예측하기\n",
    "pred <- predict(rf, data.test)\n",
    "\n",
    "# 확인하기 - 정답 오답을\n",
    "table(data.test$Species, pred)\n",
    "\n",
    "# 예측률\n",
    "round(mean(data.test$Species == pred) * 100,2)\n",
    "\n",
    "\n",
    "\n",
    "\n",
    "\n",
    "\n",
    "\n",
    "\n",
    "\n",
    "\n",
    "\n"
   ]
  },
  {
   "cell_type": "markdown",
   "metadata": {},
   "source": [
    "### 문제1)  특적값 예측"
   ]
  },
  {
   "cell_type": "code",
   "execution_count": 46,
   "metadata": {},
   "outputs": [
    {
     "data": {
      "text/html": [
       "<strong>1:</strong> setosa\n",
       "<details>\n",
       "\t<summary style=display:list-item;cursor:pointer>\n",
       "\t\t<strong>Levels</strong>:\n",
       "\t</summary>\n",
       "\t<ol class=list-inline>\n",
       "\t\t<li>'setosa'</li>\n",
       "\t\t<li>'versicolor'</li>\n",
       "\t\t<li>'virginica'</li>\n",
       "\t</ol>\n",
       "</details>"
      ],
      "text/latex": [
       "\\textbf{1:} setosa\n",
       "\\emph{Levels}: \\begin{enumerate*}\n",
       "\\item 'setosa'\n",
       "\\item 'versicolor'\n",
       "\\item 'virginica'\n",
       "\\end{enumerate*}\n"
      ],
      "text/markdown": [
       "**1:** setosa\n",
       "**Levels**: 1. 'setosa'\n",
       "2. 'versicolor'\n",
       "3. 'virginica'\n",
       "\n",
       "\n"
      ],
      "text/plain": [
       "     1 \n",
       "setosa \n",
       "Levels: setosa versicolor virginica"
      ]
     },
     "metadata": {},
     "output_type": "display_data"
    }
   ],
   "source": [
    "insert1 <- list(Sepal.Length=-0.5514857, Sepal.Width=-0.1315388, Petal.Length=-5.1567451, Petal.Width=-5.4439941)\n",
    "\n",
    "# 샘플 데이터 형성\n",
    "#  150 : 105 (70%) + 45 (30%)\n",
    "set.seed(1234) # 샘플값 고정\n",
    "samp <- c(sample(1:50, 35), sample(51:100, 35),sample(101:150, 35))\n",
    "\n",
    "# 학습용 검증용 데이터 분류\n",
    "# 학습용 데이터\n",
    "data.tr <- iris[samp,]\n",
    "# 검증용 데이터\n",
    "data.test <- iris[-samp,]\n",
    "\n",
    "# 학습시키기\n",
    "rf <- randomForest(Species ~., data = data.tr, ntree = 100)\n",
    "\n",
    "# 예측하기\n",
    "pred <- predict(rf, insert1)\n",
    "pred\n",
    "\n",
    "# # 확인하기 - 정답 오답을\n",
    "# table(data.test$Species, pred)\n",
    "\n",
    "# # 예측률\n",
    "# mean(data.test$Species == pred) * 100\n",
    "\n",
    "\n",
    "\n",
    "\n",
    "\n",
    "\n",
    "\n",
    "\n",
    "\n",
    "\n",
    "\n"
   ]
  },
  {
   "cell_type": "markdown",
   "metadata": {},
   "source": [
    "#### 현재 문제가 성립 되지 않는다. Sepal.Length 의 최저값이 \"4.300\" 인 데이터를 가지고 학습을 했는데\n",
    "#### 알 수 없는 값을 입력한 것이다. \n",
    "#### 국어를 학습시키고, 수학 과학을 물어본 것이다. 비슷한 값이 있는 아무거나 내뱉은 것이다."
   ]
  },
  {
   "cell_type": "code",
   "execution_count": 37,
   "metadata": {},
   "outputs": [
    {
     "data": {
      "text/plain": [
       "  Sepal.Length    Sepal.Width     Petal.Length    Petal.Width   \n",
       " Min.   :4.300   Min.   :2.000   Min.   :1.000   Min.   :0.100  \n",
       " 1st Qu.:5.100   1st Qu.:2.800   1st Qu.:1.600   1st Qu.:0.300  \n",
       " Median :5.800   Median :3.000   Median :4.350   Median :1.300  \n",
       " Mean   :5.843   Mean   :3.057   Mean   :3.758   Mean   :1.199  \n",
       " 3rd Qu.:6.400   3rd Qu.:3.300   3rd Qu.:5.100   3rd Qu.:1.800  \n",
       " Max.   :7.900   Max.   :4.400   Max.   :6.900   Max.   :2.500  \n",
       "       Species  \n",
       " setosa    :50  \n",
       " versicolor:50  \n",
       " virginica :50  \n",
       "                \n",
       "                \n",
       "                "
      ]
     },
     "metadata": {},
     "output_type": "display_data"
    },
    {
     "ename": "ERROR",
     "evalue": "Error in colMeans(x, na.rm = TRUE): 'x' must be numeric\n",
     "output_type": "error",
     "traceback": [
      "Error in colMeans(x, na.rm = TRUE): 'x' must be numeric\nTraceback:\n",
      "1. summary(scale(iris))",
      "2. scale(iris)",
      "3. scale.default(iris)",
      "4. colMeans(x, na.rm = TRUE)"
     ]
    }
   ],
   "source": [
    "summary(iris)\n",
    "summary(scale(iris))\n",
    "\n",
    "\n",
    "\n"
   ]
  },
  {
   "cell_type": "markdown",
   "metadata": {},
   "source": [
    "### 성립할 수 없는 문제를 맞추고 있었던 것이다. 그래서 데이터를 잘 살펴보아야 한다는 것이다."
   ]
  },
  {
   "cell_type": "code",
   "execution_count": null,
   "metadata": {},
   "outputs": [],
   "source": []
  }
 ],
 "metadata": {
  "kernelspec": {
   "display_name": "R",
   "language": "R",
   "name": "ir"
  },
  "language_info": {
   "codemirror_mode": "r",
   "file_extension": ".r",
   "mimetype": "text/x-r-source",
   "name": "R",
   "pygments_lexer": "r",
   "version": "3.5.1"
  }
 },
 "nbformat": 4,
 "nbformat_minor": 2
}
