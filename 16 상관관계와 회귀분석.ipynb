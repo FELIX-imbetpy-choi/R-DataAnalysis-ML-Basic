{
 "cells": [
  {
   "cell_type": "code",
   "execution_count": 1,
   "metadata": {},
   "outputs": [],
   "source": [
    "x <- c(1,2,3,4)\n",
    "y <- c(0,5,7,9)\n",
    "\n",
    "\n",
    "\n",
    "\n"
   ]
  },
  {
   "cell_type": "code",
   "execution_count": 4,
   "metadata": {},
   "outputs": [
    {
     "data": {
      "text/html": [
       "0.96936309217407"
      ],
      "text/latex": [
       "0.96936309217407"
      ],
      "text/markdown": [
       "0.96936309217407"
      ],
      "text/plain": [
       "[1] 0.9693631"
      ]
     },
     "metadata": {},
     "output_type": "display_data"
    },
    {
     "data": {
      "text/html": [
       "0.96936309217407"
      ],
      "text/latex": [
       "0.96936309217407"
      ],
      "text/markdown": [
       "0.96936309217407"
      ],
      "text/plain": [
       "[1] 0.9693631"
      ]
     },
     "metadata": {},
     "output_type": "display_data"
    },
    {
     "data": {
      "text/html": [
       "1"
      ],
      "text/latex": [
       "1"
      ],
      "text/markdown": [
       "1"
      ],
      "text/plain": [
       "[1] 1"
      ]
     },
     "metadata": {},
     "output_type": "display_data"
    }
   ],
   "source": [
    "# x와 y의 상관계수\n",
    "cor(x,y)\n",
    "\n",
    "# x와 y의 피어슨 상관계수  \n",
    "cor(x,y, method = \"pearson\") # 디폴트 값이 pearson 이다\n",
    "\n",
    "# x와 y의 스피어맨 상관계수 - 위와 같이 데이터가 얼마 없을 때 써야할 것은 스피어맨 이다.\n",
    "cor(x,y, method = \"spearman\") \n",
    "\n",
    "\n",
    "\n"
   ]
  },
  {
   "cell_type": "code",
   "execution_count": 6,
   "metadata": {},
   "outputs": [
    {
     "data": {
      "text/html": [
       "0.751316564233693"
      ],
      "text/latex": [
       "0.751316564233693"
      ],
      "text/markdown": [
       "0.751316564233693"
      ],
      "text/plain": [
       "[1] 0.7513166"
      ]
     },
     "metadata": {},
     "output_type": "display_data"
    },
    {
     "data": {
      "text/html": [
       "0.4"
      ],
      "text/latex": [
       "0.4"
      ],
      "text/markdown": [
       "0.4"
      ],
      "text/plain": [
       "[1] 0.4"
      ]
     },
     "metadata": {},
     "output_type": "display_data"
    }
   ],
   "source": [
    "x <- c(1,2,3,4)\n",
    "y <- c(9,10,5,100)\n",
    "cor(x,y, method = \"pearson\") \n",
    "cor(x,y, method = \"spearman\")  # 정답은 여기이다. 15개 미만은 스피어맨을 사용하는 것이 맞다\n",
    "\n",
    "\n",
    "\n"
   ]
  },
  {
   "cell_type": "markdown",
   "metadata": {},
   "source": [
    "### 담배값 인상이 흡연에 미치는 영향\n",
    "귀무가설 : 담배값 인상과 흡연과는 관계가 없다.    \n",
    "대립가설 : 담배값 인상과 흡연과는 관계가 있다.    "
   ]
  },
  {
   "cell_type": "code",
   "execution_count": 18,
   "metadata": {},
   "outputs": [
    {
     "data": {
      "text/html": [
       "0.929878048780488"
      ],
      "text/latex": [
       "0.929878048780488"
      ],
      "text/markdown": [
       "0.929878048780488"
      ],
      "text/plain": [
       "[1] 0.929878"
      ]
     },
     "metadata": {},
     "output_type": "display_data"
    },
    {
     "name": "stderr",
     "output_type": "stream",
     "text": [
      "Warning message in cor.test.default(x, y, method = \"spearman\"):\n",
      "“Cannot compute exact p-value with ties”"
     ]
    },
    {
     "data": {
      "text/plain": [
       "\n",
       "\tSpearman's rank correlation rho\n",
       "\n",
       "data:  x and y\n",
       "S = 11.57, p-value = 9.713e-05\n",
       "alternative hypothesis: true rho is not equal to 0\n",
       "sample estimates:\n",
       "     rho \n",
       "0.929878 \n"
      ]
     },
     "metadata": {},
     "output_type": "display_data"
    }
   ],
   "source": [
    "x <- c(70,72,62,64,71,76,0,65,74,72) # 인상전 \n",
    "y <- c(70,74,65,68,72,74,61,66,76,75) # 인상후\n",
    "\n",
    "cor(x,y, method = \"spearman\")\n",
    "\n",
    "# 상관검증 \n",
    "cor.test(x,y, method = \"spearman\")\n",
    "\n",
    "# p-value = 0.327 > 0.05 므로 귀무가설을 채택  -  관련이 없다.\n",
    "#  상관계수는 0.77,   p-value = 0.008752 < 0.05 이므로 대립가설을 채택 - 관계가 있다.\n",
    "\n",
    "# 이렇게 대립가설이 채택되면 분석 시작\n",
    "\n",
    "\n",
    "\n",
    "\n",
    "\n",
    "\n",
    "\n"
   ]
  },
  {
   "cell_type": "markdown",
   "metadata": {},
   "source": [
    "# 회귀분석 짱 많이 써요!"
   ]
  },
  {
   "cell_type": "code",
   "execution_count": 19,
   "metadata": {},
   "outputs": [],
   "source": [
    "regression <- read.csv(\"../Data/regression.csv\")\n",
    "\n",
    "\n",
    "\n"
   ]
  },
  {
   "cell_type": "code",
   "execution_count": 20,
   "metadata": {},
   "outputs": [
    {
     "data": {
      "text/html": [
       "<table>\n",
       "<thead><tr><th scope=col>age</th><th scope=col>Height</th><th scope=col>Weight</th></tr></thead>\n",
       "<tbody>\n",
       "\t<tr><td>0~3Months  </td><td> 59.1      </td><td> 5.9       </td></tr>\n",
       "\t<tr><td>3~6Months  </td><td> 66.7      </td><td> 8.0       </td></tr>\n",
       "\t<tr><td>6~9Months  </td><td> 71.4      </td><td> 8.9       </td></tr>\n",
       "\t<tr><td>9~12Months </td><td> 75.0      </td><td>10.1       </td></tr>\n",
       "\t<tr><td>12~18Months</td><td> 80.1      </td><td>10.9       </td></tr>\n",
       "\t<tr><td>2Year      </td><td> 87.8      </td><td>13.2       </td></tr>\n",
       "\t<tr><td>3Year      </td><td> 95.2      </td><td>14.8       </td></tr>\n",
       "\t<tr><td>4Year      </td><td>102.3      </td><td>16.7       </td></tr>\n",
       "\t<tr><td>5Year      </td><td>109.0      </td><td>19.1       </td></tr>\n",
       "\t<tr><td>6Year      </td><td>115.5      </td><td>21.5       </td></tr>\n",
       "\t<tr><td>7Year      </td><td>122.0      </td><td>24.9       </td></tr>\n",
       "\t<tr><td>8Year      </td><td>127.8      </td><td>28.5       </td></tr>\n",
       "\t<tr><td>9Year      </td><td>133.3      </td><td>32.3       </td></tr>\n",
       "\t<tr><td>10Year     </td><td>138.0      </td><td>35.4       </td></tr>\n",
       "\t<tr><td>11Year     </td><td>144.9      </td><td>41.5       </td></tr>\n",
       "\t<tr><td>12Year     </td><td>150.7      </td><td>45.2       </td></tr>\n",
       "\t<tr><td>13Year     </td><td>158.2      </td><td>51.0       </td></tr>\n",
       "\t<tr><td>14Year     </td><td>164.7      </td><td>57.1       </td></tr>\n",
       "\t<tr><td>15Year     </td><td>169.2      </td><td>61.7       </td></tr>\n",
       "\t<tr><td>16Year     </td><td>170.3      </td><td>63.4       </td></tr>\n",
       "\t<tr><td>17Year     </td><td>172.5      </td><td>65.2       </td></tr>\n",
       "\t<tr><td>18Year     </td><td>172.9      </td><td>67.4       </td></tr>\n",
       "\t<tr><td>19Year     </td><td>173.4      </td><td>68.3       </td></tr>\n",
       "\t<tr><td>20~24Year  </td><td>173.8      </td><td>69.5       </td></tr>\n",
       "\t<tr><td>25~29Year  </td><td>172.5      </td><td>70.1       </td></tr>\n",
       "\t<tr><td>30~34Year  </td><td>171.3      </td><td>71.5       </td></tr>\n",
       "\t<tr><td>35~39Year  </td><td>170.7      </td><td>72.3       </td></tr>\n",
       "\t<tr><td>40~49Year  </td><td>168.6      </td><td>70.6       </td></tr>\n",
       "\t<tr><td>50~59Year  </td><td>166.1      </td><td>69.1       </td></tr>\n",
       "\t<tr><td>60~69Year  </td><td>164.4      </td><td>65.9       </td></tr>\n",
       "\t<tr><td>70YearOver </td><td>162.4      </td><td>61.1       </td></tr>\n",
       "</tbody>\n",
       "</table>\n"
      ],
      "text/latex": [
       "\\begin{tabular}{r|lll}\n",
       " age & Height & Weight\\\\\n",
       "\\hline\n",
       "\t 0\\textasciitilde{}3Months   &  59.1                        &  5.9                        \\\\\n",
       "\t 3\\textasciitilde{}6Months   &  66.7                        &  8.0                        \\\\\n",
       "\t 6\\textasciitilde{}9Months   &  71.4                        &  8.9                        \\\\\n",
       "\t 9\\textasciitilde{}12Months  &  75.0                        & 10.1                        \\\\\n",
       "\t 12\\textasciitilde{}18Months &  80.1                        & 10.9                        \\\\\n",
       "\t 2Year       &  87.8       & 13.2       \\\\\n",
       "\t 3Year       &  95.2       & 14.8       \\\\\n",
       "\t 4Year       & 102.3       & 16.7       \\\\\n",
       "\t 5Year       & 109.0       & 19.1       \\\\\n",
       "\t 6Year       & 115.5       & 21.5       \\\\\n",
       "\t 7Year       & 122.0       & 24.9       \\\\\n",
       "\t 8Year       & 127.8       & 28.5       \\\\\n",
       "\t 9Year       & 133.3       & 32.3       \\\\\n",
       "\t 10Year      & 138.0       & 35.4       \\\\\n",
       "\t 11Year      & 144.9       & 41.5       \\\\\n",
       "\t 12Year      & 150.7       & 45.2       \\\\\n",
       "\t 13Year      & 158.2       & 51.0       \\\\\n",
       "\t 14Year      & 164.7       & 57.1       \\\\\n",
       "\t 15Year      & 169.2       & 61.7       \\\\\n",
       "\t 16Year      & 170.3       & 63.4       \\\\\n",
       "\t 17Year      & 172.5       & 65.2       \\\\\n",
       "\t 18Year      & 172.9       & 67.4       \\\\\n",
       "\t 19Year      & 173.4       & 68.3       \\\\\n",
       "\t 20\\textasciitilde{}24Year   & 173.8                        & 69.5                        \\\\\n",
       "\t 25\\textasciitilde{}29Year   & 172.5                        & 70.1                        \\\\\n",
       "\t 30\\textasciitilde{}34Year   & 171.3                        & 71.5                        \\\\\n",
       "\t 35\\textasciitilde{}39Year   & 170.7                        & 72.3                        \\\\\n",
       "\t 40\\textasciitilde{}49Year   & 168.6                        & 70.6                        \\\\\n",
       "\t 50\\textasciitilde{}59Year   & 166.1                        & 69.1                        \\\\\n",
       "\t 60\\textasciitilde{}69Year   & 164.4                        & 65.9                        \\\\\n",
       "\t 70YearOver  & 162.4       & 61.1       \\\\\n",
       "\\end{tabular}\n"
      ],
      "text/markdown": [
       "\n",
       "age | Height | Weight | \n",
       "|---|---|---|---|---|---|---|---|---|---|---|---|---|---|---|---|---|---|---|---|---|---|---|---|---|---|---|---|---|---|---|\n",
       "| 0~3Months   |  59.1       |  5.9        | \n",
       "| 3~6Months   |  66.7       |  8.0        | \n",
       "| 6~9Months   |  71.4       |  8.9        | \n",
       "| 9~12Months  |  75.0       | 10.1        | \n",
       "| 12~18Months |  80.1       | 10.9        | \n",
       "| 2Year       |  87.8       | 13.2        | \n",
       "| 3Year       |  95.2       | 14.8        | \n",
       "| 4Year       | 102.3       | 16.7        | \n",
       "| 5Year       | 109.0       | 19.1        | \n",
       "| 6Year       | 115.5       | 21.5        | \n",
       "| 7Year       | 122.0       | 24.9        | \n",
       "| 8Year       | 127.8       | 28.5        | \n",
       "| 9Year       | 133.3       | 32.3        | \n",
       "| 10Year      | 138.0       | 35.4        | \n",
       "| 11Year      | 144.9       | 41.5        | \n",
       "| 12Year      | 150.7       | 45.2        | \n",
       "| 13Year      | 158.2       | 51.0        | \n",
       "| 14Year      | 164.7       | 57.1        | \n",
       "| 15Year      | 169.2       | 61.7        | \n",
       "| 16Year      | 170.3       | 63.4        | \n",
       "| 17Year      | 172.5       | 65.2        | \n",
       "| 18Year      | 172.9       | 67.4        | \n",
       "| 19Year      | 173.4       | 68.3        | \n",
       "| 20~24Year   | 173.8       | 69.5        | \n",
       "| 25~29Year   | 172.5       | 70.1        | \n",
       "| 30~34Year   | 171.3       | 71.5        | \n",
       "| 35~39Year   | 170.7       | 72.3        | \n",
       "| 40~49Year   | 168.6       | 70.6        | \n",
       "| 50~59Year   | 166.1       | 69.1        | \n",
       "| 60~69Year   | 164.4       | 65.9        | \n",
       "| 70YearOver  | 162.4       | 61.1        | \n",
       "\n",
       "\n"
      ],
      "text/plain": [
       "   age         Height Weight\n",
       "1  0~3Months    59.1   5.9  \n",
       "2  3~6Months    66.7   8.0  \n",
       "3  6~9Months    71.4   8.9  \n",
       "4  9~12Months   75.0  10.1  \n",
       "5  12~18Months  80.1  10.9  \n",
       "6  2Year        87.8  13.2  \n",
       "7  3Year        95.2  14.8  \n",
       "8  4Year       102.3  16.7  \n",
       "9  5Year       109.0  19.1  \n",
       "10 6Year       115.5  21.5  \n",
       "11 7Year       122.0  24.9  \n",
       "12 8Year       127.8  28.5  \n",
       "13 9Year       133.3  32.3  \n",
       "14 10Year      138.0  35.4  \n",
       "15 11Year      144.9  41.5  \n",
       "16 12Year      150.7  45.2  \n",
       "17 13Year      158.2  51.0  \n",
       "18 14Year      164.7  57.1  \n",
       "19 15Year      169.2  61.7  \n",
       "20 16Year      170.3  63.4  \n",
       "21 17Year      172.5  65.2  \n",
       "22 18Year      172.9  67.4  \n",
       "23 19Year      173.4  68.3  \n",
       "24 20~24Year   173.8  69.5  \n",
       "25 25~29Year   172.5  70.1  \n",
       "26 30~34Year   171.3  71.5  \n",
       "27 35~39Year   170.7  72.3  \n",
       "28 40~49Year   168.6  70.6  \n",
       "29 50~59Year   166.1  69.1  \n",
       "30 60~69Year   164.4  65.9  \n",
       "31 70YearOver  162.4  61.1  "
      ]
     },
     "metadata": {},
     "output_type": "display_data"
    }
   ],
   "source": [
    "regression\n",
    "\n",
    "\n",
    "\n"
   ]
  },
  {
   "cell_type": "code",
   "execution_count": 21,
   "metadata": {},
   "outputs": [
    {
     "name": "stdout",
     "output_type": "stream",
     "text": [
      "'data.frame':\t31 obs. of  3 variables:\n",
      " $ age   : Factor w/ 31 levels \"0~3Months\",\"10Year\",..: 1 16 24 30 4 15 19 21 23 26 ...\n",
      " $ Height: num  59.1 66.7 71.4 75 80.1 ...\n",
      " $ Weight: num  5.9 8 8.9 10.1 10.9 13.2 14.8 16.7 19.1 21.5 ...\n"
     ]
    }
   ],
   "source": [
    "str(regression)\n",
    "\n",
    "\n",
    "\n"
   ]
  },
  {
   "cell_type": "code",
   "execution_count": 23,
   "metadata": {},
   "outputs": [
    {
     "data": {
      "text/plain": [
       "          age         Height          Weight     \n",
       " 0~3Months  : 1   Min.   : 59.1   Min.   : 5.90  \n",
       " 10Year     : 1   1st Qu.:105.7   1st Qu.:17.90  \n",
       " 11Year     : 1   Median :150.7   Median :45.20  \n",
       " 12~18Months: 1   Mean   :135.8   Mean   :42.62  \n",
       " 12Year     : 1   3rd Qu.:169.8   3rd Qu.:66.65  \n",
       " 13Year     : 1   Max.   :173.8   Max.   :72.30  \n",
       " (Other)    :25                                  "
      ]
     },
     "metadata": {},
     "output_type": "display_data"
    }
   ],
   "source": [
    "# 기본통계량 확인\n",
    "summary(regression)\n",
    "\n",
    "\n",
    "\n"
   ]
  },
  {
   "cell_type": "code",
   "execution_count": 27,
   "metadata": {},
   "outputs": [
    {
     "data": {
      "image/png": "[encoded data removed]",
      "text/plain": [
       "plot without title"
      ]
     },
     "metadata": {},
     "output_type": "display_data"
    }
   ],
   "source": [
    "boxplot(regression$Height,regression$Weight)\n",
    "\n",
    "\n",
    "\n"
   ]
  },
  {
   "cell_type": "code",
   "execution_count": 28,
   "metadata": {},
   "outputs": [
    {
     "data": {
      "text/plain": [
       "\n",
       " 59.1  66.7  71.4    75  80.1  87.8  95.2 102.3   109 115.5   122 127.8 133.3 \n",
       "    1     1     1     1     1     1     1     1     1     1     1     1     1 \n",
       "  138 144.9 150.7 158.2 162.4 164.4 164.7 166.1 168.6 169.2 170.3 170.7 171.3 \n",
       "    1     1     1     1     1     1     1     1     1     1     1     1     1 \n",
       "172.5 172.9 173.4 173.8 \n",
       "    2     1     1     1 "
      ]
     },
     "metadata": {},
     "output_type": "display_data"
    }
   ],
   "source": [
    "table(regression$Height)\n",
    "\n",
    "\n",
    "\n"
   ]
  },
  {
   "cell_type": "code",
   "execution_count": 29,
   "metadata": {},
   "outputs": [
    {
     "data": {
      "text/plain": [
       "\n",
       " 5.9    8  8.9 10.1 10.9 13.2 14.8 16.7 19.1 21.5 24.9 28.5 32.3 35.4 41.5 45.2 \n",
       "   1    1    1    1    1    1    1    1    1    1    1    1    1    1    1    1 \n",
       "  51 57.1 61.1 61.7 63.4 65.2 65.9 67.4 68.3 69.1 69.5 70.1 70.6 71.5 72.3 \n",
       "   1    1    1    1    1    1    1    1    1    1    1    1    1    1    1 "
      ]
     },
     "metadata": {},
     "output_type": "display_data"
    }
   ],
   "source": [
    "table(regression$Weight)\n",
    "\n",
    "\n",
    "\n"
   ]
  },
  {
   "cell_type": "code",
   "execution_count": 30,
   "metadata": {},
   "outputs": [
    {
     "data": {
      "image/png": "[encoded data removed]",
      "text/plain": [
       "Plot with title “Histogram of regression$Height”"
      ]
     },
     "metadata": {},
     "output_type": "display_data"
    }
   ],
   "source": [
    "# 빈도수 찍기\n",
    "hist(regression$Height)\n",
    "\n",
    "\n",
    "\n"
   ]
  },
  {
   "cell_type": "code",
   "execution_count": 31,
   "metadata": {},
   "outputs": [
    {
     "data": {
      "image/png": "[encoded data removed]",
      "text/plain": [
       "Plot with title “Histogram of regression$Weight”"
      ]
     },
     "metadata": {},
     "output_type": "display_data"
    }
   ],
   "source": [
    "# 빈도수 찍기\n",
    "hist(regression$Weight)\n",
    "\n",
    "\n",
    "\n"
   ]
  },
  {
   "cell_type": "code",
   "execution_count": 32,
   "metadata": {},
   "outputs": [
    {
     "name": "stdout",
     "output_type": "stream",
     "text": [
      "\n",
      "  The decimal point is 1 digit(s) to the right of the |\n",
      "\n",
      "   4 | 9\n",
      "   6 | 715\n",
      "   8 | 085\n",
      "  10 | 296\n",
      "  12 | 2838\n",
      "  14 | 518\n",
      "  16 | 24569901133334\n",
      "\n"
     ]
    }
   ],
   "source": [
    "stem(regression$Height)\n",
    "\n",
    "\n",
    "\n"
   ]
  },
  {
   "cell_type": "code",
   "execution_count": 34,
   "metadata": {},
   "outputs": [
    {
     "data": {
      "image/png": "[encoded data removed]",
      "text/plain": [
       "plot without title"
      ]
     },
     "metadata": {},
     "output_type": "display_data"
    }
   ],
   "source": [
    "# 산점도\n",
    "plot(regression$Height,regression$Weight)\n",
    "\n",
    "\n",
    "\n"
   ]
  },
  {
   "cell_type": "code",
   "execution_count": null,
   "metadata": {},
   "outputs": [],
   "source": [
    "# 산점도의 종속변수와 \n",
    "plot(regression$Height,regression$Weight)\n",
    "\n",
    "\n",
    "\n"
   ]
  },
  {
   "cell_type": "code",
   "execution_count": 39,
   "metadata": {},
   "outputs": [
    {
     "data": {
      "image/png": "[encoded data removed]",
      "text/plain": [
       "Plot with title “키와 몸무게의 상관성”"
      ]
     },
     "metadata": {},
     "output_type": "display_data"
    }
   ],
   "source": [
    "\n",
    "plot(regression$Weight ~ regression$Height,\n",
    "    main = \"키와 몸무게의 상관성\",\n",
    "    xlab = \"키\",\n",
    "    ylab = \"몸무게\"\n",
    "    )   # 키를 독립변수로 두어 순서대로 보고 몸무게를 종속변수로 두는 상황\n",
    "\n",
    "\n",
    "\n"
   ]
  },
  {
   "cell_type": "code",
   "execution_count": 36,
   "metadata": {},
   "outputs": [
    {
     "data": {
      "text/html": [
       "0.967210305922711"
      ],
      "text/latex": [
       "0.967210305922711"
      ],
      "text/markdown": [
       "0.967210305922711"
      ],
      "text/plain": [
       "[1] 0.9672103"
      ]
     },
     "metadata": {},
     "output_type": "display_data"
    }
   ],
   "source": [
    "cor(regression$Weight, regression$Height)\n",
    "\n",
    "\n",
    "\n"
   ]
  },
  {
   "cell_type": "code",
   "execution_count": 37,
   "metadata": {},
   "outputs": [
    {
     "data": {
      "text/plain": [
       "\n",
       "\tPearson's product-moment correlation\n",
       "\n",
       "data:  regression$Weight and regression$Height\n",
       "t = 20.508, df = 29, p-value < 2.2e-16\n",
       "alternative hypothesis: true correlation is not equal to 0\n",
       "95 percent confidence interval:\n",
       " 0.9324360 0.9842328\n",
       "sample estimates:\n",
       "      cor \n",
       "0.9672103 \n"
      ]
     },
     "metadata": {},
     "output_type": "display_data"
    }
   ],
   "source": [
    "cor.test(regression$Weight, regression$Height)\n",
    "\n",
    "# 대립가설 채택 : 키는 몸무게에 영향을 미친다. \n",
    "\n",
    "\n",
    "\n"
   ]
  },
  {
   "cell_type": "code",
   "execution_count": 41,
   "metadata": {},
   "outputs": [
    {
     "data": {
      "text/plain": [
       "\n",
       "Call:\n",
       "lm(formula = regression$Weight ~ regression$Height)\n",
       "\n",
       "Coefficients:\n",
       "      (Intercept)  regression$Height  \n",
       "         -40.8659             0.6147  \n"
      ]
     },
     "metadata": {},
     "output_type": "display_data"
    },
    {
     "data": {
      "image/png": "[encoded data removed]",
      "text/plain": [
       "Plot with title “키와 몸무게의 상관성”"
      ]
     },
     "metadata": {},
     "output_type": "display_data"
    }
   ],
   "source": [
    "plot(regression$Weight ~ regression$Height,\n",
    "    main = \"키와 몸무게의 상관성\",\n",
    "    xlab = \"키\",\n",
    "    ylab = \"몸무게\"\n",
    "    )   \n",
    "# 회귀분석 : lm (종속변수)\n",
    "r <- lm(regression$Weight ~ regression$Height)\n",
    "r\n",
    "# 회귀선 그리기\n",
    "abline(r)\n",
    "\n",
    "\n",
    "\n",
    "\n",
    "\n",
    "\n",
    "\n"
   ]
  },
  {
   "cell_type": "markdown",
   "metadata": {},
   "source": [
    "### 회귀선 그리는거 진짜 중요해욥"
   ]
  },
  {
   "cell_type": "code",
   "execution_count": 42,
   "metadata": {},
   "outputs": [
    {
     "data": {
      "text/plain": [
       "\n",
       "Call:\n",
       "lm(formula = regression$Weight ~ regression$Height)\n",
       "\n",
       "Coefficients:\n",
       "      (Intercept)  regression$Height  \n",
       "         -40.8659             0.6147  \n"
      ]
     },
     "metadata": {},
     "output_type": "display_data"
    }
   ],
   "source": [
    "# r 이 함수식이다? \n",
    "r\n",
    "\n",
    "\n",
    "\n"
   ]
  },
  {
   "cell_type": "markdown",
   "metadata": {},
   "source": [
    "### 이러한 함수식을 준 것 이다.\n",
    "y(regression$Weight) =  0.6147  * (regression$Height) + (-40.8659) # 따라서 키값을 가져오면 몸무게를 예측가능"
   ]
  },
  {
   "cell_type": "code",
   "execution_count": 43,
   "metadata": {},
   "outputs": [
    {
     "data": {
      "text/html": [
       "66.0919"
      ],
      "text/latex": [
       "66.0919"
      ],
      "text/markdown": [
       "66.0919"
      ],
      "text/plain": [
       "[1] 66.0919"
      ]
     },
     "metadata": {},
     "output_type": "display_data"
    }
   ],
   "source": [
    "(0.6147*174)+-40.8659\n",
    "\n",
    "\n",
    "\n"
   ]
  },
  {
   "cell_type": "code",
   "execution_count": 46,
   "metadata": {},
   "outputs": [
    {
     "data": {
      "text/plain": [
       "\n",
       "Call:\n",
       "lm(formula = regression$Weight ~ regression$Height)\n",
       "\n",
       "Residuals:\n",
       "    Min      1Q  Median      3Q     Max \n",
       "-9.2327 -5.9811  0.0915  5.3125 10.4346 \n",
       "\n",
       "Coefficients:\n",
       "                   Estimate Std. Error t value Pr(>|t|)    \n",
       "(Intercept)       -40.86594    4.22768  -9.666 1.42e-10 ***\n",
       "regression$Height   0.61474    0.02998  20.508  < 2e-16 ***\n",
       "---\n",
       "Signif. codes:  0 ‘***’ 0.001 ‘**’ 0.01 ‘*’ 0.05 ‘.’ 0.1 ‘ ’ 1\n",
       "\n",
       "Residual standard error: 6.355 on 29 degrees of freedom\n",
       "Multiple R-squared:  0.9355,\tAdjusted R-squared:  0.9333 \n",
       "F-statistic: 420.6 on 1 and 29 DF,  p-value: < 2.2e-16\n"
      ]
     },
     "metadata": {},
     "output_type": "display_data"
    }
   ],
   "source": [
    "# 분석결과 -- 이게 분석결과??\n",
    "summary(r)\n",
    "\n",
    "\n",
    "\n"
   ]
  },
  {
   "cell_type": "markdown",
   "metadata": {},
   "source": [
    "### summary 도 짱많이 써욥\n",
    "p-value: < 2.2e-16 기준값보다 작다 : 신뢰구간이 95% 이상이다.    \n",
    "Adjusted R-squared:  0.9333  : 93% 이상의 예측력을 가진다.     \n",
    "regression$Height   0.61474    0.02998  20.508  < 2e-16 *** : 별 3개 키와 몸무게는 유의미한 관계가 있음. ( 별 - 3,2,1, '.',0)     "
   ]
  },
  {
   "cell_type": "markdown",
   "metadata": {},
   "source": [
    "### 문제\n",
    "1) IQ 데이터를 사용하여  126인 사람의 성적을 예측해 보시오    \n",
    "2) 성적과 가장 관련이 깊은 항목은?    \n",
    "3) 학원을 몇군데 다녀야 성적이 90점 이상?    \n",
    "4) 성적이 85점이상이려면 IQ는 얼마이상?    "
   ]
  },
  {
   "cell_type": "code",
   "execution_count": 35,
   "metadata": {},
   "outputs": [
    {
     "data": {
      "text/html": [
       "<table>\n",
       "<thead><tr><th scope=col>이름</th><th scope=col>성적</th><th scope=col>IQ</th><th scope=col>다니는.학원수</th><th scope=col>게임하는.시간</th><th scope=col>TV시청.시간</th></tr></thead>\n",
       "<tbody>\n",
       "\t<tr><td>A  </td><td>90 </td><td>140</td><td>2  </td><td>1  </td><td>0  </td></tr>\n",
       "\t<tr><td>B  </td><td>75 </td><td>125</td><td>1  </td><td>3  </td><td>3  </td></tr>\n",
       "\t<tr><td>C  </td><td>77 </td><td>120</td><td>1  </td><td>0  </td><td>4  </td></tr>\n",
       "\t<tr><td>D  </td><td>83 </td><td>135</td><td>2  </td><td>3  </td><td>2  </td></tr>\n",
       "\t<tr><td>E  </td><td>65 </td><td>105</td><td>0  </td><td>4  </td><td>4  </td></tr>\n",
       "\t<tr><td>F  </td><td>80 </td><td>123</td><td>3  </td><td>1  </td><td>1  </td></tr>\n",
       "\t<tr><td>G  </td><td>83 </td><td>132</td><td>3  </td><td>4  </td><td>1  </td></tr>\n",
       "\t<tr><td>H  </td><td>70 </td><td>115</td><td>1  </td><td>1  </td><td>3  </td></tr>\n",
       "\t<tr><td>I  </td><td>87 </td><td>128</td><td>4  </td><td>0  </td><td>0  </td></tr>\n",
       "\t<tr><td>J  </td><td>79 </td><td>131</td><td>2  </td><td>2  </td><td>3  </td></tr>\n",
       "</tbody>\n",
       "</table>\n"
      ],
      "text/latex": [
       "\\begin{tabular}{r|llllll}\n",
       " 이름 & 성적 & IQ & 다니는.학원수 & 게임하는.시간 & TV시청.시간\\\\\n",
       "\\hline\n",
       "\t A   & 90  & 140 & 2   & 1   & 0  \\\\\n",
       "\t B   & 75  & 125 & 1   & 3   & 3  \\\\\n",
       "\t C   & 77  & 120 & 1   & 0   & 4  \\\\\n",
       "\t D   & 83  & 135 & 2   & 3   & 2  \\\\\n",
       "\t E   & 65  & 105 & 0   & 4   & 4  \\\\\n",
       "\t F   & 80  & 123 & 3   & 1   & 1  \\\\\n",
       "\t G   & 83  & 132 & 3   & 4   & 1  \\\\\n",
       "\t H   & 70  & 115 & 1   & 1   & 3  \\\\\n",
       "\t I   & 87  & 128 & 4   & 0   & 0  \\\\\n",
       "\t J   & 79  & 131 & 2   & 2   & 3  \\\\\n",
       "\\end{tabular}\n"
      ],
      "text/markdown": [
       "\n",
       "이름 | 성적 | IQ | 다니는.학원수 | 게임하는.시간 | TV시청.시간 | \n",
       "|---|---|---|---|---|---|---|---|---|---|\n",
       "| A   | 90  | 140 | 2   | 1   | 0   | \n",
       "| B   | 75  | 125 | 1   | 3   | 3   | \n",
       "| C   | 77  | 120 | 1   | 0   | 4   | \n",
       "| D   | 83  | 135 | 2   | 3   | 2   | \n",
       "| E   | 65  | 105 | 0   | 4   | 4   | \n",
       "| F   | 80  | 123 | 3   | 1   | 1   | \n",
       "| G   | 83  | 132 | 3   | 4   | 1   | \n",
       "| H   | 70  | 115 | 1   | 1   | 3   | \n",
       "| I   | 87  | 128 | 4   | 0   | 0   | \n",
       "| J   | 79  | 131 | 2   | 2   | 3   | \n",
       "\n",
       "\n"
      ],
      "text/plain": [
       "   이름 성적 IQ  다니는.학원수 게임하는.시간 TV시청.시간\n",
       "1  A    90   140 2             1             0          \n",
       "2  B    75   125 1             3             3          \n",
       "3  C    77   120 1             0             4          \n",
       "4  D    83   135 2             3             2          \n",
       "5  E    65   105 0             4             4          \n",
       "6  F    80   123 3             1             1          \n",
       "7  G    83   132 3             4             1          \n",
       "8  H    70   115 1             1             3          \n",
       "9  I    87   128 4             0             0          \n",
       "10 J    79   131 2             2             3          "
      ]
     },
     "metadata": {},
     "output_type": "display_data"
    }
   ],
   "source": [
    "IQ <- read.csv('../Data/IQ.csv')\n",
    "IQ\n",
    "\n",
    "\n",
    "\n"
   ]
  },
  {
   "cell_type": "code",
   "execution_count": 51,
   "metadata": {},
   "outputs": [
    {
     "data": {
      "text/plain": [
       "\n",
       "Call:\n",
       "lm(formula = IQ$성적 ~ IQ$IQ)\n",
       "\n",
       "Coefficients:\n",
       "(Intercept)        IQ$IQ  \n",
       "    -5.2918       0.6714  \n"
      ]
     },
     "metadata": {},
     "output_type": "display_data"
    },
    {
     "data": {
      "image/png": "[encoded data removed]",
      "text/plain": [
       "Plot with title “IQ와 성적의 관계”"
      ]
     },
     "metadata": {},
     "output_type": "display_data"
    }
   ],
   "source": [
    "plot(IQ$성적 ~ IQ$IQ,\n",
    "    main = \"IQ와 성적의 관계\",\n",
    "    xlab = \"IQ\",\n",
    "    ylab = \"성적\"\n",
    "    )   \n",
    "# 회귀분석 : lm (종속변수)\n",
    "r <- lm(IQ$성적 ~ IQ$IQ)\n",
    "r\n",
    "# 회귀선 그리기\n",
    "abline(r)\n",
    "\n",
    "\n",
    "\n",
    "\n",
    "\n",
    "\n",
    "\n"
   ]
  },
  {
   "cell_type": "code",
   "execution_count": 52,
   "metadata": {},
   "outputs": [
    {
     "data": {
      "text/plain": [
       "\n",
       "Call:\n",
       "lm(formula = IQ$성적 ~ IQ$IQ)\n",
       "\n",
       "Coefficients:\n",
       "(Intercept)        IQ$IQ  \n",
       "    -5.2918       0.6714  \n"
      ]
     },
     "metadata": {},
     "output_type": "display_data"
    }
   ],
   "source": [
    "r\n",
    "\n",
    "\n",
    "\n"
   ]
  },
  {
   "cell_type": "markdown",
   "metadata": {},
   "source": [
    "1) IQ 데이터를 사용하여 126인 사람의 성적을 예측해 보시오"
   ]
  },
  {
   "cell_type": "code",
   "execution_count": 53,
   "metadata": {},
   "outputs": [
    {
     "data": {
      "text/html": [
       "79.3046"
      ],
      "text/latex": [
       "79.3046"
      ],
      "text/markdown": [
       "79.3046"
      ],
      "text/plain": [
       "[1] 79.3046"
      ]
     },
     "metadata": {},
     "output_type": "display_data"
    }
   ],
   "source": [
    "(0.6714 *126)+-5.2918\n",
    "\n",
    "\n",
    "\n"
   ]
  },
  {
   "cell_type": "markdown",
   "metadata": {},
   "source": [
    "2) 성적과 가장 관련이 깊은 항목은?"
   ]
  },
  {
   "cell_type": "code",
   "execution_count": 56,
   "metadata": {},
   "outputs": [
    {
     "data": {
      "text/html": [
       "0.910224243842902"
      ],
      "text/latex": [
       "0.910224243842902"
      ],
      "text/markdown": [
       "0.910224243842902"
      ],
      "text/plain": [
       "[1] 0.9102242"
      ]
     },
     "metadata": {},
     "output_type": "display_data"
    },
    {
     "data": {
      "text/html": [
       "0.78405144055891"
      ],
      "text/latex": [
       "0.78405144055891"
      ],
      "text/markdown": [
       "0.78405144055891"
      ],
      "text/plain": [
       "[1] 0.7840514"
      ]
     },
     "metadata": {},
     "output_type": "display_data"
    },
    {
     "data": {
      "text/html": [
       "-0.338354944603278"
      ],
      "text/latex": [
       "-0.338354944603278"
      ],
      "text/markdown": [
       "-0.338354944603278"
      ],
      "text/plain": [
       "[1] -0.3383549"
      ]
     },
     "metadata": {},
     "output_type": "display_data"
    },
    {
     "data": {
      "text/html": [
       "-0.847333322809918"
      ],
      "text/latex": [
       "-0.847333322809918"
      ],
      "text/markdown": [
       "-0.847333322809918"
      ],
      "text/plain": [
       "[1] -0.8473333"
      ]
     },
     "metadata": {},
     "output_type": "display_data"
    }
   ],
   "source": [
    "# 성적과 가장 관련이 깂은 항목은\n",
    "cor(IQ$성적,IQ$IQ)\n",
    "cor(IQ$성적,IQ$다니는.학원수)\n",
    "cor(IQ$성적,IQ$게임하는.시간)\n",
    "cor(IQ$성적,IQ$TV시청.시간)\n",
    "# 아이큐가 가장 관련이 높다\n",
    "\n",
    "\n",
    "\n"
   ]
  },
  {
   "cell_type": "markdown",
   "metadata": {},
   "source": [
    "3) 학원을 몇군데 다녀야 성적이 90점 이상?"
   ]
  },
  {
   "cell_type": "code",
   "execution_count": 101,
   "metadata": {},
   "outputs": [
    {
     "data": {
      "text/plain": [
       "\n",
       "Call:\n",
       "lm(formula = IQ$성적 ~ IQ$다니는.학원수)\n",
       "\n",
       "Coefficients:\n",
       "     (Intercept)  IQ$다니는.학원수  \n",
       "          69.488             4.953  \n"
      ]
     },
     "metadata": {},
     "output_type": "display_data"
    },
    {
     "data": {
      "text/html": [
       "89.3"
      ],
      "text/latex": [
       "89.3"
      ],
      "text/markdown": [
       "89.3"
      ],
      "text/plain": [
       "[1] 89.3"
      ]
     },
     "metadata": {},
     "output_type": "display_data"
    }
   ],
   "source": [
    "# 학원을 몇군데 다녀야 성적이 90점 이상 될까?\n",
    "r <- lm(IQ$성적 ~ IQ$다니는.학원수)\n",
    "r\n",
    "(4.953 * 4)+ 69.488\n",
    "\n",
    "for(i in seq(1,200,0.001)){\n",
    "    kk <- (4.953 * 4)+ 69.488\n",
    "    if (kk > 90) {\n",
    "        print(i)\n",
    "        break\n",
    "    }\n",
    "}\n",
    "\n",
    "# 4군데 이상 5군데는 다녀야 성적이 90이상이 된다.\n",
    "\n",
    "\n",
    "\n",
    "\n",
    "\n",
    "\n",
    "\n"
   ]
  },
  {
   "cell_type": "markdown",
   "metadata": {},
   "source": [
    "4) 성적이 85점이상이려면 IQ는 얼마이상?"
   ]
  },
  {
   "cell_type": "code",
   "execution_count": 100,
   "metadata": {},
   "outputs": [
    {
     "data": {
      "text/plain": [
       "\n",
       "Call:\n",
       "lm(formula = IQ$성적 ~ IQ$IQ)\n",
       "\n",
       "Coefficients:\n",
       "(Intercept)        IQ$IQ  \n",
       "    -5.2918       0.6714  \n"
      ]
     },
     "metadata": {},
     "output_type": "display_data"
    },
    {
     "name": "stdout",
     "output_type": "stream",
     "text": [
      "[1] 134.483\n"
     ]
    }
   ],
   "source": [
    "# 성적이 85점 이상이 나오려면 IQ는 얼마이상?\n",
    "r <- lm(IQ$성적 ~ IQ$IQ)\n",
    "r\n",
    "\n",
    "for(i in seq(1,200,0.001)){\n",
    "    kk <- (0.6714  * i)+ -5.2918\n",
    "    if (kk > 85) {\n",
    "        print(i)\n",
    "        break\n",
    "    }\n",
    "}\n",
    "\n",
    "# 135넘어야함\n",
    "\n",
    "\n",
    "\n",
    "\n",
    "\n",
    "\n",
    "\n"
   ]
  },
  {
   "cell_type": "code",
   "execution_count": null,
   "metadata": {},
   "outputs": [],
   "source": []
  },
  {
   "cell_type": "markdown",
   "metadata": {},
   "source": [
    "## 다중회귀분석"
   ]
  },
  {
   "cell_type": "code",
   "execution_count": 1,
   "metadata": {},
   "outputs": [
    {
     "data": {
      "text/html": [
       "<table>\n",
       "<thead><tr><th scope=col>rating</th><th scope=col>complaints</th><th scope=col>privileges</th><th scope=col>learning</th><th scope=col>raises</th><th scope=col>critical</th><th scope=col>advance</th></tr></thead>\n",
       "<tbody>\n",
       "\t<tr><td>43</td><td>51</td><td>30</td><td>39</td><td>61</td><td>92</td><td>45</td></tr>\n",
       "\t<tr><td>63</td><td>64</td><td>51</td><td>54</td><td>63</td><td>73</td><td>47</td></tr>\n",
       "\t<tr><td>71</td><td>70</td><td>68</td><td>69</td><td>76</td><td>86</td><td>48</td></tr>\n",
       "\t<tr><td>61</td><td>63</td><td>45</td><td>47</td><td>54</td><td>84</td><td>35</td></tr>\n",
       "\t<tr><td>81</td><td>78</td><td>56</td><td>66</td><td>71</td><td>83</td><td>47</td></tr>\n",
       "\t<tr><td>43</td><td>55</td><td>49</td><td>44</td><td>54</td><td>49</td><td>34</td></tr>\n",
       "</tbody>\n",
       "</table>\n"
      ],
      "text/latex": [
       "\\begin{tabular}{r|lllllll}\n",
       " rating & complaints & privileges & learning & raises & critical & advance\\\\\n",
       "\\hline\n",
       "\t 43 & 51 & 30 & 39 & 61 & 92 & 45\\\\\n",
       "\t 63 & 64 & 51 & 54 & 63 & 73 & 47\\\\\n",
       "\t 71 & 70 & 68 & 69 & 76 & 86 & 48\\\\\n",
       "\t 61 & 63 & 45 & 47 & 54 & 84 & 35\\\\\n",
       "\t 81 & 78 & 56 & 66 & 71 & 83 & 47\\\\\n",
       "\t 43 & 55 & 49 & 44 & 54 & 49 & 34\\\\\n",
       "\\end{tabular}\n"
      ],
      "text/markdown": [
       "\n",
       "rating | complaints | privileges | learning | raises | critical | advance | \n",
       "|---|---|---|---|---|---|\n",
       "| 43 | 51 | 30 | 39 | 61 | 92 | 45 | \n",
       "| 63 | 64 | 51 | 54 | 63 | 73 | 47 | \n",
       "| 71 | 70 | 68 | 69 | 76 | 86 | 48 | \n",
       "| 61 | 63 | 45 | 47 | 54 | 84 | 35 | \n",
       "| 81 | 78 | 56 | 66 | 71 | 83 | 47 | \n",
       "| 43 | 55 | 49 | 44 | 54 | 49 | 34 | \n",
       "\n",
       "\n"
      ],
      "text/plain": [
       "  rating complaints privileges learning raises critical advance\n",
       "1 43     51         30         39       61     92       45     \n",
       "2 63     64         51         54       63     73       47     \n",
       "3 71     70         68         69       76     86       48     \n",
       "4 61     63         45         47       54     84       35     \n",
       "5 81     78         56         66       71     83       47     \n",
       "6 43     55         49         44       54     49       34     "
      ]
     },
     "metadata": {},
     "output_type": "display_data"
    }
   ],
   "source": [
    "# 다중회귀분석\n",
    "data(attitude)\n",
    "head(attitude)\n",
    "\n",
    "# 어떻게 해야 진급이 빨리 되는지를 정리 한 데이터이다.\n",
    "\n",
    "\n",
    "\n"
   ]
  },
  {
   "cell_type": "code",
   "execution_count": 9,
   "metadata": {},
   "outputs": [
    {
     "data": {
      "text/plain": [
       "\n",
       "Call:\n",
       "lm(formula = rating ~ complaints + privileges, data = attitude)\n",
       "\n",
       "Coefficients:\n",
       "(Intercept)   complaints   privileges  \n",
       "   15.32762      0.78034     -0.05016  \n"
      ]
     },
     "metadata": {},
     "output_type": "display_data"
    },
    {
     "data": {
      "text/plain": [
       "\n",
       "Call:\n",
       "lm(formula = rating ~ ., data = attitude)\n",
       "\n",
       "Coefficients:\n",
       "(Intercept)   complaints   privileges     learning       raises     critical  \n",
       "   10.78708      0.61319     -0.07305      0.32033      0.08173      0.03838  \n",
       "    advance  \n",
       "   -0.21706  \n"
      ]
     },
     "metadata": {},
     "output_type": "display_data"
    },
    {
     "data": {
      "text/plain": [
       "\n",
       "Call:\n",
       "lm(formula = rating ~ ., data = attitude)\n",
       "\n",
       "Residuals:\n",
       "     Min       1Q   Median       3Q      Max \n",
       "-10.9418  -4.3555   0.3158   5.5425  11.5990 \n",
       "\n",
       "Coefficients:\n",
       "            Estimate Std. Error t value Pr(>|t|)    \n",
       "(Intercept) 10.78708   11.58926   0.931 0.361634    \n",
       "complaints   0.61319    0.16098   3.809 0.000903 ***\n",
       "privileges  -0.07305    0.13572  -0.538 0.595594    \n",
       "learning     0.32033    0.16852   1.901 0.069925 .  \n",
       "raises       0.08173    0.22148   0.369 0.715480    \n",
       "critical     0.03838    0.14700   0.261 0.796334    \n",
       "advance     -0.21706    0.17821  -1.218 0.235577    \n",
       "---\n",
       "Signif. codes:  0 ‘***’ 0.001 ‘**’ 0.01 ‘*’ 0.05 ‘.’ 0.1 ‘ ’ 1\n",
       "\n",
       "Residual standard error: 7.068 on 23 degrees of freedom\n",
       "Multiple R-squared:  0.7326,\tAdjusted R-squared:  0.6628 \n",
       "F-statistic:  10.5 on 6 and 23 DF,  p-value: 1.24e-05\n"
      ]
     },
     "metadata": {},
     "output_type": "display_data"
    }
   ],
   "source": [
    "# rating을 제외한 변수들이 rating에 어떤 영향을 미치는지 회귀분석\n",
    "lm(rating ~ complaints + privileges, data = attitude)\n",
    "\n",
    "model <- lm(rating ~ . , data = attitude) # 모든항목을 다 보려면 점을 찍으면 된다\n",
    "model\n",
    "\n",
    "summary(model)\n",
    "\n",
    "\n",
    "\n"
   ]
  },
  {
   "cell_type": "code",
   "execution_count": 12,
   "metadata": {},
   "outputs": [
    {
     "data": {
      "text/html": [
       "0.825417569542146"
      ],
      "text/latex": [
       "0.825417569542146"
      ],
      "text/markdown": [
       "0.825417569542146"
      ],
      "text/plain": [
       "[1] 0.8254176"
      ]
     },
     "metadata": {},
     "output_type": "display_data"
    },
    {
     "data": {
      "text/html": [
       "0.623678164500211"
      ],
      "text/latex": [
       "0.623678164500211"
      ],
      "text/markdown": [
       "0.623678164500211"
      ],
      "text/plain": [
       "[1] 0.6236782"
      ]
     },
     "metadata": {},
     "output_type": "display_data"
    }
   ],
   "source": [
    "cor(attitude$rating, attitude$complaints) # 고객의 불만을 잘 처리하면 승진기회가 많다.\n",
    "cor(attitude$rating, attitude$learning) # 배우면 승진기회가 조금 더 늘어난다.\n",
    "\n",
    "\n",
    "\n"
   ]
  },
  {
   "cell_type": "code",
   "execution_count": 14,
   "metadata": {
    "scrolled": false
   },
   "outputs": [
    {
     "name": "stdout",
     "output_type": "stream",
     "text": [
      "Start:  AIC=123.36\n",
      "rating ~ complaints + privileges + learning + raises + critical + \n",
      "    advance\n",
      "\n",
      "             Df Sum of Sq    RSS    AIC\n",
      "- critical    1      3.41 1152.4 121.45\n",
      "- raises      1      6.80 1155.8 121.54\n",
      "- privileges  1     14.47 1163.5 121.74\n",
      "- advance     1     74.11 1223.1 123.24\n",
      "<none>                    1149.0 123.36\n",
      "- learning    1    180.50 1329.5 125.74\n",
      "- complaints  1    724.80 1873.8 136.04\n",
      "\n",
      "Step:  AIC=121.45\n",
      "rating ~ complaints + privileges + learning + raises + advance\n",
      "\n",
      "             Df Sum of Sq    RSS    AIC\n",
      "- raises      1     10.61 1163.0 119.73\n",
      "- privileges  1     14.16 1166.6 119.82\n",
      "- advance     1     71.27 1223.7 121.25\n",
      "<none>                    1152.4 121.45\n",
      "- learning    1    177.74 1330.1 123.75\n",
      "- complaints  1    724.70 1877.1 134.09\n",
      "\n",
      "Step:  AIC=119.73\n",
      "rating ~ complaints + privileges + learning + advance\n",
      "\n",
      "             Df Sum of Sq    RSS    AIC\n",
      "- privileges  1     16.10 1179.1 118.14\n",
      "- advance     1     61.60 1224.6 119.28\n",
      "<none>                    1163.0 119.73\n",
      "- learning    1    197.03 1360.0 122.42\n",
      "- complaints  1   1165.94 2328.9 138.56\n",
      "\n",
      "Step:  AIC=118.14\n",
      "rating ~ complaints + learning + advance\n",
      "\n",
      "             Df Sum of Sq    RSS    AIC\n",
      "- advance     1     75.54 1254.7 118.00\n",
      "<none>                    1179.1 118.14\n",
      "- learning    1    186.12 1365.2 120.54\n",
      "- complaints  1   1259.91 2439.0 137.94\n",
      "\n",
      "Step:  AIC=118\n",
      "rating ~ complaints + learning\n",
      "\n",
      "             Df Sum of Sq    RSS    AIC\n",
      "<none>                    1254.7 118.00\n",
      "- learning    1    114.73 1369.4 118.63\n",
      "- complaints  1   1370.91 2625.6 138.16\n"
     ]
    },
    {
     "data": {
      "text/plain": [
       "\n",
       "Call:\n",
       "lm(formula = rating ~ complaints + learning, data = attitude)\n",
       "\n",
       "Coefficients:\n",
       "(Intercept)   complaints     learning  \n",
       "     9.8709       0.6435       0.2112  \n"
      ]
     },
     "metadata": {},
     "output_type": "display_data"
    },
    {
     "name": "stdout",
     "output_type": "stream",
     "text": [
      "Start:  AIC=123.36\n",
      "rating ~ complaints + privileges + learning + raises + critical + \n",
      "    advance\n",
      "\n",
      "             Df Sum of Sq    RSS    AIC\n",
      "- critical    1      3.41 1152.4 121.45\n",
      "- raises      1      6.80 1155.8 121.54\n",
      "- privileges  1     14.47 1163.5 121.74\n",
      "- advance     1     74.11 1223.1 123.24\n",
      "<none>                    1149.0 123.36\n",
      "- learning    1    180.50 1329.5 125.74\n",
      "- complaints  1    724.80 1873.8 136.04\n",
      "\n",
      "Step:  AIC=121.45\n",
      "rating ~ complaints + privileges + learning + raises + advance\n",
      "\n",
      "             Df Sum of Sq    RSS    AIC\n",
      "- raises      1     10.61 1163.0 119.73\n",
      "- privileges  1     14.16 1166.6 119.82\n",
      "- advance     1     71.27 1223.7 121.25\n",
      "<none>                    1152.4 121.45\n",
      "- learning    1    177.74 1330.1 123.75\n",
      "- complaints  1    724.70 1877.1 134.09\n",
      "\n",
      "Step:  AIC=119.73\n",
      "rating ~ complaints + privileges + learning + advance\n",
      "\n",
      "             Df Sum of Sq    RSS    AIC\n",
      "- privileges  1     16.10 1179.1 118.14\n",
      "- advance     1     61.60 1224.6 119.28\n",
      "<none>                    1163.0 119.73\n",
      "- learning    1    197.03 1360.0 122.42\n",
      "- complaints  1   1165.94 2328.9 138.56\n",
      "\n",
      "Step:  AIC=118.14\n",
      "rating ~ complaints + learning + advance\n",
      "\n",
      "             Df Sum of Sq    RSS    AIC\n",
      "- advance     1     75.54 1254.7 118.00\n",
      "<none>                    1179.1 118.14\n",
      "- learning    1    186.12 1365.2 120.54\n",
      "- complaints  1   1259.91 2439.0 137.94\n",
      "\n",
      "Step:  AIC=118\n",
      "rating ~ complaints + learning\n",
      "\n",
      "             Df Sum of Sq    RSS    AIC\n",
      "<none>                    1254.7 118.00\n",
      "- learning    1    114.73 1369.4 118.63\n",
      "- complaints  1   1370.91 2625.6 138.16\n"
     ]
    }
   ],
   "source": [
    "# 예측력을 높이기 위해 상대저긍로 기여도가 낮은 변수를 제거 - 함수존재\n",
    "step(model, direction = \"backward\")  # 방향을 기여도가 낮은것부터 해서 적절한 기여도를 찾아라\n",
    "reduce <- step(model, direction = \"backward\")\n",
    "\n",
    "# 회귀식을 불만과 배움으로 추려서 진행해야 정확도가 올라간다\n",
    "\n",
    "\n",
    "\n"
   ]
  },
  {
   "cell_type": "code",
   "execution_count": 16,
   "metadata": {},
   "outputs": [
    {
     "data": {
      "text/plain": [
       "\n",
       "Call:\n",
       "lm(formula = rating ~ complaints + learning, data = attitude)\n",
       "\n",
       "Residuals:\n",
       "     Min       1Q   Median       3Q      Max \n",
       "-11.5568  -5.7331   0.6701   6.5341  10.3610 \n",
       "\n",
       "Coefficients:\n",
       "            Estimate Std. Error t value Pr(>|t|)    \n",
       "(Intercept)   9.8709     7.0612   1.398    0.174    \n",
       "complaints    0.6435     0.1185   5.432 9.57e-06 ***\n",
       "learning      0.2112     0.1344   1.571    0.128    \n",
       "---\n",
       "Signif. codes:  0 ‘***’ 0.001 ‘**’ 0.01 ‘*’ 0.05 ‘.’ 0.1 ‘ ’ 1\n",
       "\n",
       "Residual standard error: 6.817 on 27 degrees of freedom\n",
       "Multiple R-squared:  0.708,\tAdjusted R-squared:  0.6864 \n",
       "F-statistic: 32.74 on 2 and 27 DF,  p-value: 6.058e-08\n"
      ]
     },
     "metadata": {},
     "output_type": "display_data"
    }
   ],
   "source": [
    "# \n",
    "summary(reduce)\n",
    "\n",
    "\n",
    "\n"
   ]
  },
  {
   "cell_type": "code",
   "execution_count": 21,
   "metadata": {},
   "outputs": [
    {
     "data": {
      "text/plain": [
       "\n",
       "Call:\n",
       "lm(formula = rating ~ complaints, data = attitude)\n",
       "\n",
       "Coefficients:\n",
       "(Intercept)   complaints  \n",
       "    14.3763       0.7546  \n"
      ]
     },
     "metadata": {},
     "output_type": "display_data"
    }
   ],
   "source": [
    "model2 <- lm(rating ~ complaints, data = attitude)\n",
    "model3 <- lm(rating ~ complaints+learning, data = attitude)\n",
    "model2\n",
    "\n",
    "\n",
    "\n"
   ]
  },
  {
   "cell_type": "code",
   "execution_count": 29,
   "metadata": {},
   "outputs": [
    {
     "data": {
      "text/plain": [
       "\n",
       "Call:\n",
       "lm(formula = rating ~ complaints, data = attitude)\n",
       "\n",
       "Residuals:\n",
       "     Min       1Q   Median       3Q      Max \n",
       "-12.8799  -5.9905   0.1783   6.2978   9.6294 \n",
       "\n",
       "Coefficients:\n",
       "            Estimate Std. Error t value Pr(>|t|)    \n",
       "(Intercept) 14.37632    6.61999   2.172   0.0385 *  \n",
       "complaints   0.75461    0.09753   7.737 1.99e-08 ***\n",
       "---\n",
       "Signif. codes:  0 ‘***’ 0.001 ‘**’ 0.01 ‘*’ 0.05 ‘.’ 0.1 ‘ ’ 1\n",
       "\n",
       "Residual standard error: 6.993 on 28 degrees of freedom\n",
       "Multiple R-squared:  0.6813,\tAdjusted R-squared:  0.6699 \n",
       "F-statistic: 59.86 on 1 and 28 DF,  p-value: 1.988e-08\n"
      ]
     },
     "metadata": {},
     "output_type": "display_data"
    },
    {
     "name": "stdout",
     "output_type": "stream",
     "text": [
      "[1] \"======================================================================================\"\n"
     ]
    },
    {
     "data": {
      "text/plain": [
       "\n",
       "Call:\n",
       "lm(formula = rating ~ complaints + learning, data = attitude)\n",
       "\n",
       "Residuals:\n",
       "     Min       1Q   Median       3Q      Max \n",
       "-11.5568  -5.7331   0.6701   6.5341  10.3610 \n",
       "\n",
       "Coefficients:\n",
       "            Estimate Std. Error t value Pr(>|t|)    \n",
       "(Intercept)   9.8709     7.0612   1.398    0.174    \n",
       "complaints    0.6435     0.1185   5.432 9.57e-06 ***\n",
       "learning      0.2112     0.1344   1.571    0.128    \n",
       "---\n",
       "Signif. codes:  0 ‘***’ 0.001 ‘**’ 0.01 ‘*’ 0.05 ‘.’ 0.1 ‘ ’ 1\n",
       "\n",
       "Residual standard error: 6.817 on 27 degrees of freedom\n",
       "Multiple R-squared:  0.708,\tAdjusted R-squared:  0.6864 \n",
       "F-statistic: 32.74 on 2 and 27 DF,  p-value: 6.058e-08\n"
      ]
     },
     "metadata": {},
     "output_type": "display_data"
    }
   ],
   "source": [
    "# 고객 불만 하나만 해도 될까???\n",
    "summary(model2)   # Adjusted R-squared:  0.6699 \n",
    "print(\"======================================================================================\")\n",
    "summary(model3)   # Adjusted R-squared:  0.6864\n",
    "\n",
    "\n",
    "\n",
    " "
   ]
  },
  {
   "cell_type": "markdown",
   "metadata": {},
   "source": [
    "### 다중회귀 --  주요요인을 추려서 진행\n",
    "\n",
    "## backward 방식이 요인을 추려내는 데에 가장 탁월"
   ]
  },
  {
   "cell_type": "code",
   "execution_count": 33,
   "metadata": {},
   "outputs": [
    {
     "data": {
      "text/plain": [
       "\n",
       "Call:\n",
       "lm(formula = rating ~ complaints + learning, data = attitude)\n",
       "\n",
       "Coefficients:\n",
       "(Intercept)   complaints     learning  \n",
       "     9.8709       0.6435       0.2112  \n"
      ]
     },
     "metadata": {},
     "output_type": "display_data"
    }
   ],
   "source": [
    "r3 <- lm(rating ~ complaints + learning, data = attitude)\n",
    "r3\n",
    "\n",
    "\n",
    "\n"
   ]
  },
  {
   "cell_type": "markdown",
   "metadata": {},
   "source": [
    "# IQ .csv 를 다중회귀로 해보기"
   ]
  },
  {
   "cell_type": "code",
   "execution_count": 51,
   "metadata": {},
   "outputs": [
    {
     "data": {
      "text/html": [
       "<table>\n",
       "<thead><tr><th scope=col>이름</th><th scope=col>성적</th><th scope=col>IQ</th><th scope=col>다니는.학원수</th><th scope=col>게임하는.시간</th><th scope=col>TV시청.시간</th></tr></thead>\n",
       "<tbody>\n",
       "\t<tr><td>A  </td><td>90 </td><td>140</td><td>2  </td><td>1  </td><td>0  </td></tr>\n",
       "\t<tr><td>B  </td><td>75 </td><td>125</td><td>1  </td><td>3  </td><td>3  </td></tr>\n",
       "\t<tr><td>C  </td><td>77 </td><td>120</td><td>1  </td><td>0  </td><td>4  </td></tr>\n",
       "\t<tr><td>D  </td><td>83 </td><td>135</td><td>2  </td><td>3  </td><td>2  </td></tr>\n",
       "\t<tr><td>E  </td><td>65 </td><td>105</td><td>0  </td><td>4  </td><td>4  </td></tr>\n",
       "\t<tr><td>F  </td><td>80 </td><td>123</td><td>3  </td><td>1  </td><td>1  </td></tr>\n",
       "\t<tr><td>G  </td><td>83 </td><td>132</td><td>3  </td><td>4  </td><td>1  </td></tr>\n",
       "\t<tr><td>H  </td><td>70 </td><td>115</td><td>1  </td><td>1  </td><td>3  </td></tr>\n",
       "\t<tr><td>I  </td><td>87 </td><td>128</td><td>4  </td><td>0  </td><td>0  </td></tr>\n",
       "\t<tr><td>J  </td><td>79 </td><td>131</td><td>2  </td><td>2  </td><td>3  </td></tr>\n",
       "</tbody>\n",
       "</table>\n"
      ],
      "text/latex": [
       "\\begin{tabular}{r|llllll}\n",
       " 이름 & 성적 & IQ & 다니는.학원수 & 게임하는.시간 & TV시청.시간\\\\\n",
       "\\hline\n",
       "\t A   & 90  & 140 & 2   & 1   & 0  \\\\\n",
       "\t B   & 75  & 125 & 1   & 3   & 3  \\\\\n",
       "\t C   & 77  & 120 & 1   & 0   & 4  \\\\\n",
       "\t D   & 83  & 135 & 2   & 3   & 2  \\\\\n",
       "\t E   & 65  & 105 & 0   & 4   & 4  \\\\\n",
       "\t F   & 80  & 123 & 3   & 1   & 1  \\\\\n",
       "\t G   & 83  & 132 & 3   & 4   & 1  \\\\\n",
       "\t H   & 70  & 115 & 1   & 1   & 3  \\\\\n",
       "\t I   & 87  & 128 & 4   & 0   & 0  \\\\\n",
       "\t J   & 79  & 131 & 2   & 2   & 3  \\\\\n",
       "\\end{tabular}\n"
      ],
      "text/markdown": [
       "\n",
       "이름 | 성적 | IQ | 다니는.학원수 | 게임하는.시간 | TV시청.시간 | \n",
       "|---|---|---|---|---|---|---|---|---|---|\n",
       "| A   | 90  | 140 | 2   | 1   | 0   | \n",
       "| B   | 75  | 125 | 1   | 3   | 3   | \n",
       "| C   | 77  | 120 | 1   | 0   | 4   | \n",
       "| D   | 83  | 135 | 2   | 3   | 2   | \n",
       "| E   | 65  | 105 | 0   | 4   | 4   | \n",
       "| F   | 80  | 123 | 3   | 1   | 1   | \n",
       "| G   | 83  | 132 | 3   | 4   | 1   | \n",
       "| H   | 70  | 115 | 1   | 1   | 3   | \n",
       "| I   | 87  | 128 | 4   | 0   | 0   | \n",
       "| J   | 79  | 131 | 2   | 2   | 3   | \n",
       "\n",
       "\n"
      ],
      "text/plain": [
       "   이름 성적 IQ  다니는.학원수 게임하는.시간 TV시청.시간\n",
       "1  A    90   140 2             1             0          \n",
       "2  B    75   125 1             3             3          \n",
       "3  C    77   120 1             0             4          \n",
       "4  D    83   135 2             3             2          \n",
       "5  E    65   105 0             4             4          \n",
       "6  F    80   123 3             1             1          \n",
       "7  G    83   132 3             4             1          \n",
       "8  H    70   115 1             1             3          \n",
       "9  I    87   128 4             0             0          \n",
       "10 J    79   131 2             2             3          "
      ]
     },
     "metadata": {},
     "output_type": "display_data"
    },
    {
     "data": {
      "text/plain": [
       "\n",
       "Call:\n",
       "lm(formula = 성적 ~ ., data = IQ[-1])\n",
       "\n",
       "Coefficients:\n",
       "  (Intercept)             IQ  다니는.학원수  게임하는.시간    TV시청.시간  \n",
       "      23.2992         0.4684         0.7179        -0.8390        -1.3854  \n"
      ]
     },
     "metadata": {},
     "output_type": "display_data"
    },
    {
     "name": "stdout",
     "output_type": "stream",
     "text": [
      "[1] \"========================================================================1\"\n",
      "Start:  AIC=17.01\n",
      "성적 ~ IQ + 다니는.학원수 + 게임하는.시간 + TV시청.시간\n",
      "\n",
      "                Df Sum of Sq     RSS    AIC\n",
      "- 다니는.학원수  1     1.794  21.960 15.866\n",
      "<none>                        20.166 17.014\n",
      "- TV시청.시간    1     9.561  29.727 18.895\n",
      "- 게임하는.시간  1    13.133  33.299 20.029\n",
      "- IQ             1   110.409 130.575 33.694\n",
      "\n",
      "Step:  AIC=15.87\n",
      "성적 ~ IQ + 게임하는.시간 + TV시청.시간\n",
      "\n",
      "                Df Sum of Sq     RSS    AIC\n",
      "<none>                        21.960 15.866\n",
      "- 게임하는.시간  1    15.930  37.890 19.321\n",
      "- TV시청.시간    1    35.387  57.347 23.465\n",
      "- IQ             1   113.775 135.735 32.081\n"
     ]
    },
    {
     "data": {
      "text/plain": [
       "\n",
       "Call:\n",
       "lm(formula = 성적 ~ IQ + 게임하는.시간 + TV시청.시간, \n",
       "    data = IQ[-1])\n",
       "\n",
       "Coefficients:\n",
       "  (Intercept)             IQ  게임하는.시간    TV시청.시간  \n",
       "      25.0474         0.4737        -0.9037        -1.8231  \n"
      ]
     },
     "metadata": {},
     "output_type": "display_data"
    },
    {
     "name": "stdout",
     "output_type": "stream",
     "text": [
      "[1] \"========================================================================2\"\n"
     ]
    },
    {
     "data": {
      "text/plain": [
       "\n",
       "Call:\n",
       "lm(formula = 성적 ~ IQ + TV시청.시간, data = IQ)\n",
       "\n",
       "Residuals:\n",
       "    Min      1Q  Median      3Q     Max \n",
       "-2.2312 -1.0785 -0.5227 -0.0539  4.5910 \n",
       "\n",
       "Coefficients:\n",
       "            Estimate Std. Error t value Pr(>|t|)   \n",
       "(Intercept)  25.8656    13.9541   1.854  0.10620   \n",
       "IQ            0.4583     0.1029   4.453  0.00296 **\n",
       "TV시청.시간  -2.1137     0.6926  -3.052  0.01854 * \n",
       "---\n",
       "Signif. codes:  0 ‘***’ 0.001 ‘**’ 0.01 ‘*’ 0.05 ‘.’ 0.1 ‘ ’ 1\n",
       "\n",
       "Residual standard error: 2.327 on 7 degrees of freedom\n",
       "Multiple R-squared:  0.9264,\tAdjusted R-squared:  0.9054 \n",
       "F-statistic: 44.06 on 2 and 7 DF,  p-value: 0.0001081\n"
      ]
     },
     "metadata": {},
     "output_type": "display_data"
    },
    {
     "data": {
      "text/plain": [
       "\n",
       "Call:\n",
       "lm(formula = 성적 ~ IQ + TV시청.시간 + 게임하는.시간, \n",
       "    data = IQ)\n",
       "\n",
       "Residuals:\n",
       "     Min       1Q   Median       3Q      Max \n",
       "-3.14632 -0.76151 -0.04647  1.05986  2.40479 \n",
       "\n",
       "Coefficients:\n",
       "              Estimate Std. Error t value Pr(>|t|)   \n",
       "(Intercept)   25.04740   11.48097   2.182  0.07190 . \n",
       "IQ             0.47367    0.08495   5.576  0.00141 **\n",
       "TV시청.시간   -1.82312    0.58631  -3.109  0.02086 * \n",
       "게임하는.시간 -0.90366    0.43314  -2.086  0.08202 . \n",
       "---\n",
       "Signif. codes:  0 ‘***’ 0.001 ‘**’ 0.01 ‘*’ 0.05 ‘.’ 0.1 ‘ ’ 1\n",
       "\n",
       "Residual standard error: 1.913 on 6 degrees of freedom\n",
       "Multiple R-squared:  0.9574,\tAdjusted R-squared:  0.936 \n",
       "F-statistic:  44.9 on 3 and 6 DF,  p-value: 0.0001669\n"
      ]
     },
     "metadata": {},
     "output_type": "display_data"
    }
   ],
   "source": [
    "IQ\n",
    "model4 <- lm(성적 ~ . , data = IQ[-1]) # 모든항목을 다 보려면 점을 찍으면 된다\n",
    "model4\n",
    "print(\"========================================================================1\")\n",
    "\n",
    "# 예측력을 높이기 위해 상대저긍로 기여도가 낮은 변수를 제거 - 함수존재\n",
    "# step(model4, direction = \"backward\")  # 방향을 기여도가 낮은것부터 해서 적절한 기여도를 찾아라\n",
    "reduce <- step(model4, direction = \"backward\")\n",
    "reduce\n",
    "\n",
    "print(\"========================================================================2\")\n",
    "\n",
    "r4 <- lm(성적 ~ IQ + TV시청.시간, data = IQ)\n",
    "r5 <- lm(성적 ~ IQ + TV시청.시간+게임하는.시간, data = IQ)\n",
    "\n",
    "summary(r4) # Adjusted R-squared:  0.9054 \n",
    "\n",
    "summary(r5) # Adjusted R-squared:  0.936  -- > 세가지 요인으로 하는 것이 더 유리하다.\n",
    "\n",
    "\n",
    "\n",
    "\n",
    "\n",
    "\n",
    "\n",
    "\n",
    "\n",
    "\n",
    "\n"
   ]
  },
  {
   "cell_type": "code",
   "execution_count": null,
   "metadata": {},
   "outputs": [],
   "source": []
  }
 ],
 "metadata": {
  "kernelspec": {
   "display_name": "R",
   "language": "R",
   "name": "ir"
  },
  "language_info": {
   "codemirror_mode": "r",
   "file_extension": ".r",
   "mimetype": "text/x-r-source",
   "name": "R",
   "pygments_lexer": "r",
   "version": "3.5.1"
  }
 },
 "nbformat": 4,
 "nbformat_minor": 2
}
