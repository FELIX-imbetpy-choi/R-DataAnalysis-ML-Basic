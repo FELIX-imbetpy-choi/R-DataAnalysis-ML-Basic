{
 "cells": [
  {
   "cell_type": "code",
   "execution_count": 2,
   "metadata": {},
   "outputs": [
    {
     "data": {
      "text/plain": [
       "               _                           \n",
       "platform       x86_64-pc-linux-gnu         \n",
       "arch           x86_64                      \n",
       "os             linux-gnu                   \n",
       "system         x86_64, linux-gnu           \n",
       "status                                     \n",
       "major          3                           \n",
       "minor          5.1                         \n",
       "year           2018                        \n",
       "month          07                          \n",
       "day            02                          \n",
       "svn rev        74947                       \n",
       "language       R                           \n",
       "version.string R version 3.5.1 (2018-07-02)\n",
       "nickname       Feather Spray               "
      ]
     },
     "metadata": {},
     "output_type": "display_data"
    }
   ],
   "source": [
    "version\n",
    "\n",
    "\n",
    "\n",
    "\n"
   ]
  },
  {
   "cell_type": "markdown",
   "metadata": {},
   "source": [
    "### R에서 Java code 호출 \n",
    "install.packages(\"rJava\")\n",
    "### Database Interface\n",
    "install.packages(\"DBI\")\n",
    "### R에서 Mysql database 와 정보 교환\n",
    "install.packages(\"RMySQL\")"
   ]
  },
  {
   "cell_type": "code",
   "execution_count": 3,
   "metadata": {},
   "outputs": [
    {
     "name": "stderr",
     "output_type": "stream",
     "text": [
      "Loading required package: DBI\n"
     ]
    }
   ],
   "source": [
    "library(RMySQL)\n",
    "\n",
    "\n",
    "\n"
   ]
  },
  {
   "cell_type": "markdown",
   "metadata": {},
   "source": [
    "# MySQL 연결"
   ]
  },
  {
   "cell_type": "code",
   "execution_count": 8,
   "metadata": {},
   "outputs": [],
   "source": [
    "# DB Connection\n",
    "conn <- dbConnect(MySQL(),\n",
    "                 dbname = \"education\",\n",
    "                 user = \"root\",\n",
    "                 password = \"1111\",\n",
    "                 host = \"192.168.100.71\")\n",
    "\n",
    "\n",
    "\n",
    "\n",
    "\n",
    "\n",
    "\n"
   ]
  },
  {
   "cell_type": "code",
   "execution_count": 9,
   "metadata": {},
   "outputs": [
    {
     "data": {
      "text/html": [
       "<ol class=list-inline>\n",
       "\t<li>'advise'</li>\n",
       "\t<li>'course'</li>\n",
       "\t<li>'lecture'</li>\n",
       "\t<li>'professor'</li>\n",
       "\t<li>'register'</li>\n",
       "\t<li>'student'</li>\n",
       "</ol>\n"
      ],
      "text/latex": [
       "\\begin{enumerate*}\n",
       "\\item 'advise'\n",
       "\\item 'course'\n",
       "\\item 'lecture'\n",
       "\\item 'professor'\n",
       "\\item 'register'\n",
       "\\item 'student'\n",
       "\\end{enumerate*}\n"
      ],
      "text/markdown": [
       "1. 'advise'\n",
       "2. 'course'\n",
       "3. 'lecture'\n",
       "4. 'professor'\n",
       "5. 'register'\n",
       "6. 'student'\n",
       "\n",
       "\n"
      ],
      "text/plain": [
       "[1] \"advise\"    \"course\"    \"lecture\"   \"professor\" \"register\"  \"student\"  "
      ]
     },
     "metadata": {},
     "output_type": "display_data"
    }
   ],
   "source": [
    "dbListTables(conn)\n",
    "\n",
    "\n",
    "\n"
   ]
  },
  {
   "cell_type": "code",
   "execution_count": 10,
   "metadata": {},
   "outputs": [
    {
     "data": {
      "text/html": [
       "<ol class=list-inline>\n",
       "\t<li>'pcode'</li>\n",
       "\t<li>'pname'</li>\n",
       "\t<li>'pdept'</li>\n",
       "\t<li>'pphone'</li>\n",
       "\t<li>'paddress'</li>\n",
       "</ol>\n"
      ],
      "text/latex": [
       "\\begin{enumerate*}\n",
       "\\item 'pcode'\n",
       "\\item 'pname'\n",
       "\\item 'pdept'\n",
       "\\item 'pphone'\n",
       "\\item 'paddress'\n",
       "\\end{enumerate*}\n"
      ],
      "text/markdown": [
       "1. 'pcode'\n",
       "2. 'pname'\n",
       "3. 'pdept'\n",
       "4. 'pphone'\n",
       "5. 'paddress'\n",
       "\n",
       "\n"
      ],
      "text/plain": [
       "[1] \"pcode\"    \"pname\"    \"pdept\"    \"pphone\"   \"paddress\""
      ]
     },
     "metadata": {},
     "output_type": "display_data"
    }
   ],
   "source": [
    "# Table 의 Field 목록\n",
    "dbListFields(conn,\"professor\")\n",
    "\n",
    "\n",
    "\n"
   ]
  },
  {
   "cell_type": "markdown",
   "metadata": {},
   "source": [
    "# select"
   ]
  },
  {
   "cell_type": "code",
   "execution_count": 19,
   "metadata": {},
   "outputs": [],
   "source": [
    "# Select\n",
    "professor_list <- dbGetQuery(conn, \"select * from professor\")\n",
    "\n",
    "\n",
    "\n"
   ]
  },
  {
   "cell_type": "code",
   "execution_count": 20,
   "metadata": {},
   "outputs": [
    {
     "data": {
      "text/html": [
       "<table>\n",
       "<thead><tr><th scope=col>pcode</th><th scope=col>pname</th><th scope=col>pdept</th><th scope=col>pphone</th><th scope=col>paddress</th></tr></thead>\n",
       "<tbody>\n",
       "\t<tr><td>P001        </td><td>하은용      </td><td>컴퓨터공학과</td><td>0001        </td><td>서울        </td></tr>\n",
       "\t<tr><td>P002        </td><td>안창호      </td><td>컴퓨터공학과</td><td>0002        </td><td>서울        </td></tr>\n",
       "\t<tr><td>P003        </td><td>이육사      </td><td>국문학과    </td><td>0003        </td><td>강원도      </td></tr>\n",
       "\t<tr><td>P004        </td><td>박종화      </td><td>국문학과    </td><td>0004        </td><td>경상북도    </td></tr>\n",
       "\t<tr><td>P005        </td><td>심훈        </td><td>사학과      </td><td>0005        </td><td>전라남도    </td></tr>\n",
       "\t<tr><td>P006        </td><td>한용운      </td><td>사학과      </td><td>0006        </td><td>충청남도    </td></tr>\n",
       "\t<tr><td>P010        </td><td>이나래      </td><td>심리학과    </td><td>0010        </td><td>충청도      </td></tr>\n",
       "\t<tr><td>P011        </td><td>홍길동      </td><td>사학과      </td><td>0007        </td><td>서울        </td></tr>\n",
       "\t<tr><td>P024        </td><td>최고야      </td><td>음악학과    </td><td>0107331     </td><td>송도        </td></tr>\n",
       "</tbody>\n",
       "</table>\n"
      ],
      "text/latex": [
       "\\begin{tabular}{r|lllll}\n",
       " pcode & pname & pdept & pphone & paddress\\\\\n",
       "\\hline\n",
       "\t P001         & 하은용       & 컴퓨터공학과 & 0001         & 서울        \\\\\n",
       "\t P002         & 안창호       & 컴퓨터공학과 & 0002         & 서울        \\\\\n",
       "\t P003         & 이육사       & 국문학과     & 0003         & 강원도      \\\\\n",
       "\t P004         & 박종화       & 국문학과     & 0004         & 경상북도    \\\\\n",
       "\t P005         & 심훈         & 사학과       & 0005         & 전라남도    \\\\\n",
       "\t P006         & 한용운       & 사학과       & 0006         & 충청남도    \\\\\n",
       "\t P010         & 이나래       & 심리학과     & 0010         & 충청도      \\\\\n",
       "\t P011         & 홍길동       & 사학과       & 0007         & 서울        \\\\\n",
       "\t P024         & 최고야       & 음악학과     & 0107331      & 송도        \\\\\n",
       "\\end{tabular}\n"
      ],
      "text/markdown": [
       "\n",
       "pcode | pname | pdept | pphone | paddress | \n",
       "|---|---|---|---|---|---|---|---|---|\n",
       "| P001         | 하은용       | 컴퓨터공학과 | 0001         | 서울         | \n",
       "| P002         | 안창호       | 컴퓨터공학과 | 0002         | 서울         | \n",
       "| P003         | 이육사       | 국문학과     | 0003         | 강원도       | \n",
       "| P004         | 박종화       | 국문학과     | 0004         | 경상북도     | \n",
       "| P005         | 심훈         | 사학과       | 0005         | 전라남도     | \n",
       "| P006         | 한용운       | 사학과       | 0006         | 충청남도     | \n",
       "| P010         | 이나래       | 심리학과     | 0010         | 충청도       | \n",
       "| P011         | 홍길동       | 사학과       | 0007         | 서울         | \n",
       "| P024         | 최고야       | 음악학과     | 0107331      | 송도         | \n",
       "\n",
       "\n"
      ],
      "text/plain": [
       "  pcode pname  pdept        pphone  paddress\n",
       "1 P001  하은용 컴퓨터공학과 0001    서울    \n",
       "2 P002  안창호 컴퓨터공학과 0002    서울    \n",
       "3 P003  이육사 국문학과     0003    강원도  \n",
       "4 P004  박종화 국문학과     0004    경상북도\n",
       "5 P005  심훈   사학과       0005    전라남도\n",
       "6 P006  한용운 사학과       0006    충청남도\n",
       "7 P010  이나래 심리학과     0010    충청도  \n",
       "8 P011  홍길동 사학과       0007    서울    \n",
       "9 P024  최고야 음악학과     0107331 송도    "
      ]
     },
     "metadata": {},
     "output_type": "display_data"
    }
   ],
   "source": [
    "professor_list\n",
    "\n",
    "\n",
    "\n"
   ]
  },
  {
   "cell_type": "code",
   "execution_count": 13,
   "metadata": {
    "scrolled": true
   },
   "outputs": [
    {
     "data": {
      "text/html": [
       "'data.frame'"
      ],
      "text/latex": [
       "'data.frame'"
      ],
      "text/markdown": [
       "'data.frame'"
      ],
      "text/plain": [
       "[1] \"data.frame\""
      ]
     },
     "metadata": {},
     "output_type": "display_data"
    }
   ],
   "source": [
    "class(professor_list)\n",
    "\n",
    "\n",
    "\n"
   ]
  },
  {
   "cell_type": "markdown",
   "metadata": {},
   "source": [
    "# Insert"
   ]
  },
  {
   "cell_type": "code",
   "execution_count": 25,
   "metadata": {},
   "outputs": [
    {
     "data": {
      "text/plain": [
       "<MySQLResult:641800736,0,8>"
      ]
     },
     "metadata": {},
     "output_type": "display_data"
    }
   ],
   "source": [
    "# insert \n",
    "dbSendQuery(conn, \"insert into professor values ('P024','최고야','음악학과','0107331','송도')\")\n",
    "\n",
    "\n",
    "\n"
   ]
  },
  {
   "cell_type": "markdown",
   "metadata": {},
   "source": [
    "# Delete"
   ]
  },
  {
   "cell_type": "code",
   "execution_count": 27,
   "metadata": {},
   "outputs": [
    {
     "data": {
      "text/plain": [
       "<MySQLResult:1918986339,0,10>"
      ]
     },
     "metadata": {},
     "output_type": "display_data"
    }
   ],
   "source": [
    "# delete\n",
    "dbSendQuery(conn,\"delete from professor where pcode = 'P024'\")\n",
    "\n",
    "\n",
    "\n"
   ]
  },
  {
   "cell_type": "code",
   "execution_count": 30,
   "metadata": {},
   "outputs": [
    {
     "data": {
      "text/html": [
       "<table>\n",
       "<thead><tr><th scope=col>pcode</th><th scope=col>pname</th><th scope=col>pdept</th><th scope=col>pphone</th><th scope=col>paddress</th></tr></thead>\n",
       "<tbody>\n",
       "\t<tr><td>P001        </td><td>하은용      </td><td>컴퓨터공학과</td><td>0001        </td><td>서울        </td></tr>\n",
       "\t<tr><td>P002        </td><td>안창호      </td><td>컴퓨터공학과</td><td>0002        </td><td>서울        </td></tr>\n",
       "\t<tr><td>P003        </td><td>이육사      </td><td>국문학과    </td><td>0003        </td><td>강원도      </td></tr>\n",
       "\t<tr><td>P004        </td><td>박종화      </td><td>국문학과    </td><td>0004        </td><td>경상북도    </td></tr>\n",
       "\t<tr><td>P005        </td><td>심훈        </td><td>사학과      </td><td>0005        </td><td>전라남도    </td></tr>\n",
       "\t<tr><td>P006        </td><td>한용운      </td><td>사학과      </td><td>0006        </td><td>충청남도    </td></tr>\n",
       "</tbody>\n",
       "</table>\n"
      ],
      "text/latex": [
       "\\begin{tabular}{r|lllll}\n",
       " pcode & pname & pdept & pphone & paddress\\\\\n",
       "\\hline\n",
       "\t P001         & 하은용       & 컴퓨터공학과 & 0001         & 서울        \\\\\n",
       "\t P002         & 안창호       & 컴퓨터공학과 & 0002         & 서울        \\\\\n",
       "\t P003         & 이육사       & 국문학과     & 0003         & 강원도      \\\\\n",
       "\t P004         & 박종화       & 국문학과     & 0004         & 경상북도    \\\\\n",
       "\t P005         & 심훈         & 사학과       & 0005         & 전라남도    \\\\\n",
       "\t P006         & 한용운       & 사학과       & 0006         & 충청남도    \\\\\n",
       "\\end{tabular}\n"
      ],
      "text/markdown": [
       "\n",
       "pcode | pname | pdept | pphone | paddress | \n",
       "|---|---|---|---|---|---|\n",
       "| P001         | 하은용       | 컴퓨터공학과 | 0001         | 서울         | \n",
       "| P002         | 안창호       | 컴퓨터공학과 | 0002         | 서울         | \n",
       "| P003         | 이육사       | 국문학과     | 0003         | 강원도       | \n",
       "| P004         | 박종화       | 국문학과     | 0004         | 경상북도     | \n",
       "| P005         | 심훈         | 사학과       | 0005         | 전라남도     | \n",
       "| P006         | 한용운       | 사학과       | 0006         | 충청남도     | \n",
       "\n",
       "\n"
      ],
      "text/plain": [
       "  pcode pname  pdept        pphone paddress\n",
       "1 P001  하은용 컴퓨터공학과 0001   서울    \n",
       "2 P002  안창호 컴퓨터공학과 0002   서울    \n",
       "3 P003  이육사 국문학과     0003   강원도  \n",
       "4 P004  박종화 국문학과     0004   경상북도\n",
       "5 P005  심훈   사학과       0005   전라남도\n",
       "6 P006  한용운 사학과       0006   충청남도"
      ]
     },
     "metadata": {},
     "output_type": "display_data"
    }
   ],
   "source": [
    "dbGetQuery(conn, \"select * from professor\")\n",
    "\n",
    "\n",
    "\n"
   ]
  },
  {
   "cell_type": "markdown",
   "metadata": {},
   "source": [
    "# CSV 파일 넣기"
   ]
  },
  {
   "cell_type": "code",
   "execution_count": 41,
   "metadata": {},
   "outputs": [
    {
     "data": {
      "text/html": [
       "<table>\n",
       "<thead><tr><th scope=col>V1</th><th scope=col>V2</th><th scope=col>V3</th><th scope=col>V4</th></tr></thead>\n",
       "<tbody>\n",
       "\t<tr><td> 1 </td><td> 90</td><td> 80</td><td> 70</td></tr>\n",
       "\t<tr><td> 2 </td><td> 90</td><td> 88</td><td> 70</td></tr>\n",
       "\t<tr><td> 3 </td><td> 90</td><td> 89</td><td> 70</td></tr>\n",
       "\t<tr><td> 4 </td><td> 90</td><td> 87</td><td> 70</td></tr>\n",
       "\t<tr><td> 5 </td><td> 90</td><td> 60</td><td> 70</td></tr>\n",
       "\t<tr><td> 6 </td><td>100</td><td>100</td><td>100</td></tr>\n",
       "\t<tr><td> 7 </td><td>100</td><td>100</td><td>100</td></tr>\n",
       "\t<tr><td> 8 </td><td>100</td><td>100</td><td>100</td></tr>\n",
       "\t<tr><td> 9 </td><td>100</td><td>100</td><td>100</td></tr>\n",
       "\t<tr><td>10 </td><td>100</td><td>100</td><td>100</td></tr>\n",
       "</tbody>\n",
       "</table>\n"
      ],
      "text/latex": [
       "\\begin{tabular}{r|llll}\n",
       " V1 & V2 & V3 & V4\\\\\n",
       "\\hline\n",
       "\t  1  &  90 &  80 &  70\\\\\n",
       "\t  2  &  90 &  88 &  70\\\\\n",
       "\t  3  &  90 &  89 &  70\\\\\n",
       "\t  4  &  90 &  87 &  70\\\\\n",
       "\t  5  &  90 &  60 &  70\\\\\n",
       "\t  6  & 100 & 100 & 100\\\\\n",
       "\t  7  & 100 & 100 & 100\\\\\n",
       "\t  8  & 100 & 100 & 100\\\\\n",
       "\t  9  & 100 & 100 & 100\\\\\n",
       "\t 10  & 100 & 100 & 100\\\\\n",
       "\\end{tabular}\n"
      ],
      "text/markdown": [
       "\n",
       "V1 | V2 | V3 | V4 | \n",
       "|---|---|---|---|---|---|---|---|---|---|\n",
       "|  1  |  90 |  80 |  70 | \n",
       "|  2  |  90 |  88 |  70 | \n",
       "|  3  |  90 |  89 |  70 | \n",
       "|  4  |  90 |  87 |  70 | \n",
       "|  5  |  90 |  60 |  70 | \n",
       "|  6  | 100 | 100 | 100 | \n",
       "|  7  | 100 | 100 | 100 | \n",
       "|  8  | 100 | 100 | 100 | \n",
       "|  9  | 100 | 100 | 100 | \n",
       "| 10  | 100 | 100 | 100 | \n",
       "\n",
       "\n"
      ],
      "text/plain": [
       "   V1 V2  V3  V4 \n",
       "1   1  90  80  70\n",
       "2   2  90  88  70\n",
       "3   3  90  89  70\n",
       "4   4  90  87  70\n",
       "5   5  90  60  70\n",
       "6   6 100 100 100\n",
       "7   7 100 100 100\n",
       "8   8 100 100 100\n",
       "9   9 100 100 100\n",
       "10 10 100 100 100"
      ]
     },
     "metadata": {},
     "output_type": "display_data"
    }
   ],
   "source": [
    "data <- read.csv(\"../Data/score.csv\",header = F)\n",
    "data\n",
    "\n",
    "\n",
    "\n"
   ]
  },
  {
   "cell_type": "code",
   "execution_count": 66,
   "metadata": {},
   "outputs": [
    {
     "data": {
      "text/html": [
       "TRUE"
      ],
      "text/latex": [
       "TRUE"
      ],
      "text/markdown": [
       "TRUE"
      ],
      "text/plain": [
       "[1] TRUE"
      ]
     },
     "metadata": {},
     "output_type": "display_data"
    }
   ],
   "source": [
    "# 여기서 테이블을 바로 만들면 SQL에서 만들지 않아도 자동으로 생긴다.\n",
    "dbWriteTable(conn,\"score\", data, overwrite = T ,row.names = F) # row.names 를 없애지 않으면 하나하나 이름이 들어감\n",
    "\n",
    "\n",
    "\n"
   ]
  },
  {
   "cell_type": "code",
   "execution_count": 44,
   "metadata": {},
   "outputs": [
    {
     "data": {
      "text/html": [
       "<table>\n",
       "<thead><tr><th scope=col>V1</th><th scope=col>V2</th><th scope=col>V3</th><th scope=col>V4</th></tr></thead>\n",
       "<tbody>\n",
       "\t<tr><td> 1 </td><td> 90</td><td> 80</td><td> 70</td></tr>\n",
       "\t<tr><td> 2 </td><td> 90</td><td> 88</td><td> 70</td></tr>\n",
       "\t<tr><td> 3 </td><td> 90</td><td> 89</td><td> 70</td></tr>\n",
       "\t<tr><td> 4 </td><td> 90</td><td> 87</td><td> 70</td></tr>\n",
       "\t<tr><td> 5 </td><td> 90</td><td> 60</td><td> 70</td></tr>\n",
       "\t<tr><td> 6 </td><td>100</td><td>100</td><td>100</td></tr>\n",
       "\t<tr><td> 7 </td><td>100</td><td>100</td><td>100</td></tr>\n",
       "\t<tr><td> 8 </td><td>100</td><td>100</td><td>100</td></tr>\n",
       "\t<tr><td> 9 </td><td>100</td><td>100</td><td>100</td></tr>\n",
       "\t<tr><td>10 </td><td>100</td><td>100</td><td>100</td></tr>\n",
       "</tbody>\n",
       "</table>\n"
      ],
      "text/latex": [
       "\\begin{tabular}{r|llll}\n",
       " V1 & V2 & V3 & V4\\\\\n",
       "\\hline\n",
       "\t  1  &  90 &  80 &  70\\\\\n",
       "\t  2  &  90 &  88 &  70\\\\\n",
       "\t  3  &  90 &  89 &  70\\\\\n",
       "\t  4  &  90 &  87 &  70\\\\\n",
       "\t  5  &  90 &  60 &  70\\\\\n",
       "\t  6  & 100 & 100 & 100\\\\\n",
       "\t  7  & 100 & 100 & 100\\\\\n",
       "\t  8  & 100 & 100 & 100\\\\\n",
       "\t  9  & 100 & 100 & 100\\\\\n",
       "\t 10  & 100 & 100 & 100\\\\\n",
       "\\end{tabular}\n"
      ],
      "text/markdown": [
       "\n",
       "V1 | V2 | V3 | V4 | \n",
       "|---|---|---|---|---|---|---|---|---|---|\n",
       "|  1  |  90 |  80 |  70 | \n",
       "|  2  |  90 |  88 |  70 | \n",
       "|  3  |  90 |  89 |  70 | \n",
       "|  4  |  90 |  87 |  70 | \n",
       "|  5  |  90 |  60 |  70 | \n",
       "|  6  | 100 | 100 | 100 | \n",
       "|  7  | 100 | 100 | 100 | \n",
       "|  8  | 100 | 100 | 100 | \n",
       "|  9  | 100 | 100 | 100 | \n",
       "| 10  | 100 | 100 | 100 | \n",
       "\n",
       "\n"
      ],
      "text/plain": [
       "   V1 V2  V3  V4 \n",
       "1   1  90  80  70\n",
       "2   2  90  88  70\n",
       "3   3  90  89  70\n",
       "4   4  90  87  70\n",
       "5   5  90  60  70\n",
       "6   6 100 100 100\n",
       "7   7 100 100 100\n",
       "8   8 100 100 100\n",
       "9   9 100 100 100\n",
       "10 10 100 100 100"
      ]
     },
     "metadata": {},
     "output_type": "display_data"
    }
   ],
   "source": [
    "dbGetQuery(conn, \"select * from score\")\n",
    "\n",
    "\n",
    "\n"
   ]
  },
  {
   "cell_type": "code",
   "execution_count": 61,
   "metadata": {},
   "outputs": [
    {
     "data": {
      "text/html": [
       "<table>\n",
       "<thead><tr><th scope=col>V1</th><th scope=col>V2</th><th scope=col>V3</th><th scope=col>V4</th></tr></thead>\n",
       "<tbody>\n",
       "\t<tr><td>11</td><td>90</td><td>80</td><td>70</td></tr>\n",
       "\t<tr><td>12</td><td>90</td><td>88</td><td>70</td></tr>\n",
       "</tbody>\n",
       "</table>\n"
      ],
      "text/latex": [
       "\\begin{tabular}{r|llll}\n",
       " V1 & V2 & V3 & V4\\\\\n",
       "\\hline\n",
       "\t 11 & 90 & 80 & 70\\\\\n",
       "\t 12 & 90 & 88 & 70\\\\\n",
       "\\end{tabular}\n"
      ],
      "text/markdown": [
       "\n",
       "V1 | V2 | V3 | V4 | \n",
       "|---|---|\n",
       "| 11 | 90 | 80 | 70 | \n",
       "| 12 | 90 | 88 | 70 | \n",
       "\n",
       "\n"
      ],
      "text/plain": [
       "  V1 V2 V3 V4\n",
       "1 11 90 80 70\n",
       "2 12 90 88 70"
      ]
     },
     "metadata": {},
     "output_type": "display_data"
    }
   ],
   "source": [
    "data2 <- read.csv(\"../Data/score2.csv\",header = F)\n",
    "data2\n",
    "\n",
    "\n",
    "\n"
   ]
  },
  {
   "cell_type": "code",
   "execution_count": 67,
   "metadata": {},
   "outputs": [
    {
     "data": {
      "text/html": [
       "TRUE"
      ],
      "text/latex": [
       "TRUE"
      ],
      "text/markdown": [
       "TRUE"
      ],
      "text/plain": [
       "[1] TRUE"
      ]
     },
     "metadata": {},
     "output_type": "display_data"
    }
   ],
   "source": [
    "# 그 전 방식은 데이터를 다 날리고 데이터를 넣는다\n",
    "# 그 전 데이터를 가지고 추가하는 것\n",
    "dbWriteTable(conn,\"score\", data2, overwrite = F ,row.names = F, append = T) \n",
    "\n",
    "\n",
    "\n"
   ]
  },
  {
   "cell_type": "code",
   "execution_count": 68,
   "metadata": {},
   "outputs": [
    {
     "data": {
      "text/html": [
       "<table>\n",
       "<thead><tr><th scope=col>V1</th><th scope=col>V2</th><th scope=col>V3</th><th scope=col>V4</th></tr></thead>\n",
       "<tbody>\n",
       "\t<tr><td> 1 </td><td> 90</td><td> 80</td><td> 70</td></tr>\n",
       "\t<tr><td> 2 </td><td> 90</td><td> 88</td><td> 70</td></tr>\n",
       "\t<tr><td> 3 </td><td> 90</td><td> 89</td><td> 70</td></tr>\n",
       "\t<tr><td> 4 </td><td> 90</td><td> 87</td><td> 70</td></tr>\n",
       "\t<tr><td> 5 </td><td> 90</td><td> 60</td><td> 70</td></tr>\n",
       "\t<tr><td> 6 </td><td>100</td><td>100</td><td>100</td></tr>\n",
       "\t<tr><td> 7 </td><td>100</td><td>100</td><td>100</td></tr>\n",
       "\t<tr><td> 8 </td><td>100</td><td>100</td><td>100</td></tr>\n",
       "\t<tr><td> 9 </td><td>100</td><td>100</td><td>100</td></tr>\n",
       "\t<tr><td>10 </td><td>100</td><td>100</td><td>100</td></tr>\n",
       "\t<tr><td>11 </td><td> 90</td><td> 80</td><td> 70</td></tr>\n",
       "\t<tr><td>12 </td><td> 90</td><td> 88</td><td> 70</td></tr>\n",
       "</tbody>\n",
       "</table>\n"
      ],
      "text/latex": [
       "\\begin{tabular}{r|llll}\n",
       " V1 & V2 & V3 & V4\\\\\n",
       "\\hline\n",
       "\t  1  &  90 &  80 &  70\\\\\n",
       "\t  2  &  90 &  88 &  70\\\\\n",
       "\t  3  &  90 &  89 &  70\\\\\n",
       "\t  4  &  90 &  87 &  70\\\\\n",
       "\t  5  &  90 &  60 &  70\\\\\n",
       "\t  6  & 100 & 100 & 100\\\\\n",
       "\t  7  & 100 & 100 & 100\\\\\n",
       "\t  8  & 100 & 100 & 100\\\\\n",
       "\t  9  & 100 & 100 & 100\\\\\n",
       "\t 10  & 100 & 100 & 100\\\\\n",
       "\t 11  &  90 &  80 &  70\\\\\n",
       "\t 12  &  90 &  88 &  70\\\\\n",
       "\\end{tabular}\n"
      ],
      "text/markdown": [
       "\n",
       "V1 | V2 | V3 | V4 | \n",
       "|---|---|---|---|---|---|---|---|---|---|---|---|\n",
       "|  1  |  90 |  80 |  70 | \n",
       "|  2  |  90 |  88 |  70 | \n",
       "|  3  |  90 |  89 |  70 | \n",
       "|  4  |  90 |  87 |  70 | \n",
       "|  5  |  90 |  60 |  70 | \n",
       "|  6  | 100 | 100 | 100 | \n",
       "|  7  | 100 | 100 | 100 | \n",
       "|  8  | 100 | 100 | 100 | \n",
       "|  9  | 100 | 100 | 100 | \n",
       "| 10  | 100 | 100 | 100 | \n",
       "| 11  |  90 |  80 |  70 | \n",
       "| 12  |  90 |  88 |  70 | \n",
       "\n",
       "\n"
      ],
      "text/plain": [
       "   V1 V2  V3  V4 \n",
       "1   1  90  80  70\n",
       "2   2  90  88  70\n",
       "3   3  90  89  70\n",
       "4   4  90  87  70\n",
       "5   5  90  60  70\n",
       "6   6 100 100 100\n",
       "7   7 100 100 100\n",
       "8   8 100 100 100\n",
       "9   9 100 100 100\n",
       "10 10 100 100 100\n",
       "11 11  90  80  70\n",
       "12 12  90  88  70"
      ]
     },
     "metadata": {},
     "output_type": "display_data"
    }
   ],
   "source": [
    "dbGetQuery(conn, \"select * from score\")\n",
    "\n",
    "\n",
    "\n"
   ]
  },
  {
   "cell_type": "code",
   "execution_count": null,
   "metadata": {},
   "outputs": [],
   "source": []
  }
 ],
 "metadata": {
  "kernelspec": {
   "display_name": "R",
   "language": "R",
   "name": "ir"
  },
  "language_info": {
   "codemirror_mode": "r",
   "file_extension": ".r",
   "mimetype": "text/x-r-source",
   "name": "R",
   "pygments_lexer": "r",
   "version": "3.5.1"
  }
 },
 "nbformat": 4,
 "nbformat_minor": 2
}
