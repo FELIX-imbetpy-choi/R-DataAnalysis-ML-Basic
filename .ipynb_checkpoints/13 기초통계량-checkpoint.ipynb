{
 "cells": [
  {
   "cell_type": "code",
   "execution_count": 1,
   "metadata": {},
   "outputs": [],
   "source": [
    "flour <- c(3, -2, -1, 0, 1, -2)\n",
    "diet <- c(-4, 1, -3, -5, -2, -8)\n",
    "\n",
    "\n",
    "\n",
    "\n"
   ]
  },
  {
   "cell_type": "code",
   "execution_count": 5,
   "metadata": {},
   "outputs": [
    {
     "data": {
      "text/html": [
       "<ol class=list-inline>\n",
       "\t<li>3</li>\n",
       "\t<li>-2</li>\n",
       "\t<li>-1</li>\n",
       "\t<li>0</li>\n",
       "\t<li>1</li>\n",
       "\t<li>-2</li>\n",
       "\t<li>-4</li>\n",
       "\t<li>1</li>\n",
       "\t<li>-3</li>\n",
       "\t<li>-5</li>\n",
       "\t<li>-2</li>\n",
       "\t<li>-8</li>\n",
       "</ol>\n"
      ],
      "text/latex": [
       "\\begin{enumerate*}\n",
       "\\item 3\n",
       "\\item -2\n",
       "\\item -1\n",
       "\\item 0\n",
       "\\item 1\n",
       "\\item -2\n",
       "\\item -4\n",
       "\\item 1\n",
       "\\item -3\n",
       "\\item -5\n",
       "\\item -2\n",
       "\\item -8\n",
       "\\end{enumerate*}\n"
      ],
      "text/markdown": [
       "1. 3\n",
       "2. -2\n",
       "3. -1\n",
       "4. 0\n",
       "5. 1\n",
       "6. -2\n",
       "7. -4\n",
       "8. 1\n",
       "9. -3\n",
       "10. -5\n",
       "11. -2\n",
       "12. -8\n",
       "\n",
       "\n"
      ],
      "text/plain": [
       " [1]  3 -2 -1  0  1 -2 -4  1 -3 -5 -2 -8"
      ]
     },
     "metadata": {},
     "output_type": "display_data"
    },
    {
     "name": "stdout",
     "output_type": "stream",
     "text": [
      " num [1:12] 3 -2 -1 0 1 -2 -4 1 -3 -5 ...\n"
     ]
    },
    {
     "data": {
      "text/html": [
       "'numeric'"
      ],
      "text/latex": [
       "'numeric'"
      ],
      "text/markdown": [
       "'numeric'"
      ],
      "text/plain": [
       "[1] \"numeric\""
      ]
     },
     "metadata": {},
     "output_type": "display_data"
    }
   ],
   "source": [
    "# 12명의 데이터 \n",
    "total <- c(flour,diet)\n",
    "total\n",
    "str(total)\n",
    "class(total)\n",
    "\n",
    "\n",
    "\n"
   ]
  },
  {
   "cell_type": "code",
   "execution_count": 6,
   "metadata": {},
   "outputs": [
    {
     "data": {
      "text/plain": [
       "   Min. 1st Qu.  Median    Mean 3rd Qu.    Max. \n",
       " -8.000  -3.250  -2.000  -1.833   0.250   3.000 "
      ]
     },
     "metadata": {},
     "output_type": "display_data"
    }
   ],
   "source": [
    "# 기초 통계량\n",
    "summary(total)\n",
    "\n",
    "\n",
    "\n"
   ]
  },
  {
   "cell_type": "code",
   "execution_count": 9,
   "metadata": {},
   "outputs": [
    {
     "data": {
      "image/png": "[encoded data removed]",
      "text/plain": [
       "Plot with title “Histogram of total”"
      ]
     },
     "metadata": {},
     "output_type": "display_data"
    }
   ],
   "source": [
    "# 빈도수\n",
    "hist(total)\n",
    "\n",
    "\n",
    "\n"
   ]
  },
  {
   "cell_type": "code",
   "execution_count": 11,
   "metadata": {},
   "outputs": [
    {
     "data": {
      "image/png": "[encoded data removed]",
      "text/plain": [
       "plot without title"
      ]
     },
     "metadata": {},
     "output_type": "display_data"
    }
   ],
   "source": [
    "# boxplot\n",
    "boxplot(total,flour,diet)\n",
    "\n",
    "\n",
    "\n"
   ]
  },
  {
   "cell_type": "code",
   "execution_count": 12,
   "metadata": {},
   "outputs": [
    {
     "data": {
      "text/html": [
       "-0.0170805051030557"
      ],
      "text/latex": [
       "-0.0170805051030557"
      ],
      "text/markdown": [
       "-0.0170805051030557"
      ],
      "text/plain": [
       "[1] -0.01708051"
      ]
     },
     "metadata": {},
     "output_type": "display_data"
    }
   ],
   "source": [
    "# 상관계수 : -1 ~ 0 ~ 1 (1의 값이 가까울 수록 상관관계가 있다.)\n",
    "cor(flour,diet)\n",
    "\n",
    "\n",
    "\n"
   ]
  },
  {
   "cell_type": "code",
   "execution_count": 13,
   "metadata": {},
   "outputs": [
    {
     "data": {
      "text/html": [
       "<table>\n",
       "<thead><tr><th scope=col>seq</th><th scope=col>Day.Code</th><th scope=col>Day.of.Week</th><th scope=col>Coffee</th><th scope=col>Fruit.Cup</th></tr></thead>\n",
       "<tbody>\n",
       "\t<tr><td>1  </td><td>1  </td><td>Mon</td><td> 3 </td><td>1  </td></tr>\n",
       "\t<tr><td>2  </td><td>2  </td><td>Tue</td><td> 8 </td><td>0  </td></tr>\n",
       "\t<tr><td>3  </td><td>3  </td><td>Wed</td><td>11 </td><td>0  </td></tr>\n",
       "\t<tr><td>4  </td><td>4  </td><td>Thu</td><td>24 </td><td>0  </td></tr>\n",
       "\t<tr><td>5  </td><td>5  </td><td>Fri</td><td> 5 </td><td>5  </td></tr>\n",
       "\t<tr><td>6  </td><td>6  </td><td>Sat</td><td>10 </td><td>0  </td></tr>\n",
       "</tbody>\n",
       "</table>\n"
      ],
      "text/latex": [
       "\\begin{tabular}{r|lllll}\n",
       " seq & Day.Code & Day.of.Week & Coffee & Fruit.Cup\\\\\n",
       "\\hline\n",
       "\t 1   & 1   & Mon &  3  & 1  \\\\\n",
       "\t 2   & 2   & Tue &  8  & 0  \\\\\n",
       "\t 3   & 3   & Wed & 11  & 0  \\\\\n",
       "\t 4   & 4   & Thu & 24  & 0  \\\\\n",
       "\t 5   & 5   & Fri &  5  & 5  \\\\\n",
       "\t 6   & 6   & Sat & 10  & 0  \\\\\n",
       "\\end{tabular}\n"
      ],
      "text/markdown": [
       "\n",
       "seq | Day.Code | Day.of.Week | Coffee | Fruit.Cup | \n",
       "|---|---|---|---|---|---|\n",
       "| 1   | 1   | Mon |  3  | 1   | \n",
       "| 2   | 2   | Tue |  8  | 0   | \n",
       "| 3   | 3   | Wed | 11  | 0   | \n",
       "| 4   | 4   | Thu | 24  | 0   | \n",
       "| 5   | 5   | Fri |  5  | 5   | \n",
       "| 6   | 6   | Sat | 10  | 0   | \n",
       "\n",
       "\n"
      ],
      "text/plain": [
       "  seq Day.Code Day.of.Week Coffee Fruit.Cup\n",
       "1 1   1        Mon          3     1        \n",
       "2 2   2        Tue          8     0        \n",
       "3 3   3        Wed         11     0        \n",
       "4 4   4        Thu         24     0        \n",
       "5 5   5        Fri          5     5        \n",
       "6 6   6        Sat         10     0        "
      ]
     },
     "metadata": {},
     "output_type": "display_data"
    }
   ],
   "source": [
    "cafe <- read.csv('../Data/coffee.csv')\n",
    "head(cafe)\n",
    "\n",
    "\n",
    "\n"
   ]
  },
  {
   "cell_type": "code",
   "execution_count": 21,
   "metadata": {},
   "outputs": [
    {
     "data": {
      "text/html": [
       "<ol class=list-inline>\n",
       "\t<li>59</li>\n",
       "\t<li>56</li>\n",
       "\t<li>54</li>\n",
       "\t<li>53</li>\n",
       "\t<li>51</li>\n",
       "\t<li>50</li>\n",
       "\t<li>50</li>\n",
       "\t<li>49</li>\n",
       "\t<li>34</li>\n",
       "\t<li>34</li>\n",
       "\t<li>33</li>\n",
       "\t<li>29</li>\n",
       "\t<li>29</li>\n",
       "\t<li>27</li>\n",
       "\t<li>25</li>\n",
       "\t<li>24</li>\n",
       "\t<li>22</li>\n",
       "\t<li>18</li>\n",
       "\t<li>14</li>\n",
       "\t<li>13</li>\n",
       "\t<li>11</li>\n",
       "\t<li>11</li>\n",
       "\t<li>10</li>\n",
       "\t<li>9</li>\n",
       "\t<li>8</li>\n",
       "\t<li>5</li>\n",
       "\t<li>5</li>\n",
       "\t<li>3</li>\n",
       "</ol>\n"
      ],
      "text/latex": [
       "\\begin{enumerate*}\n",
       "\\item 59\n",
       "\\item 56\n",
       "\\item 54\n",
       "\\item 53\n",
       "\\item 51\n",
       "\\item 50\n",
       "\\item 50\n",
       "\\item 49\n",
       "\\item 34\n",
       "\\item 34\n",
       "\\item 33\n",
       "\\item 29\n",
       "\\item 29\n",
       "\\item 27\n",
       "\\item 25\n",
       "\\item 24\n",
       "\\item 22\n",
       "\\item 18\n",
       "\\item 14\n",
       "\\item 13\n",
       "\\item 11\n",
       "\\item 11\n",
       "\\item 10\n",
       "\\item 9\n",
       "\\item 8\n",
       "\\item 5\n",
       "\\item 5\n",
       "\\item 3\n",
       "\\end{enumerate*}\n"
      ],
      "text/markdown": [
       "1. 59\n",
       "2. 56\n",
       "3. 54\n",
       "4. 53\n",
       "5. 51\n",
       "6. 50\n",
       "7. 50\n",
       "8. 49\n",
       "9. 34\n",
       "10. 34\n",
       "11. 33\n",
       "12. 29\n",
       "13. 29\n",
       "14. 27\n",
       "15. 25\n",
       "16. 24\n",
       "17. 22\n",
       "18. 18\n",
       "19. 14\n",
       "20. 13\n",
       "21. 11\n",
       "22. 11\n",
       "23. 10\n",
       "24. 9\n",
       "25. 8\n",
       "26. 5\n",
       "27. 5\n",
       "28. 3\n",
       "\n",
       "\n"
      ],
      "text/plain": [
       " [1] 59 56 54 53 51 50 50 49 34 34 33 29 29 27 25 24 22 18 14 13 11 11 10  9  8\n",
       "[26]  5  5  3"
      ]
     },
     "metadata": {},
     "output_type": "display_data"
    },
    {
     "data": {
      "text/html": [
       "3"
      ],
      "text/latex": [
       "3"
      ],
      "text/markdown": [
       "3"
      ],
      "text/plain": [
       "[1] 3"
      ]
     },
     "metadata": {},
     "output_type": "display_data"
    },
    {
     "data": {
      "text/html": [
       "59"
      ],
      "text/latex": [
       "59"
      ],
      "text/markdown": [
       "59"
      ],
      "text/plain": [
       "[1] 59"
      ]
     },
     "metadata": {},
     "output_type": "display_data"
    },
    {
     "data": {
      "text/html": [
       "28.0714285714286"
      ],
      "text/latex": [
       "28.0714285714286"
      ],
      "text/markdown": [
       "28.0714285714286"
      ],
      "text/plain": [
       "[1] 28.07143"
      ]
     },
     "metadata": {},
     "output_type": "display_data"
    },
    {
     "data": {
      "text/html": [
       "26"
      ],
      "text/latex": [
       "26"
      ],
      "text/markdown": [
       "26"
      ],
      "text/plain": [
       "[1] 26"
      ]
     },
     "metadata": {},
     "output_type": "display_data"
    },
    {
     "data": {
      "text/html": [
       "<ol class=list-inline>\n",
       "\t<li>59</li>\n",
       "\t<li>56</li>\n",
       "\t<li>54</li>\n",
       "\t<li>53</li>\n",
       "\t<li>51</li>\n",
       "\t<li>50</li>\n",
       "\t<li>50</li>\n",
       "\t<li>49</li>\n",
       "\t<li>34</li>\n",
       "\t<li>34</li>\n",
       "\t<li>33</li>\n",
       "\t<li>29</li>\n",
       "\t<li>29</li>\n",
       "\t<li>27</li>\n",
       "\t<li>25</li>\n",
       "\t<li>24</li>\n",
       "\t<li>22</li>\n",
       "\t<li>18</li>\n",
       "\t<li>14</li>\n",
       "\t<li>13</li>\n",
       "\t<li>11</li>\n",
       "\t<li>11</li>\n",
       "\t<li>10</li>\n",
       "\t<li>9</li>\n",
       "\t<li>8</li>\n",
       "\t<li>5</li>\n",
       "\t<li>5</li>\n",
       "\t<li>3</li>\n",
       "</ol>\n"
      ],
      "text/latex": [
       "\\begin{enumerate*}\n",
       "\\item 59\n",
       "\\item 56\n",
       "\\item 54\n",
       "\\item 53\n",
       "\\item 51\n",
       "\\item 50\n",
       "\\item 50\n",
       "\\item 49\n",
       "\\item 34\n",
       "\\item 34\n",
       "\\item 33\n",
       "\\item 29\n",
       "\\item 29\n",
       "\\item 27\n",
       "\\item 25\n",
       "\\item 24\n",
       "\\item 22\n",
       "\\item 18\n",
       "\\item 14\n",
       "\\item 13\n",
       "\\item 11\n",
       "\\item 11\n",
       "\\item 10\n",
       "\\item 9\n",
       "\\item 8\n",
       "\\item 5\n",
       "\\item 5\n",
       "\\item 3\n",
       "\\end{enumerate*}\n"
      ],
      "text/markdown": [
       "1. 59\n",
       "2. 56\n",
       "3. 54\n",
       "4. 53\n",
       "5. 51\n",
       "6. 50\n",
       "7. 50\n",
       "8. 49\n",
       "9. 34\n",
       "10. 34\n",
       "11. 33\n",
       "12. 29\n",
       "13. 29\n",
       "14. 27\n",
       "15. 25\n",
       "16. 24\n",
       "17. 22\n",
       "18. 18\n",
       "19. 14\n",
       "20. 13\n",
       "21. 11\n",
       "22. 11\n",
       "23. 10\n",
       "24. 9\n",
       "25. 8\n",
       "26. 5\n",
       "27. 5\n",
       "28. 3\n",
       "\n",
       "\n"
      ],
      "text/plain": [
       " [1] 59 56 54 53 51 50 50 49 34 34 33 29 29 27 25 24 22 18 14 13 11 11 10  9  8\n",
       "[26]  5  5  3"
      ]
     },
     "metadata": {},
     "output_type": "display_data"
    }
   ],
   "source": [
    "# Sort 함수\n",
    "sort(cafe$Coffee, decreasing = T) # 역순 decreasing - 정렬\n",
    "min(cafe$Coffee) \n",
    "max(cafe$Coffee) \n",
    "mean(cafe$Coffee) \n",
    "median(cafe$Coffee) \n",
    "abs(sort(- cafe$Coffee))\n",
    "\n",
    "\n",
    "\n",
    "\n",
    "\n",
    "\n",
    "\n"
   ]
  },
  {
   "cell_type": "code",
   "execution_count": 23,
   "metadata": {},
   "outputs": [
    {
     "data": {
      "text/plain": [
       "\n",
       " 3  5  8  9 10 11 13 14 18 22 24 25 27 29 33 34 49 50 51 53 54 56 59 \n",
       " 1  2  1  1  1  2  1  1  1  1  1  1  1  2  1  2  1  2  1  1  1  1  1 "
      ]
     },
     "metadata": {},
     "output_type": "display_data"
    }
   ],
   "source": [
    "# 빈도수 함수\n",
    "table(cafe$Coffee)\n",
    "\n",
    "\n",
    "\n"
   ]
  },
  {
   "cell_type": "code",
   "execution_count": 30,
   "metadata": {},
   "outputs": [
    {
     "data": {
      "text/html": [
       "<ol class=list-inline>\n",
       "\t<li>0</li>\n",
       "\t<li>10</li>\n",
       "\t<li>20</li>\n",
       "\t<li>30</li>\n",
       "\t<li>40</li>\n",
       "\t<li>50</li>\n",
       "\t<li>60</li>\n",
       "</ol>\n"
      ],
      "text/latex": [
       "\\begin{enumerate*}\n",
       "\\item 0\n",
       "\\item 10\n",
       "\\item 20\n",
       "\\item 30\n",
       "\\item 40\n",
       "\\item 50\n",
       "\\item 60\n",
       "\\end{enumerate*}\n"
      ],
      "text/markdown": [
       "1. 0\n",
       "2. 10\n",
       "3. 20\n",
       "4. 30\n",
       "5. 40\n",
       "6. 50\n",
       "7. 60\n",
       "\n",
       "\n"
      ],
      "text/plain": [
       "[1]  0 10 20 30 40 50 60"
      ]
     },
     "metadata": {},
     "output_type": "display_data"
    },
    {
     "data": {
      "text/html": [
       "<ol class=list-inline>\n",
       "\t<li>0</li>\n",
       "\t<li>10</li>\n",
       "\t<li>20</li>\n",
       "\t<li>30</li>\n",
       "\t<li>40</li>\n",
       "\t<li>50</li>\n",
       "\t<li>60</li>\n",
       "</ol>\n"
      ],
      "text/latex": [
       "\\begin{enumerate*}\n",
       "\\item 0\n",
       "\\item 10\n",
       "\\item 20\n",
       "\\item 30\n",
       "\\item 40\n",
       "\\item 50\n",
       "\\item 60\n",
       "\\end{enumerate*}\n"
      ],
      "text/markdown": [
       "1. 0\n",
       "2. 10\n",
       "3. 20\n",
       "4. 30\n",
       "5. 40\n",
       "6. 50\n",
       "7. 60\n",
       "\n",
       "\n"
      ],
      "text/plain": [
       "[1]  0 10 20 30 40 50 60"
      ]
     },
     "metadata": {},
     "output_type": "display_data"
    },
    {
     "data": {
      "text/html": [
       "<ol class=list-inline>\n",
       "\t<li>(0,10]</li>\n",
       "\t<li>(0,10]</li>\n",
       "\t<li>(10,20]</li>\n",
       "\t<li>(20,30]</li>\n",
       "\t<li>(0,10]</li>\n",
       "\t<li>(0,10]</li>\n",
       "\t<li>(20,30]</li>\n",
       "\t<li>(20,30]</li>\n",
       "\t<li>(20,30]</li>\n",
       "\t<li>(10,20]</li>\n",
       "\t<li>(0,10]</li>\n",
       "\t<li>(0,10]</li>\n",
       "\t<li>(10,20]</li>\n",
       "\t<li>(10,20]</li>\n",
       "\t<li>(10,20]</li>\n",
       "\t<li>(20,30]</li>\n",
       "\t<li>(30,40]</li>\n",
       "\t<li>(30,40]</li>\n",
       "\t<li>(20,30]</li>\n",
       "\t<li>(40,50]</li>\n",
       "\t<li>(50,60]</li>\n",
       "\t<li>(50,60]</li>\n",
       "\t<li>(50,60]</li>\n",
       "\t<li>(50,60]</li>\n",
       "\t<li>(50,60]</li>\n",
       "\t<li>(30,40]</li>\n",
       "\t<li>(40,50]</li>\n",
       "\t<li>(40,50]</li>\n",
       "</ol>\n",
       "\n",
       "<details>\n",
       "\t<summary style=display:list-item;cursor:pointer>\n",
       "\t\t<strong>Levels</strong>:\n",
       "\t</summary>\n",
       "\t<ol class=list-inline>\n",
       "\t\t<li>'(0,10]'</li>\n",
       "\t\t<li>'(10,20]'</li>\n",
       "\t\t<li>'(20,30]'</li>\n",
       "\t\t<li>'(30,40]'</li>\n",
       "\t\t<li>'(40,50]'</li>\n",
       "\t\t<li>'(50,60]'</li>\n",
       "\t</ol>\n",
       "</details>"
      ],
      "text/latex": [
       "\\begin{enumerate*}\n",
       "\\item (0,10{]}\n",
       "\\item (0,10{]}\n",
       "\\item (10,20{]}\n",
       "\\item (20,30{]}\n",
       "\\item (0,10{]}\n",
       "\\item (0,10{]}\n",
       "\\item (20,30{]}\n",
       "\\item (20,30{]}\n",
       "\\item (20,30{]}\n",
       "\\item (10,20{]}\n",
       "\\item (0,10{]}\n",
       "\\item (0,10{]}\n",
       "\\item (10,20{]}\n",
       "\\item (10,20{]}\n",
       "\\item (10,20{]}\n",
       "\\item (20,30{]}\n",
       "\\item (30,40{]}\n",
       "\\item (30,40{]}\n",
       "\\item (20,30{]}\n",
       "\\item (40,50{]}\n",
       "\\item (50,60{]}\n",
       "\\item (50,60{]}\n",
       "\\item (50,60{]}\n",
       "\\item (50,60{]}\n",
       "\\item (50,60{]}\n",
       "\\item (30,40{]}\n",
       "\\item (40,50{]}\n",
       "\\item (40,50{]}\n",
       "\\end{enumerate*}\n",
       "\n",
       "\\emph{Levels}: \\begin{enumerate*}\n",
       "\\item '(0,10{]}'\n",
       "\\item '(10,20{]}'\n",
       "\\item '(20,30{]}'\n",
       "\\item '(30,40{]}'\n",
       "\\item '(40,50{]}'\n",
       "\\item '(50,60{]}'\n",
       "\\end{enumerate*}\n"
      ],
      "text/markdown": [
       "1. (0,10]\n",
       "2. (0,10]\n",
       "3. (10,20]\n",
       "4. (20,30]\n",
       "5. (0,10]\n",
       "6. (0,10]\n",
       "7. (20,30]\n",
       "8. (20,30]\n",
       "9. (20,30]\n",
       "10. (10,20]\n",
       "11. (0,10]\n",
       "12. (0,10]\n",
       "13. (10,20]\n",
       "14. (10,20]\n",
       "15. (10,20]\n",
       "16. (20,30]\n",
       "17. (30,40]\n",
       "18. (30,40]\n",
       "19. (20,30]\n",
       "20. (40,50]\n",
       "21. (50,60]\n",
       "22. (50,60]\n",
       "23. (50,60]\n",
       "24. (50,60]\n",
       "25. (50,60]\n",
       "26. (30,40]\n",
       "27. (40,50]\n",
       "28. (40,50]\n",
       "\n",
       "\n",
       "\n",
       "**Levels**: 1. '(0,10]'\n",
       "2. '(10,20]'\n",
       "3. '(20,30]'\n",
       "4. '(30,40]'\n",
       "5. '(40,50]'\n",
       "6. '(50,60]'\n",
       "\n",
       "\n"
      ],
      "text/plain": [
       " [1] (0,10]  (0,10]  (10,20] (20,30] (0,10]  (0,10]  (20,30] (20,30] (20,30]\n",
       "[10] (10,20] (0,10]  (0,10]  (10,20] (10,20] (10,20] (20,30] (30,40] (30,40]\n",
       "[19] (20,30] (40,50] (50,60] (50,60] (50,60] (50,60] (50,60] (30,40] (40,50]\n",
       "[28] (40,50]\n",
       "Levels: (0,10] (10,20] (20,30] (30,40] (40,50] (50,60]"
      ]
     },
     "metadata": {},
     "output_type": "display_data"
    },
    {
     "data": {
      "text/plain": [
       "\n",
       " (0,10] (10,20] (20,30] (30,40] (40,50] (50,60] \n",
       "      6       5       6       3       3       5 "
      ]
     },
     "metadata": {},
     "output_type": "display_data"
    },
    {
     "data": {
      "text/plain": [
       "\n",
       " [0,10) [10,20) [20,30) [30,40) [40,50) [50,60) \n",
       "      5       6       6       3       1       7 "
      ]
     },
     "metadata": {},
     "output_type": "display_data"
    }
   ],
   "source": [
    "# 최빈값의 단위 정의 하기\n",
    "seq(0,60, by=10)\n",
    "seq(0,60, 10)\n",
    "\n",
    "# 각 값들이 범위 값으로 변경되어서 나옴 3은 0에서 10 사이이므로 (0,10] 로 찍힘\n",
    "cut(cafe$Coffee, breaks = seq(0,60, 10))\n",
    "\n",
    "# 범위값의 빈도수\n",
    "table(cut(cafe$Coffee, breaks = seq(0,60, 10)))\n",
    "\n",
    "# 각 10 단위수들이 0~10 11~10으로 들어가 있음 이것을 구간을 정해줘서 0~ 9 10~19 로 만들어줌  right = F\n",
    "table(cut(cafe$Coffee, breaks = seq(0,60, 10),right=F))\n",
    "\n",
    "\n",
    "\n",
    "\n",
    "\n",
    "\n",
    "\n",
    "\n",
    "\n",
    "\n",
    "\n"
   ]
  },
  {
   "cell_type": "code",
   "execution_count": 31,
   "metadata": {},
   "outputs": [
    {
     "data": {
      "text/html": [
       "<ol class=list-inline>\n",
       "\t<li>3</li>\n",
       "\t<li>8</li>\n",
       "\t<li>11</li>\n",
       "\t<li>24</li>\n",
       "\t<li>5</li>\n",
       "\t<li>10</li>\n",
       "\t<li>22</li>\n",
       "\t<li>25</li>\n",
       "\t<li>27</li>\n",
       "\t<li>13</li>\n",
       "\t<li>5</li>\n",
       "\t<li>9</li>\n",
       "\t<li>11</li>\n",
       "\t<li>14</li>\n",
       "\t<li>18</li>\n",
       "\t<li>29</li>\n",
       "\t<li>33</li>\n",
       "\t<li>34</li>\n",
       "\t<li>29</li>\n",
       "\t<li>50</li>\n",
       "\t<li>51</li>\n",
       "\t<li>54</li>\n",
       "\t<li>53</li>\n",
       "\t<li>56</li>\n",
       "\t<li>59</li>\n",
       "\t<li>34</li>\n",
       "\t<li>49</li>\n",
       "\t<li>50</li>\n",
       "</ol>\n"
      ],
      "text/latex": [
       "\\begin{enumerate*}\n",
       "\\item 3\n",
       "\\item 8\n",
       "\\item 11\n",
       "\\item 24\n",
       "\\item 5\n",
       "\\item 10\n",
       "\\item 22\n",
       "\\item 25\n",
       "\\item 27\n",
       "\\item 13\n",
       "\\item 5\n",
       "\\item 9\n",
       "\\item 11\n",
       "\\item 14\n",
       "\\item 18\n",
       "\\item 29\n",
       "\\item 33\n",
       "\\item 34\n",
       "\\item 29\n",
       "\\item 50\n",
       "\\item 51\n",
       "\\item 54\n",
       "\\item 53\n",
       "\\item 56\n",
       "\\item 59\n",
       "\\item 34\n",
       "\\item 49\n",
       "\\item 50\n",
       "\\end{enumerate*}\n"
      ],
      "text/markdown": [
       "1. 3\n",
       "2. 8\n",
       "3. 11\n",
       "4. 24\n",
       "5. 5\n",
       "6. 10\n",
       "7. 22\n",
       "8. 25\n",
       "9. 27\n",
       "10. 13\n",
       "11. 5\n",
       "12. 9\n",
       "13. 11\n",
       "14. 14\n",
       "15. 18\n",
       "16. 29\n",
       "17. 33\n",
       "18. 34\n",
       "19. 29\n",
       "20. 50\n",
       "21. 51\n",
       "22. 54\n",
       "23. 53\n",
       "24. 56\n",
       "25. 59\n",
       "26. 34\n",
       "27. 49\n",
       "28. 50\n",
       "\n",
       "\n"
      ],
      "text/plain": [
       " [1]  3  8 11 24  5 10 22 25 27 13  5  9 11 14 18 29 33 34 29 50 51 54 53 56 59\n",
       "[26] 34 49 50"
      ]
     },
     "metadata": {},
     "output_type": "display_data"
    },
    {
     "name": "stdout",
     "output_type": "stream",
     "text": [
      "\n",
      "  The decimal point is 1 digit(s) to the right of the |\n",
      "\n",
      "  0 | 35589\n",
      "  1 | 011348\n",
      "  2 | 245799\n",
      "  3 | 344\n",
      "  4 | 9\n",
      "  5 | 0013469\n",
      "\n"
     ]
    }
   ],
   "source": [
    "# 줄기 - 잎 그림 :  자료를 순서대로 나열한 후 적당한 단위로 나누어 줄기 부분을 만들고 각 값을 줄기 부분에 붙인 그림\n",
    "cafe$Coffee\n",
    "stem(cafe$Coffee)\n",
    "\n",
    "# 0자릿수는 3,5,5,8,9\n",
    "# 10 자릿수는 10, 11, 11, 13, 14, 18 이 들어있다는 뜻\n",
    "\n",
    "\n",
    "\n"
   ]
  },
  {
   "cell_type": "code",
   "execution_count": 36,
   "metadata": {},
   "outputs": [
    {
     "name": "stdout",
     "output_type": "stream",
     "text": [
      "평균 판매량 28.1 표준편차 18.27"
     ]
    }
   ],
   "source": [
    "# Cafe Data 의 평균과 표준편차\n",
    "ca <- cafe$Coffee\n",
    "ca.m <- mean(ca)\n",
    "ca.sd <- sd(ca)\n",
    "\n",
    "cat(\"평균 판매량\",round(ca.m,1),\"표준편차\",round(ca.sd,2)) # 보통 평균값은 소수점 1 표준편차는 소수점 2\n",
    "\n",
    "\n",
    "\n",
    "\n",
    "\n",
    "\n",
    "\n"
   ]
  },
  {
   "cell_type": "code",
   "execution_count": 38,
   "metadata": {},
   "outputs": [],
   "source": [
    "# 커피와 과일주스 중 어떤 음료가 더 나은 판매 음료인가?\n",
    "# 어떻게 판단할 것인가?\n",
    "coffee <- cafe$Coffee\n",
    "juice <- cafe$Fruit.Cup\n",
    "# 커피 판매량의 평균값\n",
    "coffee.m <- mean(coffee)\n",
    "# 커피 판매량의 표준편차\n",
    "coffee.sd <- sd(coffee)\n",
    "# 주스 판매량의 평균값\n",
    "juice.m <- mean(juice)\n",
    "# 주스 판매량의 표준편차\n",
    "juice.sd <- sd(juice)\n",
    "\n",
    "\n",
    "\n",
    "\n",
    "\n",
    "\n",
    "\n",
    "\n",
    "\n",
    "\n",
    "\n"
   ]
  },
  {
   "cell_type": "code",
   "execution_count": 39,
   "metadata": {},
   "outputs": [
    {
     "data": {
      "text/html": [
       "28.0714285714286"
      ],
      "text/latex": [
       "28.0714285714286"
      ],
      "text/markdown": [
       "28.0714285714286"
      ],
      "text/plain": [
       "[1] 28.07143"
      ]
     },
     "metadata": {},
     "output_type": "display_data"
    },
    {
     "data": {
      "text/html": [
       "18.2694413371752"
      ],
      "text/latex": [
       "18.2694413371752"
      ],
      "text/markdown": [
       "18.2694413371752"
      ],
      "text/plain": [
       "[1] 18.26944"
      ]
     },
     "metadata": {},
     "output_type": "display_data"
    }
   ],
   "source": [
    "coffee.m\n",
    "coffee.sd\n",
    "\n",
    "\n",
    "\n"
   ]
  },
  {
   "cell_type": "code",
   "execution_count": 40,
   "metadata": {},
   "outputs": [
    {
     "data": {
      "text/html": [
       "6.07142857142857"
      ],
      "text/latex": [
       "6.07142857142857"
      ],
      "text/markdown": [
       "6.07142857142857"
      ],
      "text/plain": [
       "[1] 6.071429"
      ]
     },
     "metadata": {},
     "output_type": "display_data"
    },
    {
     "data": {
      "text/html": [
       "6.54855693138556"
      ],
      "text/latex": [
       "6.54855693138556"
      ],
      "text/markdown": [
       "6.54855693138556"
      ],
      "text/plain": [
       "[1] 6.548557"
      ]
     },
     "metadata": {},
     "output_type": "display_data"
    }
   ],
   "source": [
    "juice.m\n",
    "juice.sd\n",
    "\n",
    "\n",
    "\n"
   ]
  },
  {
   "cell_type": "code",
   "execution_count": 41,
   "metadata": {},
   "outputs": [
    {
     "data": {
      "text/html": [
       "0.651"
      ],
      "text/latex": [
       "0.651"
      ],
      "text/markdown": [
       "0.651"
      ],
      "text/plain": [
       "[1] 0.651"
      ]
     },
     "metadata": {},
     "output_type": "display_data"
    },
    {
     "data": {
      "text/html": [
       "1.079"
      ],
      "text/latex": [
       "1.079"
      ],
      "text/markdown": [
       "1.079"
      ],
      "text/plain": [
       "[1] 1.079"
      ]
     },
     "metadata": {},
     "output_type": "display_data"
    }
   ],
   "source": [
    "# 표준편차만 보고 편차가 심하지 않은 것이 주스 이므로 주스를 팔아라! 하면 안된다\n",
    "# 데이터 값이 틀리기 때문이다. 데이터 크기가 같다면 쓸 수 있을 수도\n",
    "\n",
    "# 통계학 책을 기반으로 봤을 땐 주스를 선택하는 것이 옳다. \n",
    "# 하지만 경제학적으로 봤을 땐 틀려진다\n",
    "\n",
    "# 커피 판매량의 변동계수 - 크기를 맞춰주고 보는 방법 \n",
    "coffee.cv <- round(coffee.sd / coffee.m , 3)\n",
    "juice.cv <- round(juice.sd / juice.m , 3)\n",
    "coffee.cv\n",
    "juice.cv\n",
    "\n",
    "# 이를 기반으로 보았을 때 변동계수가 높을 수록 편차가 심하다는 것이므로 \n",
    "# 이 집은 주스를 포기하고 커피를 판매하는 것이 옳다.\n",
    "# \n",
    "\n",
    "\n",
    "\n",
    "\n",
    "\n",
    "\n",
    "\n",
    "\n",
    "\n",
    "\n",
    "\n"
   ]
  },
  {
   "cell_type": "code",
   "execution_count": null,
   "metadata": {},
   "outputs": [],
   "source": []
  }
 ],
 "metadata": {
  "kernelspec": {
   "display_name": "R",
   "language": "R",
   "name": "ir"
  },
  "language_info": {
   "codemirror_mode": "r",
   "file_extension": ".r",
   "mimetype": "text/x-r-source",
   "name": "R",
   "pygments_lexer": "r",
   "version": "3.5.1"
  }
 },
 "nbformat": 4,
 "nbformat_minor": 2
}
