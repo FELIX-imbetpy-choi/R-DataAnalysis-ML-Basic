{
 "cells": [
  {
   "cell_type": "code",
   "execution_count": null,
   "metadata": {},
   "outputs": [],
   "source": [
    "1) 데이터 불러오기\n",
    "2) 상관분석하기 : 어떤 칼럼들의 상관이 제일 높은지 확인\n",
    "3) 2)의 항목으로 회귀모형 생성 및 해석\n",
    "4) 주성분 계산하기\n",
    "5) 주성분의 고유값 확인으로 함수식 생성하기\n",
    "6) 주성분의 설명력 확인하기\n",
    "7) 주성분 성분 분석중 가장 큰 두개의 항목만 출력하기\n",
    "\n",
    "\n",
    "\n",
    "\n"
   ]
  },
  {
   "cell_type": "code",
   "execution_count": 9,
   "metadata": {},
   "outputs": [
    {
     "data": {
      "text/html": [
       "<table>\n",
       "<thead><tr><th scope=col>V1</th><th scope=col>V2</th><th scope=col>V3</th><th scope=col>V4</th><th scope=col>V5</th><th scope=col>V6</th><th scope=col>V7</th><th scope=col>V8</th><th scope=col>V9</th></tr></thead>\n",
       "<tbody>\n",
       "\t<tr><td>2015</td><td>2015</td><td>5.0 </td><td>45  </td><td>173 </td><td>75  </td><td> 60 </td><td>500 </td><td>100 </td></tr>\n",
       "\t<tr><td>2014</td><td>2015</td><td>4.5 </td><td>27  </td><td>176 </td><td>59  </td><td> 70 </td><td> 30 </td><td> 50 </td></tr>\n",
       "\t<tr><td>2015</td><td>2015</td><td>5.0 </td><td>29  </td><td>183 </td><td>65  </td><td>120 </td><td>300 </td><td>200 </td></tr>\n",
       "\t<tr><td>2015</td><td>2016</td><td>5.0 </td><td>28  </td><td>172 </td><td>63  </td><td> 80 </td><td> 60 </td><td>190 </td></tr>\n",
       "\t<tr><td>2015</td><td>2015</td><td>5.0 </td><td>24  </td><td>179 </td><td>65  </td><td> 90 </td><td> 30 </td><td>500 </td></tr>\n",
       "\t<tr><td>2016</td><td>2016</td><td>5.5 </td><td>34  </td><td>175 </td><td>73  </td><td> 80 </td><td>480 </td><td>160 </td></tr>\n",
       "</tbody>\n",
       "</table>\n"
      ],
      "text/latex": [
       "\\begin{tabular}{r|lllllllll}\n",
       " V1 & V2 & V3 & V4 & V5 & V6 & V7 & V8 & V9\\\\\n",
       "\\hline\n",
       "\t 2015 & 2015 & 5.0  & 45   & 173  & 75   &  60  & 500  & 100 \\\\\n",
       "\t 2014 & 2015 & 4.5  & 27   & 176  & 59   &  70  &  30  &  50 \\\\\n",
       "\t 2015 & 2015 & 5.0  & 29   & 183  & 65   & 120  & 300  & 200 \\\\\n",
       "\t 2015 & 2016 & 5.0  & 28   & 172  & 63   &  80  &  60  & 190 \\\\\n",
       "\t 2015 & 2015 & 5.0  & 24   & 179  & 65   &  90  &  30  & 500 \\\\\n",
       "\t 2016 & 2016 & 5.5  & 34   & 175  & 73   &  80  & 480  & 160 \\\\\n",
       "\\end{tabular}\n"
      ],
      "text/markdown": [
       "\n",
       "V1 | V2 | V3 | V4 | V5 | V6 | V7 | V8 | V9 | \n",
       "|---|---|---|---|---|---|\n",
       "| 2015 | 2015 | 5.0  | 45   | 173  | 75   |  60  | 500  | 100  | \n",
       "| 2014 | 2015 | 4.5  | 27   | 176  | 59   |  70  |  30  |  50  | \n",
       "| 2015 | 2015 | 5.0  | 29   | 183  | 65   | 120  | 300  | 200  | \n",
       "| 2015 | 2016 | 5.0  | 28   | 172  | 63   |  80  |  60  | 190  | \n",
       "| 2015 | 2015 | 5.0  | 24   | 179  | 65   |  90  |  30  | 500  | \n",
       "| 2016 | 2016 | 5.5  | 34   | 175  | 73   |  80  | 480  | 160  | \n",
       "\n",
       "\n"
      ],
      "text/plain": [
       "  V1   V2   V3  V4 V5  V6 V7  V8  V9 \n",
       "1 2015 2015 5.0 45 173 75  60 500 100\n",
       "2 2014 2015 4.5 27 176 59  70  30  50\n",
       "3 2015 2015 5.0 29 183 65 120 300 200\n",
       "4 2015 2016 5.0 28 172 63  80  60 190\n",
       "5 2015 2015 5.0 24 179 65  90  30 500\n",
       "6 2016 2016 5.5 34 175 73  80 480 160"
      ]
     },
     "metadata": {},
     "output_type": "display_data"
    }
   ],
   "source": [
    "# 데이터 불러오기\n",
    "s <- read.csv('../Data/phone02.csv',header = F)\n",
    "head(s)\n",
    "\n",
    "# 1 출시년도 2 구매시기 3 디스플레이크기 4 연령 5 키 6 몸무게 7 평균스마트폰사용시간 8 평균컴퓨터사용시간 9 데이터사용량\n",
    "colnames(s) <- c('출시년도', '구매시기', '디스플레이크기', '연령', '키', '몸무게', '평균스마트폰사용시간', '평균컴퓨터사용시간', '데이터사용량')\n",
    "\n",
    "\n",
    "\n"
   ]
  },
  {
   "cell_type": "code",
   "execution_count": 13,
   "metadata": {},
   "outputs": [
    {
     "data": {
      "text/html": [
       "<table>\n",
       "<thead><tr><th></th><th scope=col>출시년도</th><th scope=col>구매시기</th><th scope=col>디스플레이크기</th><th scope=col>연령</th><th scope=col>키</th><th scope=col>몸무게</th><th scope=col>평균스마트폰사용시간</th><th scope=col>평균컴퓨터사용시간</th><th scope=col>데이터사용량</th></tr></thead>\n",
       "<tbody>\n",
       "\t<tr><th scope=row>출시년도</th><td> 1.000000000</td><td> 0.87575498 </td><td> 0.75218043 </td><td>-0.05700968 </td><td> 0.10232292 </td><td> 0.16690231 </td><td>-0.09683584 </td><td> 0.08139052 </td><td> 0.004434439</td></tr>\n",
       "\t<tr><th scope=row>구매시기</th><td> 0.875754976</td><td> 1.00000000 </td><td> 0.72374686 </td><td>-0.09335724 </td><td> 0.09357289 </td><td> 0.09682164 </td><td>-0.17581413 </td><td>-0.04901983 </td><td>-0.095587638</td></tr>\n",
       "\t<tr><th scope=row>디스플레이크기</th><td> 0.752180431</td><td> 0.72374686 </td><td> 1.00000000 </td><td> 0.23955575 </td><td>-0.03447721 </td><td> 0.33871532 </td><td>-0.28231492 </td><td>-0.05908417 </td><td>-0.135595256</td></tr>\n",
       "\t<tr><th scope=row>연령</th><td>-0.057009677</td><td>-0.09335724 </td><td> 0.23955575 </td><td> 1.00000000 </td><td>-0.21350067 </td><td> 0.48960612 </td><td>-0.53685524 </td><td> 0.50972817 </td><td>-0.583759146</td></tr>\n",
       "\t<tr><th scope=row>키</th><td> 0.102322917</td><td> 0.09357289 </td><td>-0.03447721 </td><td>-0.21350067 </td><td> 1.00000000 </td><td> 0.40885121 </td><td> 0.22596271 </td><td>-0.24343247 </td><td> 0.203415796</td></tr>\n",
       "\t<tr><th scope=row>몸무게</th><td> 0.166902315</td><td> 0.09682164 </td><td> 0.33871532 </td><td> 0.48960612 </td><td> 0.40885121 </td><td> 1.00000000 </td><td>-0.04584065 </td><td> 0.05608400 </td><td> 0.117825381</td></tr>\n",
       "\t<tr><th scope=row>평균스마트폰사용시간</th><td>-0.096835835</td><td>-0.17581413 </td><td>-0.28231492 </td><td>-0.53685524 </td><td> 0.22596271 </td><td>-0.04584065 </td><td> 1.00000000 </td><td>-0.09918323 </td><td> 0.842553923</td></tr>\n",
       "\t<tr><th scope=row>평균컴퓨터사용시간</th><td> 0.081390517</td><td>-0.04901983 </td><td>-0.05908417 </td><td> 0.50972817 </td><td>-0.24343247 </td><td> 0.05608400 </td><td>-0.09918323 </td><td> 1.00000000 </td><td>-0.222824832</td></tr>\n",
       "\t<tr><th scope=row>데이터사용량</th><td> 0.004434439</td><td>-0.09558764 </td><td>-0.13559526 </td><td>-0.58375915 </td><td> 0.20341580 </td><td> 0.11782538 </td><td> 0.84255392 </td><td>-0.22282483 </td><td> 1.000000000</td></tr>\n",
       "</tbody>\n",
       "</table>\n"
      ],
      "text/latex": [
       "\\begin{tabular}{r|lllllllll}\n",
       "  & 출시년도 & 구매시기 & 디스플레이크기 & 연령 & 키 & 몸무게 & 평균스마트폰사용시간 & 평균컴퓨터사용시간 & 데이터사용량\\\\\n",
       "\\hline\n",
       "\t출시년도 &  1.000000000 &  0.87575498  &  0.75218043  & -0.05700968  &  0.10232292  &  0.16690231  & -0.09683584  &  0.08139052  &  0.004434439\\\\\n",
       "\t구매시기 &  0.875754976 &  1.00000000  &  0.72374686  & -0.09335724  &  0.09357289  &  0.09682164  & -0.17581413  & -0.04901983  & -0.095587638\\\\\n",
       "\t디스플레이크기 &  0.752180431 &  0.72374686  &  1.00000000  &  0.23955575  & -0.03447721  &  0.33871532  & -0.28231492  & -0.05908417  & -0.135595256\\\\\n",
       "\t연령 & -0.057009677 & -0.09335724  &  0.23955575  &  1.00000000  & -0.21350067  &  0.48960612  & -0.53685524  &  0.50972817  & -0.583759146\\\\\n",
       "\t키 &  0.102322917 &  0.09357289  & -0.03447721  & -0.21350067  &  1.00000000  &  0.40885121  &  0.22596271  & -0.24343247  &  0.203415796\\\\\n",
       "\t몸무게 &  0.166902315 &  0.09682164  &  0.33871532  &  0.48960612  &  0.40885121  &  1.00000000  & -0.04584065  &  0.05608400  &  0.117825381\\\\\n",
       "\t평균스마트폰사용시간 & -0.096835835 & -0.17581413  & -0.28231492  & -0.53685524  &  0.22596271  & -0.04584065  &  1.00000000  & -0.09918323  &  0.842553923\\\\\n",
       "\t평균컴퓨터사용시간 &  0.081390517 & -0.04901983  & -0.05908417  &  0.50972817  & -0.24343247  &  0.05608400  & -0.09918323  &  1.00000000  & -0.222824832\\\\\n",
       "\t데이터사용량 &  0.004434439 & -0.09558764  & -0.13559526  & -0.58375915  &  0.20341580  &  0.11782538  &  0.84255392  & -0.22282483  &  1.000000000\\\\\n",
       "\\end{tabular}\n"
      ],
      "text/markdown": [
       "\n",
       "| <!--/--> | 출시년도 | 구매시기 | 디스플레이크기 | 연령 | 키 | 몸무게 | 평균스마트폰사용시간 | 평균컴퓨터사용시간 | 데이터사용량 | \n",
       "|---|---|---|---|---|---|---|---|---|\n",
       "| 출시년도 |  1.000000000 |  0.87575498  |  0.75218043  | -0.05700968  |  0.10232292  |  0.16690231  | -0.09683584  |  0.08139052  |  0.004434439 | \n",
       "| 구매시기 |  0.875754976 |  1.00000000  |  0.72374686  | -0.09335724  |  0.09357289  |  0.09682164  | -0.17581413  | -0.04901983  | -0.095587638 | \n",
       "| 디스플레이크기 |  0.752180431 |  0.72374686  |  1.00000000  |  0.23955575  | -0.03447721  |  0.33871532  | -0.28231492  | -0.05908417  | -0.135595256 | \n",
       "| 연령 | -0.057009677 | -0.09335724  |  0.23955575  |  1.00000000  | -0.21350067  |  0.48960612  | -0.53685524  |  0.50972817  | -0.583759146 | \n",
       "| 키 |  0.102322917 |  0.09357289  | -0.03447721  | -0.21350067  |  1.00000000  |  0.40885121  |  0.22596271  | -0.24343247  |  0.203415796 | \n",
       "| 몸무게 |  0.166902315 |  0.09682164  |  0.33871532  |  0.48960612  |  0.40885121  |  1.00000000  | -0.04584065  |  0.05608400  |  0.117825381 | \n",
       "| 평균스마트폰사용시간 | -0.096835835 | -0.17581413  | -0.28231492  | -0.53685524  |  0.22596271  | -0.04584065  |  1.00000000  | -0.09918323  |  0.842553923 | \n",
       "| 평균컴퓨터사용시간 |  0.081390517 | -0.04901983  | -0.05908417  |  0.50972817  | -0.24343247  |  0.05608400  | -0.09918323  |  1.00000000  | -0.222824832 | \n",
       "| 데이터사용량 |  0.004434439 | -0.09558764  | -0.13559526  | -0.58375915  |  0.20341580  |  0.11782538  |  0.84255392  | -0.22282483  |  1.000000000 | \n",
       "\n",
       "\n"
      ],
      "text/plain": [
       "                     출시년도     구매시기    디스플레이크기 연령       \n",
       "출시년도              1.000000000  0.87575498  0.75218043    -0.05700968\n",
       "구매시기              0.875754976  1.00000000  0.72374686    -0.09335724\n",
       "디스플레이크기        0.752180431  0.72374686  1.00000000     0.23955575\n",
       "연령                 -0.057009677 -0.09335724  0.23955575     1.00000000\n",
       "키                    0.102322917  0.09357289 -0.03447721    -0.21350067\n",
       "몸무게                0.166902315  0.09682164  0.33871532     0.48960612\n",
       "평균스마트폰사용시간 -0.096835835 -0.17581413 -0.28231492    -0.53685524\n",
       "평균컴퓨터사용시간    0.081390517 -0.04901983 -0.05908417     0.50972817\n",
       "데이터사용량          0.004434439 -0.09558764 -0.13559526    -0.58375915\n",
       "                     키          몸무게      평균스마트폰사용시간\n",
       "출시년도              0.10232292  0.16690231 -0.09683584         \n",
       "구매시기              0.09357289  0.09682164 -0.17581413         \n",
       "디스플레이크기       -0.03447721  0.33871532 -0.28231492         \n",
       "연령                 -0.21350067  0.48960612 -0.53685524         \n",
       "키                    1.00000000  0.40885121  0.22596271         \n",
       "몸무게                0.40885121  1.00000000 -0.04584065         \n",
       "평균스마트폰사용시간  0.22596271 -0.04584065  1.00000000         \n",
       "평균컴퓨터사용시간   -0.24343247  0.05608400 -0.09918323         \n",
       "데이터사용량          0.20341580  0.11782538  0.84255392         \n",
       "                     평균컴퓨터사용시간 데이터사용량\n",
       "출시년도              0.08139052         0.004434439\n",
       "구매시기             -0.04901983        -0.095587638\n",
       "디스플레이크기       -0.05908417        -0.135595256\n",
       "연령                  0.50972817        -0.583759146\n",
       "키                   -0.24343247         0.203415796\n",
       "몸무게                0.05608400         0.117825381\n",
       "평균스마트폰사용시간 -0.09918323         0.842553923\n",
       "평균컴퓨터사용시간    1.00000000        -0.222824832\n",
       "데이터사용량         -0.22282483         1.000000000"
      ]
     },
     "metadata": {},
     "output_type": "display_data"
    }
   ],
   "source": [
    "# 상관분석\n",
    "cor(s)\n",
    "\n",
    "\n",
    "\n"
   ]
  },
  {
   "cell_type": "code",
   "execution_count": 28,
   "metadata": {},
   "outputs": [
    {
     "data": {
      "text/plain": [
       "\n",
       "Call:\n",
       "lm(formula = s[, 9] ~ s[, 7], data = s)\n",
       "\n",
       "Coefficients:\n",
       "(Intercept)       s[, 7]  \n",
       "   -272.001        6.283  \n"
      ]
     },
     "metadata": {},
     "output_type": "display_data"
    }
   ],
   "source": [
    "# 단순화 회귀 모형\n",
    "lm(s[,9] ~s[,7], data = s)\n",
    "\n",
    "\n",
    "\n"
   ]
  },
  {
   "cell_type": "markdown",
   "metadata": {},
   "source": [
    "### 데이터사용량 = 6.283 * 평균스마트폰사용시간 + (-272.001)"
   ]
  },
  {
   "cell_type": "code",
   "execution_count": 29,
   "metadata": {},
   "outputs": [
    {
     "data": {
      "text/plain": [
       "\n",
       "Call:\n",
       "lm(formula = s[, 9] ~ s[, 7], data = s)\n",
       "\n",
       "Residuals:\n",
       "     Min       1Q   Median       3Q      Max \n",
       "-281.911  -76.313    1.458   54.284  241.133 \n",
       "\n",
       "Coefficients:\n",
       "             Estimate Std. Error t value Pr(>|t|)    \n",
       "(Intercept) -272.0009    77.1229  -3.527   0.0019 ** \n",
       "s[, 7]         6.2826     0.8563   7.337 2.41e-07 ***\n",
       "---\n",
       "Signif. codes:  0 ‘***’ 0.001 ‘**’ 0.01 ‘*’ 0.05 ‘.’ 0.1 ‘ ’ 1\n",
       "\n",
       "Residual standard error: 139 on 22 degrees of freedom\n",
       "Multiple R-squared:  0.7099,\tAdjusted R-squared:  0.6967 \n",
       "F-statistic: 53.84 on 1 and 22 DF,  p-value: 2.405e-07\n"
      ]
     },
     "metadata": {},
     "output_type": "display_data"
    }
   ],
   "source": [
    "# 얼마 정도의 정확도를 가지나?\n",
    "lms <- lm(s[,9] ~s[,7], data = s)\n",
    "summary(lms)\n",
    "\n",
    "### 70퍼센트정도 정확도를 가지고 있다.\n",
    "\n",
    "\n",
    "\n"
   ]
  },
  {
   "cell_type": "code",
   "execution_count": 31,
   "metadata": {},
   "outputs": [
    {
     "data": {
      "text/plain": [
       "Call:\n",
       "princomp(x = s)\n",
       "\n",
       "Standard deviations:\n",
       "     Comp.1      Comp.2      Comp.3      Comp.4      Comp.5      Comp.6 \n",
       "252.1337896 145.3144714  17.6856165   8.1840165   4.5525303   1.8463399 \n",
       "     Comp.7      Comp.8      Comp.9 \n",
       "  0.8643579   0.2279857   0.1943334 \n",
       "\n",
       " 9  variables and  24 observations."
      ]
     },
     "metadata": {},
     "output_type": "display_data"
    },
    {
     "data": {
      "text/plain": [
       "\n",
       "Loadings:\n",
       "                     Comp.1 Comp.2 Comp.3 Comp.4 Comp.5 Comp.6 Comp.7 Comp.8\n",
       "출시년도                                                 0.153  0.629  0.347\n",
       "구매시기                                                 0.162  0.611 -0.740\n",
       "디스플레이크기                                                  0.420  0.575\n",
       "연령                                       0.363 -0.523 -0.743  0.188       \n",
       "키                                         0.341  0.841 -0.413              \n",
       "몸무게                              0.153  0.855 -0.100  0.470 -0.119       \n",
       "평균스마트폰사용시간 -0.109        -0.979  0.144                            \n",
       "평균컴퓨터사용시간    0.200  0.979                                          \n",
       "데이터사용량         -0.974  0.197  0.114                                   \n",
       "                     Comp.9\n",
       "출시년도              0.678\n",
       "구매시기             -0.227\n",
       "디스플레이크기       -0.698\n",
       "연령                       \n",
       "키                         \n",
       "몸무게                     \n",
       "평균스마트폰사용시간       \n",
       "평균컴퓨터사용시간         \n",
       "데이터사용량               \n",
       "\n",
       "               Comp.1 Comp.2 Comp.3 Comp.4 Comp.5 Comp.6 Comp.7 Comp.8 Comp.9\n",
       "SS loadings     1.000  1.000  1.000  1.000  1.000  1.000  1.000  1.000  1.000\n",
       "Proportion Var  0.111  0.111  0.111  0.111  0.111  0.111  0.111  0.111  0.111\n",
       "Cumulative Var  0.111  0.222  0.333  0.444  0.556  0.667  0.778  0.889  1.000"
      ]
     },
     "metadata": {},
     "output_type": "display_data"
    }
   ],
   "source": [
    "# 주성분 분석\n",
    "prcp <- princomp(s)\n",
    "prcp\n",
    "\n",
    "# comp 1 과 comp 2 만 가지고도 사용할 수 있을 것 같다. 100의 단위가 두개네\n",
    "# comp1의 조합 comp2의 조함은?\n",
    "#고유값 벡터확인\n",
    "prcp$loadings\n",
    "\n",
    "\n",
    "\n"
   ]
  },
  {
   "cell_type": "code",
   "execution_count": 32,
   "metadata": {},
   "outputs": [
    {
     "data": {
      "text/plain": [
       "\n",
       "Loadings:\n",
       "                     Comp.1 Comp.2 Comp.3 Comp.4 Comp.5 Comp.6 Comp.7 Comp.8\n",
       "출시년도                                                 0.153  0.629  0.347\n",
       "구매시기                                                 0.162  0.611 -0.740\n",
       "디스플레이크기                                                  0.420  0.575\n",
       "연령                                       0.363 -0.523 -0.743  0.188       \n",
       "키                                         0.341  0.841 -0.413              \n",
       "몸무게                              0.153  0.855 -0.100  0.470 -0.119       \n",
       "평균스마트폰사용시간 -0.109        -0.979  0.144                            \n",
       "평균컴퓨터사용시간    0.200  0.979                                          \n",
       "데이터사용량         -0.974  0.197  0.114                                   \n",
       "                     Comp.9\n",
       "출시년도              0.678\n",
       "구매시기             -0.227\n",
       "디스플레이크기       -0.698\n",
       "연령                       \n",
       "키                         \n",
       "몸무게                     \n",
       "평균스마트폰사용시간       \n",
       "평균컴퓨터사용시간         \n",
       "데이터사용량               \n",
       "\n",
       "               Comp.1 Comp.2 Comp.3 Comp.4 Comp.5 Comp.6 Comp.7 Comp.8 Comp.9\n",
       "SS loadings     1.000  1.000  1.000  1.000  1.000  1.000  1.000  1.000  1.000\n",
       "Proportion Var  0.111  0.111  0.111  0.111  0.111  0.111  0.111  0.111  0.111\n",
       "Cumulative Var  0.111  0.222  0.333  0.444  0.556  0.667  0.778  0.889  1.000"
      ]
     },
     "metadata": {},
     "output_type": "display_data"
    }
   ],
   "source": [
    "# comp1의 조합 comp2의 조함은?\n",
    "#고유값 벡터확인\n",
    "prcp$loadings\n",
    "\n",
    "# comp 1 2 3 으로만 항목을 구성하여도 다 설명해낼 수 있다는 뜻\n",
    "# comp 1 2 3로 칼럼을 구성하려면\n",
    "# comp 1 에서는 각 값에 * ( -0.109 ) 적용한 값을 사용하고\n",
    "# comp 2 에서는 각 값에 * ( 0,200 + 0.979 ) 적용한 값을 사용\n",
    "# comp 3 에서는 각 값에 * (-0.974 + 0.197 + 0.114 ) 적용한 값을 사용\n",
    "\n",
    "\n",
    "\n",
    "\n",
    "\n",
    "\n",
    "\n"
   ]
  },
  {
   "cell_type": "markdown",
   "metadata": {},
   "source": [
    "#### comp 1 2 3 으로만 항목을 구성하여도 다 설명해낼 수 있다는 뜻\n",
    "#### comp 1 2 3로 칼럼을 구성하려면\n",
    "#### comp 1 에서는 각 값에 * ( -0.109 ) 적용한 값을 사용하고\n",
    "#### comp 2 에서는 각 값에 * ( 0,200 + 0.979 ) 적용한 값을 사용\n",
    "#### comp 3 에서는 각 값에 * (-0.974 + 0.197 + 0.114 ) 적용한 값을 사용"
   ]
  },
  {
   "cell_type": "code",
   "execution_count": 34,
   "metadata": {},
   "outputs": [
    {
     "data": {
      "text/plain": [
       "Importance of components:\n",
       "                            Comp.1      Comp.2       Comp.3       Comp.4\n",
       "Standard deviation     252.1337896 145.3144714 17.685616524 8.1840165119\n",
       "Proportion of Variance   0.7470866   0.2481570  0.003675778 0.0007871216\n",
       "Cumulative Proportion    0.7470866   0.9952436  0.998919417 0.9997065385\n",
       "                             Comp.5       Comp.6       Comp.7       Comp.8\n",
       "Standard deviation     4.5525303491 1.846340e+00 8.643579e-01 2.279857e-01\n",
       "Proportion of Variance 0.0002435648 4.006196e-05 8.780031e-06 6.108350e-07\n",
       "Cumulative Proportion  0.9999501034 9.999902e-01 9.999989e-01 9.999996e-01\n",
       "                             Comp.9\n",
       "Standard deviation     1.943334e-01\n",
       "Proportion of Variance 4.438166e-07\n",
       "Cumulative Proportion  1.000000e+00"
      ]
     },
     "metadata": {},
     "output_type": "display_data"
    }
   ],
   "source": [
    "# 설명력(예측력, 정확도)\n",
    "summary(prcp)\n",
    "\n",
    "# Cumulative Proportion    0.7470866   0.9952436 \n",
    "# comp 1과 2를 가지면 정확도가 99퍼센트 가질 수 있다.\n",
    "\n",
    "\n",
    "\n"
   ]
  },
  {
   "cell_type": "code",
   "execution_count": 41,
   "metadata": {},
   "outputs": [
    {
     "data": {
      "text/html": [
       "40"
      ],
      "text/latex": [
       "40"
      ],
      "text/markdown": [
       "40"
      ],
      "text/plain": [
       "[1] 40"
      ]
     },
     "metadata": {},
     "output_type": "display_data"
    },
    {
     "data": {
      "text/html": [
       "75"
      ],
      "text/latex": [
       "75"
      ],
      "text/markdown": [
       "75"
      ],
      "text/plain": [
       "[1] 75"
      ]
     },
     "metadata": {},
     "output_type": "display_data"
    },
    {
     "data": {
      "text/html": [
       "180"
      ],
      "text/latex": [
       "180"
      ],
      "text/markdown": [
       "180"
      ],
      "text/plain": [
       "[1] 180"
      ]
     },
     "metadata": {},
     "output_type": "display_data"
    },
    {
     "data": {
      "text/html": [
       "30"
      ],
      "text/latex": [
       "30"
      ],
      "text/markdown": [
       "30"
      ],
      "text/plain": [
       "[1] 30"
      ]
     },
     "metadata": {},
     "output_type": "display_data"
    },
    {
     "data": {
      "text/html": [
       "165"
      ],
      "text/latex": [
       "165"
      ],
      "text/markdown": [
       "165"
      ],
      "text/plain": [
       "[1] 165"
      ]
     },
     "metadata": {},
     "output_type": "display_data"
    },
    {
     "data": {
      "text/html": [
       "1100"
      ],
      "text/latex": [
       "1100"
      ],
      "text/markdown": [
       "1100"
      ],
      "text/plain": [
       "[1] 1100"
      ]
     },
     "metadata": {},
     "output_type": "display_data"
    }
   ],
   "source": [
    "# 어떨 때 표준화를 하지 않아도 되는가?\n",
    "min(s[,7])\n",
    "median(s[,7])\n",
    "max(s[,7])\n",
    "\n",
    "min(s[,9])\n",
    "median(s[,9])\n",
    "max(s[,9])\n",
    "\n",
    "# 두개의 데이터가 분포하는 범위가 완전히 어긋나 있을 때 표준화를 진행하는 것이다.\n",
    "# min 이 7에서는 40 이고 9에서는 30이므로 서로 값의 범위가 겹치고 있다.\n",
    "\n",
    "\n",
    "\n",
    "\n",
    "\n",
    "\n",
    "\n",
    "\n"
   ]
  },
  {
   "cell_type": "code",
   "execution_count": 14,
   "metadata": {},
   "outputs": [
    {
     "data": {
      "text/plain": [
       "\n",
       "Call:\n",
       "lm(formula = s$데이터사용량 ~ s$평균스마트폰사용시간)\n",
       "\n",
       "Coefficients:\n",
       "           (Intercept)  s$평균스마트폰사용시간  \n",
       "              -272.001                   6.283  \n"
      ]
     },
     "metadata": {},
     "output_type": "display_data"
    },
    {
     "data": {
      "image/png": "[encoded data removed]",
      "text/plain": [
       "Plot with title “평균스마트폰사용시간 과 데이터사용량”"
      ]
     },
     "metadata": {},
     "output_type": "display_data"
    }
   ],
   "source": [
    "plot(s$데이터사용량 ~ s$평균스마트폰사용시간,\n",
    "    main = \"평균스마트폰사용시간 과 데이터사용량\",\n",
    "    xlab = \"평균스마트폰사용시간\",\n",
    "    ylab = \"데이터사용량\"\n",
    "    )   \n",
    "# 회귀분석 : lm (종속변수)\n",
    "r <- lm(s$데이터사용량 ~ s$평균스마트폰사용시간)\n",
    "r\n",
    "# 회귀선 그리기\n",
    "abline(r)\n",
    "\n",
    "\n",
    "\n",
    "\n",
    "\n",
    "\n",
    "\n"
   ]
  },
  {
   "cell_type": "code",
   "execution_count": 25,
   "metadata": {},
   "outputs": [
    {
     "data": {
      "text/html": [
       "<table>\n",
       "<thead><tr><th scope=col>디스플레이크기</th><th scope=col>연령</th><th scope=col>키</th><th scope=col>몸무게</th><th scope=col>평균스마트폰사용시간</th><th scope=col>평균컴퓨터사용시간</th><th scope=col>데이터사용량</th></tr></thead>\n",
       "<tbody>\n",
       "\t<tr><td>-0.5112374 </td><td> 1.9689383 </td><td>-0.6947596 </td><td> 0.27211474</td><td>-0.7015106 </td><td> 2.1097564 </td><td>-0.6106882 </td></tr>\n",
       "\t<tr><td>-1.5337121 </td><td>-1.0155577 </td><td>-0.1131004 </td><td>-1.77674917</td><td>-0.4061377 </td><td>-0.9373694 </td><td>-0.8087492 </td></tr>\n",
       "\t<tr><td>-0.5112374 </td><td>-0.6839470 </td><td> 1.2441044 </td><td>-1.00842521</td><td> 1.0707267 </td><td> 0.8131072 </td><td>-0.2145661 </td></tr>\n",
       "\t<tr><td>-0.5112374 </td><td>-0.8497523 </td><td>-0.8886460 </td><td>-1.26453320</td><td>-0.1107648 </td><td>-0.7428720 </td><td>-0.2541783 </td></tr>\n",
       "\t<tr><td>-0.5112374 </td><td>-1.5129737 </td><td> 0.4685588 </td><td>-1.00842521</td><td> 0.1846081 </td><td>-0.9373694 </td><td> 0.9738001 </td></tr>\n",
       "\t<tr><td> 0.5112374 </td><td> 0.1450797 </td><td>-0.3069868 </td><td> 0.01600675</td><td>-0.1107648 </td><td> 1.9800915 </td><td>-0.3730149 </td></tr>\n",
       "\t<tr><td> 1.5337121 </td><td> 1.1399117 </td><td>-1.4703052 </td><td> 0.52822273</td><td>-0.7015106 </td><td> 0.8131072 </td><td>-0.3334027 </td></tr>\n",
       "\t<tr><td>-0.5112374 </td><td> 1.1399117 </td><td> 1.0502180 </td><td> 1.16849270</td><td>-0.9968835 </td><td>-0.7428720 </td><td>-0.8087492 </td></tr>\n",
       "\t<tr><td>-1.5337121 </td><td>-0.5181417 </td><td>-0.3069868 </td><td>-0.36815523</td><td> 0.4799809 </td><td>-0.5483746 </td><td> 0.1815559 </td></tr>\n",
       "\t<tr><td>-0.5112374 </td><td> 1.4715223 </td><td> 0.0807860 </td><td> 0.78433072</td><td>-1.2922564 </td><td> 1.9800915 </td><td>-0.8879736 </td></tr>\n",
       "\t<tr><td>-1.5337121 </td><td>-0.1865310 </td><td>-1.8580780 </td><td>-1.39258719</td><td> 1.3660996 </td><td> 0.8131072 </td><td> 0.5776780 </td></tr>\n",
       "\t<tr><td> 0.5112374 </td><td> 0.6424957 </td><td>-1.0825324 </td><td>-0.36815523</td><td> 0.1846081 </td><td> 1.2021019 </td><td>-0.2145661 </td></tr>\n",
       "\t<tr><td> 0.5112374 </td><td> 0.3108850 </td><td>-0.6947596 </td><td>-0.49620923</td><td>-0.7015106 </td><td>-0.3538772 </td><td>-0.4126271 </td></tr>\n",
       "\t<tr><td> 1.5337121 </td><td> 1.3057170 </td><td> 0.8563316 </td><td> 1.93681667</td><td>-0.7015106 </td><td>-0.3538772 </td><td>-0.4918516 </td></tr>\n",
       "\t<tr><td> 0.5112374 </td><td> 1.1399117 </td><td> 0.2746724 </td><td> 2.06487066</td><td>-0.4061377 </td><td>-0.7428720 </td><td>-0.4522394 </td></tr>\n",
       "\t<tr><td>-0.5112374 </td><td> 0.3108850 </td><td>-1.4703052 </td><td>-0.36815523</td><td>-0.9968835 </td><td>-0.5483746 </td><td>-0.6899126 </td></tr>\n",
       "\t<tr><td> 0.5112374 </td><td> 0.3108850 </td><td> 1.4379908 </td><td>-0.11204725</td><td> 0.1846081 </td><td>-0.5483746 </td><td>-0.7295248 </td></tr>\n",
       "\t<tr><td> 1.5337121 </td><td> 0.1450797 </td><td>-0.1131004 </td><td>-0.24010124</td><td> 0.1846081 </td><td>-0.7428720 </td><td>-0.4918516 </td></tr>\n",
       "\t<tr><td>-1.5337121 </td><td>-0.6839470 </td><td> 2.2135364 </td><td> 1.29654669</td><td> 1.6614725 </td><td> 0.4241124 </td><td> 1.3699221 </td></tr>\n",
       "\t<tr><td> 0.5112374 </td><td>-0.5181417 </td><td>-0.3069868 </td><td>-0.36815523</td><td>-0.9968835 </td><td>-0.3538772 </td><td>-0.8087492 </td></tr>\n",
       "\t<tr><td> 0.5112374 </td><td>-0.1865310 </td><td> 0.0807860 </td><td>-0.62426322</td><td>-0.4061377 </td><td>-0.3538772 </td><td> 0.1815559 </td></tr>\n",
       "\t<tr><td> 0.5112374 </td><td>-1.3471683 </td><td> 1.0502180 </td><td> 0.01600675</td><td>-0.7015106 </td><td>-0.7428720 </td><td> 0.1815559 </td></tr>\n",
       "\t<tr><td>-0.5112374 </td><td>-1.1813630 </td><td> 0.4685588 </td><td> 0.91238471</td><td> 2.8429640 </td><td>-0.9373694 </td><td> 3.3505324 </td></tr>\n",
       "\t<tr><td> 1.5337121 </td><td>-1.3471683 </td><td> 0.0807860 </td><td> 0.40016873</td><td> 1.0707267 </td><td>-0.5483746 </td><td> 1.7660442 </td></tr>\n",
       "</tbody>\n",
       "</table>\n"
      ],
      "text/latex": [
       "\\begin{tabular}{lllllll}\n",
       " 디스플레이크기 & 연령 & 키 & 몸무게 & 평균스마트폰사용시간 & 평균컴퓨터사용시간 & 데이터사용량\\\\\n",
       "\\hline\n",
       "\t -0.5112374  &  1.9689383  & -0.6947596  &  0.27211474 & -0.7015106  &  2.1097564  & -0.6106882 \\\\\n",
       "\t -1.5337121  & -1.0155577  & -0.1131004  & -1.77674917 & -0.4061377  & -0.9373694  & -0.8087492 \\\\\n",
       "\t -0.5112374  & -0.6839470  &  1.2441044  & -1.00842521 &  1.0707267  &  0.8131072  & -0.2145661 \\\\\n",
       "\t -0.5112374  & -0.8497523  & -0.8886460  & -1.26453320 & -0.1107648  & -0.7428720  & -0.2541783 \\\\\n",
       "\t -0.5112374  & -1.5129737  &  0.4685588  & -1.00842521 &  0.1846081  & -0.9373694  &  0.9738001 \\\\\n",
       "\t  0.5112374  &  0.1450797  & -0.3069868  &  0.01600675 & -0.1107648  &  1.9800915  & -0.3730149 \\\\\n",
       "\t  1.5337121  &  1.1399117  & -1.4703052  &  0.52822273 & -0.7015106  &  0.8131072  & -0.3334027 \\\\\n",
       "\t -0.5112374  &  1.1399117  &  1.0502180  &  1.16849270 & -0.9968835  & -0.7428720  & -0.8087492 \\\\\n",
       "\t -1.5337121  & -0.5181417  & -0.3069868  & -0.36815523 &  0.4799809  & -0.5483746  &  0.1815559 \\\\\n",
       "\t -0.5112374  &  1.4715223  &  0.0807860  &  0.78433072 & -1.2922564  &  1.9800915  & -0.8879736 \\\\\n",
       "\t -1.5337121  & -0.1865310  & -1.8580780  & -1.39258719 &  1.3660996  &  0.8131072  &  0.5776780 \\\\\n",
       "\t  0.5112374  &  0.6424957  & -1.0825324  & -0.36815523 &  0.1846081  &  1.2021019  & -0.2145661 \\\\\n",
       "\t  0.5112374  &  0.3108850  & -0.6947596  & -0.49620923 & -0.7015106  & -0.3538772  & -0.4126271 \\\\\n",
       "\t  1.5337121  &  1.3057170  &  0.8563316  &  1.93681667 & -0.7015106  & -0.3538772  & -0.4918516 \\\\\n",
       "\t  0.5112374  &  1.1399117  &  0.2746724  &  2.06487066 & -0.4061377  & -0.7428720  & -0.4522394 \\\\\n",
       "\t -0.5112374  &  0.3108850  & -1.4703052  & -0.36815523 & -0.9968835  & -0.5483746  & -0.6899126 \\\\\n",
       "\t  0.5112374  &  0.3108850  &  1.4379908  & -0.11204725 &  0.1846081  & -0.5483746  & -0.7295248 \\\\\n",
       "\t  1.5337121  &  0.1450797  & -0.1131004  & -0.24010124 &  0.1846081  & -0.7428720  & -0.4918516 \\\\\n",
       "\t -1.5337121  & -0.6839470  &  2.2135364  &  1.29654669 &  1.6614725  &  0.4241124  &  1.3699221 \\\\\n",
       "\t  0.5112374  & -0.5181417  & -0.3069868  & -0.36815523 & -0.9968835  & -0.3538772  & -0.8087492 \\\\\n",
       "\t  0.5112374  & -0.1865310  &  0.0807860  & -0.62426322 & -0.4061377  & -0.3538772  &  0.1815559 \\\\\n",
       "\t  0.5112374  & -1.3471683  &  1.0502180  &  0.01600675 & -0.7015106  & -0.7428720  &  0.1815559 \\\\\n",
       "\t -0.5112374  & -1.1813630  &  0.4685588  &  0.91238471 &  2.8429640  & -0.9373694  &  3.3505324 \\\\\n",
       "\t  1.5337121  & -1.3471683  &  0.0807860  &  0.40016873 &  1.0707267  & -0.5483746  &  1.7660442 \\\\\n",
       "\\end{tabular}\n"
      ],
      "text/markdown": [
       "\n",
       "디스플레이크기 | 연령 | 키 | 몸무게 | 평균스마트폰사용시간 | 평균컴퓨터사용시간 | 데이터사용량 | \n",
       "|---|---|---|---|---|---|---|---|---|---|---|---|---|---|---|---|---|---|---|---|---|---|---|---|\n",
       "| -0.5112374  |  1.9689383  | -0.6947596  |  0.27211474 | -0.7015106  |  2.1097564  | -0.6106882  | \n",
       "| -1.5337121  | -1.0155577  | -0.1131004  | -1.77674917 | -0.4061377  | -0.9373694  | -0.8087492  | \n",
       "| -0.5112374  | -0.6839470  |  1.2441044  | -1.00842521 |  1.0707267  |  0.8131072  | -0.2145661  | \n",
       "| -0.5112374  | -0.8497523  | -0.8886460  | -1.26453320 | -0.1107648  | -0.7428720  | -0.2541783  | \n",
       "| -0.5112374  | -1.5129737  |  0.4685588  | -1.00842521 |  0.1846081  | -0.9373694  |  0.9738001  | \n",
       "|  0.5112374  |  0.1450797  | -0.3069868  |  0.01600675 | -0.1107648  |  1.9800915  | -0.3730149  | \n",
       "|  1.5337121  |  1.1399117  | -1.4703052  |  0.52822273 | -0.7015106  |  0.8131072  | -0.3334027  | \n",
       "| -0.5112374  |  1.1399117  |  1.0502180  |  1.16849270 | -0.9968835  | -0.7428720  | -0.8087492  | \n",
       "| -1.5337121  | -0.5181417  | -0.3069868  | -0.36815523 |  0.4799809  | -0.5483746  |  0.1815559  | \n",
       "| -0.5112374  |  1.4715223  |  0.0807860  |  0.78433072 | -1.2922564  |  1.9800915  | -0.8879736  | \n",
       "| -1.5337121  | -0.1865310  | -1.8580780  | -1.39258719 |  1.3660996  |  0.8131072  |  0.5776780  | \n",
       "|  0.5112374  |  0.6424957  | -1.0825324  | -0.36815523 |  0.1846081  |  1.2021019  | -0.2145661  | \n",
       "|  0.5112374  |  0.3108850  | -0.6947596  | -0.49620923 | -0.7015106  | -0.3538772  | -0.4126271  | \n",
       "|  1.5337121  |  1.3057170  |  0.8563316  |  1.93681667 | -0.7015106  | -0.3538772  | -0.4918516  | \n",
       "|  0.5112374  |  1.1399117  |  0.2746724  |  2.06487066 | -0.4061377  | -0.7428720  | -0.4522394  | \n",
       "| -0.5112374  |  0.3108850  | -1.4703052  | -0.36815523 | -0.9968835  | -0.5483746  | -0.6899126  | \n",
       "|  0.5112374  |  0.3108850  |  1.4379908  | -0.11204725 |  0.1846081  | -0.5483746  | -0.7295248  | \n",
       "|  1.5337121  |  0.1450797  | -0.1131004  | -0.24010124 |  0.1846081  | -0.7428720  | -0.4918516  | \n",
       "| -1.5337121  | -0.6839470  |  2.2135364  |  1.29654669 |  1.6614725  |  0.4241124  |  1.3699221  | \n",
       "|  0.5112374  | -0.5181417  | -0.3069868  | -0.36815523 | -0.9968835  | -0.3538772  | -0.8087492  | \n",
       "|  0.5112374  | -0.1865310  |  0.0807860  | -0.62426322 | -0.4061377  | -0.3538772  |  0.1815559  | \n",
       "|  0.5112374  | -1.3471683  |  1.0502180  |  0.01600675 | -0.7015106  | -0.7428720  |  0.1815559  | \n",
       "| -0.5112374  | -1.1813630  |  0.4685588  |  0.91238471 |  2.8429640  | -0.9373694  |  3.3505324  | \n",
       "|  1.5337121  | -1.3471683  |  0.0807860  |  0.40016873 |  1.0707267  | -0.5483746  |  1.7660442  | \n",
       "\n",
       "\n"
      ],
      "text/plain": [
       "      디스플레이크기 연령       키         몸무게      평균스마트폰사용시간\n",
       " [1,] -0.5112374      1.9689383 -0.6947596  0.27211474 -0.7015106          \n",
       " [2,] -1.5337121     -1.0155577 -0.1131004 -1.77674917 -0.4061377          \n",
       " [3,] -0.5112374     -0.6839470  1.2441044 -1.00842521  1.0707267          \n",
       " [4,] -0.5112374     -0.8497523 -0.8886460 -1.26453320 -0.1107648          \n",
       " [5,] -0.5112374     -1.5129737  0.4685588 -1.00842521  0.1846081          \n",
       " [6,]  0.5112374      0.1450797 -0.3069868  0.01600675 -0.1107648          \n",
       " [7,]  1.5337121      1.1399117 -1.4703052  0.52822273 -0.7015106          \n",
       " [8,] -0.5112374      1.1399117  1.0502180  1.16849270 -0.9968835          \n",
       " [9,] -1.5337121     -0.5181417 -0.3069868 -0.36815523  0.4799809          \n",
       "[10,] -0.5112374      1.4715223  0.0807860  0.78433072 -1.2922564          \n",
       "[11,] -1.5337121     -0.1865310 -1.8580780 -1.39258719  1.3660996          \n",
       "[12,]  0.5112374      0.6424957 -1.0825324 -0.36815523  0.1846081          \n",
       "[13,]  0.5112374      0.3108850 -0.6947596 -0.49620923 -0.7015106          \n",
       "[14,]  1.5337121      1.3057170  0.8563316  1.93681667 -0.7015106          \n",
       "[15,]  0.5112374      1.1399117  0.2746724  2.06487066 -0.4061377          \n",
       "[16,] -0.5112374      0.3108850 -1.4703052 -0.36815523 -0.9968835          \n",
       "[17,]  0.5112374      0.3108850  1.4379908 -0.11204725  0.1846081          \n",
       "[18,]  1.5337121      0.1450797 -0.1131004 -0.24010124  0.1846081          \n",
       "[19,] -1.5337121     -0.6839470  2.2135364  1.29654669  1.6614725          \n",
       "[20,]  0.5112374     -0.5181417 -0.3069868 -0.36815523 -0.9968835          \n",
       "[21,]  0.5112374     -0.1865310  0.0807860 -0.62426322 -0.4061377          \n",
       "[22,]  0.5112374     -1.3471683  1.0502180  0.01600675 -0.7015106          \n",
       "[23,] -0.5112374     -1.1813630  0.4685588  0.91238471  2.8429640          \n",
       "[24,]  1.5337121     -1.3471683  0.0807860  0.40016873  1.0707267          \n",
       "      평균컴퓨터사용시간 데이터사용량\n",
       " [1,]  2.1097564         -0.6106882  \n",
       " [2,] -0.9373694         -0.8087492  \n",
       " [3,]  0.8131072         -0.2145661  \n",
       " [4,] -0.7428720         -0.2541783  \n",
       " [5,] -0.9373694          0.9738001  \n",
       " [6,]  1.9800915         -0.3730149  \n",
       " [7,]  0.8131072         -0.3334027  \n",
       " [8,] -0.7428720         -0.8087492  \n",
       " [9,] -0.5483746          0.1815559  \n",
       "[10,]  1.9800915         -0.8879736  \n",
       "[11,]  0.8131072          0.5776780  \n",
       "[12,]  1.2021019         -0.2145661  \n",
       "[13,] -0.3538772         -0.4126271  \n",
       "[14,] -0.3538772         -0.4918516  \n",
       "[15,] -0.7428720         -0.4522394  \n",
       "[16,] -0.5483746         -0.6899126  \n",
       "[17,] -0.5483746         -0.7295248  \n",
       "[18,] -0.7428720         -0.4918516  \n",
       "[19,]  0.4241124          1.3699221  \n",
       "[20,] -0.3538772         -0.8087492  \n",
       "[21,] -0.3538772          0.1815559  \n",
       "[22,] -0.7428720          0.1815559  \n",
       "[23,] -0.9373694          3.3505324  \n",
       "[24,] -0.5483746          1.7660442  "
      ]
     },
     "metadata": {},
     "output_type": "display_data"
    },
    {
     "data": {
      "text/plain": [
       "Standard deviations (1, .., p=7):\n",
       "[1] 1.6367343 1.2726279 1.0721652 0.9294195 0.6787776 0.4178339 0.2298609\n",
       "\n",
       "Rotation (n x k) = (7 x 7):\n",
       "                            PC1         PC2        PC3        PC4         PC5\n",
       "디스플레이크기        0.2245550  0.36460847 -0.3590689  0.6857306  0.44779604\n",
       "연령                  0.5276163  0.19133245  0.2860501 -0.0323190 -0.31511190\n",
       "키                   -0.2114434  0.51709244 -0.1119645 -0.6092966  0.48228879\n",
       "몸무게                0.1352238  0.71346650  0.1756718 -0.0107355 -0.37931244\n",
       "평균스마트폰사용시간 -0.5130203  0.08277073  0.3816280  0.1908352  0.03696279\n",
       "평균컴퓨터사용시간    0.2858706 -0.09876902  0.7314329  0.0383289  0.54465848\n",
       "데이터사용량         -0.5131184  0.19346110  0.2553707  0.3456649 -0.16026130\n",
       "                             PC6         PC7\n",
       "디스플레이크기       -0.12573381 -0.03388872\n",
       "연령                 -0.47681720 -0.52487481\n",
       "키                   -0.09651459 -0.24942164\n",
       "몸무게                0.27175113  0.47326278\n",
       "평균스마트폰사용시간 -0.67493720  0.30165325\n",
       "평균컴퓨터사용시간    0.26182985  0.08277523\n",
       "데이터사용량          0.38675255 -0.58251417"
      ]
     },
     "metadata": {},
     "output_type": "display_data"
    },
    {
     "ename": "ERROR",
     "evalue": "Error in eval(expr, envir, enclos): object 'Petal.Length' not found\n",
     "output_type": "error",
     "traceback": [
      "Error in eval(expr, envir, enclos): object 'Petal.Length' not found\nTraceback:\n"
     ]
    }
   ],
   "source": [
    "log.ir <- scale(s[c(-1,-2)])\n",
    "log.ir\n",
    "\n",
    "# prcomp() : 주성분 분석함수\n",
    "# 데이터를 표준화 시키면서 주성분 분석을 실행\n",
    "# center = T : 중앙값을 0으로\n",
    "# scale = T : 분산을 1로 \n",
    "ir.pca <- prcomp(log.ir, center = T, scale = T )\n",
    "ir.pca\n",
    "\n",
    "# 4가지 주성분을 만들어줌\n",
    "# 각각 요소에 PC 1 2 3 4 를 곱해줘야 표준화된 데이터를 얻는 다는 뜻이다.\n",
    "\n",
    "(0.7195664  * Petal.Length)\n",
    "\n",
    "\n",
    "\n",
    "\n",
    "\n",
    "\n",
    "\n"
   ]
  },
  {
   "cell_type": "code",
   "execution_count": 26,
   "metadata": {},
   "outputs": [
    {
     "data": {
      "image/png": "[encoded data removed]",
      "text/plain": [
       "Plot with title “ir.pca”"
      ]
     },
     "metadata": {},
     "output_type": "display_data"
    }
   ],
   "source": [
    "plot(ir.pca, type=\"l\")\n",
    "\n",
    "\n",
    "\n"
   ]
  },
  {
   "cell_type": "code",
   "execution_count": null,
   "metadata": {},
   "outputs": [],
   "source": [
    "1번에서 2번으로 넘어갈 때 기울기가 줄어드는 모습을 볼 수 있다. 그러므로 PC1을 사용하면된다.\n",
    "\n",
    "\n",
    "\n"
   ]
  },
  {
   "cell_type": "code",
   "execution_count": 24,
   "metadata": {},
   "outputs": [
    {
     "data": {
      "text/plain": [
       "Importance of components:\n",
       "                          PC1    PC2    PC3    PC4     PC5     PC6     PC7\n",
       "Standard deviation     1.6367 1.2726 1.0722 0.9294 0.67878 0.41783 0.22986\n",
       "Proportion of Variance 0.3827 0.2314 0.1642 0.1234 0.06582 0.02494 0.00755\n",
       "Cumulative Proportion  0.3827 0.6141 0.7783 0.9017 0.96751 0.99245 1.00000"
      ]
     },
     "metadata": {},
     "output_type": "display_data"
    }
   ],
   "source": [
    "summary(ir.pca)\n",
    "\n",
    "\n",
    "\n"
   ]
  },
  {
   "cell_type": "code",
   "execution_count": null,
   "metadata": {},
   "outputs": [],
   "source": []
  }
 ],
 "metadata": {
  "kernelspec": {
   "display_name": "R",
   "language": "R",
   "name": "ir"
  },
  "language_info": {
   "codemirror_mode": "r",
   "file_extension": ".r",
   "mimetype": "text/x-r-source",
   "name": "R",
   "pygments_lexer": "r",
   "version": "3.5.1"
  }
 },
 "nbformat": 4,
 "nbformat_minor": 2
}
