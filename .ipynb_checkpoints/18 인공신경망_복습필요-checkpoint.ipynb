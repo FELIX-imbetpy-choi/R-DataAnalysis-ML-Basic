{
 "cells": [
  {
   "cell_type": "markdown",
   "metadata": {},
   "source": [
    "## 회귀식 - 데이터가 적을 때 예측을 위하여 사용, 데이터가 적을 때 머신러닝을 돌리면    \n",
    "## 머신러닝 - 데이터가 많을 때 예측을 위하여 사용     \n",
    "\n",
    "#### Q 데이터가 많고 적음의 기준은 어느정도인가??     \n",
    "5만개 정도로 생각하면 된다.     \n",
    "아이리스 같이 데이터 정리가 잘 되어있는 데이터라면 100개라도 괜찮다.    \n",
    "하지만 데이터가 분산되어 있는 데이터의 경우에 머신러닝을 돌리려면     \n",
    "많은 데이터가 필요함.    \n",
    "   \n",
    "머신러닝 판단 - 아이리스 데이터의 경우 - 종 데이터가 몇퍼센트로 잘 분포하고 있나 잘 봐야한다.      \n",
    "\n",
    "- 데이터를 어떻게 다룰줄을 모른다. 데이터를 알아야 분석을 할 수 있다.     \n",
    "\n",
    "\n",
    "#### Q1 문제1\n",
    "암환자 데이터 100개 중에 90개는 정상이고 10개는 암환자이다.   \n",
    "라고 했을 때 어떻게 데이터를 나눠야 할까?   \n",
    "현재 가지고 있는 데이터에서 현황을 분석하였을 때   \n",
    "90퍼센트는 정상이고 , 10퍼센트가 암환자였다면    \n",
    "머신러닝을 사용할 때도 데이터의 90퍼센트는 정상의 데이터   \n",
    "10퍼센트는 암환자의 데이터를 가지고 머신러닝을     \n",
    "적용시켜야 한다.   \n",
    "\n",
    "#### Q2 문제2\n",
    "헤드헌터가 취업자 수 데이터에서 100개중 80개는 미취업이고 20개는 취업일때   \n",
    "어떻게 데이터를 나눠야 할까?    \n",
    "위와같이 데이터의 비율을 나눠서 머신러닝 작업을 해야한다.   "
   ]
  },
  {
   "cell_type": "markdown",
   "metadata": {},
   "source": [
    "분류 정제가 모두 끝났을 때 어떤흐름으로 작업을 시작해야 할까?    \n",
    "데이터 다중공정성? 을 확인하여 데이터를 표준화 시킨다.    \n",
    "데이터를 문제에 맞는 비율로 샘플링하고   \n",
    "학습을 시키고     \n",
    "예측 검증  \n",
    "예측률 \n",
    "전체 데이터로 학습  \n",
    "결과를 적용시켜서 다시학습? (점점 데이터가 많아지도록?)      "
   ]
  },
  {
   "cell_type": "code",
   "execution_count": 2,
   "metadata": {},
   "outputs": [
    {
     "data": {
      "text/plain": [
       "  Sepal.Length    Sepal.Width     Petal.Length    Petal.Width   \n",
       " Min.   :4.300   Min.   :2.000   Min.   :1.000   Min.   :0.100  \n",
       " 1st Qu.:5.100   1st Qu.:2.800   1st Qu.:1.600   1st Qu.:0.300  \n",
       " Median :5.800   Median :3.000   Median :4.350   Median :1.300  \n",
       " Mean   :5.843   Mean   :3.057   Mean   :3.758   Mean   :1.199  \n",
       " 3rd Qu.:6.400   3rd Qu.:3.300   3rd Qu.:5.100   3rd Qu.:1.800  \n",
       " Max.   :7.900   Max.   :4.400   Max.   :6.900   Max.   :2.500  \n",
       "       Species  \n",
       " setosa    :50  \n",
       " versicolor:50  \n",
       " virginica :50  \n",
       "                \n",
       "                \n",
       "                "
      ]
     },
     "metadata": {},
     "output_type": "display_data"
    }
   ],
   "source": [
    "data(iris)\n",
    "summary(iris)\n",
    "\n",
    "\n",
    "\n",
    "\n"
   ]
  },
  {
   "cell_type": "markdown",
   "metadata": {},
   "source": [
    "### 표준화 작업 : 모든 입력변수의 평균값을 0으로 표준편차를 1로 정규화 한다\n",
    "### 품종 컬럼을 제외하고 표준화 시키고 이를 품종 컬럼과 연결"
   ]
  },
  {
   "cell_type": "code",
   "execution_count": 38,
   "metadata": {},
   "outputs": [
    {
     "data": {
      "text/html": [
       "<table>\n",
       "<thead><tr><th scope=col>Sepal.Length</th><th scope=col>Sepal.Width</th><th scope=col>Petal.Length</th><th scope=col>Petal.Width</th><th scope=col>Species</th></tr></thead>\n",
       "<tbody>\n",
       "\t<tr><td>-0.8976739 </td><td> 1.01560199</td><td>-1.335752  </td><td>-1.311052  </td><td>setosa     </td></tr>\n",
       "\t<tr><td>-1.1392005 </td><td>-0.13153881</td><td>-1.335752  </td><td>-1.311052  </td><td>setosa     </td></tr>\n",
       "\t<tr><td>-1.3807271 </td><td> 0.32731751</td><td>-1.392399  </td><td>-1.311052  </td><td>setosa     </td></tr>\n",
       "\t<tr><td>-1.5014904 </td><td> 0.09788935</td><td>-1.279104  </td><td>-1.311052  </td><td>setosa     </td></tr>\n",
       "\t<tr><td>-1.0184372 </td><td> 1.24503015</td><td>-1.335752  </td><td>-1.311052  </td><td>setosa     </td></tr>\n",
       "\t<tr><td>-0.5353840 </td><td> 1.93331463</td><td>-1.165809  </td><td>-1.048667  </td><td>setosa     </td></tr>\n",
       "</tbody>\n",
       "</table>\n"
      ],
      "text/latex": [
       "\\begin{tabular}{r|lllll}\n",
       " Sepal.Length & Sepal.Width & Petal.Length & Petal.Width & Species\\\\\n",
       "\\hline\n",
       "\t -0.8976739  &  1.01560199 & -1.335752   & -1.311052   & setosa     \\\\\n",
       "\t -1.1392005  & -0.13153881 & -1.335752   & -1.311052   & setosa     \\\\\n",
       "\t -1.3807271  &  0.32731751 & -1.392399   & -1.311052   & setosa     \\\\\n",
       "\t -1.5014904  &  0.09788935 & -1.279104   & -1.311052   & setosa     \\\\\n",
       "\t -1.0184372  &  1.24503015 & -1.335752   & -1.311052   & setosa     \\\\\n",
       "\t -0.5353840  &  1.93331463 & -1.165809   & -1.048667   & setosa     \\\\\n",
       "\\end{tabular}\n"
      ],
      "text/markdown": [
       "\n",
       "Sepal.Length | Sepal.Width | Petal.Length | Petal.Width | Species | \n",
       "|---|---|---|---|---|---|\n",
       "| -0.8976739  |  1.01560199 | -1.335752   | -1.311052   | setosa      | \n",
       "| -1.1392005  | -0.13153881 | -1.335752   | -1.311052   | setosa      | \n",
       "| -1.3807271  |  0.32731751 | -1.392399   | -1.311052   | setosa      | \n",
       "| -1.5014904  |  0.09788935 | -1.279104   | -1.311052   | setosa      | \n",
       "| -1.0184372  |  1.24503015 | -1.335752   | -1.311052   | setosa      | \n",
       "| -0.5353840  |  1.93331463 | -1.165809   | -1.048667   | setosa      | \n",
       "\n",
       "\n"
      ],
      "text/plain": [
       "  Sepal.Length Sepal.Width Petal.Length Petal.Width Species\n",
       "1 -0.8976739    1.01560199 -1.335752    -1.311052   setosa \n",
       "2 -1.1392005   -0.13153881 -1.335752    -1.311052   setosa \n",
       "3 -1.3807271    0.32731751 -1.392399    -1.311052   setosa \n",
       "4 -1.5014904    0.09788935 -1.279104    -1.311052   setosa \n",
       "5 -1.0184372    1.24503015 -1.335752    -1.311052   setosa \n",
       "6 -0.5353840    1.93331463 -1.165809    -1.048667   setosa "
      ]
     },
     "metadata": {},
     "output_type": "display_data"
    },
    {
     "data": {
      "text/plain": [
       "  Sepal.Length       Sepal.Width       Petal.Length      Petal.Width     \n",
       " Min.   :-1.86378   Min.   :-2.4258   Min.   :-1.5623   Min.   :-1.4422  \n",
       " 1st Qu.:-0.89767   1st Qu.:-0.5904   1st Qu.:-1.2225   1st Qu.:-1.1799  \n",
       " Median :-0.05233   Median :-0.1315   Median : 0.3354   Median : 0.1321  \n",
       " Mean   : 0.00000   Mean   : 0.0000   Mean   : 0.0000   Mean   : 0.0000  \n",
       " 3rd Qu.: 0.67225   3rd Qu.: 0.5567   3rd Qu.: 0.7602   3rd Qu.: 0.7880  \n",
       " Max.   : 2.48370   Max.   : 3.0805   Max.   : 1.7799   Max.   : 1.7064  \n",
       "       Species  \n",
       " setosa    :50  \n",
       " versicolor:50  \n",
       " virginica :50  \n",
       "                \n",
       "                \n",
       "                "
      ]
     },
     "metadata": {},
     "output_type": "display_data"
    },
    {
     "data": {
      "text/html": [
       "<dl class=dl-horizontal>\n",
       "\t<dt>Sepal.Length</dt>\n",
       "\t\t<dd>1</dd>\n",
       "\t<dt>Sepal.Width</dt>\n",
       "\t\t<dd>1</dd>\n",
       "\t<dt>Petal.Length</dt>\n",
       "\t\t<dd>1</dd>\n",
       "\t<dt>Petal.Width</dt>\n",
       "\t\t<dd>1</dd>\n",
       "</dl>\n"
      ],
      "text/latex": [
       "\\begin{description*}\n",
       "\\item[Sepal.Length] 1\n",
       "\\item[Sepal.Width] 1\n",
       "\\item[Petal.Length] 1\n",
       "\\item[Petal.Width] 1\n",
       "\\end{description*}\n"
      ],
      "text/markdown": [
       "Sepal.Length\n",
       ":   1Sepal.Width\n",
       ":   1Petal.Length\n",
       ":   1Petal.Width\n",
       ":   1\n",
       "\n"
      ],
      "text/plain": [
       "Sepal.Length  Sepal.Width Petal.Length  Petal.Width \n",
       "           1            1            1            1 "
      ]
     },
     "metadata": {},
     "output_type": "display_data"
    }
   ],
   "source": [
    "# 표준화 작업 -- 다중공선성 때문에 표준화를 시킴\n",
    "iris.scaled <- cbind(scale(iris[-5]),iris[5])\n",
    "head(iris.scaled)\n",
    "summary(iris.scaled)\n",
    "\n",
    "# 표준편차\n",
    "apply(iris.scaled[-5], 2, sd)\n",
    "\n",
    "\n",
    "\n",
    "\n",
    "\n",
    "\n",
    "\n"
   ]
  },
  {
   "cell_type": "code",
   "execution_count": 39,
   "metadata": {},
   "outputs": [
    {
     "data": {
      "text/plain": [
       "  Sepal.Length       Sepal.Width         Petal.Length       Petal.Width       \n",
       " Min.   :-1.86378   Min.   :-2.425820   Min.   :-1.56234   Min.   :-1.442245  \n",
       " 1st Qu.:-1.01844   1st Qu.:-0.590395   1st Qu.:-1.27910   1st Qu.:-1.179860  \n",
       " Median :-0.17309   Median :-0.131539   Median : 0.30703   Median : 0.132067  \n",
       " Mean   :-0.08568   Mean   :-0.000437   Mean   :-0.02368   Mean   :-0.004123  \n",
       " 3rd Qu.: 0.67225   3rd Qu.: 0.556746   3rd Qu.: 0.76021   3rd Qu.: 0.788031  \n",
       " Max.   : 2.48370   Max.   : 2.621599   Max.   : 1.66657   Max.   : 1.706379  \n",
       "       Species  \n",
       " setosa    :35  \n",
       " versicolor:35  \n",
       " virginica :35  \n",
       "                \n",
       "                \n",
       "                "
      ]
     },
     "metadata": {},
     "output_type": "display_data"
    },
    {
     "data": {
      "text/plain": [
       "  Sepal.Length       Sepal.Width        Petal.Length       Petal.Width       \n",
       " Min.   :-1.13920   Min.   :-1.96696   Min.   :-1.44905   Min.   :-1.311052  \n",
       " 1st Qu.:-0.53538   1st Qu.:-0.59040   1st Qu.:-1.16581   1st Qu.:-1.048667  \n",
       " Median : 0.06843   Median :-0.13154   Median : 0.36368   Median : 0.132067  \n",
       " Mean   : 0.19993   Mean   : 0.00102   Mean   : 0.05526   Mean   : 0.009621  \n",
       " 3rd Qu.: 0.79301   3rd Qu.: 0.55675   3rd Qu.: 0.87351   3rd Qu.: 0.788031  \n",
       " Max.   : 2.24217   Max.   : 3.08046   Max.   : 1.77987   Max.   : 1.706379  \n",
       "       Species  \n",
       " setosa    :15  \n",
       " versicolor:15  \n",
       " virginica :15  \n",
       "                \n",
       "                \n",
       "                "
      ]
     },
     "metadata": {},
     "output_type": "display_data"
    }
   ],
   "source": [
    "# 학습용과 검증용 데이터셋을  7 : 3   /  데이터가 많을 땐 5 : 5 까지\n",
    "#  150 : 105 (70%) + 45 (30%)\n",
    "set.seed(1) # 샘플값 고정\n",
    "samp <- c(sample(1:50, 35), sample(51:100, 35),sample(101:150, 35))\n",
    "\n",
    "# 학습용 데이터\n",
    "data.tr <- iris.scaled[samp,]\n",
    "# 검증용 데이터\n",
    "data.test <- iris.scaled[-samp,]\n",
    "\n",
    "summary(data.tr)\n",
    "summary(data.test)\n",
    "\n",
    "\n",
    "\n",
    "\n",
    "\n",
    "\n",
    "\n"
   ]
  },
  {
   "cell_type": "code",
   "execution_count": 40,
   "metadata": {},
   "outputs": [],
   "source": [
    "library(nnet) # 인공신경망 라이브러리\n",
    "\n",
    "\n",
    "\n"
   ]
  },
  {
   "cell_type": "code",
   "execution_count": 41,
   "metadata": {},
   "outputs": [
    {
     "name": "stdout",
     "output_type": "stream",
     "text": [
      "# weights:  27\n",
      "initial  value 123.783256 \n",
      "iter  10 value 9.852981\n",
      "iter  20 value 2.073465\n",
      "iter  30 value 0.003033\n",
      "final  value 0.000039 \n",
      "converged\n"
     ]
    },
    {
     "data": {
      "text/plain": [
       "a 4-3-3 network with 27 weights\n",
       "inputs: Sepal.Length Sepal.Width Petal.Length Petal.Width \n",
       "output(s): Species \n",
       "options were - softmax modelling "
      ]
     },
     "metadata": {},
     "output_type": "display_data"
    }
   ],
   "source": [
    "#  nnet (종속변수 ~ 독립변수), size : 은닉층갯수\n",
    "model.nnet <- nnet(Species ~ . , data = data.tr, size = 3)\n",
    "model.nnet\n",
    "\n",
    "\n",
    "\n"
   ]
  },
  {
   "cell_type": "markdown",
   "metadata": {},
   "source": [
    "initial  value 123.783256     \n",
    "iter  10 value 9.852981   \n",
    "iter  20 value 2.073465    \n",
    "iter  30 value 0.003033   \n",
    "final  value 0.000039     -->  최종학습 결과 / 최소한 20회 이상 학습한것?  \n"
   ]
  },
  {
   "cell_type": "code",
   "execution_count": 42,
   "metadata": {},
   "outputs": [
    {
     "data": {
      "text/html": [
       "<ol class=list-inline>\n",
       "\t<li>'setosa'</li>\n",
       "\t<li>'setosa'</li>\n",
       "\t<li>'setosa'</li>\n",
       "\t<li>'setosa'</li>\n",
       "\t<li>'setosa'</li>\n",
       "\t<li>'setosa'</li>\n",
       "\t<li>'setosa'</li>\n",
       "\t<li>'setosa'</li>\n",
       "\t<li>'setosa'</li>\n",
       "\t<li>'setosa'</li>\n",
       "\t<li>'setosa'</li>\n",
       "\t<li>'setosa'</li>\n",
       "\t<li>'setosa'</li>\n",
       "\t<li>'setosa'</li>\n",
       "\t<li>'setosa'</li>\n",
       "\t<li>'versicolor'</li>\n",
       "\t<li>'versicolor'</li>\n",
       "\t<li>'versicolor'</li>\n",
       "\t<li>'versicolor'</li>\n",
       "\t<li>'versicolor'</li>\n",
       "\t<li>'versicolor'</li>\n",
       "\t<li>'versicolor'</li>\n",
       "\t<li>'versicolor'</li>\n",
       "\t<li>'versicolor'</li>\n",
       "\t<li>'versicolor'</li>\n",
       "\t<li>'versicolor'</li>\n",
       "\t<li>'versicolor'</li>\n",
       "\t<li>'versicolor'</li>\n",
       "\t<li>'versicolor'</li>\n",
       "\t<li>'versicolor'</li>\n",
       "\t<li>'virginica'</li>\n",
       "\t<li>'virginica'</li>\n",
       "\t<li>'virginica'</li>\n",
       "\t<li>'virginica'</li>\n",
       "\t<li>'virginica'</li>\n",
       "\t<li>'virginica'</li>\n",
       "\t<li>'virginica'</li>\n",
       "\t<li>'virginica'</li>\n",
       "\t<li>'virginica'</li>\n",
       "\t<li>'virginica'</li>\n",
       "\t<li>'virginica'</li>\n",
       "\t<li>'virginica'</li>\n",
       "\t<li>'versicolor'</li>\n",
       "\t<li>'virginica'</li>\n",
       "\t<li>'virginica'</li>\n",
       "</ol>\n"
      ],
      "text/latex": [
       "\\begin{enumerate*}\n",
       "\\item 'setosa'\n",
       "\\item 'setosa'\n",
       "\\item 'setosa'\n",
       "\\item 'setosa'\n",
       "\\item 'setosa'\n",
       "\\item 'setosa'\n",
       "\\item 'setosa'\n",
       "\\item 'setosa'\n",
       "\\item 'setosa'\n",
       "\\item 'setosa'\n",
       "\\item 'setosa'\n",
       "\\item 'setosa'\n",
       "\\item 'setosa'\n",
       "\\item 'setosa'\n",
       "\\item 'setosa'\n",
       "\\item 'versicolor'\n",
       "\\item 'versicolor'\n",
       "\\item 'versicolor'\n",
       "\\item 'versicolor'\n",
       "\\item 'versicolor'\n",
       "\\item 'versicolor'\n",
       "\\item 'versicolor'\n",
       "\\item 'versicolor'\n",
       "\\item 'versicolor'\n",
       "\\item 'versicolor'\n",
       "\\item 'versicolor'\n",
       "\\item 'versicolor'\n",
       "\\item 'versicolor'\n",
       "\\item 'versicolor'\n",
       "\\item 'versicolor'\n",
       "\\item 'virginica'\n",
       "\\item 'virginica'\n",
       "\\item 'virginica'\n",
       "\\item 'virginica'\n",
       "\\item 'virginica'\n",
       "\\item 'virginica'\n",
       "\\item 'virginica'\n",
       "\\item 'virginica'\n",
       "\\item 'virginica'\n",
       "\\item 'virginica'\n",
       "\\item 'virginica'\n",
       "\\item 'virginica'\n",
       "\\item 'versicolor'\n",
       "\\item 'virginica'\n",
       "\\item 'virginica'\n",
       "\\end{enumerate*}\n"
      ],
      "text/markdown": [
       "1. 'setosa'\n",
       "2. 'setosa'\n",
       "3. 'setosa'\n",
       "4. 'setosa'\n",
       "5. 'setosa'\n",
       "6. 'setosa'\n",
       "7. 'setosa'\n",
       "8. 'setosa'\n",
       "9. 'setosa'\n",
       "10. 'setosa'\n",
       "11. 'setosa'\n",
       "12. 'setosa'\n",
       "13. 'setosa'\n",
       "14. 'setosa'\n",
       "15. 'setosa'\n",
       "16. 'versicolor'\n",
       "17. 'versicolor'\n",
       "18. 'versicolor'\n",
       "19. 'versicolor'\n",
       "20. 'versicolor'\n",
       "21. 'versicolor'\n",
       "22. 'versicolor'\n",
       "23. 'versicolor'\n",
       "24. 'versicolor'\n",
       "25. 'versicolor'\n",
       "26. 'versicolor'\n",
       "27. 'versicolor'\n",
       "28. 'versicolor'\n",
       "29. 'versicolor'\n",
       "30. 'versicolor'\n",
       "31. 'virginica'\n",
       "32. 'virginica'\n",
       "33. 'virginica'\n",
       "34. 'virginica'\n",
       "35. 'virginica'\n",
       "36. 'virginica'\n",
       "37. 'virginica'\n",
       "38. 'virginica'\n",
       "39. 'virginica'\n",
       "40. 'virginica'\n",
       "41. 'virginica'\n",
       "42. 'virginica'\n",
       "43. 'versicolor'\n",
       "44. 'virginica'\n",
       "45. 'virginica'\n",
       "\n",
       "\n"
      ],
      "text/plain": [
       " [1] \"setosa\"     \"setosa\"     \"setosa\"     \"setosa\"     \"setosa\"    \n",
       " [6] \"setosa\"     \"setosa\"     \"setosa\"     \"setosa\"     \"setosa\"    \n",
       "[11] \"setosa\"     \"setosa\"     \"setosa\"     \"setosa\"     \"setosa\"    \n",
       "[16] \"versicolor\" \"versicolor\" \"versicolor\" \"versicolor\" \"versicolor\"\n",
       "[21] \"versicolor\" \"versicolor\" \"versicolor\" \"versicolor\" \"versicolor\"\n",
       "[26] \"versicolor\" \"versicolor\" \"versicolor\" \"versicolor\" \"versicolor\"\n",
       "[31] \"virginica\"  \"virginica\"  \"virginica\"  \"virginica\"  \"virginica\" \n",
       "[36] \"virginica\"  \"virginica\"  \"virginica\"  \"virginica\"  \"virginica\" \n",
       "[41] \"virginica\"  \"virginica\"  \"versicolor\" \"virginica\"  \"virginica\" "
      ]
     },
     "metadata": {},
     "output_type": "display_data"
    }
   ],
   "source": [
    " # 신경망 모델의 검증\n",
    "# predict(), class\n",
    "predicted <- predict(model.nnet, data.test, type = \"class\")\n",
    "predicted\n",
    "# 이 값을 수치화 시켜야 함\n",
    "# Classfication 분류의 약자\n",
    "\n",
    "\n",
    "\n"
   ]
  },
  {
   "cell_type": "code",
   "execution_count": 43,
   "metadata": {},
   "outputs": [
    {
     "data": {
      "text/plain": [
       "            predicted\n",
       "actual       setosa versicolor virginica\n",
       "  setosa         15          0         0\n",
       "  versicolor      0         15         0\n",
       "  virginica       0          1        14"
      ]
     },
     "metadata": {},
     "output_type": "display_data"
    }
   ],
   "source": [
    "# 검증용 데이터셋의 예측결과를 벡터의 형태로 변형\n",
    "actual <- data.test$Species # 정답 변수\n",
    "result <- table(actual,predicted)\n",
    "result\n",
    "\n",
    "# 각 항목의 맞춘 갯수가 나온다\n",
    "\n",
    "\n",
    "\n"
   ]
  },
  {
   "cell_type": "code",
   "execution_count": 44,
   "metadata": {},
   "outputs": [
    {
     "data": {
      "text/html": [
       "'예측확률 98 %'"
      ],
      "text/latex": [
       "'예측확률 98 \\%'"
      ],
      "text/markdown": [
       "'예측확률 98 %'"
      ],
      "text/plain": [
       "[1] \"예측확률 98 %\""
      ]
     },
     "metadata": {},
     "output_type": "display_data"
    }
   ],
   "source": [
    "# 모델의 정확도\n",
    "paste(\"예측확률\",round(mean(predicted == actual),2) * 100 ,\"%\")\n",
    "\n",
    "\n",
    "\n"
   ]
  },
  {
   "cell_type": "code",
   "execution_count": null,
   "metadata": {},
   "outputs": [],
   "source": []
  },
  {
   "cell_type": "markdown",
   "metadata": {},
   "source": [
    "# 아이리스 데이터전체로 "
   ]
  },
  {
   "cell_type": "markdown",
   "metadata": {},
   "source": [
    "리스트로 값을 줘야 학습시킬 수 있음"
   ]
  },
  {
   "cell_type": "code",
   "execution_count": 116,
   "metadata": {},
   "outputs": [
    {
     "data": {
      "text/html": [
       "<dl class=dl-horizontal>\n",
       "\t<dt>Sepal.Length</dt>\n",
       "\t\t<dd>0.828066127977863</dd>\n",
       "\t<dt>Sepal.Width</dt>\n",
       "\t\t<dd>0.435866284936698</dd>\n",
       "\t<dt>Petal.Length</dt>\n",
       "\t\t<dd>1.76529823325947</dd>\n",
       "\t<dt>Petal.Width</dt>\n",
       "\t\t<dd>0.762237668960347</dd>\n",
       "</dl>\n"
      ],
      "text/latex": [
       "\\begin{description*}\n",
       "\\item[Sepal.Length] 0.828066127977863\n",
       "\\item[Sepal.Width] 0.435866284936698\n",
       "\\item[Petal.Length] 1.76529823325947\n",
       "\\item[Petal.Width] 0.762237668960347\n",
       "\\end{description*}\n"
      ],
      "text/markdown": [
       "Sepal.Length\n",
       ":   0.828066127977863Sepal.Width\n",
       ":   0.435866284936698Petal.Length\n",
       ":   1.76529823325947Petal.Width\n",
       ":   0.762237668960347\n",
       "\n"
      ],
      "text/plain": [
       "Sepal.Length  Sepal.Width Petal.Length  Petal.Width \n",
       "   0.8280661    0.4358663    1.7652982    0.7622377 "
      ]
     },
     "metadata": {},
     "output_type": "display_data"
    },
    {
     "name": "stdout",
     "output_type": "stream",
     "text": [
      "# weights:  27\n",
      "initial  value 176.425005 \n",
      "iter  10 value 21.672904\n",
      "iter  20 value 7.091795\n",
      "iter  30 value 5.745370\n",
      "iter  40 value 4.946995\n",
      "iter  50 value 4.922932\n",
      "iter  60 value 4.921967\n",
      "final  value 4.921966 \n",
      "converged\n"
     ]
    },
    {
     "data": {
      "text/plain": [
       "a 4-3-3 network with 27 weights\n",
       "inputs: Sepal.Length Sepal.Width Petal.Length Petal.Width \n",
       "output(s): Species \n",
       "options were - softmax modelling "
      ]
     },
     "metadata": {},
     "output_type": "display_data"
    },
    {
     "data": {
      "text/html": [
       "'versicolor'"
      ],
      "text/latex": [
       "'versicolor'"
      ],
      "text/markdown": [
       "'versicolor'"
      ],
      "text/plain": [
       "[1] \"versicolor\""
      ]
     },
     "metadata": {},
     "output_type": "display_data"
    },
    {
     "data": {
      "text/html": [
       "'예측확률 33 %'"
      ],
      "text/latex": [
       "'예측확률 33 \\%'"
      ],
      "text/markdown": [
       "'예측확률 33 %'"
      ],
      "text/plain": [
       "[1] \"예측확률 33 %\""
      ]
     },
     "metadata": {},
     "output_type": "display_data"
    }
   ],
   "source": [
    "# 표준화 작업 없애기\n",
    "iris.scaled <- iris\n",
    "\n",
    "\n",
    "# 표준편차\n",
    "apply(iris.scaled[-5], 2, sd)\n",
    "\n",
    "\n",
    "library(nnet) # 인공신경망 라이브러리\n",
    "\n",
    "#  nnet (종속변수 ~ 독립변수), size : 은닉층갯수\n",
    "model.nnet <- nnet(Species ~ . , data = iris.scaled, size = 3)\n",
    "model.nnet\n",
    "\n",
    " # 신경망 모델의 검증\n",
    "# predict(), class\n",
    "zz <- list(Sepal.Length=-0.5514857, Sepal.Width=-0.1315388, Petal.Length=1.1567451, Petal.Width=1.4439941)\n",
    "predicted <- predict(model.nnet, zz, type = \"class\")\n",
    "predicted\n",
    "# 이 값을 수치화 시켜야 함\n",
    "\n",
    "# 검증용 데이터셋의 예측결과를 벡터의 형태로 변형\n",
    "actual <- data.test$Species # 정답 변수\n",
    "\n",
    "\n",
    "# 각 항목의 맞춘 갯수가 나온다\n",
    "\n",
    "# 모델의 정확도\n",
    "paste(\"예측확률\",round(mean(predicted == actual),2) * 100 ,\"%\")\n",
    "\n",
    "\n",
    "\n",
    "\n",
    "\n",
    "\n",
    "\n",
    "\n",
    "\n",
    "\n",
    "\n"
   ]
  },
  {
   "cell_type": "markdown",
   "metadata": {},
   "source": [
    "# 데이터를 5대 5비율로"
   ]
  },
  {
   "cell_type": "code",
   "execution_count": null,
   "metadata": {},
   "outputs": [],
   "source": []
  },
  {
   "cell_type": "markdown",
   "metadata": {},
   "source": [
    "# 한셀로 과정을 정리하고 이해하기"
   ]
  },
  {
   "cell_type": "code",
   "execution_count": 119,
   "metadata": {},
   "outputs": [
    {
     "name": "stdout",
     "output_type": "stream",
     "text": [
      "[1] \"================================================= 표준화\"\n"
     ]
    },
    {
     "data": {
      "text/html": [
       "<table>\n",
       "<thead><tr><th scope=col>Sepal.Length</th><th scope=col>Sepal.Width</th><th scope=col>Petal.Length</th><th scope=col>Petal.Width</th><th scope=col>Species</th></tr></thead>\n",
       "<tbody>\n",
       "\t<tr><td>-0.8976739 </td><td> 1.01560199</td><td>-1.335752  </td><td>-1.311052  </td><td>setosa     </td></tr>\n",
       "\t<tr><td>-1.1392005 </td><td>-0.13153881</td><td>-1.335752  </td><td>-1.311052  </td><td>setosa     </td></tr>\n",
       "\t<tr><td>-1.3807271 </td><td> 0.32731751</td><td>-1.392399  </td><td>-1.311052  </td><td>setosa     </td></tr>\n",
       "\t<tr><td>-1.5014904 </td><td> 0.09788935</td><td>-1.279104  </td><td>-1.311052  </td><td>setosa     </td></tr>\n",
       "\t<tr><td>-1.0184372 </td><td> 1.24503015</td><td>-1.335752  </td><td>-1.311052  </td><td>setosa     </td></tr>\n",
       "\t<tr><td>-0.5353840 </td><td> 1.93331463</td><td>-1.165809  </td><td>-1.048667  </td><td>setosa     </td></tr>\n",
       "</tbody>\n",
       "</table>\n"
      ],
      "text/latex": [
       "\\begin{tabular}{r|lllll}\n",
       " Sepal.Length & Sepal.Width & Petal.Length & Petal.Width & Species\\\\\n",
       "\\hline\n",
       "\t -0.8976739  &  1.01560199 & -1.335752   & -1.311052   & setosa     \\\\\n",
       "\t -1.1392005  & -0.13153881 & -1.335752   & -1.311052   & setosa     \\\\\n",
       "\t -1.3807271  &  0.32731751 & -1.392399   & -1.311052   & setosa     \\\\\n",
       "\t -1.5014904  &  0.09788935 & -1.279104   & -1.311052   & setosa     \\\\\n",
       "\t -1.0184372  &  1.24503015 & -1.335752   & -1.311052   & setosa     \\\\\n",
       "\t -0.5353840  &  1.93331463 & -1.165809   & -1.048667   & setosa     \\\\\n",
       "\\end{tabular}\n"
      ],
      "text/markdown": [
       "\n",
       "Sepal.Length | Sepal.Width | Petal.Length | Petal.Width | Species | \n",
       "|---|---|---|---|---|---|\n",
       "| -0.8976739  |  1.01560199 | -1.335752   | -1.311052   | setosa      | \n",
       "| -1.1392005  | -0.13153881 | -1.335752   | -1.311052   | setosa      | \n",
       "| -1.3807271  |  0.32731751 | -1.392399   | -1.311052   | setosa      | \n",
       "| -1.5014904  |  0.09788935 | -1.279104   | -1.311052   | setosa      | \n",
       "| -1.0184372  |  1.24503015 | -1.335752   | -1.311052   | setosa      | \n",
       "| -0.5353840  |  1.93331463 | -1.165809   | -1.048667   | setosa      | \n",
       "\n",
       "\n"
      ],
      "text/plain": [
       "  Sepal.Length Sepal.Width Petal.Length Petal.Width Species\n",
       "1 -0.8976739    1.01560199 -1.335752    -1.311052   setosa \n",
       "2 -1.1392005   -0.13153881 -1.335752    -1.311052   setosa \n",
       "3 -1.3807271    0.32731751 -1.392399    -1.311052   setosa \n",
       "4 -1.5014904    0.09788935 -1.279104    -1.311052   setosa \n",
       "5 -1.0184372    1.24503015 -1.335752    -1.311052   setosa \n",
       "6 -0.5353840    1.93331463 -1.165809    -1.048667   setosa "
      ]
     },
     "metadata": {},
     "output_type": "display_data"
    },
    {
     "data": {
      "text/plain": [
       "  Sepal.Length       Sepal.Width       Petal.Length      Petal.Width     \n",
       " Min.   :-1.86378   Min.   :-2.4258   Min.   :-1.5623   Min.   :-1.4422  \n",
       " 1st Qu.:-0.89767   1st Qu.:-0.5904   1st Qu.:-1.2225   1st Qu.:-1.1799  \n",
       " Median :-0.05233   Median :-0.1315   Median : 0.3354   Median : 0.1321  \n",
       " Mean   : 0.00000   Mean   : 0.0000   Mean   : 0.0000   Mean   : 0.0000  \n",
       " 3rd Qu.: 0.67225   3rd Qu.: 0.5567   3rd Qu.: 0.7602   3rd Qu.: 0.7880  \n",
       " Max.   : 2.48370   Max.   : 3.0805   Max.   : 1.7799   Max.   : 1.7064  \n",
       "       Species  \n",
       " setosa    :50  \n",
       " versicolor:50  \n",
       " virginica :50  \n",
       "                \n",
       "                \n",
       "                "
      ]
     },
     "metadata": {},
     "output_type": "display_data"
    },
    {
     "data": {
      "text/html": [
       "<dl class=dl-horizontal>\n",
       "\t<dt>Sepal.Length</dt>\n",
       "\t\t<dd>1</dd>\n",
       "\t<dt>Sepal.Width</dt>\n",
       "\t\t<dd>1</dd>\n",
       "\t<dt>Petal.Length</dt>\n",
       "\t\t<dd>1</dd>\n",
       "\t<dt>Petal.Width</dt>\n",
       "\t\t<dd>1</dd>\n",
       "</dl>\n"
      ],
      "text/latex": [
       "\\begin{description*}\n",
       "\\item[Sepal.Length] 1\n",
       "\\item[Sepal.Width] 1\n",
       "\\item[Petal.Length] 1\n",
       "\\item[Petal.Width] 1\n",
       "\\end{description*}\n"
      ],
      "text/markdown": [
       "Sepal.Length\n",
       ":   1Sepal.Width\n",
       ":   1Petal.Length\n",
       ":   1Petal.Width\n",
       ":   1\n",
       "\n"
      ],
      "text/plain": [
       "Sepal.Length  Sepal.Width Petal.Length  Petal.Width \n",
       "           1            1            1            1 "
      ]
     },
     "metadata": {},
     "output_type": "display_data"
    },
    {
     "name": "stdout",
     "output_type": "stream",
     "text": [
      "[1] \"================================================= 데이터셋\"\n"
     ]
    },
    {
     "data": {
      "text/plain": [
       "  Sepal.Length       Sepal.Width         Petal.Length       Petal.Width       \n",
       " Min.   :-1.86378   Min.   :-2.425820   Min.   :-1.56234   Min.   :-1.442245  \n",
       " 1st Qu.:-1.01844   1st Qu.:-0.590395   1st Qu.:-1.27910   1st Qu.:-1.179860  \n",
       " Median :-0.17309   Median :-0.131539   Median : 0.30703   Median : 0.132067  \n",
       " Mean   :-0.08568   Mean   :-0.000437   Mean   :-0.02368   Mean   :-0.004123  \n",
       " 3rd Qu.: 0.67225   3rd Qu.: 0.556746   3rd Qu.: 0.76021   3rd Qu.: 0.788031  \n",
       " Max.   : 2.48370   Max.   : 2.621599   Max.   : 1.66657   Max.   : 1.706379  \n",
       "       Species  \n",
       " setosa    :35  \n",
       " versicolor:35  \n",
       " virginica :35  \n",
       "                \n",
       "                \n",
       "                "
      ]
     },
     "metadata": {},
     "output_type": "display_data"
    },
    {
     "data": {
      "text/plain": [
       "  Sepal.Length       Sepal.Width        Petal.Length       Petal.Width       \n",
       " Min.   :-1.13920   Min.   :-1.96696   Min.   :-1.44905   Min.   :-1.311052  \n",
       " 1st Qu.:-0.53538   1st Qu.:-0.59040   1st Qu.:-1.16581   1st Qu.:-1.048667  \n",
       " Median : 0.06843   Median :-0.13154   Median : 0.36368   Median : 0.132067  \n",
       " Mean   : 0.19993   Mean   : 0.00102   Mean   : 0.05526   Mean   : 0.009621  \n",
       " 3rd Qu.: 0.79301   3rd Qu.: 0.55675   3rd Qu.: 0.87351   3rd Qu.: 0.788031  \n",
       " Max.   : 2.24217   Max.   : 3.08046   Max.   : 1.77987   Max.   : 1.706379  \n",
       "       Species  \n",
       " setosa    :15  \n",
       " versicolor:15  \n",
       " virginica :15  \n",
       "                \n",
       "                \n",
       "                "
      ]
     },
     "metadata": {},
     "output_type": "display_data"
    },
    {
     "name": "stdout",
     "output_type": "stream",
     "text": [
      "[1] \"================================================= nnet\"\n",
      "# weights:  27\n",
      "initial  value 123.783256 \n",
      "iter  10 value 9.852981\n",
      "iter  20 value 2.073465\n",
      "iter  30 value 0.003033\n",
      "final  value 0.000039 \n",
      "converged\n"
     ]
    },
    {
     "data": {
      "text/plain": [
       "a 4-3-3 network with 27 weights\n",
       "inputs: Sepal.Length Sepal.Width Petal.Length Petal.Width \n",
       "output(s): Species \n",
       "options were - softmax modelling "
      ]
     },
     "metadata": {},
     "output_type": "display_data"
    },
    {
     "name": "stdout",
     "output_type": "stream",
     "text": [
      "[1] \"================================================= predict\"\n"
     ]
    },
    {
     "data": {
      "text/html": [
       "<ol class=list-inline>\n",
       "\t<li>'setosa'</li>\n",
       "\t<li>'setosa'</li>\n",
       "\t<li>'setosa'</li>\n",
       "\t<li>'setosa'</li>\n",
       "\t<li>'setosa'</li>\n",
       "\t<li>'setosa'</li>\n",
       "\t<li>'setosa'</li>\n",
       "\t<li>'setosa'</li>\n",
       "\t<li>'setosa'</li>\n",
       "\t<li>'setosa'</li>\n",
       "\t<li>'setosa'</li>\n",
       "\t<li>'setosa'</li>\n",
       "\t<li>'setosa'</li>\n",
       "\t<li>'setosa'</li>\n",
       "\t<li>'setosa'</li>\n",
       "\t<li>'versicolor'</li>\n",
       "\t<li>'versicolor'</li>\n",
       "\t<li>'versicolor'</li>\n",
       "\t<li>'versicolor'</li>\n",
       "\t<li>'versicolor'</li>\n",
       "\t<li>'versicolor'</li>\n",
       "\t<li>'versicolor'</li>\n",
       "\t<li>'versicolor'</li>\n",
       "\t<li>'versicolor'</li>\n",
       "\t<li>'versicolor'</li>\n",
       "\t<li>'versicolor'</li>\n",
       "\t<li>'versicolor'</li>\n",
       "\t<li>'versicolor'</li>\n",
       "\t<li>'versicolor'</li>\n",
       "\t<li>'versicolor'</li>\n",
       "\t<li>'virginica'</li>\n",
       "\t<li>'virginica'</li>\n",
       "\t<li>'virginica'</li>\n",
       "\t<li>'virginica'</li>\n",
       "\t<li>'virginica'</li>\n",
       "\t<li>'virginica'</li>\n",
       "\t<li>'virginica'</li>\n",
       "\t<li>'virginica'</li>\n",
       "\t<li>'virginica'</li>\n",
       "\t<li>'virginica'</li>\n",
       "\t<li>'virginica'</li>\n",
       "\t<li>'virginica'</li>\n",
       "\t<li>'versicolor'</li>\n",
       "\t<li>'virginica'</li>\n",
       "\t<li>'virginica'</li>\n",
       "</ol>\n"
      ],
      "text/latex": [
       "\\begin{enumerate*}\n",
       "\\item 'setosa'\n",
       "\\item 'setosa'\n",
       "\\item 'setosa'\n",
       "\\item 'setosa'\n",
       "\\item 'setosa'\n",
       "\\item 'setosa'\n",
       "\\item 'setosa'\n",
       "\\item 'setosa'\n",
       "\\item 'setosa'\n",
       "\\item 'setosa'\n",
       "\\item 'setosa'\n",
       "\\item 'setosa'\n",
       "\\item 'setosa'\n",
       "\\item 'setosa'\n",
       "\\item 'setosa'\n",
       "\\item 'versicolor'\n",
       "\\item 'versicolor'\n",
       "\\item 'versicolor'\n",
       "\\item 'versicolor'\n",
       "\\item 'versicolor'\n",
       "\\item 'versicolor'\n",
       "\\item 'versicolor'\n",
       "\\item 'versicolor'\n",
       "\\item 'versicolor'\n",
       "\\item 'versicolor'\n",
       "\\item 'versicolor'\n",
       "\\item 'versicolor'\n",
       "\\item 'versicolor'\n",
       "\\item 'versicolor'\n",
       "\\item 'versicolor'\n",
       "\\item 'virginica'\n",
       "\\item 'virginica'\n",
       "\\item 'virginica'\n",
       "\\item 'virginica'\n",
       "\\item 'virginica'\n",
       "\\item 'virginica'\n",
       "\\item 'virginica'\n",
       "\\item 'virginica'\n",
       "\\item 'virginica'\n",
       "\\item 'virginica'\n",
       "\\item 'virginica'\n",
       "\\item 'virginica'\n",
       "\\item 'versicolor'\n",
       "\\item 'virginica'\n",
       "\\item 'virginica'\n",
       "\\end{enumerate*}\n"
      ],
      "text/markdown": [
       "1. 'setosa'\n",
       "2. 'setosa'\n",
       "3. 'setosa'\n",
       "4. 'setosa'\n",
       "5. 'setosa'\n",
       "6. 'setosa'\n",
       "7. 'setosa'\n",
       "8. 'setosa'\n",
       "9. 'setosa'\n",
       "10. 'setosa'\n",
       "11. 'setosa'\n",
       "12. 'setosa'\n",
       "13. 'setosa'\n",
       "14. 'setosa'\n",
       "15. 'setosa'\n",
       "16. 'versicolor'\n",
       "17. 'versicolor'\n",
       "18. 'versicolor'\n",
       "19. 'versicolor'\n",
       "20. 'versicolor'\n",
       "21. 'versicolor'\n",
       "22. 'versicolor'\n",
       "23. 'versicolor'\n",
       "24. 'versicolor'\n",
       "25. 'versicolor'\n",
       "26. 'versicolor'\n",
       "27. 'versicolor'\n",
       "28. 'versicolor'\n",
       "29. 'versicolor'\n",
       "30. 'versicolor'\n",
       "31. 'virginica'\n",
       "32. 'virginica'\n",
       "33. 'virginica'\n",
       "34. 'virginica'\n",
       "35. 'virginica'\n",
       "36. 'virginica'\n",
       "37. 'virginica'\n",
       "38. 'virginica'\n",
       "39. 'virginica'\n",
       "40. 'virginica'\n",
       "41. 'virginica'\n",
       "42. 'virginica'\n",
       "43. 'versicolor'\n",
       "44. 'virginica'\n",
       "45. 'virginica'\n",
       "\n",
       "\n"
      ],
      "text/plain": [
       " [1] \"setosa\"     \"setosa\"     \"setosa\"     \"setosa\"     \"setosa\"    \n",
       " [6] \"setosa\"     \"setosa\"     \"setosa\"     \"setosa\"     \"setosa\"    \n",
       "[11] \"setosa\"     \"setosa\"     \"setosa\"     \"setosa\"     \"setosa\"    \n",
       "[16] \"versicolor\" \"versicolor\" \"versicolor\" \"versicolor\" \"versicolor\"\n",
       "[21] \"versicolor\" \"versicolor\" \"versicolor\" \"versicolor\" \"versicolor\"\n",
       "[26] \"versicolor\" \"versicolor\" \"versicolor\" \"versicolor\" \"versicolor\"\n",
       "[31] \"virginica\"  \"virginica\"  \"virginica\"  \"virginica\"  \"virginica\" \n",
       "[36] \"virginica\"  \"virginica\"  \"virginica\"  \"virginica\"  \"virginica\" \n",
       "[41] \"virginica\"  \"virginica\"  \"versicolor\" \"virginica\"  \"virginica\" "
      ]
     },
     "metadata": {},
     "output_type": "display_data"
    },
    {
     "name": "stdout",
     "output_type": "stream",
     "text": [
      "[1] \"================================================= 예측결과\"\n"
     ]
    },
    {
     "data": {
      "text/plain": [
       "            predicted\n",
       "actual       setosa versicolor virginica\n",
       "  setosa         15          0         0\n",
       "  versicolor      0         15         0\n",
       "  virginica       0          1        14"
      ]
     },
     "metadata": {},
     "output_type": "display_data"
    },
    {
     "name": "stdout",
     "output_type": "stream",
     "text": [
      "[1] \"================================================= 정확도\"\n"
     ]
    },
    {
     "data": {
      "text/html": [
       "'예측확률 98 %'"
      ],
      "text/latex": [
       "'예측확률 98 \\%'"
      ],
      "text/markdown": [
       "'예측확률 98 %'"
      ],
      "text/plain": [
       "[1] \"예측확률 98 %\""
      ]
     },
     "metadata": {},
     "output_type": "display_data"
    }
   ],
   "source": [
    "print(\"================================================= 표준화\")\n",
    "# 표준화 작업 - 다중 공선성을 지키려 표준화를 시킨다\n",
    "iris.scaled <- cbind(scale(iris[-5]),iris[5])   # 표준화 시킨 데이터를 다시 데이터 프레임 만들기\n",
    "head(iris.scaled)\n",
    "summary(iris.scaled)\n",
    "\n",
    "# 표준편차\n",
    "apply(iris.scaled[-5], 2, sd)\n",
    "\n",
    "print(\"================================================= 데이터셋\")\n",
    "# 학습용과 검증용 데이터셋 나누기\n",
    "#  150 : 105 (70%) + 45 (30%)\n",
    "set.seed(1) # 샘플값 고정\n",
    "samp <- c(sample(1:50, 35), sample(51:100, 35),sample(101:150, 35))\n",
    "\n",
    "# 학습용 데이터\n",
    "data.tr <- iris.scaled[samp,]\n",
    "# 검증용 데이터\n",
    "data.test <- iris.scaled[-samp,]\n",
    "\n",
    "summary(data.tr)\n",
    "summary(data.test)\n",
    "\n",
    "print(\"================================================= nnet\")\n",
    "#  nnet (종속변수 ~ 독립변수), size : 은닉층갯수\n",
    "model.nnet <- nnet(Species ~ . , data = data.tr, size = 3)\n",
    "model.nnet\n",
    "\n",
    "print(\"================================================= predict\")\n",
    " # 신경망 모델의 검증 predict(), class\n",
    "predicted <- predict(model.nnet, data.test, type = \"class\")\n",
    "predicted\n",
    "\n",
    "\n",
    "print(\"================================================= 예측결과\")\n",
    "# 검증용 데이터셋의 예측결과를 벡터의 형태로 변형\n",
    "actual <- data.test$Species # 정답 변수\n",
    "result <- table(actual,predicted)\n",
    "result\n",
    "\n",
    "\n",
    "print(\"================================================= 정확도\")\n",
    "# 모델의 정확도\n",
    "paste(\"예측확률\",round(mean(predicted == actual),2) * 100 ,\"%\")\n",
    "\n",
    "\n",
    "\n",
    "\n",
    "\n",
    "\n",
    "\n",
    "\n",
    "\n",
    "\n",
    "\n",
    "\n",
    "\n",
    "\n",
    "\n",
    "\n",
    "\n",
    "\n",
    "\n",
    "\n",
    "\n",
    "\n",
    "\n"
   ]
  },
  {
   "cell_type": "markdown",
   "metadata": {},
   "source": [
    "--------------------\n",
    "# 궁금점 해소하기!"
   ]
  },
  {
   "cell_type": "code",
   "execution_count": 188,
   "metadata": {},
   "outputs": [
    {
     "data": {
      "text/html": [
       "<ol class=list-inline>\n",
       "\t<li>14</li>\n",
       "\t<li>19</li>\n",
       "\t<li>28</li>\n",
       "\t<li>43</li>\n",
       "\t<li>10</li>\n",
       "\t<li>41</li>\n",
       "\t<li>42</li>\n",
       "\t<li>29</li>\n",
       "\t<li>27</li>\n",
       "\t<li>3</li>\n",
       "\t<li>9</li>\n",
       "\t<li>7</li>\n",
       "\t<li>44</li>\n",
       "\t<li>15</li>\n",
       "\t<li>48</li>\n",
       "\t<li>18</li>\n",
       "\t<li>25</li>\n",
       "\t<li>33</li>\n",
       "\t<li>13</li>\n",
       "\t<li>34</li>\n",
       "\t<li>47</li>\n",
       "\t<li>39</li>\n",
       "\t<li>49</li>\n",
       "\t<li>4</li>\n",
       "\t<li>30</li>\n",
       "\t<li>46</li>\n",
       "\t<li>1</li>\n",
       "\t<li>40</li>\n",
       "\t<li>20</li>\n",
       "\t<li>8</li>\n",
       "\t<li>31</li>\n",
       "\t<li>12</li>\n",
       "\t<li>23</li>\n",
       "\t<li>38</li>\n",
       "\t<li>50</li>\n",
       "\t<li>84</li>\n",
       "\t<li>89</li>\n",
       "\t<li>56</li>\n",
       "\t<li>85</li>\n",
       "\t<li>69</li>\n",
       "\t<li>87</li>\n",
       "\t<li>79</li>\n",
       "\t<li>100</li>\n",
       "\t<li>74</li>\n",
       "\t<li>72</li>\n",
       "\t<li>82</li>\n",
       "\t<li>51</li>\n",
       "\t<li>96</li>\n",
       "\t<li>78</li>\n",
       "\t<li>75</li>\n",
       "\t<li>67</li>\n",
       "\t<li>80</li>\n",
       "\t<li>65</li>\n",
       "\t<li>58</li>\n",
       "\t<li>53</li>\n",
       "\t<li>81</li>\n",
       "\t<li>60</li>\n",
       "\t<li>83</li>\n",
       "\t<li>68</li>\n",
       "\t<li>61</li>\n",
       "\t<li>73</li>\n",
       "\t<li>90</li>\n",
       "\t<li>76</li>\n",
       "\t<li>92</li>\n",
       "\t<li>64</li>\n",
       "\t<li>98</li>\n",
       "\t<li>94</li>\n",
       "\t<li>71</li>\n",
       "\t<li>52</li>\n",
       "\t<li>95</li>\n",
       "\t<li>117</li>\n",
       "\t<li>142</li>\n",
       "\t<li>150</li>\n",
       "\t<li>116</li>\n",
       "\t<li>122</li>\n",
       "\t<li>141</li>\n",
       "\t<li>139</li>\n",
       "\t<li>148</li>\n",
       "\t<li>133</li>\n",
       "\t<li>140</li>\n",
       "\t<li>118</li>\n",
       "\t<li>128</li>\n",
       "\t<li>147</li>\n",
       "\t<li>113</li>\n",
       "\t<li>144</li>\n",
       "\t<li>108</li>\n",
       "\t<li>125</li>\n",
       "\t<li>105</li>\n",
       "\t<li>135</li>\n",
       "\t<li>149</li>\n",
       "\t<li>132</li>\n",
       "\t<li>102</li>\n",
       "\t<li>145</li>\n",
       "\t<li>124</li>\n",
       "\t<li>121</li>\n",
       "\t<li>120</li>\n",
       "\t<li>111</li>\n",
       "\t<li>110</li>\n",
       "\t<li>136</li>\n",
       "\t<li>137</li>\n",
       "\t<li>114</li>\n",
       "\t<li>107</li>\n",
       "\t<li>131</li>\n",
       "\t<li>143</li>\n",
       "\t<li>127</li>\n",
       "</ol>\n"
      ],
      "text/latex": [
       "\\begin{enumerate*}\n",
       "\\item 14\n",
       "\\item 19\n",
       "\\item 28\n",
       "\\item 43\n",
       "\\item 10\n",
       "\\item 41\n",
       "\\item 42\n",
       "\\item 29\n",
       "\\item 27\n",
       "\\item 3\n",
       "\\item 9\n",
       "\\item 7\n",
       "\\item 44\n",
       "\\item 15\n",
       "\\item 48\n",
       "\\item 18\n",
       "\\item 25\n",
       "\\item 33\n",
       "\\item 13\n",
       "\\item 34\n",
       "\\item 47\n",
       "\\item 39\n",
       "\\item 49\n",
       "\\item 4\n",
       "\\item 30\n",
       "\\item 46\n",
       "\\item 1\n",
       "\\item 40\n",
       "\\item 20\n",
       "\\item 8\n",
       "\\item 31\n",
       "\\item 12\n",
       "\\item 23\n",
       "\\item 38\n",
       "\\item 50\n",
       "\\item 84\n",
       "\\item 89\n",
       "\\item 56\n",
       "\\item 85\n",
       "\\item 69\n",
       "\\item 87\n",
       "\\item 79\n",
       "\\item 100\n",
       "\\item 74\n",
       "\\item 72\n",
       "\\item 82\n",
       "\\item 51\n",
       "\\item 96\n",
       "\\item 78\n",
       "\\item 75\n",
       "\\item 67\n",
       "\\item 80\n",
       "\\item 65\n",
       "\\item 58\n",
       "\\item 53\n",
       "\\item 81\n",
       "\\item 60\n",
       "\\item 83\n",
       "\\item 68\n",
       "\\item 61\n",
       "\\item 73\n",
       "\\item 90\n",
       "\\item 76\n",
       "\\item 92\n",
       "\\item 64\n",
       "\\item 98\n",
       "\\item 94\n",
       "\\item 71\n",
       "\\item 52\n",
       "\\item 95\n",
       "\\item 117\n",
       "\\item 142\n",
       "\\item 150\n",
       "\\item 116\n",
       "\\item 122\n",
       "\\item 141\n",
       "\\item 139\n",
       "\\item 148\n",
       "\\item 133\n",
       "\\item 140\n",
       "\\item 118\n",
       "\\item 128\n",
       "\\item 147\n",
       "\\item 113\n",
       "\\item 144\n",
       "\\item 108\n",
       "\\item 125\n",
       "\\item 105\n",
       "\\item 135\n",
       "\\item 149\n",
       "\\item 132\n",
       "\\item 102\n",
       "\\item 145\n",
       "\\item 124\n",
       "\\item 121\n",
       "\\item 120\n",
       "\\item 111\n",
       "\\item 110\n",
       "\\item 136\n",
       "\\item 137\n",
       "\\item 114\n",
       "\\item 107\n",
       "\\item 131\n",
       "\\item 143\n",
       "\\item 127\n",
       "\\end{enumerate*}\n"
      ],
      "text/markdown": [
       "1. 14\n",
       "2. 19\n",
       "3. 28\n",
       "4. 43\n",
       "5. 10\n",
       "6. 41\n",
       "7. 42\n",
       "8. 29\n",
       "9. 27\n",
       "10. 3\n",
       "11. 9\n",
       "12. 7\n",
       "13. 44\n",
       "14. 15\n",
       "15. 48\n",
       "16. 18\n",
       "17. 25\n",
       "18. 33\n",
       "19. 13\n",
       "20. 34\n",
       "21. 47\n",
       "22. 39\n",
       "23. 49\n",
       "24. 4\n",
       "25. 30\n",
       "26. 46\n",
       "27. 1\n",
       "28. 40\n",
       "29. 20\n",
       "30. 8\n",
       "31. 31\n",
       "32. 12\n",
       "33. 23\n",
       "34. 38\n",
       "35. 50\n",
       "36. 84\n",
       "37. 89\n",
       "38. 56\n",
       "39. 85\n",
       "40. 69\n",
       "41. 87\n",
       "42. 79\n",
       "43. 100\n",
       "44. 74\n",
       "45. 72\n",
       "46. 82\n",
       "47. 51\n",
       "48. 96\n",
       "49. 78\n",
       "50. 75\n",
       "51. 67\n",
       "52. 80\n",
       "53. 65\n",
       "54. 58\n",
       "55. 53\n",
       "56. 81\n",
       "57. 60\n",
       "58. 83\n",
       "59. 68\n",
       "60. 61\n",
       "61. 73\n",
       "62. 90\n",
       "63. 76\n",
       "64. 92\n",
       "65. 64\n",
       "66. 98\n",
       "67. 94\n",
       "68. 71\n",
       "69. 52\n",
       "70. 95\n",
       "71. 117\n",
       "72. 142\n",
       "73. 150\n",
       "74. 116\n",
       "75. 122\n",
       "76. 141\n",
       "77. 139\n",
       "78. 148\n",
       "79. 133\n",
       "80. 140\n",
       "81. 118\n",
       "82. 128\n",
       "83. 147\n",
       "84. 113\n",
       "85. 144\n",
       "86. 108\n",
       "87. 125\n",
       "88. 105\n",
       "89. 135\n",
       "90. 149\n",
       "91. 132\n",
       "92. 102\n",
       "93. 145\n",
       "94. 124\n",
       "95. 121\n",
       "96. 120\n",
       "97. 111\n",
       "98. 110\n",
       "99. 136\n",
       "100. 137\n",
       "101. 114\n",
       "102. 107\n",
       "103. 131\n",
       "104. 143\n",
       "105. 127\n",
       "\n",
       "\n"
      ],
      "text/plain": [
       "  [1]  14  19  28  43  10  41  42  29  27   3   9   7  44  15  48  18  25  33\n",
       " [19]  13  34  47  39  49   4  30  46   1  40  20   8  31  12  23  38  50  84\n",
       " [37]  89  56  85  69  87  79 100  74  72  82  51  96  78  75  67  80  65  58\n",
       " [55]  53  81  60  83  68  61  73  90  76  92  64  98  94  71  52  95 117 142\n",
       " [73] 150 116 122 141 139 148 133 140 118 128 147 113 144 108 125 105 135 149\n",
       " [91] 132 102 145 124 121 120 111 110 136 137 114 107 131 143 127"
      ]
     },
     "metadata": {},
     "output_type": "display_data"
    }
   ],
   "source": [
    "# 난수고정은 왜 하는 것일까?\n",
    "set.seed(1) \n",
    "samp <- c(sample(1:50, 35), sample(51:100, 35),sample(101:150, 35))\n",
    "samp\n",
    "\n",
    "\n",
    "\n"
   ]
  },
  {
   "cell_type": "code",
   "execution_count": 128,
   "metadata": {},
   "outputs": [
    {
     "data": {
      "text/html": [
       "<table>\n",
       "<thead><tr><th></th><th scope=col>Sepal.Length</th><th scope=col>Sepal.Width</th><th scope=col>Petal.Length</th><th scope=col>Petal.Width</th></tr></thead>\n",
       "<tbody>\n",
       "\t<tr><th scope=row>Sepal.Length</th><td> 1.0000000</td><td>-0.1175698</td><td> 0.8717538</td><td> 0.8179411</td></tr>\n",
       "\t<tr><th scope=row>Sepal.Width</th><td>-0.1175698</td><td> 1.0000000</td><td>-0.4284401</td><td>-0.3661259</td></tr>\n",
       "\t<tr><th scope=row>Petal.Length</th><td> 0.8717538</td><td>-0.4284401</td><td> 1.0000000</td><td> 0.9628654</td></tr>\n",
       "\t<tr><th scope=row>Petal.Width</th><td> 0.8179411</td><td>-0.3661259</td><td> 0.9628654</td><td> 1.0000000</td></tr>\n",
       "</tbody>\n",
       "</table>\n"
      ],
      "text/latex": [
       "\\begin{tabular}{r|llll}\n",
       "  & Sepal.Length & Sepal.Width & Petal.Length & Petal.Width\\\\\n",
       "\\hline\n",
       "\tSepal.Length &  1.0000000 & -0.1175698 &  0.8717538 &  0.8179411\\\\\n",
       "\tSepal.Width & -0.1175698 &  1.0000000 & -0.4284401 & -0.3661259\\\\\n",
       "\tPetal.Length &  0.8717538 & -0.4284401 &  1.0000000 &  0.9628654\\\\\n",
       "\tPetal.Width &  0.8179411 & -0.3661259 &  0.9628654 &  1.0000000\\\\\n",
       "\\end{tabular}\n"
      ],
      "text/markdown": [
       "\n",
       "| <!--/--> | Sepal.Length | Sepal.Width | Petal.Length | Petal.Width | \n",
       "|---|---|---|---|\n",
       "| Sepal.Length |  1.0000000 | -0.1175698 |  0.8717538 |  0.8179411 | \n",
       "| Sepal.Width | -0.1175698 |  1.0000000 | -0.4284401 | -0.3661259 | \n",
       "| Petal.Length |  0.8717538 | -0.4284401 |  1.0000000 |  0.9628654 | \n",
       "| Petal.Width |  0.8179411 | -0.3661259 |  0.9628654 |  1.0000000 | \n",
       "\n",
       "\n"
      ],
      "text/plain": [
       "             Sepal.Length Sepal.Width Petal.Length Petal.Width\n",
       "Sepal.Length  1.0000000   -0.1175698   0.8717538    0.8179411 \n",
       "Sepal.Width  -0.1175698    1.0000000  -0.4284401   -0.3661259 \n",
       "Petal.Length  0.8717538   -0.4284401   1.0000000    0.9628654 \n",
       "Petal.Width   0.8179411   -0.3661259   0.9628654    1.0000000 "
      ]
     },
     "metadata": {},
     "output_type": "display_data"
    }
   ],
   "source": [
    "cor(iris[-5]) # 표준화 시켜야겠다\n",
    "\n",
    "\n",
    "\n"
   ]
  },
  {
   "cell_type": "code",
   "execution_count": 130,
   "metadata": {},
   "outputs": [],
   "source": [
    "# 표준화 시키기\n",
    "iris.scaled <- cbind(scale(iris[-5]),iris[5])\n",
    "\n",
    "\n",
    "\n"
   ]
  },
  {
   "cell_type": "code",
   "execution_count": null,
   "metadata": {},
   "outputs": [],
   "source": [
    "# 데이터 분류 시키기\n",
    "# 학습용 데이터\n",
    "data.tr <- iris.scaled[samp,]\n",
    "# 검증용 데이터\n",
    "data.test <- iris.scaled[-samp,]\n",
    "\n",
    "\n",
    "\n"
   ]
  },
  {
   "cell_type": "code",
   "execution_count": 150,
   "metadata": {},
   "outputs": [
    {
     "name": "stdout",
     "output_type": "stream",
     "text": [
      "# weights:  51\n",
      "initial  value 123.823332 \n",
      "iter  10 value 13.630250\n",
      "iter  20 value 2.703851\n",
      "iter  30 value 0.125119\n",
      "iter  40 value 0.000568\n",
      "final  value 0.000083 \n",
      "converged\n"
     ]
    },
    {
     "data": {
      "text/plain": [
       "a 4-6-3 network with 51 weights\n",
       "inputs: Sepal.Length Sepal.Width Petal.Length Petal.Width \n",
       "output(s): Species \n",
       "options were - softmax modelling "
      ]
     },
     "metadata": {},
     "output_type": "display_data"
    }
   ],
   "source": [
    "# 머신러닝은 실핼할 때 마다 데이터 변경! \n",
    "library(nnet)\n",
    "model.nnet <- nnet(Species ~ . , data = data.tr, size = 6)\n",
    "model.nnet\n",
    "\n",
    "\n",
    "\n"
   ]
  },
  {
   "cell_type": "code",
   "execution_count": 154,
   "metadata": {},
   "outputs": [
    {
     "data": {
      "text/plain": [
       "            predicted\n",
       "actual       setosa versicolor virginica\n",
       "  setosa         15          0         0\n",
       "  versicolor      0         15         0\n",
       "  virginica       0          2        13"
      ]
     },
     "metadata": {},
     "output_type": "display_data"
    },
    {
     "data": {
      "text/html": [
       "95.5555555555556"
      ],
      "text/latex": [
       "95.5555555555556"
      ],
      "text/markdown": [
       "95.5555555555556"
      ],
      "text/plain": [
       "[1] 95.55556"
      ]
     },
     "metadata": {},
     "output_type": "display_data"
    }
   ],
   "source": [
    " # 신경망 모델의 검증 predict(), class\n",
    "predicted <- predict(model.nnet, data.test, type = \"class\")\n",
    "\n",
    "# 검증용 데이터셋의 예측결과를 벡터의 형태로 변형\n",
    "actual <- data.test$Species # 정답 변수\n",
    "result <- table(actual,predicted)\n",
    "table(actual,predicted)\n",
    "mean(actual == predicted) * 100\n",
    "\n",
    "\n",
    "\n"
   ]
  },
  {
   "cell_type": "code",
   "execution_count": 169,
   "metadata": {},
   "outputs": [
    {
     "name": "stdout",
     "output_type": "stream",
     "text": [
      "# weights:  83\n",
      "initial  value 177.742311 \n",
      "iter  10 value 12.059665\n",
      "iter  20 value 5.510348\n",
      "iter  30 value 3.500997\n",
      "iter  40 value 2.197450\n",
      "iter  50 value 1.903399\n",
      "iter  60 value 1.670974\n",
      "iter  70 value 0.016748\n",
      "iter  80 value 0.000277\n",
      "final  value 0.000060 \n",
      "converged\n"
     ]
    }
   ],
   "source": [
    "# 전체 데이터 학습\n",
    "model2.nnet <- nnet(Species ~ . , data = iris.scaled, size = 10)\n",
    "\n",
    "\n",
    "\n"
   ]
  },
  {
   "cell_type": "markdown",
   "metadata": {},
   "source": [
    "### 도데체 set.seed는 왜 한걸까?\n",
    "set.seed는 난수를 뽑는 로직이 있는데 그것 조차 고정시켜 준다.\n",
    "만약 1:100 까지 setosa 데이터가 1:1000 까지로 변화 되었을 때 다시 난수를 뽑는다 해도 그 로직이 고정되어 ㅣ\n",
    "데이터가 새로 추가될 때 rbind를 하고 csv로 들어갔다 오면 인덱스가 변화되어 있다.\n",
    "이렇게 되면 샘플링 번호는 \n",
    "그래서 데이터가 섞이"
   ]
  },
  {
   "cell_type": "code",
   "execution_count": null,
   "metadata": {},
   "outputs": [],
   "source": []
  }
 ],
 "metadata": {
  "kernelspec": {
   "display_name": "R",
   "language": "R",
   "name": "ir"
  },
  "language_info": {
   "codemirror_mode": "r",
   "file_extension": ".r",
   "mimetype": "text/x-r-source",
   "name": "R",
   "pygments_lexer": "r",
   "version": "3.5.1"
  }
 },
 "nbformat": 4,
 "nbformat_minor": 2
}
