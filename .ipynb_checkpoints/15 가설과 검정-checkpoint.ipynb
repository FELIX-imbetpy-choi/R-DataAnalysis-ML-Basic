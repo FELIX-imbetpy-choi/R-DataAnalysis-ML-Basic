{
 "cells": [
  {
   "cell_type": "markdown",
   "metadata": {},
   "source": [
    "### 카이제곱 검정(chi - square Test)\n",
    "두 범주형 변수가 서로 상관이 있는지 판단하는 통계적 검정 방법     \n",
    "child별 장난감 보유현황에 대해 가설을 세우고 이를 실행     \n",
    "- 귀무가설 : child1 과 child2 의 장난감에 대한 만족도는 차이가 없다. (변화가 없다./ 차이가 없다.)   \n",
    "- 대립가설 : child1 과 child2 의 장난감에 대한 만족도는 차이가 있다. (변화가 있다./ 차이가 있다.)   \n",
    "--> 분석가의 입장에서 대립가설이 있어야, 자기 주장이 생기는 것 이다.   "
   ]
  },
  {
   "cell_type": "code",
   "execution_count": 1,
   "metadata": {},
   "outputs": [],
   "source": [
    "# child별 장난감 보유  현황\n",
    "child1 <- c(5, 11, 1)\n",
    "child2<- c(4, 7, 3)\n",
    "\n",
    "\n",
    "\n",
    "\n"
   ]
  },
  {
   "cell_type": "code",
   "execution_count": 6,
   "metadata": {},
   "outputs": [
    {
     "data": {
      "text/html": [
       "<table>\n",
       "<thead><tr><th scope=col>child1</th><th scope=col>child2</th></tr></thead>\n",
       "<tbody>\n",
       "\t<tr><td> 5</td><td>4 </td></tr>\n",
       "\t<tr><td>11</td><td>7 </td></tr>\n",
       "\t<tr><td> 1</td><td>3 </td></tr>\n",
       "</tbody>\n",
       "</table>\n"
      ],
      "text/latex": [
       "\\begin{tabular}{ll}\n",
       " child1 & child2\\\\\n",
       "\\hline\n",
       "\t  5 & 4 \\\\\n",
       "\t 11 & 7 \\\\\n",
       "\t  1 & 3 \\\\\n",
       "\\end{tabular}\n"
      ],
      "text/markdown": [
       "\n",
       "child1 | child2 | \n",
       "|---|---|---|\n",
       "|  5 | 4  | \n",
       "| 11 | 7  | \n",
       "|  1 | 3  | \n",
       "\n",
       "\n"
      ],
      "text/plain": [
       "     child1 child2\n",
       "[1,]  5     4     \n",
       "[2,] 11     7     \n",
       "[3,]  1     3     "
      ]
     },
     "metadata": {},
     "output_type": "display_data"
    },
    {
     "data": {
      "text/html": [
       "'matrix'"
      ],
      "text/latex": [
       "'matrix'"
      ],
      "text/markdown": [
       "'matrix'"
      ],
      "text/plain": [
       "[1] \"matrix\""
      ]
     },
     "metadata": {},
     "output_type": "display_data"
    },
    {
     "data": {
      "text/html": [
       "<table>\n",
       "<thead><tr><th></th><th scope=col>child1</th><th scope=col>child2</th></tr></thead>\n",
       "<tbody>\n",
       "\t<tr><th scope=row>car</th><td> 5</td><td>4 </td></tr>\n",
       "\t<tr><th scope=row>truck</th><td>11</td><td>7 </td></tr>\n",
       "\t<tr><th scope=row>doll</th><td> 1</td><td>3 </td></tr>\n",
       "</tbody>\n",
       "</table>\n"
      ],
      "text/latex": [
       "\\begin{tabular}{r|ll}\n",
       "  & child1 & child2\\\\\n",
       "\\hline\n",
       "\tcar &  5 & 4 \\\\\n",
       "\ttruck & 11 & 7 \\\\\n",
       "\tdoll &  1 & 3 \\\\\n",
       "\\end{tabular}\n"
      ],
      "text/markdown": [
       "\n",
       "| <!--/--> | child1 | child2 | \n",
       "|---|---|---|\n",
       "| car |  5 | 4  | \n",
       "| truck | 11 | 7  | \n",
       "| doll |  1 | 3  | \n",
       "\n",
       "\n"
      ],
      "text/plain": [
       "      child1 child2\n",
       "car    5     4     \n",
       "truck 11     7     \n",
       "doll   1     3     "
      ]
     },
     "metadata": {},
     "output_type": "display_data"
    },
    {
     "name": "stderr",
     "output_type": "stream",
     "text": [
      "Warning message in chisq.test(Toy):\n",
      "“Chi-squared approximation may be incorrect”"
     ]
    },
    {
     "data": {
      "text/plain": [
       "\n",
       "\tPearson's Chi-squared test\n",
       "\n",
       "data:  Toy\n",
       "X-squared = 1.7258, df = 2, p-value = 0.4219\n"
      ]
     },
     "metadata": {},
     "output_type": "display_data"
    }
   ],
   "source": [
    "# vector 결합\n",
    "Toy <- cbind(child1, child2)\n",
    "Toy\n",
    "class(Toy)\n",
    "# 카이제곱 검정을 하려면 데이터를 매트릭스 형태로 만들어야 한다!!!!\n",
    "\n",
    "\n",
    "#Vector의 행 이름 정의\n",
    "row.names(Toy) <- c(\"car\",\"truck\",\"doll\")\n",
    "Toy\n",
    "\n",
    "\n",
    "# 카이제곱 검정\n",
    "chisq.test(Toy)\n",
    "# ==> \n",
    "# X-squared = 1.7258, \n",
    "# df = 2, \n",
    "# ** p-value = 0.4219 > 0.05 이므로 귀무가설을 채택한다. 따라서 장난감에 대한 만족도의 차이는 없다.\n",
    "\n",
    "\n",
    "\n",
    "\n",
    "\n",
    "\n",
    "\n",
    "\n",
    "\n"
   ]
  },
  {
   "cell_type": "markdown",
   "metadata": {},
   "source": [
    "결론    \n",
    "\n",
    "\n",
    "X-squared = 1.7258,    \n",
    "\n",
    "\n",
    "df = 2,   \n",
    "\n",
    "\n",
    "★★★★★★\n",
    "** p-value = 0.4219 > 0.05 이므로 귀무가설을 채택한다.    \n",
    "따라서 장난감에 대한 만족도의 차이는 없다. --> 주장을 하나마나이다.    \n",
    "p-value가 0.05 보다 작아야 신뢰구간에 들어간다.    \n",
    "p-value는 0에 가까울 수록 좋다. -- > 분석할만 한 데이터이다."
   ]
  },
  {
   "cell_type": "code",
   "execution_count": 8,
   "metadata": {},
   "outputs": [
    {
     "data": {
      "text/html": [
       "0.986241382612456"
      ],
      "text/latex": [
       "0.986241382612456"
      ],
      "text/markdown": [
       "0.986241382612456"
      ],
      "text/plain": [
       "[1] 0.9862414"
      ]
     },
     "metadata": {},
     "output_type": "display_data"
    }
   ],
   "source": [
    "cor(child1,child2)\n",
    "# 상관관계가 높다!!!! 분석해볼만 한가?  -- > 데이터가 너무 똑같다 99프로 똑같다. 그래서 p-value는 신뢰구간에 들어가지 않음\n",
    "\n",
    "\n",
    "\n"
   ]
  },
  {
   "cell_type": "markdown",
   "metadata": {},
   "source": [
    "-----------------------------\n",
    "## 피셔검정 (fisher Test)  : 표본수가 적거나 데이터의 분포가 치우친 경우 사용."
   ]
  },
  {
   "cell_type": "code",
   "execution_count": 9,
   "metadata": {},
   "outputs": [
    {
     "data": {
      "text/plain": [
       "\n",
       "\tFisher's Exact Test for Count Data\n",
       "\n",
       "data:  Toy\n",
       "p-value = 0.5165\n",
       "alternative hypothesis: two.sided\n"
      ]
     },
     "metadata": {},
     "output_type": "display_data"
    }
   ],
   "source": [
    "# 피셔검정 (fisher Test)  : 표본수가 적거나 데이터의 분포가 치우친 경우 사용.\n",
    "fisher.test(Toy)\n",
    "\n",
    "# p-value = 0.5165 > 0.05 므로 대립가설을 기각하고 귀무가설을 채택한다.\n",
    "\n",
    "# 크다 작다에는 원사이드 / 기다 아니다 에는 투사이드를 사용한다?? 그래프 끄트머리에 양사이드를 사용하나 나니냐?\n",
    "\n",
    "\n",
    "\n"
   ]
  },
  {
   "cell_type": "markdown",
   "metadata": {},
   "source": [
    "----------------\n",
    "## 표본이 1개인 t검정      \n",
    "- 데이터가 정규분포를 이룬다.(정규분포 확인 필요)     \n",
    "     \n",
    "\n",
    "건전지 베러리가 1000시간이라도 써있을 때 그것을 검증하는 것에 씀   \n",
    "\n",
    "귀무가설 : 건전지의 수명은 1000시간이다.    \n",
    "대립가설 : 건전지의 수명은 1000시간이 아니다.  -- >  대립가설이 나와야 분석      \n",
    " \n",
    "정규분포를 이루는지 확인하기 위해 shapiro_Wilk Test 를 실시   "
   ]
  },
  {
   "cell_type": "code",
   "execution_count": 15,
   "metadata": {},
   "outputs": [
    {
     "data": {
      "text/plain": [
       "\n",
       "\tShapiro-Wilk normality test\n",
       "\n",
       "data:  a\n",
       "W = 0.97706, p-value = 0.9469\n"
      ]
     },
     "metadata": {},
     "output_type": "display_data"
    },
    {
     "data": {
      "text/plain": [
       "\n",
       "\tOne Sample t-test\n",
       "\n",
       "data:  a\n",
       "t = 0.25891, df = 7, p-value = 0.8032\n",
       "alternative hypothesis: true mean is not equal to 1000\n",
       "95 percent confidence interval:\n",
       "  984.7508 1018.9992\n",
       "sample estimates:\n",
       "mean of x \n",
       " 1001.875 \n"
      ]
     },
     "metadata": {},
     "output_type": "display_data"
    }
   ],
   "source": [
    "a <- c(980, 1008, 968, 1032, 1012 , 1002, 996, 1017)\n",
    "\n",
    "# 정규분포 확인\n",
    "shapiro.test(a)\n",
    "#  p-value = 0.9469  > 0.05 므로 귀무가설 채택\n",
    "\n",
    "# t검정\n",
    "t.test(a, mu = 1000, alternative = \"two.sided\")\n",
    "# mu : 비교하는 대상의 평균\n",
    "# two.sided : 샘플이 주어진 평균과 다르다\n",
    "# greater : 샘플이 주어진 평균보다 크다\n",
    "# less : 샘플이 주어진 평균보다 작다\n",
    "\n",
    "# p-value = 0.8032 > 0.05 이므로 귀무가설 채택\n",
    "# 건전지의 수명은 1000시간이다.\n",
    "\n",
    "\n",
    "\n",
    "\n",
    "\n",
    "\n",
    "\n",
    "\n",
    "\n",
    "\n",
    "\n"
   ]
  },
  {
   "cell_type": "markdown",
   "metadata": {},
   "source": [
    "mu : 비교하는 대상의 평균    \n",
    "two.sided : 샘플이 주어진 평균과 다르다     \n",
    "greater : 샘플이 주어진 평균보다 크다    \n",
    "less : 샘플이 주어진 평균보다 작다    \n",
    "p-value = 0.8032 > 0.05 이므로 귀무가설 채택     \n",
    "건전지의 수명은 1000시간이다.    "
   ]
  },
  {
   "cell_type": "markdown",
   "metadata": {},
   "source": [
    "----------------\n",
    "어떤 학급의 수학 평균은 55점이다.       \n",
    "0 교시 수업을 시행한 후 학생들의 성적이 올랐을까?     \n",
    "귀무가설 : 성적이 오르지 않았다.    \n",
    "대립가설 : 성적이 올랐다.    "
   ]
  },
  {
   "cell_type": "code",
   "execution_count": 22,
   "metadata": {},
   "outputs": [
    {
     "data": {
      "text/plain": [
       "\n",
       "\tShapiro-Wilk normality test\n",
       "\n",
       "data:  a\n",
       "W = 0.91143, p-value = 0.1058\n"
      ]
     },
     "metadata": {},
     "output_type": "display_data"
    },
    {
     "data": {
      "text/plain": [
       "\n",
       "\tOne Sample t-test\n",
       "\n",
       "data:  a\n",
       "t = 0.24546, df = 16, p-value = 0.4046\n",
       "alternative hypothesis: true mean is greater than 55\n",
       "95 percent confidence interval:\n",
       " 47.80855      Inf\n",
       "sample estimates:\n",
       "mean of x \n",
       " 56.17647 \n"
      ]
     },
     "metadata": {},
     "output_type": "display_data"
    },
    {
     "data": {
      "text/html": [
       "56.1764705882353"
      ],
      "text/latex": [
       "56.1764705882353"
      ],
      "text/markdown": [
       "56.1764705882353"
      ],
      "text/plain": [
       "[1] 56.17647"
      ]
     },
     "metadata": {},
     "output_type": "display_data"
    }
   ],
   "source": [
    "a <- c(58,49,39,99,32,88,62,30,55,65,44,55,57,53,88,42,39)\n",
    "\n",
    "# 정규분포 확인\n",
    "shapiro.test(a)\n",
    "#  p-value = 0.1058  > 0.05 므로 귀무가설 채택\n",
    "\n",
    "# t검정\n",
    "t.test(a, mu = 55 , alternative = \"greater\")\n",
    "\n",
    "#  p-value = 0.4046 > 0.05 이므로 귀무가설을 채택한다. \n",
    "# 학생들의 성적은 오르지 않았다.\n",
    "+\n",
    "\n",
    "mean(a)  # 성적이 올랐다????????\n",
    "\n",
    "#귀무가설이 나왔는데?\n",
    "\n",
    "\n",
    "\n",
    "\n",
    "\n",
    "\n",
    "\n",
    "\n",
    "\n",
    "\n",
    "\n"
   ]
  },
  {
   "cell_type": "markdown",
   "metadata": {},
   "source": [
    "----------------------------\n",
    "## 표본이 2개인 t 검정   \n",
    "혈압약 복용전과 복용후의 효과 차이     \n",
    "귀무가설 : 복용전과 복용후의 차이는 없다.   \n",
    "대립가설 : 복용전과 복용후의 차이는 있다.    "
   ]
  },
  {
   "cell_type": "code",
   "execution_count": 23,
   "metadata": {},
   "outputs": [],
   "source": [
    "pre <- c(13.2, 8.2, 10.9,14.3,10.7,6.6,9.5,10.8,8.8,13.3)\n",
    "post <- c(14,8.8,11.2,14.2,11.8,6.4,9.8,11.3,9.3,13.6)\n",
    "\n",
    "\n",
    "\n"
   ]
  },
  {
   "cell_type": "code",
   "execution_count": 26,
   "metadata": {},
   "outputs": [
    {
     "data": {
      "text/plain": [
       "   Min. 1st Qu.  Median    Mean 3rd Qu.    Max. \n",
       "  6.600   8.975  10.750  10.630  12.625  14.300 "
      ]
     },
     "metadata": {},
     "output_type": "display_data"
    },
    {
     "data": {
      "text/plain": [
       "   Min. 1st Qu.  Median    Mean 3rd Qu.    Max. \n",
       "  6.400   9.425  11.250  11.040  13.150  14.200 "
      ]
     },
     "metadata": {},
     "output_type": "display_data"
    },
    {
     "data": {
      "text/plain": [
       "\n",
       "\tWelch Two Sample t-test\n",
       "\n",
       "data:  pre and post\n",
       "t = -0.36891, df = 17.987, p-value = 0.7165\n",
       "alternative hypothesis: true difference in means is not equal to 0\n",
       "95 percent confidence interval:\n",
       " -2.745046  1.925046\n",
       "sample estimates:\n",
       "mean of x mean of y \n",
       "    10.63     11.04 \n"
      ]
     },
     "metadata": {},
     "output_type": "display_data"
    }
   ],
   "source": [
    "summary(pre)\n",
    "summary(post)\n",
    "# 데이터가 거의 비슷하다.\n",
    "\n",
    "# 데이터가 두개 있을 땐 정규분포 확인을 할 필요가 없다.\n",
    "t.test(pre,post)\n",
    "\n",
    "# p-value = 0.7165 > 0.05 이므로 귀무가설 채택 - 복용전과 후의 차이가 없다.\n",
    "\n",
    "\n",
    "\n",
    "\n",
    "\n",
    "\n",
    "\n"
   ]
  },
  {
   "cell_type": "markdown",
   "metadata": {},
   "source": [
    "- t.test는 변수가 2개일때 까지만 가능하다. 3개부턴 불가능"
   ]
  },
  {
   "cell_type": "markdown",
   "metadata": {},
   "source": [
    "# ANOVA 분석(분산 분석)    \n",
    "- 비교하는 대상이 3개 이상인 경우    \n",
    "- n개의 모집단의 평균을 이용하여 상관관계의 유무를 판단    \n",
    "\n",
    "귀무가설 : 3 집단의 평균이 같다.   \n",
    "대립가설 : 3 집단의 평균이 다르다.    "
   ]
  },
  {
   "cell_type": "code",
   "execution_count": 30,
   "metadata": {},
   "outputs": [],
   "source": [
    "xx <- c(1,2,3,4,5,6,7,8,9)\n",
    "yy <- c(1.09,2.12,2.92,4.06,4.9,6.08,7.001,7.92,9.01)\n",
    "zz <- c(1.1,1.96,2.98,4.09,4.92,6.1,6.88,7.97,9.01)\n",
    "\n",
    "\n",
    "\n"
   ]
  },
  {
   "cell_type": "code",
   "execution_count": 31,
   "metadata": {},
   "outputs": [
    {
     "data": {
      "text/plain": [
       "   Min. 1st Qu.  Median    Mean 3rd Qu.    Max. \n",
       "  1.000   2.950   4.920   5.004   7.000   9.010 "
      ]
     },
     "metadata": {},
     "output_type": "display_data"
    }
   ],
   "source": [
    "mydata <- c(xx,yy,zz)\n",
    "summary(mydata)\n",
    "\n",
    "\n",
    "\n"
   ]
  },
  {
   "cell_type": "code",
   "execution_count": 33,
   "metadata": {},
   "outputs": [
    {
     "data": {
      "text/html": [
       "<ol class=list-inline>\n",
       "\t<li>1</li>\n",
       "\t<li>1</li>\n",
       "\t<li>1</li>\n",
       "\t<li>1</li>\n",
       "\t<li>1</li>\n",
       "\t<li>1</li>\n",
       "\t<li>1</li>\n",
       "\t<li>1</li>\n",
       "\t<li>1</li>\n",
       "\t<li>2</li>\n",
       "\t<li>2</li>\n",
       "\t<li>2</li>\n",
       "\t<li>2</li>\n",
       "\t<li>2</li>\n",
       "\t<li>2</li>\n",
       "\t<li>2</li>\n",
       "\t<li>2</li>\n",
       "\t<li>2</li>\n",
       "\t<li>3</li>\n",
       "\t<li>3</li>\n",
       "\t<li>3</li>\n",
       "\t<li>3</li>\n",
       "\t<li>3</li>\n",
       "\t<li>3</li>\n",
       "\t<li>3</li>\n",
       "\t<li>3</li>\n",
       "\t<li>3</li>\n",
       "</ol>\n"
      ],
      "text/latex": [
       "\\begin{enumerate*}\n",
       "\\item 1\n",
       "\\item 1\n",
       "\\item 1\n",
       "\\item 1\n",
       "\\item 1\n",
       "\\item 1\n",
       "\\item 1\n",
       "\\item 1\n",
       "\\item 1\n",
       "\\item 2\n",
       "\\item 2\n",
       "\\item 2\n",
       "\\item 2\n",
       "\\item 2\n",
       "\\item 2\n",
       "\\item 2\n",
       "\\item 2\n",
       "\\item 2\n",
       "\\item 3\n",
       "\\item 3\n",
       "\\item 3\n",
       "\\item 3\n",
       "\\item 3\n",
       "\\item 3\n",
       "\\item 3\n",
       "\\item 3\n",
       "\\item 3\n",
       "\\end{enumerate*}\n"
      ],
      "text/markdown": [
       "1. 1\n",
       "2. 1\n",
       "3. 1\n",
       "4. 1\n",
       "5. 1\n",
       "6. 1\n",
       "7. 1\n",
       "8. 1\n",
       "9. 1\n",
       "10. 2\n",
       "11. 2\n",
       "12. 2\n",
       "13. 2\n",
       "14. 2\n",
       "15. 2\n",
       "16. 2\n",
       "17. 2\n",
       "18. 2\n",
       "19. 3\n",
       "20. 3\n",
       "21. 3\n",
       "22. 3\n",
       "23. 3\n",
       "24. 3\n",
       "25. 3\n",
       "26. 3\n",
       "27. 3\n",
       "\n",
       "\n"
      ],
      "text/plain": [
       " [1] 1 1 1 1 1 1 1 1 1 2 2 2 2 2 2 2 2 2 3 3 3 3 3 3 3 3 3"
      ]
     },
     "metadata": {},
     "output_type": "display_data"
    }
   ],
   "source": [
    "group <- c(rep(1,9),rep(2,9),rep(3,9))\n",
    "group\n",
    "\n",
    "\n",
    "\n"
   ]
  },
  {
   "cell_type": "code",
   "execution_count": 35,
   "metadata": {},
   "outputs": [
    {
     "data": {
      "text/plain": [
       "\n",
       "\tOne-way analysis of means\n",
       "\n",
       "data:  mydata and group\n",
       "F = 4.6504e-05, num df = 2, denom df = 24, p-value = 1\n"
      ]
     },
     "metadata": {},
     "output_type": "display_data"
    }
   ],
   "source": [
    "oneway.test(mydata ~ group , var = T) # var = T : 등분산( 분산이 같다)\n",
    "\n",
    "# p-value = 1 귀무가설 채택 - 평균값이 같다\n",
    "\n",
    "\n",
    "\n"
   ]
  },
  {
   "cell_type": "markdown",
   "metadata": {},
   "source": [
    "### 지금까지의 방법들은 데이터의 표본을 가져왔을 때 샘플들을 검증해서 이상이 없는지 확인 하는 것이다.   \n",
    "\n",
    "### 이 검증이 통과 되면 이 데이터를 사용할 수 있다는 것이다.   "
   ]
  }
 ],
 "metadata": {
  "kernelspec": {
   "display_name": "R",
   "language": "R",
   "name": "ir"
  },
  "language_info": {
   "codemirror_mode": "r",
   "file_extension": ".r",
   "mimetype": "text/x-r-source",
   "name": "R",
   "pygments_lexer": "r",
   "version": "3.5.1"
  }
 },
 "nbformat": 4,
 "nbformat_minor": 2
}
