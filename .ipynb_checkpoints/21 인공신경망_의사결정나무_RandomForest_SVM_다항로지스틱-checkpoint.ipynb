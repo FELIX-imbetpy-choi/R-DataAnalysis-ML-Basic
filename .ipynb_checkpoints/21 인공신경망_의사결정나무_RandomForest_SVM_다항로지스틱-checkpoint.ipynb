{
 "cells": [
  {
   "cell_type": "code",
   "execution_count": 7,
   "metadata": {},
   "outputs": [],
   "source": [
    "data(iris)"
   ]
  },
  {
   "cell_type": "markdown",
   "metadata": {},
   "source": [
    "# 인공신경망"
   ]
  },
  {
   "cell_type": "code",
   "execution_count": 2,
   "metadata": {},
   "outputs": [],
   "source": [
    "library(nnet) # 인공신경망 라이브러리"
   ]
  },
  {
   "cell_type": "markdown",
   "metadata": {},
   "source": [
    "### 표준화 전 "
   ]
  },
  {
   "cell_type": "code",
   "execution_count": 55,
   "metadata": {},
   "outputs": [
    {
     "name": "stdout",
     "output_type": "stream",
     "text": [
      "[1] \"================================================= 데이터셋\"\n",
      "[1] \"================================================= nnet\"\n",
      "# weights:  27\n",
      "initial  value 121.918593 \n",
      "iter  10 value 50.885970\n",
      "iter  20 value 2.950819\n",
      "iter  30 value 0.002953\n",
      "final  value 0.000071 \n",
      "converged\n",
      "[1] \"================================================= predict\"\n",
      "[1] \"================================================= 예측결과\"\n",
      "[1] \"================================================= 정확도\"\n"
     ]
    },
    {
     "data": {
      "text/html": [
       "'예측확률 93.33 %'"
      ],
      "text/latex": [
       "'예측확률 93.33 \\%'"
      ],
      "text/markdown": [
       "'예측확률 93.33 %'"
      ],
      "text/plain": [
       "[1] \"예측확률 93.33 %\""
      ]
     },
     "metadata": {},
     "output_type": "display_data"
    }
   ],
   "source": [
    "print(\"================================================= 데이터셋\")\n",
    "# 학습용과 검증용 데이터셋 나누기\n",
    "#  150 : 105 (70%) + 45 (30%)\n",
    "set.seed(1234) # 샘플값 고정\n",
    "samp <- c(sample(1:50, 35), sample(51:100, 35),sample(101:150, 35))\n",
    "\n",
    "# 학습용 데이터\n",
    "data.tr <- iris[samp,]\n",
    "# 검증용 데이터\n",
    "data.test <- iris[-samp,]\n",
    "\n",
    "\n",
    "print(\"================================================= nnet\")\n",
    "#  nnet (종속변수 ~ 독립변수), size : 은닉층갯수\n",
    "model.nnet <- nnet(Species ~ . , data = data.tr, size = 3)\n",
    "\n",
    "\n",
    "print(\"================================================= predict\")\n",
    " # 신경망 모델의 검증 predict(), class\n",
    "predicted <- predict(model.nnet, data.test, type = \"class\")\n",
    "\n",
    "\n",
    "print(\"================================================= 예측결과\")\n",
    "# 검증용 데이터셋의 예측결과를 벡터의 형태로 변형\n",
    "actual <- data.test$Species # 정답 변수\n",
    "result <- table(actual,predicted)\n",
    "\n",
    "\n",
    "print(\"================================================= 정확도\")\n",
    "# 모델의 정확도\n",
    "paste(\"예측확률\",round(mean(predicted == actual),4) * 100 ,\"%\")"
   ]
  },
  {
   "cell_type": "markdown",
   "metadata": {},
   "source": [
    "### 표준화 후"
   ]
  },
  {
   "cell_type": "code",
   "execution_count": 56,
   "metadata": {},
   "outputs": [
    {
     "name": "stdout",
     "output_type": "stream",
     "text": [
      "[1] \"================================================= 표준화\"\n"
     ]
    },
    {
     "data": {
      "text/html": [
       "<dl class=dl-horizontal>\n",
       "\t<dt>Sepal.Length</dt>\n",
       "\t\t<dd>1</dd>\n",
       "\t<dt>Sepal.Width</dt>\n",
       "\t\t<dd>1</dd>\n",
       "\t<dt>Petal.Length</dt>\n",
       "\t\t<dd>1</dd>\n",
       "\t<dt>Petal.Width</dt>\n",
       "\t\t<dd>1</dd>\n",
       "</dl>\n"
      ],
      "text/latex": [
       "\\begin{description*}\n",
       "\\item[Sepal.Length] 1\n",
       "\\item[Sepal.Width] 1\n",
       "\\item[Petal.Length] 1\n",
       "\\item[Petal.Width] 1\n",
       "\\end{description*}\n"
      ],
      "text/markdown": [
       "Sepal.Length\n",
       ":   1Sepal.Width\n",
       ":   1Petal.Length\n",
       ":   1Petal.Width\n",
       ":   1\n",
       "\n"
      ],
      "text/plain": [
       "Sepal.Length  Sepal.Width Petal.Length  Petal.Width \n",
       "           1            1            1            1 "
      ]
     },
     "metadata": {},
     "output_type": "display_data"
    },
    {
     "name": "stdout",
     "output_type": "stream",
     "text": [
      "[1] \"================================================= 데이터셋\"\n",
      "[1] \"================================================= nnet\"\n",
      "# weights:  27\n",
      "initial  value 133.397993 \n",
      "iter  10 value 3.873727\n",
      "iter  20 value 0.013426\n",
      "final  value 0.000094 \n",
      "converged\n",
      "[1] \"================================================= predict\"\n",
      "[1] \"================================================= 예측결과\"\n",
      "[1] \"================================================= 정확도\"\n"
     ]
    },
    {
     "data": {
      "text/html": [
       "'예측확률 95.56 %'"
      ],
      "text/latex": [
       "'예측확률 95.56 \\%'"
      ],
      "text/markdown": [
       "'예측확률 95.56 %'"
      ],
      "text/plain": [
       "[1] \"예측확률 95.56 %\""
      ]
     },
     "metadata": {},
     "output_type": "display_data"
    }
   ],
   "source": [
    "print(\"================================================= 표준화\")\n",
    "# 표준화 작업 - 다중 공선성을 지키려 표준화를 시킨다\n",
    "iris.scaled <- cbind(scale(iris[-5]),iris[5])   # 표준화 시킨 데이터를 다시 데이터 프레임 만들기\n",
    "\n",
    "# 표준편차\n",
    "apply(iris.scaled[-5], 2, sd)\n",
    "\n",
    "print(\"================================================= 데이터셋\")\n",
    "# 학습용과 검증용 데이터셋 나누기\n",
    "#  150 : 105 (70%) + 45 (30%)\n",
    "set.seed(1234) # 샘플값 고정\n",
    "samp <- c(sample(1:50, 35), sample(51:100, 35),sample(101:150, 35))\n",
    "\n",
    "# 학습용 데이터\n",
    "data.tr <- iris.scaled[samp,]\n",
    "# 검증용 데이터\n",
    "data.test <- iris.scaled[-samp,]\n",
    "\n",
    "\n",
    "print(\"================================================= nnet\")\n",
    "#  nnet (종속변수 ~ 독립변수), size : 은닉층갯수\n",
    "model.nnet <- nnet(Species ~ . , data = data.tr, size = 3)\n",
    "\n",
    "print(\"================================================= predict\")\n",
    " # 신경망 모델의 검증 predict(), class\n",
    "predicted <- predict(model.nnet, data.test, type = \"class\")\n",
    "\n",
    "\n",
    "print(\"================================================= 예측결과\")\n",
    "# 검증용 데이터셋의 예측결과를 벡터의 형태로 변형\n",
    "actual <- data.test$Species # 정답 변수\n",
    "result <- table(actual,predicted)\n",
    "\n",
    "\n",
    "print(\"================================================= 정확도\")\n",
    "# 모델의 정확도\n",
    "paste(\"예측확률\",round(mean(predicted == actual),4) * 100 ,\"%\")"
   ]
  },
  {
   "cell_type": "markdown",
   "metadata": {},
   "source": [
    "# 의사결정나무"
   ]
  },
  {
   "cell_type": "code",
   "execution_count": 57,
   "metadata": {},
   "outputs": [],
   "source": [
    "library(party)\n",
    "library(e1071)\n",
    "library(caret)"
   ]
  },
  {
   "cell_type": "markdown",
   "metadata": {},
   "source": [
    "### 표준화 전 "
   ]
  },
  {
   "cell_type": "code",
   "execution_count": 58,
   "metadata": {},
   "outputs": [
    {
     "data": {
      "text/plain": [
       "            pred\n",
       "             setosa versicolor virginica\n",
       "  setosa         15          0         0\n",
       "  versicolor      0         15         0\n",
       "  virginica       0          3        12"
      ]
     },
     "metadata": {},
     "output_type": "display_data"
    },
    {
     "data": {
      "text/html": [
       "93.33"
      ],
      "text/latex": [
       "93.33"
      ],
      "text/markdown": [
       "93.33"
      ],
      "text/plain": [
       "[1] 93.33"
      ]
     },
     "metadata": {},
     "output_type": "display_data"
    }
   ],
   "source": [
    "# 샘플 데이터 형성\n",
    "#  150 : 105 (70%) + 45 (30%)\n",
    "set.seed(1234) # 샘플값 고정\n",
    "samp <- c(sample(1:50, 35), sample(51:100, 35),sample(101:150, 35))\n",
    "\n",
    "# 학습용 검증용 데이터 분류\n",
    "# 학습용 데이터\n",
    "data.tr <- iris[samp,]\n",
    "# 검증용 데이터\n",
    "data.test <- iris[-samp,]\n",
    "\n",
    "# 학습시키기\n",
    "iris_tree <- ctree(Species ~., data = data.tr)\n",
    "\n",
    "# 예측하기\n",
    "pred <- predict(iris_tree, data.test)\n",
    "\n",
    "# 확인하기 - 정답 오답을\n",
    "table(data.test$Species, pred)\n",
    "\n",
    "# 예측률\n",
    "round(mean(data.test$Species == pred) * 100,2)"
   ]
  },
  {
   "cell_type": "markdown",
   "metadata": {},
   "source": [
    "### 표준화 후"
   ]
  },
  {
   "cell_type": "code",
   "execution_count": 59,
   "metadata": {},
   "outputs": [
    {
     "data": {
      "text/plain": [
       "            pred\n",
       "             setosa versicolor virginica\n",
       "  setosa         15          0         0\n",
       "  versicolor      0         15         0\n",
       "  virginica       0          3        12"
      ]
     },
     "metadata": {},
     "output_type": "display_data"
    },
    {
     "data": {
      "text/html": [
       "93.33"
      ],
      "text/latex": [
       "93.33"
      ],
      "text/markdown": [
       "93.33"
      ],
      "text/plain": [
       "[1] 93.33"
      ]
     },
     "metadata": {},
     "output_type": "display_data"
    }
   ],
   "source": [
    "\n",
    "# 표준화 작업 - 다중 공선성을 지키려 표준화를 시킨다\n",
    "iris.scaled <- cbind(scale(iris[-5]),iris[5])  \n",
    "\n",
    "# 샘플 데이터 형성\n",
    "#  150 : 105 (70%) + 45 (30%)\n",
    "set.seed(1234) # 샘플값 고정\n",
    "samp <- c(sample(1:50, 35), sample(51:100, 35),sample(101:150, 35))\n",
    "\n",
    "# 학습용 검증용 데이터 분류\n",
    "# 학습용 데이터\n",
    "data.tr <- iris.scaled[samp,]\n",
    "# 검증용 데이터\n",
    "data.test <- iris.scaled[-samp,]\n",
    "\n",
    "# 학습시키기\n",
    "iris_tree <- ctree(Species ~., data = data.tr)\n",
    "\n",
    "# 예측하기\n",
    "pred <- predict(iris_tree, data.test)\n",
    "\n",
    "# 확인하기 - 정답 오답을\n",
    "table(data.test$Species, pred)\n",
    "\n",
    "# 예측률\n",
    "round(mean(data.test$Species == pred) * 100,2)"
   ]
  },
  {
   "cell_type": "markdown",
   "metadata": {},
   "source": [
    "# RandomForest"
   ]
  },
  {
   "cell_type": "code",
   "execution_count": null,
   "metadata": {},
   "outputs": [],
   "source": [
    "### "
   ]
  },
  {
   "cell_type": "code",
   "execution_count": 60,
   "metadata": {},
   "outputs": [],
   "source": [
    "library(randomForest)"
   ]
  },
  {
   "cell_type": "markdown",
   "metadata": {},
   "source": [
    "### 표준화 전 "
   ]
  },
  {
   "cell_type": "code",
   "execution_count": 277,
   "metadata": {},
   "outputs": [
    {
     "data": {
      "text/plain": [
       "            pred\n",
       "             setosa versicolor virginica\n",
       "  setosa         15          0         0\n",
       "  versicolor      0         15         0\n",
       "  virginica       0          2        13"
      ]
     },
     "metadata": {},
     "output_type": "display_data"
    },
    {
     "data": {
      "text/html": [
       "95.56"
      ],
      "text/latex": [
       "95.56"
      ],
      "text/markdown": [
       "95.56"
      ],
      "text/plain": [
       "[1] 95.56"
      ]
     },
     "metadata": {},
     "output_type": "display_data"
    }
   ],
   "source": [
    "# 샘플 데이터 형성\n",
    "#  150 : 105 (70%) + 45 (30%)\n",
    "set.seed(1234) # 샘플값 고정\n",
    "samp <- c(sample(1:50, 35), sample(51:100, 35),sample(101:150, 35))\n",
    "\n",
    "# 학습용 검증용 데이터 분류\n",
    "# 학습용 데이터\n",
    "data.tr <- iris[samp,]\n",
    "# 검증용 데이터\n",
    "data.test <- iris[-samp,]\n",
    "\n",
    "# 학습시키기\n",
    "rf <- randomForest(Species ~., data = data.tr, ntree = 100)\n",
    "\n",
    "# 예측하기\n",
    "pred <- predict(rf, data.test)\n",
    "\n",
    "# 확인하기 - 정답 오답을\n",
    "table(data.test$Species, pred)\n",
    "\n",
    "# 예측률\n",
    "round(mean(data.test$Species == pred) * 100,2)"
   ]
  },
  {
   "cell_type": "markdown",
   "metadata": {},
   "source": [
    "### 표준화 후"
   ]
  },
  {
   "cell_type": "code",
   "execution_count": 293,
   "metadata": {},
   "outputs": [
    {
     "data": {
      "text/plain": [
       "            pred\n",
       "             setosa versicolor virginica\n",
       "  setosa         15          0         0\n",
       "  versicolor      0         15         0\n",
       "  virginica       0          3        12"
      ]
     },
     "metadata": {},
     "output_type": "display_data"
    },
    {
     "data": {
      "text/html": [
       "93.33"
      ],
      "text/latex": [
       "93.33"
      ],
      "text/markdown": [
       "93.33"
      ],
      "text/plain": [
       "[1] 93.33"
      ]
     },
     "metadata": {},
     "output_type": "display_data"
    }
   ],
   "source": [
    "# 표준화 작업 - 다중 공선성을 지키려 표준화를 시킨다\n",
    "iris.scaled <- cbind(scale(iris[-5]),iris[5])  \n",
    "\n",
    "# 샘플 데이터 형성\n",
    "#  150 : 105 (70%) + 45 (30%)\n",
    "set.seed(1234) # 샘플값 고정\n",
    "samp <- c(sample(1:50, 35), sample(51:100, 35),sample(101:150, 35))\n",
    "\n",
    "# 학습용 검증용 데이터 분류\n",
    "# 학습용 데이터\n",
    "data.tr <- iris.scaled[samp,]\n",
    "# 검증용 데이터\n",
    "data.test <- iris.scaled[-samp,]\n",
    "\n",
    "# 학습시키기\n",
    "rf <- randomForest(Species ~., data = data.tr, ntree = 100)\n",
    "\n",
    "# 예측하기\n",
    "pred <- predict(rf, data.test)\n",
    "\n",
    "# 확인하기 - 정답 오답을\n",
    "table(data.test$Species, pred)\n",
    "\n",
    "# 예측률\n",
    "round(mean(data.test$Species == pred) * 100,2)"
   ]
  },
  {
   "cell_type": "markdown",
   "metadata": {},
   "source": [
    "# SVM"
   ]
  },
  {
   "cell_type": "code",
   "execution_count": 63,
   "metadata": {},
   "outputs": [],
   "source": [
    "library(e1071)"
   ]
  },
  {
   "cell_type": "markdown",
   "metadata": {},
   "source": [
    "### 표준화 전 "
   ]
  },
  {
   "cell_type": "code",
   "execution_count": 64,
   "metadata": {},
   "outputs": [
    {
     "data": {
      "text/plain": [
       "            pred\n",
       "             setosa versicolor virginica\n",
       "  setosa         15          0         0\n",
       "  versicolor      0         14         1\n",
       "  virginica       0          2        13"
      ]
     },
     "metadata": {},
     "output_type": "display_data"
    },
    {
     "data": {
      "text/html": [
       "93.33"
      ],
      "text/latex": [
       "93.33"
      ],
      "text/markdown": [
       "93.33"
      ],
      "text/plain": [
       "[1] 93.33"
      ]
     },
     "metadata": {},
     "output_type": "display_data"
    }
   ],
   "source": [
    "# 샘플 데이터 형성\n",
    "#  150 : 105 (70%) + 45 (30%)\n",
    "set.seed(1234) # 샘플값 고정\n",
    "samp <- c(sample(1:50, 35), sample(51:100, 35),sample(101:150, 35))\n",
    "\n",
    "# 학습용 검증용 데이터 분류\n",
    "# 학습용 데이터\n",
    "data.train <- iris[samp,]\n",
    "# 검증용 데이터\n",
    "data.test <- iris[-samp,]\n",
    "\n",
    "# 학습시키기\n",
    "model <- svm(Species ~., data = data.train)\n",
    "\n",
    "# 예측하기\n",
    "pred <- predict(model, data.test)\n",
    "\n",
    "# 확인하기 - 정답 오답을\n",
    "table(data.test$Species, pred)\n",
    "\n",
    "# 예측률\n",
    "round(mean(data.test$Species == pred) * 100,2)"
   ]
  },
  {
   "cell_type": "markdown",
   "metadata": {},
   "source": [
    "### 표준화 후"
   ]
  },
  {
   "cell_type": "code",
   "execution_count": 65,
   "metadata": {},
   "outputs": [
    {
     "data": {
      "text/plain": [
       "            pred\n",
       "             setosa versicolor virginica\n",
       "  setosa         15          0         0\n",
       "  versicolor      0         14         1\n",
       "  virginica       0          2        13"
      ]
     },
     "metadata": {},
     "output_type": "display_data"
    },
    {
     "data": {
      "text/html": [
       "93.33"
      ],
      "text/latex": [
       "93.33"
      ],
      "text/markdown": [
       "93.33"
      ],
      "text/plain": [
       "[1] 93.33"
      ]
     },
     "metadata": {},
     "output_type": "display_data"
    }
   ],
   "source": [
    "# 표준화 작업 - 다중 공선성을 지키려 표준화를 시킨다\n",
    "iris.scaled <- cbind(scale(iris[-5]),iris[5])  \n",
    "\n",
    "# 샘플 데이터 형성\n",
    "#  150 : 105 (70%) + 45 (30%)\n",
    "set.seed(1234) # 샘플값 고정\n",
    "samp <- c(sample(1:50, 35), sample(51:100, 35),sample(101:150, 35))\n",
    "\n",
    "# 학습용 검증용 데이터 분류\n",
    "# 학습용 데이터\n",
    "data.train <- iris.scaled[samp,]\n",
    "# 검증용 데이터\n",
    "data.test <- iris.scaled[-samp,]\n",
    "\n",
    "# 학습시키기\n",
    "model <- svm(Species ~., data = data.train)\n",
    "\n",
    "# 예측하기\n",
    "pred <- predict(model, data.test)\n",
    "\n",
    "# 확인하기 - 정답 오답을\n",
    "table(data.test$Species, pred)\n",
    "\n",
    "# 예측률\n",
    "round(mean(data.test$Species == pred) * 100,2)"
   ]
  },
  {
   "cell_type": "code",
   "execution_count": null,
   "metadata": {},
   "outputs": [],
   "source": []
  }
 ],
 "metadata": {
  "kernelspec": {
   "display_name": "R",
   "language": "R",
   "name": "ir"
  },
  "language_info": {
   "codemirror_mode": "r",
   "file_extension": ".r",
   "mimetype": "text/x-r-source",
   "name": "R",
   "pygments_lexer": "r",
   "version": "3.5.1"
  }
 },
 "nbformat": 4,
 "nbformat_minor": 2
}
