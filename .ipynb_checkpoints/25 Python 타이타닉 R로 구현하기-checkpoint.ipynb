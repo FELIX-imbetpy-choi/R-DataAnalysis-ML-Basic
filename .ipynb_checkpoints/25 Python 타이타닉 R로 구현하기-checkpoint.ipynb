{
 "cells": [
  {
   "cell_type": "markdown",
   "metadata": {},
   "source": [
    "# Titanic 프로젝트\n",
    "\n",
    "< 데이터 설명 >    \n",
    "- pclass : 1, 2, 3등석 정보를 각각 1, 2, 3으로 저장    \n",
    "- survived : 생존 여부. survived(생존), dead(사망)    \n",
    "- name : 이름    \n",
    "- sex : 성별. female(여성), male(남성)    \n",
    "- age : 나이    \n",
    "- sibsp : 함께 탑승한 형제 또는 배우자의 수    \n",
    "- parch : 함께 탑승한 부모 또는 자녀의 수    \n",
    "- ticket : 티켓 번호    \n",
    "- fare : 티켓 요금     \n",
    "- cabin : 선실 번호      \n",
    "- embarked : 탑승한 곳. C(Cherbourg), Q(Queenstown), S(Southampton)    "
   ]
  },
  {
   "cell_type": "code",
   "execution_count": 19,
   "metadata": {},
   "outputs": [
    {
     "data": {
      "text/html": [
       "<table>\n",
       "<thead><tr><th scope=col>PassengerId</th><th scope=col>Survived</th><th scope=col>Pclass</th><th scope=col>Name</th><th scope=col>Sex</th><th scope=col>Age</th><th scope=col>SibSp</th><th scope=col>Parch</th><th scope=col>Ticket</th><th scope=col>Fare</th><th scope=col>Cabin</th><th scope=col>Embarked</th></tr></thead>\n",
       "<tbody>\n",
       "\t<tr><td>1                                                  </td><td>0                                                  </td><td>3                                                  </td><td>Braund, Mr. Owen Harris                            </td><td>male                                               </td><td>22                                                 </td><td>1                                                  </td><td>0                                                  </td><td>A/5 21171                                          </td><td> 7.2500                                            </td><td>                                                   </td><td>S                                                  </td></tr>\n",
       "\t<tr><td>2                                                  </td><td>1                                                  </td><td>1                                                  </td><td>Cumings, Mrs. John Bradley (Florence Briggs Thayer)</td><td>female                                             </td><td>38                                                 </td><td>1                                                  </td><td>0                                                  </td><td>PC 17599                                           </td><td>71.2833                                            </td><td>C85                                                </td><td>C                                                  </td></tr>\n",
       "\t<tr><td>3                                                  </td><td>1                                                  </td><td>3                                                  </td><td>Heikkinen, Miss. Laina                             </td><td>female                                             </td><td>26                                                 </td><td>0                                                  </td><td>0                                                  </td><td>STON/O2. 3101282                                   </td><td> 7.9250                                            </td><td>                                                   </td><td>S                                                  </td></tr>\n",
       "\t<tr><td>4                                                  </td><td>1                                                  </td><td>1                                                  </td><td>Futrelle, Mrs. Jacques Heath (Lily May Peel)       </td><td>female                                             </td><td>35                                                 </td><td>1                                                  </td><td>0                                                  </td><td>113803                                             </td><td>53.1000                                            </td><td>C123                                               </td><td>S                                                  </td></tr>\n",
       "\t<tr><td>5                                                  </td><td>0                                                  </td><td>3                                                  </td><td>Allen, Mr. William Henry                           </td><td>male                                               </td><td>35                                                 </td><td>0                                                  </td><td>0                                                  </td><td>373450                                             </td><td> 8.0500                                            </td><td>                                                   </td><td>S                                                  </td></tr>\n",
       "\t<tr><td>6                                                  </td><td>0                                                  </td><td>3                                                  </td><td>Moran, Mr. James                                   </td><td>male                                               </td><td>NA                                                 </td><td>0                                                  </td><td>0                                                  </td><td>330877                                             </td><td> 8.4583                                            </td><td>                                                   </td><td>Q                                                  </td></tr>\n",
       "</tbody>\n",
       "</table>\n"
      ],
      "text/latex": [
       "\\begin{tabular}{r|llllllllllll}\n",
       " PassengerId & Survived & Pclass & Name & Sex & Age & SibSp & Parch & Ticket & Fare & Cabin & Embarked\\\\\n",
       "\\hline\n",
       "\t 1                                                   & 0                                                   & 3                                                   & Braund, Mr. Owen Harris                             & male                                                & 22                                                  & 1                                                   & 0                                                   & A/5 21171                                           &  7.2500                                             &                                                     & S                                                  \\\\\n",
       "\t 2                                                   & 1                                                   & 1                                                   & Cumings, Mrs. John Bradley (Florence Briggs Thayer) & female                                              & 38                                                  & 1                                                   & 0                                                   & PC 17599                                            & 71.2833                                             & C85                                                 & C                                                  \\\\\n",
       "\t 3                                                   & 1                                                   & 3                                                   & Heikkinen, Miss. Laina                              & female                                              & 26                                                  & 0                                                   & 0                                                   & STON/O2. 3101282                                    &  7.9250                                             &                                                     & S                                                  \\\\\n",
       "\t 4                                                   & 1                                                   & 1                                                   & Futrelle, Mrs. Jacques Heath (Lily May Peel)        & female                                              & 35                                                  & 1                                                   & 0                                                   & 113803                                              & 53.1000                                             & C123                                                & S                                                  \\\\\n",
       "\t 5                                                   & 0                                                   & 3                                                   & Allen, Mr. William Henry                            & male                                                & 35                                                  & 0                                                   & 0                                                   & 373450                                              &  8.0500                                             &                                                     & S                                                  \\\\\n",
       "\t 6                                                   & 0                                                   & 3                                                   & Moran, Mr. James                                    & male                                                & NA                                                  & 0                                                   & 0                                                   & 330877                                              &  8.4583                                             &                                                     & Q                                                  \\\\\n",
       "\\end{tabular}\n"
      ],
      "text/markdown": [
       "\n",
       "PassengerId | Survived | Pclass | Name | Sex | Age | SibSp | Parch | Ticket | Fare | Cabin | Embarked | \n",
       "|---|---|---|---|---|---|\n",
       "| 1                                                   | 0                                                   | 3                                                   | Braund, Mr. Owen Harris                             | male                                                | 22                                                  | 1                                                   | 0                                                   | A/5 21171                                           |  7.2500                                             |                                                     | S                                                   | \n",
       "| 2                                                   | 1                                                   | 1                                                   | Cumings, Mrs. John Bradley (Florence Briggs Thayer) | female                                              | 38                                                  | 1                                                   | 0                                                   | PC 17599                                            | 71.2833                                             | C85                                                 | C                                                   | \n",
       "| 3                                                   | 1                                                   | 3                                                   | Heikkinen, Miss. Laina                              | female                                              | 26                                                  | 0                                                   | 0                                                   | STON/O2. 3101282                                    |  7.9250                                             |                                                     | S                                                   | \n",
       "| 4                                                   | 1                                                   | 1                                                   | Futrelle, Mrs. Jacques Heath (Lily May Peel)        | female                                              | 35                                                  | 1                                                   | 0                                                   | 113803                                              | 53.1000                                             | C123                                                | S                                                   | \n",
       "| 5                                                   | 0                                                   | 3                                                   | Allen, Mr. William Henry                            | male                                                | 35                                                  | 0                                                   | 0                                                   | 373450                                              |  8.0500                                             |                                                     | S                                                   | \n",
       "| 6                                                   | 0                                                   | 3                                                   | Moran, Mr. James                                    | male                                                | NA                                                  | 0                                                   | 0                                                   | 330877                                              |  8.4583                                             |                                                     | Q                                                   | \n",
       "\n",
       "\n"
      ],
      "text/plain": [
       "  PassengerId Survived Pclass\n",
       "1 1           0        3     \n",
       "2 2           1        1     \n",
       "3 3           1        3     \n",
       "4 4           1        1     \n",
       "5 5           0        3     \n",
       "6 6           0        3     \n",
       "  Name                                                Sex    Age SibSp Parch\n",
       "1 Braund, Mr. Owen Harris                             male   22  1     0    \n",
       "2 Cumings, Mrs. John Bradley (Florence Briggs Thayer) female 38  1     0    \n",
       "3 Heikkinen, Miss. Laina                              female 26  0     0    \n",
       "4 Futrelle, Mrs. Jacques Heath (Lily May Peel)        female 35  1     0    \n",
       "5 Allen, Mr. William Henry                            male   35  0     0    \n",
       "6 Moran, Mr. James                                    male   NA  0     0    \n",
       "  Ticket           Fare    Cabin Embarked\n",
       "1 A/5 21171         7.2500       S       \n",
       "2 PC 17599         71.2833 C85   C       \n",
       "3 STON/O2. 3101282  7.9250       S       \n",
       "4 113803           53.1000 C123  S       \n",
       "5 373450            8.0500       S       \n",
       "6 330877            8.4583       Q       "
      ]
     },
     "metadata": {},
     "output_type": "display_data"
    }
   ],
   "source": [
    "to_make_each_day_count <- read.csv('../Data/train.csv')\n",
    "head(to_make_each_day_count)\n",
    "\n",
    "\n",
    "\n"
   ]
  },
  {
   "cell_type": "markdown",
   "metadata": {},
   "source": [
    "# 시각화를 통한 현황분석"
   ]
  },
  {
   "cell_type": "markdown",
   "metadata": {},
   "source": [
    "현황분석을 통하여 Titanic 데이터에 대해서 이해 해보자.\n",
    "\n",
    "먼저 탑승객들의 사망과 생존률을 시각화 하여 확인하기."
   ]
  },
  {
   "cell_type": "code",
   "execution_count": 20,
   "metadata": {},
   "outputs": [],
   "source": [
    "liveandead <- data.frame(사망 = sum(to_make_each_day_count[,2] == 0), 생존 = sum(to_make_each_day_count[,2] == 1))\n",
    "\n",
    "\n",
    "\n"
   ]
  },
  {
   "cell_type": "code",
   "execution_count": 21,
   "metadata": {},
   "outputs": [
    {
     "data": {
      "image/png": "[encoded data removed]",
      "text/plain": [
       "Plot with title “Survived”"
      ]
     },
     "metadata": {},
     "output_type": "display_data"
    }
   ],
   "source": [
    "# 라이브러리 호출\n",
    "library(plotrix)\n",
    "# 시각화 틀 지정\n",
    "par(mfrow = c(1,2)) \n",
    "\n",
    "# 생존과 사망의 비율 구하기 (사망자,생존자 / 전체 수)\n",
    "live <- round(as.numeric(liveandead[1] / sum(liveandead)),2)\n",
    "dead <- round(as.numeric(liveandead[2] / sum(liveandead)),2)\n",
    "\n",
    "# 사망 생존 라벨 생성\n",
    "lorde <- c('사망','생존')\n",
    "ratio <- c(live,dead) # 몇퍼센트인지 숫자 보여주기위해 만들었음\n",
    "label <- paste(lorde,'\\n',ratio,'%')\n",
    "\n",
    "\n",
    "# 시각화1\n",
    "pie(as.matrix(liveandead), \n",
    "   init.angle=90, # 시작각도를 90에서 시작\n",
    "   col = c(\"red\",\"sky blue\"),\n",
    "    main = \"Survived\",\n",
    "    labels = label\n",
    "   )\n",
    "\n",
    "text(4,40, \"This is a 샘플\",srt = 50)\n",
    "\n",
    "# 시각화2\n",
    "barplot(t(as.matrix(liveandead)),\n",
    "       legend.text = T,\n",
    "        col = c(\"red\",\"sky blue\"),\n",
    "        main = \"Survived\",\n",
    "        beside = T,\n",
    "        xlab = \"survived\",\n",
    "        ylab = \"count\"\n",
    "       )\n",
    "\n",
    "\n",
    "\n",
    "\n",
    "\n",
    "\n",
    "\n",
    "\n",
    "\n",
    "\n",
    "\n",
    "\n",
    "\n",
    "\n",
    "\n"
   ]
  },
  {
   "cell_type": "markdown",
   "metadata": {},
   "source": [
    "탑승객의 60% 이상은 사망했다.    \n",
    "Q 그렇다면 남녀별 생존비율은 어떨까?"
   ]
  },
  {
   "cell_type": "markdown",
   "metadata": {},
   "source": [
    "--------------------\n",
    "# 남녀의 생존비율 확인"
   ]
  },
  {
   "cell_type": "code",
   "execution_count": 22,
   "metadata": {},
   "outputs": [
    {
     "data": {
      "text/html": [
       "<span style=white-space:pre-wrap>'Female Counts :  314'</span>"
      ],
      "text/latex": [
       "'Female Counts :  314'"
      ],
      "text/markdown": [
       "<span style=white-space:pre-wrap>'Female Counts :  314'</span>"
      ],
      "text/plain": [
       "[1] \"Female Counts :  314\""
      ]
     },
     "metadata": {},
     "output_type": "display_data"
    },
    {
     "data": {
      "text/html": [
       "<span style=white-space:pre-wrap>'male Counts :  577'</span>"
      ],
      "text/latex": [
       "'male Counts :  577'"
      ],
      "text/markdown": [
       "<span style=white-space:pre-wrap>'male Counts :  577'</span>"
      ],
      "text/plain": [
       "[1] \"male Counts :  577\""
      ]
     },
     "metadata": {},
     "output_type": "display_data"
    }
   ],
   "source": [
    "# 여성과 남성의 전체 인원\n",
    "femalecount <- sum(to_make_each_day_count[,5] == \"female\")\n",
    "malecount <- sum(to_make_each_day_count[,5] == \"male\")\n",
    "paste(\"Female Counts : \",femalecount)\n",
    "paste(\"male Counts : \",malecount)\n",
    "\n",
    "\n",
    "\n"
   ]
  },
  {
   "cell_type": "code",
   "execution_count": 23,
   "metadata": {},
   "outputs": [
    {
     "data": {
      "text/html": [
       "<span style=white-space:pre-wrap>'maleSurvival :  109'</span>"
      ],
      "text/latex": [
       "'maleSurvival :  109'"
      ],
      "text/markdown": [
       "<span style=white-space:pre-wrap>'maleSurvival :  109'</span>"
      ],
      "text/plain": [
       "[1] \"maleSurvival :  109\""
      ]
     },
     "metadata": {},
     "output_type": "display_data"
    },
    {
     "data": {
      "text/html": [
       "<span style=white-space:pre-wrap>'maleDeath :  468'</span>"
      ],
      "text/latex": [
       "'maleDeath :  468'"
      ],
      "text/markdown": [
       "<span style=white-space:pre-wrap>'maleDeath :  468'</span>"
      ],
      "text/plain": [
       "[1] \"maleDeath :  468\""
      ]
     },
     "metadata": {},
     "output_type": "display_data"
    }
   ],
   "source": [
    "# 남성의 생존과 사망인원\n",
    "maleSurvival <- sum(to_make_each_day_count[,5]== \"male\" & to_make_each_day_count[,2] == 1)\n",
    "maleDeath <- sum(to_make_each_day_count[,5]== \"male\" & to_make_each_day_count[,2] == 0)\n",
    "\n",
    "paste(\"maleSurvival : \",maleSurvival)\n",
    "paste(\"maleDeath : \",maleDeath)\n",
    "\n",
    "\n",
    "\n",
    "\n",
    "\n",
    "\n",
    "\n"
   ]
  },
  {
   "cell_type": "code",
   "execution_count": 24,
   "metadata": {},
   "outputs": [
    {
     "data": {
      "text/html": [
       "<span style=white-space:pre-wrap>'femaleSurvival :  233'</span>"
      ],
      "text/latex": [
       "'femaleSurvival :  233'"
      ],
      "text/markdown": [
       "<span style=white-space:pre-wrap>'femaleSurvival :  233'</span>"
      ],
      "text/plain": [
       "[1] \"femaleSurvival :  233\""
      ]
     },
     "metadata": {},
     "output_type": "display_data"
    },
    {
     "data": {
      "text/html": [
       "<span style=white-space:pre-wrap>'femaleDeath :  81'</span>"
      ],
      "text/latex": [
       "'femaleDeath :  81'"
      ],
      "text/markdown": [
       "<span style=white-space:pre-wrap>'femaleDeath :  81'</span>"
      ],
      "text/plain": [
       "[1] \"femaleDeath :  81\""
      ]
     },
     "metadata": {},
     "output_type": "display_data"
    }
   ],
   "source": [
    "# 여성의 생존과 사망인원\n",
    "femaleSurvival <- sum(to_make_each_day_count[,5]==\"female\" &to_make_each_day_count[,2] == 1)\n",
    "femaleDeath <- sum(to_make_each_day_count[,5]==\"female\" &to_make_each_day_count[,2] == 0)\n",
    "\n",
    "paste(\"femaleSurvival : \",femaleSurvival)\n",
    "paste(\"femaleDeath : \",femaleDeath)\n",
    "\n",
    "\n",
    "\n",
    "\n",
    "\n",
    "\n",
    "\n"
   ]
  },
  {
   "cell_type": "code",
   "execution_count": 25,
   "metadata": {},
   "outputs": [
    {
     "data": {
      "text/html": [
       "<span style=white-space:pre-wrap>'Female Survival Ratio :  74.2038216560509'</span>"
      ],
      "text/latex": [
       "'Female Survival Ratio :  74.2038216560509'"
      ],
      "text/markdown": [
       "<span style=white-space:pre-wrap>'Female Survival Ratio :  74.2038216560509'</span>"
      ],
      "text/plain": [
       "[1] \"Female Survival Ratio :  74.2038216560509\""
      ]
     },
     "metadata": {},
     "output_type": "display_data"
    },
    {
     "data": {
      "text/html": [
       "<span style=white-space:pre-wrap>'Female Death Ratio :  25.796178343949'</span>"
      ],
      "text/latex": [
       "'Female Death Ratio :  25.796178343949'"
      ],
      "text/markdown": [
       "<span style=white-space:pre-wrap>'Female Death Ratio :  25.796178343949'</span>"
      ],
      "text/plain": [
       "[1] \"Female Death Ratio :  25.796178343949\""
      ]
     },
     "metadata": {},
     "output_type": "display_data"
    }
   ],
   "source": [
    "# 여성의 생존율과 사망율\n",
    "paste(\"Female Survival Ratio : \",femaleSurvival / femalecount * 100)\n",
    "paste(\"Female Death Ratio : \",femaleDeath / femalecount * 100)\n",
    "\n",
    "\n",
    "\n"
   ]
  },
  {
   "cell_type": "code",
   "execution_count": 26,
   "metadata": {},
   "outputs": [
    {
     "data": {
      "text/html": [
       "<span style=white-space:pre-wrap>'male Survival Ratio :  18.8908145580589'</span>"
      ],
      "text/latex": [
       "'male Survival Ratio :  18.8908145580589'"
      ],
      "text/markdown": [
       "<span style=white-space:pre-wrap>'male Survival Ratio :  18.8908145580589'</span>"
      ],
      "text/plain": [
       "[1] \"male Survival Ratio :  18.8908145580589\""
      ]
     },
     "metadata": {},
     "output_type": "display_data"
    },
    {
     "data": {
      "text/html": [
       "<span style=white-space:pre-wrap>'male Death Ratio :  81.1091854419411'</span>"
      ],
      "text/latex": [
       "'male Death Ratio :  81.1091854419411'"
      ],
      "text/markdown": [
       "<span style=white-space:pre-wrap>'male Death Ratio :  81.1091854419411'</span>"
      ],
      "text/plain": [
       "[1] \"male Death Ratio :  81.1091854419411\""
      ]
     },
     "metadata": {},
     "output_type": "display_data"
    }
   ],
   "source": [
    "# 남성의 생존율과 사망율\n",
    "paste(\"male Survival Ratio : \",maleSurvival / malecount * 100)\n",
    "paste(\"male Death Ratio : \",maleDeath / malecount * 100)\n",
    "\n",
    "\n",
    "\n"
   ]
  },
  {
   "cell_type": "code",
   "execution_count": 27,
   "metadata": {},
   "outputs": [
    {
     "data": {
      "image/png": "[encoded data removed]",
      "text/plain": [
       "Plot with title “여자 생존 비율”"
      ]
     },
     "metadata": {},
     "output_type": "display_data"
    },
    {
     "data": {
      "image/png": "[encoded data removed]",
      "text/plain": [
       "Plot with title “성별구분”"
      ]
     },
     "metadata": {},
     "output_type": "display_data"
    }
   ],
   "source": [
    "# 라이브러리 호출\n",
    "library(plotrix)\n",
    "# 시각화 틀 생성\n",
    "par(mfrow = c(1,2)) \n",
    "\n",
    "# 파이차트에 사용할 라벨 생성\n",
    "live <- round(maleSurvival / malecount * 100,2)\n",
    "dead <- round(maleDeath / malecount * 100,2)\n",
    "lorde <- c('생존','사망')\n",
    "ratio <- c(live,dead) # 몇퍼센트인지 숫자 보여주기위해 만들었음\n",
    "mlabel <- paste(lorde,'\\n',ratio,'%')\n",
    "\n",
    "live <- round(femaleSurvival / femalecount * 100,2)\n",
    "dead <- round(femaleDeath / femalecount * 100,2)\n",
    "lorde <- c('생존','사망')\n",
    "ratio <- c(live,dead) # 몇퍼센트인지 숫자 보여주기위해 만들었음\n",
    "flabel <- paste(lorde,'\\n',ratio,'%')\n",
    "\n",
    "\n",
    "# 시각화1\n",
    "pie(c(maleSurvival / malecount * 100, \n",
    "      maleDeath / malecount * 100), \n",
    "   init.angle=10, # 시작각도를 90에서 시작\n",
    "    main = \"남자 생존 비율\",\n",
    "    labels = mlabel,\n",
    "     col = c(\"blue\",\"deeppink\"),\n",
    "   )\n",
    "\n",
    "# 시각화2\n",
    "pie(c(femaleSurvival / femalecount * 100,\n",
    "      femaleDeath / femalecount * 100),\n",
    "    init.angle=90, # 시작각도를 90에서 시작\n",
    "   col = c(\"deeppink\",\"blue\"),\n",
    "    main = \"여자 생존 비율\",\n",
    "    labels = flabel\n",
    "   )\n",
    "\n",
    "# 시각화 틀 생성\n",
    "par(mfrow = c(1,1)) \n",
    "barplot(t(as.matrix(data.frame(남성 = sum(to_make_each_day_count[,5] == \"male\"), 여성 = sum(to_make_each_day_count[,5] == \"female\")))),\n",
    "       legend.text = T,\n",
    "        col = c(\"sky blue\",\"pink\"),\n",
    "        main = \"성별구분\",\n",
    "        beside = T,\n",
    "        xlab = \"sex\",\n",
    "        ylab = \"count\",\n",
    "       )\n",
    "\n",
    "\n",
    "\n",
    "\n",
    "\n",
    "\n",
    "\n",
    "\n",
    "\n",
    "\n",
    "\n",
    "\n",
    "\n",
    "\n",
    "\n",
    "\n",
    "\n",
    "\n",
    "\n"
   ]
  },
  {
   "cell_type": "code",
   "execution_count": 65,
   "metadata": {},
   "outputs": [
    {
     "data": {
      "text/plain": [
       "          \n",
       "             1   2   3\n",
       "  female 0   3   6  72\n",
       "  female 1  91  70  72\n",
       "  male 0    77  91 300\n",
       "  male 1    45  17  47"
      ]
     },
     "metadata": {},
     "output_type": "display_data"
    },
    {
     "data": {
      "text/html": [
       "891"
      ],
      "text/latex": [
       "891"
      ],
      "text/markdown": [
       "891"
      ],
      "text/plain": [
       "[1] 891"
      ]
     },
     "metadata": {},
     "output_type": "display_data"
    },
    {
     "data": {
      "text/html": [
       "<table>\n",
       "<thead><tr><th></th><th scope=col>1</th><th scope=col>2</th><th scope=col>3</th><th scope=col>apply1</th></tr></thead>\n",
       "<tbody>\n",
       "\t<tr><th scope=row>female 0</th><td>  3</td><td>  6</td><td> 72</td><td> 81</td></tr>\n",
       "\t<tr><th scope=row>female 1</th><td> 91</td><td> 70</td><td> 72</td><td>233</td></tr>\n",
       "\t<tr><th scope=row>male 0</th><td> 77</td><td> 91</td><td>300</td><td>468</td></tr>\n",
       "\t<tr><th scope=row>male 1</th><td> 45</td><td> 17</td><td> 47</td><td>109</td></tr>\n",
       "\t<tr><th scope=row>apply2</th><td>216</td><td>184</td><td>491</td><td>891</td></tr>\n",
       "</tbody>\n",
       "</table>\n"
      ],
      "text/latex": [
       "\\begin{tabular}{r|llll}\n",
       "  & 1 & 2 & 3 & apply1\\\\\n",
       "\\hline\n",
       "\tfemale 0 &   3 &   6 &  72 &  81\\\\\n",
       "\tfemale 1 &  91 &  70 &  72 & 233\\\\\n",
       "\tmale 0 &  77 &  91 & 300 & 468\\\\\n",
       "\tmale 1 &  45 &  17 &  47 & 109\\\\\n",
       "\tapply2 & 216 & 184 & 491 & 891\\\\\n",
       "\\end{tabular}\n"
      ],
      "text/markdown": [
       "\n",
       "| <!--/--> | 1 | 2 | 3 | apply1 | \n",
       "|---|---|---|---|---|\n",
       "| female 0 |   3 |   6 |  72 |  81 | \n",
       "| female 1 |  91 |  70 |  72 | 233 | \n",
       "| male 0 |  77 |  91 | 300 | 468 | \n",
       "| male 1 |  45 |  17 |  47 | 109 | \n",
       "| apply2 | 216 | 184 | 491 | 891 | \n",
       "\n",
       "\n"
      ],
      "text/plain": [
       "         1   2   3   apply1\n",
       "female 0   3   6  72  81   \n",
       "female 1  91  70  72 233   \n",
       "male 0    77  91 300 468   \n",
       "male 1    45  17  47 109   \n",
       "apply2   216 184 491 891   "
      ]
     },
     "metadata": {},
     "output_type": "display_data"
    }
   ],
   "source": [
    "# 객실 등급별 남녀 생존수 ??? R 에서 cross table 사용하기\n",
    "\n",
    "\n",
    "table(paste(to_make_each_day_count$Sex,to_make_each_day_count$Survived), to_make_each_day_count$Pclass)\n",
    "\n",
    "tableis <- table(paste(to_make_each_day_count$Sex,to_make_each_day_count$Survived), to_make_each_day_count$Pclass)\n",
    "apply1 <- apply(table(paste(to_make_each_day_count$Sex,to_make_each_day_count$Survived), to_make_each_day_count$Pclass),1,sum)\n",
    "apply2 <- c(apply(table(paste(to_make_each_day_count$Sex,to_make_each_day_count$Survived), to_make_each_day_count$Pclass),2,sum), sum(apply1))\n",
    "\n",
    "sum(apply1)\n",
    "\n",
    "rbind(cbind(tableis, apply1),apply2)\n",
    "\n",
    "\n",
    "\n",
    "\n",
    "\n",
    "\n",
    "\n"
   ]
  },
  {
   "cell_type": "code",
   "execution_count": null,
   "metadata": {},
   "outputs": [],
   "source": [
    "to_make_each_day_count$Survived, to_make_each_day_count$Pclass\n",
    "\n",
    "\n",
    "\n"
   ]
  },
  {
   "cell_type": "markdown",
   "metadata": {},
   "source": [
    "# 항구위치와 생존과의 연관성"
   ]
  },
  {
   "cell_type": "code",
   "execution_count": 26,
   "metadata": {},
   "outputs": [
    {
     "data": {
      "image/png": "[encoded data removed]",
      "text/plain": [
       "Plot with title “항구별 객실등급별 인원”"
      ]
     },
     "metadata": {},
     "output_type": "display_data"
    }
   ],
   "source": [
    "# Embarked(항국의 위치)와의 연관성 확인\n",
    "par(mfrow = c(2,2)) \n",
    "hangu <- data.frame(S = sum(to_make_each_day_count[,12] == \"S\"), \n",
    "                         C = sum(to_make_each_day_count[,12] == \"C\"),\n",
    "                         Q = sum(to_make_each_day_count[,12] == \"Q\"))\n",
    "\n",
    "# 항구별 탑승인원\n",
    "barplot(t(as.matrix(hangu)),\n",
    "       legend.text = T,\n",
    "        col = c(\"blue\",\"yellow\",\"green\"),\n",
    "        main = \"항구별 탑승인원\",\n",
    "        beside = T,\n",
    "        xlab = \"count\",\n",
    "        ylab = \"Embarked\"\n",
    "       )\n",
    "#-------------------------------------------------------------------\n",
    "\n",
    "#항구별 성별 탑승인원\n",
    "liveandead <- data.frame(S = sum(to_make_each_day_count[,12] == \"S\"&to_make_each_day_count[,5] == \"male\"), \n",
    "                         C = sum(to_make_each_day_count[,12] == \"C\"&to_make_each_day_count[,5] == \"male\"),\n",
    "                         Q = sum(to_make_each_day_count[,12] == \"Q\"&to_make_each_day_count[,5] == \"male\"))\n",
    "\n",
    "liveandead2 <- data.frame(S = sum(to_make_each_day_count[,12] == \"S\"&to_make_each_day_count[,5] == \"female\"), \n",
    "                         C = sum(to_make_each_day_count[,12] == \"C\"&to_make_each_day_count[,5] == \"female\"),\n",
    "                         Q = sum(to_make_each_day_count[,12] == \"Q\"&to_make_each_day_count[,5] == \"female\"))\n",
    "hangu_sex <- rbind(liveandead,liveandead2)\n",
    "\n",
    "row.names(hangu_sex) <- c(\"male\",\"female\")\n",
    "\n",
    "barplot(as.matrix(hangu_sex),\n",
    "       legend.text = T,\n",
    "        col = c(\"blue\",\"yellow\"),\n",
    "        main = \"항구별 성별 탑승인원\",\n",
    "        beside = T,\n",
    "        xlab = \"count\",\n",
    "        ylab = \"Embarked\"\n",
    "       )\n",
    "\n",
    "#-------------------------------------------------------------------\n",
    "\n",
    "# 항구별 생존인원\n",
    "liveandead <- data.frame(S = sum(to_make_each_day_count[,12] == \"S\"&to_make_each_day_count[,2] == 0), \n",
    "                         C = sum(to_make_each_day_count[,12] == \"C\"&to_make_each_day_count[,2] == 0),\n",
    "                         Q = sum(to_make_each_day_count[,12] == \"Q\"&to_make_each_day_count[,2] == 0))\n",
    "\n",
    "liveandead2 <- data.frame(S = sum(to_make_each_day_count[,12] == \"S\"&to_make_each_day_count[,2] == 1), \n",
    "                         C = sum(to_make_each_day_count[,12] == \"C\"&to_make_each_day_count[,2] == 1),\n",
    "                         Q = sum(to_make_each_day_count[,12] == \"Q\"&to_make_each_day_count[,2] == 1))\n",
    "hangu_live <- rbind(liveandead,liveandead2)\n",
    "\n",
    "row.names(hangu_live) <- c(\"0\",\"1\")\n",
    "\n",
    "barplot(as.matrix(hangu_live),\n",
    "       legend.text = T,\n",
    "        col = c(\"blue\",\"yellow\"),\n",
    "        main = \"항구별 생존 인원\",\n",
    "        beside = T,\n",
    "        xlab = \"count\",\n",
    "        ylab = \"Embarked\"\n",
    "       )\n",
    "\n",
    "#-------------------------------------------------------------------\n",
    "\n",
    "# 항구별 객실등급\n",
    "liveandead <- data.frame(S = sum(to_make_each_day_count[,12] == \"S\"&to_make_each_day_count[,3] == 1), \n",
    "                         C = sum(to_make_each_day_count[,12] == \"C\"&to_make_each_day_count[,3] == 1),\n",
    "                         Q = sum(to_make_each_day_count[,12] == \"Q\"&to_make_each_day_count[,3] == 1))\n",
    "\n",
    "liveandead2 <- data.frame(S = sum(to_make_each_day_count[,12] == \"S\"&to_make_each_day_count[,3] == 2), \n",
    "                         C = sum(to_make_each_day_count[,12] == \"C\"&to_make_each_day_count[,3] == 2),\n",
    "                         Q = sum(to_make_each_day_count[,12] == \"Q\"&to_make_each_day_count[,3] == 2))\n",
    "\n",
    "liveandead3 <- data.frame(S = sum(to_make_each_day_count[,12] == \"S\"&to_make_each_day_count[,3] == 3), \n",
    "                         C = sum(to_make_each_day_count[,12] == \"C\"&to_make_each_day_count[,3] == 3),\n",
    "                         Q = sum(to_make_each_day_count[,12] == \"Q\"&to_make_each_day_count[,3] == 3))\n",
    "\n",
    "hangu_live <- rbind(liveandead,liveandead2)\n",
    "hangu_live <- rbind(hangu_live,liveandead3)\n",
    "\n",
    "row.names(hangu_live) <- c(\"1\",\"2\",\"3\")\n",
    "\n",
    "barplot(as.matrix(hangu_live),\n",
    "       legend.text = T,\n",
    "        col = c(\"blue\",\"yellow\",\"green\"),\n",
    "        main = \"항구별 객실등급별 인원\",\n",
    "        beside = T,\n",
    "        xlab = \"count\",\n",
    "        ylab = \"Embarked\"\n",
    "       )\n",
    "\n",
    "\n",
    "\n",
    "\n",
    "\n",
    "\n",
    "\n",
    "\n",
    "\n",
    "\n",
    "\n",
    "\n",
    "\n",
    "\n",
    "\n"
   ]
  },
  {
   "cell_type": "markdown",
   "metadata": {},
   "source": [
    "절반 이상의 승객이 southampton에서 배를 탔으며   \n",
    "여기에서 탑승한 승객의 70퍼센트가 남성이었으며   \n",
    "남성의 사망율이 여성보다 훨씬 높았으므로 southampton의 사망률이 높게 나왔다.   \n",
    "southampton에서 탑승한 승객의 60퍼센트 이상이 3등급 객실을 사용했다.   \n",
    "cherbourg(짤츠부르크)에서 탑승한 승객들은 1등 객실 승객의 비중 및 생존율이 높은것으로 보아    \n",
    "이 동네는 부자 동네이다.   "
   ]
  },
  {
   "cell_type": "code",
   "execution_count": 27,
   "metadata": {},
   "outputs": [
    {
     "ename": "ERROR",
     "evalue": "Error in is.data.frame(y): object 'to_make_each_day' not found\n",
     "output_type": "error",
     "traceback": [
      "Error in is.data.frame(y): object 'to_make_each_day' not found\nTraceback:\n",
      "1. cor(to_make_each_day[, 2], to_make_each_day[, 3])",
      "2. is.data.frame(y)"
     ]
    }
   ],
   "source": [
    "# 생존과 티켓 등급의 상관계수\n",
    "cor(to_make_each_day[,2],to_make_each_day[,3])\n",
    "\n",
    "\n",
    "\n"
   ]
  },
  {
   "cell_type": "markdown",
   "metadata": {},
   "source": [
    "# 성별, 티켓등급, 탑승항구의 데이터를 이용한\n",
    "# 타이타닉 데이터를 활용하여 생존자의 생존여부 예측"
   ]
  },
  {
   "cell_type": "markdown",
   "metadata": {},
   "source": [
    "# 결과 도출을 위한 전처리(Preprocessing)\n",
    "성별, 객실등급, 탑승항구의 3가지 정보로 생존률을 비교하는 로직을 구성   \n",
    "대부분의 분석 시간중 전처리 과정이 80% 이상의 시간이 소요   \n",
    "위의 데이터 분석결과를 보면 여성+1등급 = 생존 이라는 예측이 가능.    \n",
    "위읭 성별, 객실등급, 탑승항구의 정보를 사용하여 예측을 할 경우    \n",
    "각 항목의 데이터 값이 있어야 합니다.   \n",
    "따라서 분석전에 각 항목의 데이터가 모두 채워졌는지를 확인하며   \n",
    "데이터가 비어 있는 경우 이를 해결하는 과정이 전처리 과정입니다.   \n",
    "예측을 위한 머신러닝을 사용할 경우 모든 데이터가 숫자로 변경되어 있어야 합니다.   "
   ]
  },
  {
   "cell_type": "code",
   "execution_count": 28,
   "metadata": {},
   "outputs": [
    {
     "data": {
      "text/html": [
       "2"
      ],
      "text/latex": [
       "2"
      ],
      "text/markdown": [
       "2"
      ],
      "text/plain": [
       "[1] 2"
      ]
     },
     "metadata": {},
     "output_type": "display_data"
    }
   ],
   "source": [
    "# 결측치 확인\n",
    "# 각 칼럼의 결측치 합계를 출력\n",
    "sum(to_make_each_day_count[,12]==\"\")\n",
    "\n",
    "\n",
    "\n"
   ]
  },
  {
   "cell_type": "markdown",
   "metadata": {},
   "source": [
    "사용할 정보 중 Embarked 항목에 2개의 결측치가 있다는 것을 확인   \n",
    "결측치를 사용할 경우에는 회귀분석이나 기본 통계량으로 처리하는 방법등 여러가지가 있지만    \n",
    "Embarked중 S에서 탑승한 인원이 제일 많으므로 이 결측값을 S로 대체한다."
   ]
  },
  {
   "cell_type": "code",
   "execution_count": 29,
   "metadata": {},
   "outputs": [],
   "source": [
    "to_make_each_day_count[to_make_each_day_count[,12]==\"\",12] <- \"S\"\n",
    "\n",
    "\n",
    "\n"
   ]
  },
  {
   "cell_type": "code",
   "execution_count": 30,
   "metadata": {},
   "outputs": [
    {
     "data": {
      "text/html": [
       "0"
      ],
      "text/latex": [
       "0"
      ],
      "text/markdown": [
       "0"
      ],
      "text/plain": [
       "[1] 0"
      ]
     },
     "metadata": {},
     "output_type": "display_data"
    }
   ],
   "source": [
    "sum(to_make_each_day_count[,12]==\"\")\n",
    "\n",
    "\n",
    "\n"
   ]
  },
  {
   "cell_type": "code",
   "execution_count": 55,
   "metadata": {},
   "outputs": [
    {
     "name": "stdout",
     "output_type": "stream",
     "text": [
      "'data.frame':\t891 obs. of  12 variables:\n",
      " $ PassengerId: int  1 2 3 4 5 6 7 8 9 10 ...\n",
      " $ Survived   : int  0 1 1 1 0 0 0 0 1 1 ...\n",
      " $ Pclass     : int  3 1 3 1 3 3 1 3 3 2 ...\n",
      " $ Name       : Factor w/ 891 levels \"Abbing, Mr. Anthony\",..: 109 191 358 277 16 559 520 629 417 581 ...\n",
      " $ Sex        : Factor w/ 2 levels \"female\",\"male\": 2 1 1 1 2 2 2 2 1 1 ...\n",
      " $ Age        : num  22 38 26 35 35 NA 54 2 27 14 ...\n",
      " $ SibSp      : int  1 1 0 1 0 0 0 3 0 1 ...\n",
      " $ Parch      : int  0 0 0 0 0 0 0 1 2 0 ...\n",
      " $ Ticket     : Factor w/ 681 levels \"110152\",\"110413\",..: 524 597 670 50 473 276 86 396 345 133 ...\n",
      " $ Fare       : num  7.25 71.28 7.92 53.1 8.05 ...\n",
      " $ Cabin      : Factor w/ 148 levels \"\",\"A10\",\"A14\",..: 1 83 1 57 1 1 131 1 1 1 ...\n",
      " $ Embarked   : Factor w/ 3 levels \"C\",\"Q\",\"S\": 3 1 3 3 3 2 3 3 3 1 ...\n"
     ]
    }
   ],
   "source": [
    "# factor 변경\n",
    "to_make_each_day_count$Embarked <- factor(to_make_each_day_count$Embarked)\n",
    "str(to_make_each_day_count)\n",
    "\n",
    "\n",
    "\n"
   ]
  },
  {
   "cell_type": "code",
   "execution_count": 32,
   "metadata": {},
   "outputs": [],
   "source": [
    "# 예측 모델 생성\n"
   ]
  },
  {
   "cell_type": "code",
   "execution_count": 62,
   "metadata": {},
   "outputs": [
    {
     "data": {
      "text/html": [
       "<table>\n",
       "<thead><tr><th scope=col>PassengerId</th><th scope=col>Pclass</th><th scope=col>Sex</th><th scope=col>Embarked</th></tr></thead>\n",
       "<tbody>\n",
       "\t<tr><td>1     </td><td>3     </td><td>male  </td><td>S     </td></tr>\n",
       "\t<tr><td>2     </td><td>1     </td><td>female</td><td>C     </td></tr>\n",
       "\t<tr><td>3     </td><td>3     </td><td>female</td><td>S     </td></tr>\n",
       "\t<tr><td>4     </td><td>1     </td><td>female</td><td>S     </td></tr>\n",
       "\t<tr><td>5     </td><td>3     </td><td>male  </td><td>S     </td></tr>\n",
       "\t<tr><td>6     </td><td>3     </td><td>male  </td><td>Q     </td></tr>\n",
       "</tbody>\n",
       "</table>\n"
      ],
      "text/latex": [
       "\\begin{tabular}{r|llll}\n",
       " PassengerId & Pclass & Sex & Embarked\\\\\n",
       "\\hline\n",
       "\t 1      & 3      & male   & S     \\\\\n",
       "\t 2      & 1      & female & C     \\\\\n",
       "\t 3      & 3      & female & S     \\\\\n",
       "\t 4      & 1      & female & S     \\\\\n",
       "\t 5      & 3      & male   & S     \\\\\n",
       "\t 6      & 3      & male   & Q     \\\\\n",
       "\\end{tabular}\n"
      ],
      "text/markdown": [
       "\n",
       "PassengerId | Pclass | Sex | Embarked | \n",
       "|---|---|---|---|---|---|\n",
       "| 1      | 3      | male   | S      | \n",
       "| 2      | 1      | female | C      | \n",
       "| 3      | 3      | female | S      | \n",
       "| 4      | 1      | female | S      | \n",
       "| 5      | 3      | male   | S      | \n",
       "| 6      | 3      | male   | Q      | \n",
       "\n",
       "\n"
      ],
      "text/plain": [
       "  PassengerId Pclass Sex    Embarked\n",
       "1 1           3      male   S       \n",
       "2 2           1      female C       \n",
       "3 3           3      female S       \n",
       "4 4           1      female S       \n",
       "5 5           3      male   S       \n",
       "6 6           3      male   Q       "
      ]
     },
     "metadata": {},
     "output_type": "display_data"
    }
   ],
   "source": [
    "# 예측을 위한 컬럼확인\n",
    "mlearn <- to_make_each_day_count[,c(1,3,5,12)]\n",
    "head(mlearn)\n",
    "\n",
    "\n",
    "\n"
   ]
  },
  {
   "cell_type": "code",
   "execution_count": 63,
   "metadata": {},
   "outputs": [
    {
     "data": {
      "text/html": [
       "<table>\n",
       "<thead><tr><th scope=col>PassengerId</th><th scope=col>Pclass</th><th scope=col>Sex</th><th scope=col>Embarked</th></tr></thead>\n",
       "<tbody>\n",
       "\t<tr><td>1</td><td>3</td><td>0</td><td>S</td></tr>\n",
       "\t<tr><td>2</td><td>1</td><td>1</td><td>C</td></tr>\n",
       "\t<tr><td>3</td><td>3</td><td>1</td><td>S</td></tr>\n",
       "\t<tr><td>4</td><td>1</td><td>1</td><td>S</td></tr>\n",
       "\t<tr><td>5</td><td>3</td><td>0</td><td>S</td></tr>\n",
       "\t<tr><td>6</td><td>3</td><td>0</td><td>Q</td></tr>\n",
       "</tbody>\n",
       "</table>\n"
      ],
      "text/latex": [
       "\\begin{tabular}{r|llll}\n",
       " PassengerId & Pclass & Sex & Embarked\\\\\n",
       "\\hline\n",
       "\t 1 & 3 & 0 & S\\\\\n",
       "\t 2 & 1 & 1 & C\\\\\n",
       "\t 3 & 3 & 1 & S\\\\\n",
       "\t 4 & 1 & 1 & S\\\\\n",
       "\t 5 & 3 & 0 & S\\\\\n",
       "\t 6 & 3 & 0 & Q\\\\\n",
       "\\end{tabular}\n"
      ],
      "text/markdown": [
       "\n",
       "PassengerId | Pclass | Sex | Embarked | \n",
       "|---|---|---|---|---|---|\n",
       "| 1 | 3 | 0 | S | \n",
       "| 2 | 1 | 1 | C | \n",
       "| 3 | 3 | 1 | S | \n",
       "| 4 | 1 | 1 | S | \n",
       "| 5 | 3 | 0 | S | \n",
       "| 6 | 3 | 0 | Q | \n",
       "\n",
       "\n"
      ],
      "text/plain": [
       "  PassengerId Pclass Sex Embarked\n",
       "1 1           3      0   S       \n",
       "2 2           1      1   C       \n",
       "3 3           3      1   S       \n",
       "4 4           1      1   S       \n",
       "5 5           3      0   S       \n",
       "6 6           3      0   Q       "
      ]
     },
     "metadata": {},
     "output_type": "display_data"
    }
   ],
   "source": [
    "# 성별을 숫자로 전환\n",
    "mlearn$Sex <- ifelse(mlearn$Sex == \"male\" , 0, 1)\n",
    "head(mlearn)\n",
    "\n",
    "\n",
    "\n"
   ]
  },
  {
   "cell_type": "markdown",
   "metadata": {},
   "source": [
    "### Embarked를 숫자로 전환\n",
    "C=0,S=1,Q=2 로 숫자를 지정하면 숫자 2가 애매해 진다. 0과 1은 대소분류가 가능하지만 2가 들어가면 애매\n",
    "\n",
    "One-hot Encoding을 활용 - 더미테이블     \n",
    "C = [1,0,0]     \n",
    "S = [0,1,0]    \n",
    "Q = [1,0,1]    "
   ]
  },
  {
   "cell_type": "code",
   "execution_count": 64,
   "metadata": {},
   "outputs": [
    {
     "data": {
      "text/html": [
       "<table>\n",
       "<thead><tr><th scope=col>PassengerId</th><th scope=col>Pclass</th><th scope=col>Sex</th><th scope=col>Embarked</th><th scope=col>Embarked_S</th><th scope=col>Embarked_C</th><th scope=col>Embarked_Q</th></tr></thead>\n",
       "<tbody>\n",
       "\t<tr><td>1</td><td>3</td><td>0</td><td>S</td><td>1</td><td>0</td><td>0</td></tr>\n",
       "\t<tr><td>2</td><td>1</td><td>1</td><td>C</td><td>0</td><td>1</td><td>0</td></tr>\n",
       "\t<tr><td>3</td><td>3</td><td>1</td><td>S</td><td>1</td><td>0</td><td>0</td></tr>\n",
       "\t<tr><td>4</td><td>1</td><td>1</td><td>S</td><td>1</td><td>0</td><td>0</td></tr>\n",
       "\t<tr><td>5</td><td>3</td><td>0</td><td>S</td><td>1</td><td>0</td><td>0</td></tr>\n",
       "\t<tr><td>6</td><td>3</td><td>0</td><td>Q</td><td>0</td><td>0</td><td>1</td></tr>\n",
       "</tbody>\n",
       "</table>\n"
      ],
      "text/latex": [
       "\\begin{tabular}{r|lllllll}\n",
       " PassengerId & Pclass & Sex & Embarked & Embarked\\_S & Embarked\\_C & Embarked\\_Q\\\\\n",
       "\\hline\n",
       "\t 1 & 3 & 0 & S & 1 & 0 & 0\\\\\n",
       "\t 2 & 1 & 1 & C & 0 & 1 & 0\\\\\n",
       "\t 3 & 3 & 1 & S & 1 & 0 & 0\\\\\n",
       "\t 4 & 1 & 1 & S & 1 & 0 & 0\\\\\n",
       "\t 5 & 3 & 0 & S & 1 & 0 & 0\\\\\n",
       "\t 6 & 3 & 0 & Q & 0 & 0 & 1\\\\\n",
       "\\end{tabular}\n"
      ],
      "text/markdown": [
       "\n",
       "PassengerId | Pclass | Sex | Embarked | Embarked_S | Embarked_C | Embarked_Q | \n",
       "|---|---|---|---|---|---|\n",
       "| 1 | 3 | 0 | S | 1 | 0 | 0 | \n",
       "| 2 | 1 | 1 | C | 0 | 1 | 0 | \n",
       "| 3 | 3 | 1 | S | 1 | 0 | 0 | \n",
       "| 4 | 1 | 1 | S | 1 | 0 | 0 | \n",
       "| 5 | 3 | 0 | S | 1 | 0 | 0 | \n",
       "| 6 | 3 | 0 | Q | 0 | 0 | 1 | \n",
       "\n",
       "\n"
      ],
      "text/plain": [
       "  PassengerId Pclass Sex Embarked Embarked_S Embarked_C Embarked_Q\n",
       "1 1           3      0   S        1          0          0         \n",
       "2 2           1      1   C        0          1          0         \n",
       "3 3           3      1   S        1          0          0         \n",
       "4 4           1      1   S        1          0          0         \n",
       "5 5           3      0   S        1          0          0         \n",
       "6 6           3      0   Q        0          0          1         "
      ]
     },
     "metadata": {},
     "output_type": "display_data"
    }
   ],
   "source": [
    "mlearn$Embarked_S <- ifelse(mlearn$Embarked == \"S\" , 1, 0)\n",
    "mlearn$Embarked_C <- ifelse(mlearn$Embarked == \"C\" , 1, 0)\n",
    "mlearn$Embarked_Q <- ifelse(mlearn$Embarked == \"Q\" , 1, 0)\n",
    "head(mlearn)\n",
    "\n",
    "\n",
    "\n"
   ]
  },
  {
   "cell_type": "code",
   "execution_count": 44,
   "metadata": {},
   "outputs": [],
   "source": [
    "library(\"doBy\")\n",
    "\n",
    "\n",
    "\n"
   ]
  },
  {
   "cell_type": "code",
   "execution_count": 65,
   "metadata": {},
   "outputs": [
    {
     "data": {
      "text/html": [
       "<table>\n",
       "<thead><tr><th scope=col>to_make_each_day_count$Survived</th><th scope=col>PassengerId</th><th scope=col>Pclass</th><th scope=col>Sex</th><th scope=col>Embarked</th><th scope=col>Embarked_S</th><th scope=col>Embarked_C</th><th scope=col>Embarked_Q</th></tr></thead>\n",
       "<tbody>\n",
       "\t<tr><td>0</td><td>1</td><td>3</td><td>0</td><td>S</td><td>1</td><td>0</td><td>0</td></tr>\n",
       "\t<tr><td>1</td><td>2</td><td>1</td><td>1</td><td>C</td><td>0</td><td>1</td><td>0</td></tr>\n",
       "\t<tr><td>1</td><td>3</td><td>3</td><td>1</td><td>S</td><td>1</td><td>0</td><td>0</td></tr>\n",
       "\t<tr><td>1</td><td>4</td><td>1</td><td>1</td><td>S</td><td>1</td><td>0</td><td>0</td></tr>\n",
       "\t<tr><td>0</td><td>5</td><td>3</td><td>0</td><td>S</td><td>1</td><td>0</td><td>0</td></tr>\n",
       "\t<tr><td>0</td><td>6</td><td>3</td><td>0</td><td>Q</td><td>0</td><td>0</td><td>1</td></tr>\n",
       "</tbody>\n",
       "</table>\n"
      ],
      "text/latex": [
       "\\begin{tabular}{r|llllllll}\n",
       " to\\_make\\_each\\_day\\_count\\$Survived & PassengerId & Pclass & Sex & Embarked & Embarked\\_S & Embarked\\_C & Embarked\\_Q\\\\\n",
       "\\hline\n",
       "\t 0 & 1 & 3 & 0 & S & 1 & 0 & 0\\\\\n",
       "\t 1 & 2 & 1 & 1 & C & 0 & 1 & 0\\\\\n",
       "\t 1 & 3 & 3 & 1 & S & 1 & 0 & 0\\\\\n",
       "\t 1 & 4 & 1 & 1 & S & 1 & 0 & 0\\\\\n",
       "\t 0 & 5 & 3 & 0 & S & 1 & 0 & 0\\\\\n",
       "\t 0 & 6 & 3 & 0 & Q & 0 & 0 & 1\\\\\n",
       "\\end{tabular}\n"
      ],
      "text/markdown": [
       "\n",
       "to_make_each_day_count$Survived | PassengerId | Pclass | Sex | Embarked | Embarked_S | Embarked_C | Embarked_Q | \n",
       "|---|---|---|---|---|---|\n",
       "| 0 | 1 | 3 | 0 | S | 1 | 0 | 0 | \n",
       "| 1 | 2 | 1 | 1 | C | 0 | 1 | 0 | \n",
       "| 1 | 3 | 3 | 1 | S | 1 | 0 | 0 | \n",
       "| 1 | 4 | 1 | 1 | S | 1 | 0 | 0 | \n",
       "| 0 | 5 | 3 | 0 | S | 1 | 0 | 0 | \n",
       "| 0 | 6 | 3 | 0 | Q | 0 | 0 | 1 | \n",
       "\n",
       "\n"
      ],
      "text/plain": [
       "  to_make_each_day_count$Survived PassengerId Pclass Sex Embarked Embarked_S\n",
       "1 0                               1           3      0   S        1         \n",
       "2 1                               2           1      1   C        0         \n",
       "3 1                               3           3      1   S        1         \n",
       "4 1                               4           1      1   S        1         \n",
       "5 0                               5           3      0   S        1         \n",
       "6 0                               6           3      0   Q        0         \n",
       "  Embarked_C Embarked_Q\n",
       "1 0          0         \n",
       "2 1          0         \n",
       "3 0          0         \n",
       "4 0          0         \n",
       "5 0          0         \n",
       "6 0          1         "
      ]
     },
     "metadata": {},
     "output_type": "display_data"
    },
    {
     "data": {
      "text/html": [
       "<ol class=list-inline>\n",
       "\t<li>'to_make_each_day_count$Survived'</li>\n",
       "\t<li>'PassengerId'</li>\n",
       "\t<li>'Pclass'</li>\n",
       "\t<li>'Sex'</li>\n",
       "\t<li>'Embarked'</li>\n",
       "\t<li>'Embarked_S'</li>\n",
       "\t<li>'Embarked_C'</li>\n",
       "\t<li>'Embarked_Q'</li>\n",
       "</ol>\n"
      ],
      "text/latex": [
       "\\begin{enumerate*}\n",
       "\\item 'to\\_make\\_each\\_day\\_count\\$Survived'\n",
       "\\item 'PassengerId'\n",
       "\\item 'Pclass'\n",
       "\\item 'Sex'\n",
       "\\item 'Embarked'\n",
       "\\item 'Embarked\\_S'\n",
       "\\item 'Embarked\\_C'\n",
       "\\item 'Embarked\\_Q'\n",
       "\\end{enumerate*}\n"
      ],
      "text/markdown": [
       "1. 'to_make_each_day_count$Survived'\n",
       "2. 'PassengerId'\n",
       "3. 'Pclass'\n",
       "4. 'Sex'\n",
       "5. 'Embarked'\n",
       "6. 'Embarked_S'\n",
       "7. 'Embarked_C'\n",
       "8. 'Embarked_Q'\n",
       "\n",
       "\n"
      ],
      "text/plain": [
       "[1] \"to_make_each_day_count$Survived\" \"PassengerId\"                    \n",
       "[3] \"Pclass\"                          \"Sex\"                            \n",
       "[5] \"Embarked\"                        \"Embarked_S\"                     \n",
       "[7] \"Embarked_C\"                      \"Embarked_Q\"                     "
      ]
     },
     "metadata": {},
     "output_type": "display_data"
    }
   ],
   "source": [
    "# 테스트 데이터와 문제데이터로 바꾸기 위해서 칼럼 합쳐주기\n",
    "mlearn <- cbind(to_make_each_day_count$Survived,mlearn)\n",
    "head(mlearn)\n",
    "colnames(mlearn)\n",
    "\n",
    "\n",
    "\n"
   ]
  },
  {
   "cell_type": "code",
   "execution_count": 67,
   "metadata": {},
   "outputs": [
    {
     "data": {
      "text/html": [
       "<table>\n",
       "<thead><tr><th scope=col>Survived</th><th scope=col>PassengerId</th><th scope=col>Pclass</th><th scope=col>Sex</th><th scope=col>Embarked</th><th scope=col>Embarked_S</th><th scope=col>Embarked_C</th><th scope=col>Embarked_Q</th></tr></thead>\n",
       "<tbody>\n",
       "\t<tr><td>0</td><td>1</td><td>3</td><td>0</td><td>S</td><td>1</td><td>0</td><td>0</td></tr>\n",
       "\t<tr><td>1</td><td>2</td><td>1</td><td>1</td><td>C</td><td>0</td><td>1</td><td>0</td></tr>\n",
       "\t<tr><td>1</td><td>3</td><td>3</td><td>1</td><td>S</td><td>1</td><td>0</td><td>0</td></tr>\n",
       "\t<tr><td>1</td><td>4</td><td>1</td><td>1</td><td>S</td><td>1</td><td>0</td><td>0</td></tr>\n",
       "\t<tr><td>0</td><td>5</td><td>3</td><td>0</td><td>S</td><td>1</td><td>0</td><td>0</td></tr>\n",
       "\t<tr><td>0</td><td>6</td><td>3</td><td>0</td><td>Q</td><td>0</td><td>0</td><td>1</td></tr>\n",
       "</tbody>\n",
       "</table>\n"
      ],
      "text/latex": [
       "\\begin{tabular}{r|llllllll}\n",
       " Survived & PassengerId & Pclass & Sex & Embarked & Embarked\\_S & Embarked\\_C & Embarked\\_Q\\\\\n",
       "\\hline\n",
       "\t 0 & 1 & 3 & 0 & S & 1 & 0 & 0\\\\\n",
       "\t 1 & 2 & 1 & 1 & C & 0 & 1 & 0\\\\\n",
       "\t 1 & 3 & 3 & 1 & S & 1 & 0 & 0\\\\\n",
       "\t 1 & 4 & 1 & 1 & S & 1 & 0 & 0\\\\\n",
       "\t 0 & 5 & 3 & 0 & S & 1 & 0 & 0\\\\\n",
       "\t 0 & 6 & 3 & 0 & Q & 0 & 0 & 1\\\\\n",
       "\\end{tabular}\n"
      ],
      "text/markdown": [
       "\n",
       "Survived | PassengerId | Pclass | Sex | Embarked | Embarked_S | Embarked_C | Embarked_Q | \n",
       "|---|---|---|---|---|---|\n",
       "| 0 | 1 | 3 | 0 | S | 1 | 0 | 0 | \n",
       "| 1 | 2 | 1 | 1 | C | 0 | 1 | 0 | \n",
       "| 1 | 3 | 3 | 1 | S | 1 | 0 | 0 | \n",
       "| 1 | 4 | 1 | 1 | S | 1 | 0 | 0 | \n",
       "| 0 | 5 | 3 | 0 | S | 1 | 0 | 0 | \n",
       "| 0 | 6 | 3 | 0 | Q | 0 | 0 | 1 | \n",
       "\n",
       "\n"
      ],
      "text/plain": [
       "  Survived PassengerId Pclass Sex Embarked Embarked_S Embarked_C Embarked_Q\n",
       "1 0        1           3      0   S        1          0          0         \n",
       "2 1        2           1      1   C        0          1          0         \n",
       "3 1        3           3      1   S        1          0          0         \n",
       "4 1        4           1      1   S        1          0          0         \n",
       "5 0        5           3      0   S        1          0          0         \n",
       "6 0        6           3      0   Q        0          0          1         "
      ]
     },
     "metadata": {},
     "output_type": "display_data"
    },
    {
     "data": {
      "text/html": [
       "<table>\n",
       "<thead><tr><th scope=col>Survived</th><th scope=col>Pclass</th><th scope=col>Sex</th><th scope=col>Embarked</th><th scope=col>Embarked_S</th><th scope=col>Embarked_C</th><th scope=col>Embarked_Q</th></tr></thead>\n",
       "<tbody>\n",
       "\t<tr><td>0</td><td>3</td><td>0</td><td>S</td><td>1</td><td>0</td><td>0</td></tr>\n",
       "\t<tr><td>1</td><td>1</td><td>1</td><td>C</td><td>0</td><td>1</td><td>0</td></tr>\n",
       "\t<tr><td>1</td><td>3</td><td>1</td><td>S</td><td>1</td><td>0</td><td>0</td></tr>\n",
       "\t<tr><td>1</td><td>1</td><td>1</td><td>S</td><td>1</td><td>0</td><td>0</td></tr>\n",
       "\t<tr><td>0</td><td>3</td><td>0</td><td>S</td><td>1</td><td>0</td><td>0</td></tr>\n",
       "\t<tr><td>0</td><td>3</td><td>0</td><td>Q</td><td>0</td><td>0</td><td>1</td></tr>\n",
       "</tbody>\n",
       "</table>\n"
      ],
      "text/latex": [
       "\\begin{tabular}{r|lllllll}\n",
       " Survived & Pclass & Sex & Embarked & Embarked\\_S & Embarked\\_C & Embarked\\_Q\\\\\n",
       "\\hline\n",
       "\t 0 & 3 & 0 & S & 1 & 0 & 0\\\\\n",
       "\t 1 & 1 & 1 & C & 0 & 1 & 0\\\\\n",
       "\t 1 & 3 & 1 & S & 1 & 0 & 0\\\\\n",
       "\t 1 & 1 & 1 & S & 1 & 0 & 0\\\\\n",
       "\t 0 & 3 & 0 & S & 1 & 0 & 0\\\\\n",
       "\t 0 & 3 & 0 & Q & 0 & 0 & 1\\\\\n",
       "\\end{tabular}\n"
      ],
      "text/markdown": [
       "\n",
       "Survived | Pclass | Sex | Embarked | Embarked_S | Embarked_C | Embarked_Q | \n",
       "|---|---|---|---|---|---|\n",
       "| 0 | 3 | 0 | S | 1 | 0 | 0 | \n",
       "| 1 | 1 | 1 | C | 0 | 1 | 0 | \n",
       "| 1 | 3 | 1 | S | 1 | 0 | 0 | \n",
       "| 1 | 1 | 1 | S | 1 | 0 | 0 | \n",
       "| 0 | 3 | 0 | S | 1 | 0 | 0 | \n",
       "| 0 | 3 | 0 | Q | 0 | 0 | 1 | \n",
       "\n",
       "\n"
      ],
      "text/plain": [
       "  Survived Pclass Sex Embarked Embarked_S Embarked_C Embarked_Q\n",
       "1 0        3      0   S        1          0          0         \n",
       "2 1        1      1   C        0          1          0         \n",
       "3 1        3      1   S        1          0          0         \n",
       "4 1        1      1   S        1          0          0         \n",
       "5 0        3      0   S        1          0          0         \n",
       "6 0        3      0   Q        0          0          1         "
      ]
     },
     "metadata": {},
     "output_type": "display_data"
    }
   ],
   "source": [
    "colnames(mlearn) <- c('Survived', 'PassengerId', 'Pclass', 'Sex', 'Embarked', 'Embarked_S', 'Embarked_C', 'Embarked_Q')\n",
    "head(mlearn)\n",
    "mlearn <- mlearn[-2]\n",
    "head(mlearn)\n",
    "\n",
    "\n",
    "\n"
   ]
  },
  {
   "cell_type": "code",
   "execution_count": 69,
   "metadata": {},
   "outputs": [
    {
     "data": {
      "text/html": [
       "<table>\n",
       "<thead><tr><th></th><th scope=col>Survived</th><th scope=col>Pclass</th><th scope=col>Sex</th><th scope=col>Embarked_S</th><th scope=col>Embarked_C</th><th scope=col>Embarked_Q</th></tr></thead>\n",
       "<tbody>\n",
       "\t<tr><th scope=row>1</th><td>0</td><td>3</td><td>0</td><td>1</td><td>0</td><td>0</td></tr>\n",
       "\t<tr><th scope=row>5</th><td>0</td><td>3</td><td>0</td><td>1</td><td>0</td><td>0</td></tr>\n",
       "\t<tr><th scope=row>6</th><td>0</td><td>3</td><td>0</td><td>0</td><td>0</td><td>1</td></tr>\n",
       "\t<tr><th scope=row>7</th><td>0</td><td>1</td><td>0</td><td>1</td><td>0</td><td>0</td></tr>\n",
       "\t<tr><th scope=row>8</th><td>0</td><td>3</td><td>0</td><td>1</td><td>0</td><td>0</td></tr>\n",
       "\t<tr><th scope=row>13</th><td>0</td><td>3</td><td>0</td><td>1</td><td>0</td><td>0</td></tr>\n",
       "</tbody>\n",
       "</table>\n"
      ],
      "text/latex": [
       "\\begin{tabular}{r|llllll}\n",
       "  & Survived & Pclass & Sex & Embarked\\_S & Embarked\\_C & Embarked\\_Q\\\\\n",
       "\\hline\n",
       "\t1 & 0 & 3 & 0 & 1 & 0 & 0\\\\\n",
       "\t5 & 0 & 3 & 0 & 1 & 0 & 0\\\\\n",
       "\t6 & 0 & 3 & 0 & 0 & 0 & 1\\\\\n",
       "\t7 & 0 & 1 & 0 & 1 & 0 & 0\\\\\n",
       "\t8 & 0 & 3 & 0 & 1 & 0 & 0\\\\\n",
       "\t13 & 0 & 3 & 0 & 1 & 0 & 0\\\\\n",
       "\\end{tabular}\n"
      ],
      "text/markdown": [
       "\n",
       "| <!--/--> | Survived | Pclass | Sex | Embarked_S | Embarked_C | Embarked_Q | \n",
       "|---|---|---|---|---|---|\n",
       "| 1 | 0 | 3 | 0 | 1 | 0 | 0 | \n",
       "| 5 | 0 | 3 | 0 | 1 | 0 | 0 | \n",
       "| 6 | 0 | 3 | 0 | 0 | 0 | 1 | \n",
       "| 7 | 0 | 1 | 0 | 1 | 0 | 0 | \n",
       "| 8 | 0 | 3 | 0 | 1 | 0 | 0 | \n",
       "| 13 | 0 | 3 | 0 | 1 | 0 | 0 | \n",
       "\n",
       "\n"
      ],
      "text/plain": [
       "   Survived Pclass Sex Embarked_S Embarked_C Embarked_Q\n",
       "1  0        3      0   1          0          0         \n",
       "5  0        3      0   1          0          0         \n",
       "6  0        3      0   0          0          1         \n",
       "7  0        1      0   1          0          0         \n",
       "8  0        3      0   1          0          0         \n",
       "13 0        3      0   1          0          0         "
      ]
     },
     "metadata": {},
     "output_type": "display_data"
    }
   ],
   "source": [
    "mlearn <- orderBy(~ Survived, mlearn)\n",
    "mlearn<-mlearn[-4] # Embarked 지우기\n",
    "head(mlearn)\n",
    "\n",
    "\n",
    "\n",
    "\n"
   ]
  },
  {
   "cell_type": "markdown",
   "metadata": {},
   "source": [
    "### 샘플링 살피기"
   ]
  },
  {
   "cell_type": "code",
   "execution_count": 123,
   "metadata": {},
   "outputs": [
    {
     "data": {
      "text/html": [
       "0.616161616161616"
      ],
      "text/latex": [
       "0.616161616161616"
      ],
      "text/markdown": [
       "0.616161616161616"
      ],
      "text/plain": [
       "[1] 0.6161616"
      ]
     },
     "metadata": {},
     "output_type": "display_data"
    },
    {
     "data": {
      "text/html": [
       "0.383838383838384"
      ],
      "text/latex": [
       "0.383838383838384"
      ],
      "text/markdown": [
       "0.383838383838384"
      ],
      "text/plain": [
       "[1] 0.3838384"
      ]
     },
     "metadata": {},
     "output_type": "display_data"
    },
    {
     "data": {
      "text/html": [
       "549"
      ],
      "text/latex": [
       "549"
      ],
      "text/markdown": [
       "549"
      ],
      "text/plain": [
       "[1] 549"
      ]
     },
     "metadata": {},
     "output_type": "display_data"
    },
    {
     "data": {
      "text/html": [
       "1"
      ],
      "text/latex": [
       "1"
      ],
      "text/markdown": [
       "1"
      ],
      "text/plain": [
       "[1] 1"
      ]
     },
     "metadata": {},
     "output_type": "display_data"
    },
    {
     "data": {
      "text/html": [
       "891"
      ],
      "text/latex": [
       "891"
      ],
      "text/markdown": [
       "891"
      ],
      "text/plain": [
       "[1] 891"
      ]
     },
     "metadata": {},
     "output_type": "display_data"
    }
   ],
   "source": [
    "# 생존과 죽음의 데이터 갯수 보기\n",
    "sum(mlearn[,1]==0) / (sum(mlearn[,1]==0) +  sum(mlearn[,1]==1))   # 사망자 비율\n",
    "sum(mlearn[,1]==1) / (sum(mlearn[,1]==0) +  sum(mlearn[,1]==1))   # 생존자\n",
    "\n",
    "# 사망자 칼럼 위치\n",
    "sum(mlearn[,1]==0)\n",
    "\n",
    "# 생존자 시작점\n",
    "mlearn[550,1]\n",
    "\n",
    "#합계\n",
    "sum(mlearn[,1]==0) + sum(mlearn[,1]==1)\n",
    "\n",
    "\n",
    "\n"
   ]
  },
  {
   "cell_type": "markdown",
   "metadata": {},
   "source": [
    "# Random Forest 에서 예측값 변경해주는 소스 잘 보기"
   ]
  },
  {
   "cell_type": "code",
   "execution_count": 70,
   "metadata": {},
   "outputs": [
    {
     "name": "stderr",
     "output_type": "stream",
     "text": [
      "randomForest 4.6-14\n",
      "Type rfNews() to see new features/changes/bug fixes.\n",
      "Warning message in randomForest.default(m, y, ...):\n",
      "“The response has five or fewer unique values.  Are you sure you want to do regression?”"
     ]
    },
    {
     "data": {
      "text/plain": [
       "   pred\n",
       "      0   1\n",
       "  0 153  11\n",
       "  1  45  57"
      ]
     },
     "metadata": {},
     "output_type": "display_data"
    },
    {
     "data": {
      "text/html": [
       "78.95"
      ],
      "text/latex": [
       "78.95"
      ],
      "text/markdown": [
       "78.95"
      ],
      "text/plain": [
       "[1] 78.95"
      ]
     },
     "metadata": {},
     "output_type": "display_data"
    }
   ],
   "source": [
    "library(randomForest)\n",
    "# 샘플 데이터 형성\n",
    "#  150 : 105 (70%) + 45 (30%)\n",
    "set.seed(1234) # 샘플값 고정\n",
    "samp <- c(sample(1:549, 385), sample(550:891,240))\n",
    "\n",
    "# 학습용 검증용 데이터 분류\n",
    "# 학습용 데이터\n",
    "data.tr <- mlearn[samp,]\n",
    "# 검증용 데이터\n",
    "data.test <- mlearn[-samp,]\n",
    "\n",
    "# 학습시키기\n",
    "rf <- randomForest( Survived ~., data = data.tr, ntree = 100)\n",
    "\n",
    "# 예측하기\n",
    "pred <- predict(rf, data.test)\n",
    "pred[pred <= 0.5] <- 0\n",
    "pred[pred > 0.5] <- 1\n",
    "\n",
    "# 확인하기 - 정답 오답을\n",
    "table(data.test$Survived, pred)\n",
    "\n",
    "# 예측률\n",
    "round(mean(data.test$Survived == pred) * 100,2)\n",
    "\n",
    "\n",
    "\n",
    "\n",
    "\n",
    "\n",
    "\n",
    "\n",
    "\n",
    "\n",
    "\n",
    "\n",
    "\n",
    "\n",
    "\n"
   ]
  },
  {
   "cell_type": "markdown",
   "metadata": {},
   "source": [
    "## ★샘플링 할때 데이터를 잘 살펴보아야 한다.\n",
    "\n",
    "## 주요 요인별로 샘플링 갯수를 맞춰서 다시 살펴보자"
   ]
  },
  {
   "cell_type": "code",
   "execution_count": 76,
   "metadata": {},
   "outputs": [],
   "source": [
    "smapling <- orderBy(~ Survived+Pclass, mlearn)\n",
    "\n",
    "\n",
    "\n"
   ]
  },
  {
   "cell_type": "code",
   "execution_count": 88,
   "metadata": {},
   "outputs": [
    {
     "data": {
      "text/html": [
       "80"
      ],
      "text/latex": [
       "80"
      ],
      "text/markdown": [
       "80"
      ],
      "text/plain": [
       "[1] 80"
      ]
     },
     "metadata": {},
     "output_type": "display_data"
    },
    {
     "data": {
      "text/html": [
       "97"
      ],
      "text/latex": [
       "97"
      ],
      "text/markdown": [
       "97"
      ],
      "text/plain": [
       "[1] 97"
      ]
     },
     "metadata": {},
     "output_type": "display_data"
    },
    {
     "data": {
      "text/html": [
       "372"
      ],
      "text/latex": [
       "372"
      ],
      "text/markdown": [
       "372"
      ],
      "text/plain": [
       "[1] 372"
      ]
     },
     "metadata": {},
     "output_type": "display_data"
    },
    {
     "data": {
      "text/html": [
       "136"
      ],
      "text/latex": [
       "136"
      ],
      "text/markdown": [
       "136"
      ],
      "text/plain": [
       "[1] 136"
      ]
     },
     "metadata": {},
     "output_type": "display_data"
    },
    {
     "data": {
      "text/html": [
       "87"
      ],
      "text/latex": [
       "87"
      ],
      "text/markdown": [
       "87"
      ],
      "text/plain": [
       "[1] 87"
      ]
     },
     "metadata": {},
     "output_type": "display_data"
    },
    {
     "data": {
      "text/html": [
       "119"
      ],
      "text/latex": [
       "119"
      ],
      "text/markdown": [
       "119"
      ],
      "text/plain": [
       "[1] 119"
      ]
     },
     "metadata": {},
     "output_type": "display_data"
    },
    {
     "name": "stdout",
     "output_type": "stream",
     "text": [
      "[1] \"------------------\"\n"
     ]
    },
    {
     "data": {
      "text/html": [
       "56"
      ],
      "text/latex": [
       "56"
      ],
      "text/markdown": [
       "56"
      ],
      "text/plain": [
       "[1] 56"
      ]
     },
     "metadata": {},
     "output_type": "display_data"
    },
    {
     "data": {
      "text/html": [
       "67.9"
      ],
      "text/latex": [
       "67.9"
      ],
      "text/markdown": [
       "67.9"
      ],
      "text/plain": [
       "[1] 67.9"
      ]
     },
     "metadata": {},
     "output_type": "display_data"
    },
    {
     "data": {
      "text/html": [
       "260.4"
      ],
      "text/latex": [
       "260.4"
      ],
      "text/markdown": [
       "260.4"
      ],
      "text/plain": [
       "[1] 260.4"
      ]
     },
     "metadata": {},
     "output_type": "display_data"
    },
    {
     "data": {
      "text/html": [
       "95.2"
      ],
      "text/latex": [
       "95.2"
      ],
      "text/markdown": [
       "95.2"
      ],
      "text/plain": [
       "[1] 95.2"
      ]
     },
     "metadata": {},
     "output_type": "display_data"
    },
    {
     "data": {
      "text/html": [
       "60.9"
      ],
      "text/latex": [
       "60.9"
      ],
      "text/markdown": [
       "60.9"
      ],
      "text/plain": [
       "[1] 60.9"
      ]
     },
     "metadata": {},
     "output_type": "display_data"
    },
    {
     "data": {
      "text/html": [
       "83.3"
      ],
      "text/latex": [
       "83.3"
      ],
      "text/markdown": [
       "83.3"
      ],
      "text/plain": [
       "[1] 83.3"
      ]
     },
     "metadata": {},
     "output_type": "display_data"
    }
   ],
   "source": [
    "sum(smapling[,1]==0&smapling[,2]==1) # 1 - 80\n",
    "sum(smapling[,1]==0&smapling[,2]==2) # 81 - 177\n",
    "sum(smapling[,1]==0&smapling[,2]==3) # 177 - 549\n",
    "sum(smapling[,1]==1&smapling[,2]==1) # 549 - 685\n",
    "sum(smapling[,1]==1&smapling[,2]==2) # 685 - 772\n",
    "sum(smapling[,1]==1&smapling[,2]==3) # 772 - 891\n",
    "print(\"------------------\")\n",
    "(80 - 0) * 0.7\n",
    "(177 - 80) * 0.7\n",
    "(549 - 177) * 0.7\n",
    "(685 - 549) * 0.7\n",
    "(772 - 685) * 0.7\n",
    "(891 - 772) * 0.7\n",
    "\n",
    "\n",
    "\n",
    "\n",
    "\n",
    "\n",
    "\n"
   ]
  },
  {
   "cell_type": "code",
   "execution_count": 89,
   "metadata": {},
   "outputs": [
    {
     "name": "stderr",
     "output_type": "stream",
     "text": [
      "Warning message in randomForest.default(m, y, ...):\n",
      "“The response has five or fewer unique values.  Are you sure you want to do regression?”"
     ]
    },
    {
     "data": {
      "text/plain": [
       "   pred\n",
       "      0   1\n",
       "  0 145  21\n",
       "  1  42  62"
      ]
     },
     "metadata": {},
     "output_type": "display_data"
    },
    {
     "data": {
      "text/html": [
       "76.67"
      ],
      "text/latex": [
       "76.67"
      ],
      "text/markdown": [
       "76.67"
      ],
      "text/plain": [
       "[1] 76.67"
      ]
     },
     "metadata": {},
     "output_type": "display_data"
    }
   ],
   "source": [
    "library(randomForest)\n",
    "# 샘플 데이터 형성\n",
    "#  150 : 105 (70%) + 45 (30%)\n",
    "set.seed(1234) # 샘플값 고정\n",
    "samp <- c(sample(1:80, 56), sample(81:177,67), sample(178:549,260), sample(550:685,95), sample(686:772,60), sample(773:891,83))\n",
    "\n",
    "# 학습용 검증용 데이터 분류\n",
    "# 학습용 데이터\n",
    "data.tr <- mlearn[samp,]\n",
    "# 검증용 데이터\n",
    "data.test <- mlearn[-samp,]\n",
    "\n",
    "# 학습시키기\n",
    "rf <- randomForest( Survived ~., data = data.tr, ntree = 100)\n",
    "\n",
    "# 예측하기\n",
    "pred <- predict(rf, data.test)\n",
    "pred[pred <= 0.5] <- 0\n",
    "pred[pred > 0.5] <- 1\n",
    "\n",
    "# 확인하기 - 정답 오답을\n",
    "table(data.test$Survived, pred)\n",
    "\n",
    "# 예측률\n",
    "round(mean(data.test$Survived == pred) * 100,2)\n",
    "\n",
    "\n",
    "\n",
    "\n",
    "\n",
    "\n",
    "\n",
    "\n",
    "\n",
    "\n",
    "\n",
    "\n",
    "\n",
    "\n",
    "\n"
   ]
  },
  {
   "cell_type": "code",
   "execution_count": 104,
   "metadata": {},
   "outputs": [],
   "source": [
    "# 죽은 사람먼저 rbind 하기 \n",
    "a<-mlearn[mlearn$Survived==0&mlearn$Sex==0&mlearn$Pclass==1&mlearn$Embarked_S==1,]\n",
    "b<-mlearn[mlearn$Survived==0&mlearn$Sex==1&mlearn$Pclass==1&mlearn$Embarked_S==1,]\n",
    "c<-mlearn[mlearn$Survived==0&mlearn$Sex==0&mlearn$Pclass==2&mlearn$Embarked_S==1,]\n",
    "d<-mlearn[mlearn$Survived==0&mlearn$Sex==1&mlearn$Pclass==2&mlearn$Embarked_S==1,]\n",
    "e<-mlearn[mlearn$Survived==0&mlearn$Sex==0&mlearn$Pclass==3&mlearn$Embarked_S==1,]\n",
    "f<-mlearn[mlearn$Survived==0&mlearn$Sex==1&mlearn$Pclass==3&mlearn$Embarked_S==1,]\n",
    "g<-mlearn[mlearn$Survived==0&mlearn$Sex==0&mlearn$Pclass==1&mlearn$Embarked_C==1,]\n",
    "h<-mlearn[mlearn$Survived==0&mlearn$Sex==1&mlearn$Pclass==1&mlearn$Embarked_C==1,]\n",
    "i<-mlearn[mlearn$Survived==0&mlearn$Sex==0&mlearn$Pclass==2&mlearn$Embarked_C==1,]\n",
    "j<-mlearn[mlearn$Survived==0&mlearn$Sex==1&mlearn$Pclass==2&mlearn$Embarked_C==1,]\n",
    "k<-mlearn[mlearn$Survived==0&mlearn$Sex==0&mlearn$Pclass==3&mlearn$Embarked_C==1,]\n",
    "l<-mlearn[mlearn$Survived==0&mlearn$Sex==1&mlearn$Pclass==3&mlearn$Embarked_C==1,]\n",
    "m<-mlearn[mlearn$Survived==0&mlearn$Sex==0&mlearn$Pclass==1&mlearn$Embarked_Q==1,]\n",
    "n<-mlearn[mlearn$Survived==0&mlearn$Sex==1&mlearn$Pclass==1&mlearn$Embarked_Q==1,]\n",
    "o<-mlearn[mlearn$Survived==0&mlearn$Sex==0&mlearn$Pclass==2&mlearn$Embarked_Q==1,]\n",
    "p<-mlearn[mlearn$Survived==0&mlearn$Sex==1&mlearn$Pclass==2&mlearn$Embarked_Q==1,]\n",
    "q<-mlearn[mlearn$Survived==0&mlearn$Sex==0&mlearn$Pclass==3&mlearn$Embarked_Q==1,]\n",
    "r<-mlearn[mlearn$Survived==0&mlearn$Sex==1&mlearn$Pclass==3&mlearn$Embarked_Q==1,]\n",
    "mlearn_death<- rbind(a,b,c,d,e,f,g,h,i,j,k,l,m,n,o,p,q,r)\n",
    "\n",
    "\n",
    "\n",
    "\n",
    "\n",
    "\n",
    "\n",
    "\n",
    "\n",
    "\n",
    "\n"
   ]
  },
  {
   "cell_type": "code",
   "execution_count": 105,
   "metadata": {},
   "outputs": [],
   "source": [
    "# 산 사람 rbind 하기 \n",
    "a<-mlearn[mlearn$Survived==1&mlearn$Sex==0&mlearn$Pclass==1&mlearn$Embarked_S==1,]\n",
    "b<-mlearn[mlearn$Survived==1&mlearn$Sex==1&mlearn$Pclass==1&mlearn$Embarked_S==1,]\n",
    "c<-mlearn[mlearn$Survived==1&mlearn$Sex==0&mlearn$Pclass==2&mlearn$Embarked_S==1,]\n",
    "d<-mlearn[mlearn$Survived==1&mlearn$Sex==1&mlearn$Pclass==2&mlearn$Embarked_S==1,]\n",
    "e<-mlearn[mlearn$Survived==1&mlearn$Sex==0&mlearn$Pclass==3&mlearn$Embarked_S==1,]\n",
    "f<-mlearn[mlearn$Survived==1&mlearn$Sex==1&mlearn$Pclass==3&mlearn$Embarked_S==1,]\n",
    "g<-mlearn[mlearn$Survived==1&mlearn$Sex==0&mlearn$Pclass==1&mlearn$Embarked_C==1,]\n",
    "h<-mlearn[mlearn$Survived==1&mlearn$Sex==1&mlearn$Pclass==1&mlearn$Embarked_C==1,]\n",
    "i<-mlearn[mlearn$Survived==1&mlearn$Sex==0&mlearn$Pclass==2&mlearn$Embarked_C==1,]\n",
    "j<-mlearn[mlearn$Survived==1&mlearn$Sex==1&mlearn$Pclass==2&mlearn$Embarked_C==1,]\n",
    "k<-mlearn[mlearn$Survived==1&mlearn$Sex==0&mlearn$Pclass==3&mlearn$Embarked_C==1,]\n",
    "l<-mlearn[mlearn$Survived==1&mlearn$Sex==1&mlearn$Pclass==3&mlearn$Embarked_C==1,]\n",
    "m<-mlearn[mlearn$Survived==1&mlearn$Sex==0&mlearn$Pclass==1&mlearn$Embarked_Q==1,]\n",
    "n<-mlearn[mlearn$Survived==1&mlearn$Sex==1&mlearn$Pclass==1&mlearn$Embarked_Q==1,]\n",
    "o<-mlearn[mlearn$Survived==1&mlearn$Sex==0&mlearn$Pclass==2&mlearn$Embarked_Q==1,]\n",
    "p<-mlearn[mlearn$Survived==1&mlearn$Sex==1&mlearn$Pclass==2&mlearn$Embarked_Q==1,]\n",
    "q<-mlearn[mlearn$Survived==1&mlearn$Sex==0&mlearn$Pclass==3&mlearn$Embarked_Q==1,]\n",
    "r<-mlearn[mlearn$Survived==1&mlearn$Sex==1&mlearn$Pclass==3&mlearn$Embarked_Q==1,]\n",
    "mlearn_sur<- rbind(a,b,c,d,e,f,g,h,i,j,k,l,m,n,o,p,q,r)\n",
    "\n",
    "\n",
    "\n",
    "\n",
    "\n",
    "\n",
    "\n",
    "\n",
    "\n",
    "\n",
    "\n"
   ]
  },
  {
   "cell_type": "code",
   "execution_count": 102,
   "metadata": {},
   "outputs": [],
   "source": [
    "# 죽은사람 + 산사람으로 전체 테이블 만들기\n",
    "train_mc<- rbind(mlearn_death,mlearn_sur)\n",
    "\n",
    "\n",
    "\n"
   ]
  },
  {
   "cell_type": "code",
   "execution_count": 106,
   "metadata": {},
   "outputs": [
    {
     "name": "stderr",
     "output_type": "stream",
     "text": [
      "Warning message in randomForest.default(m, y, ...):\n",
      "“The response has five or fewer unique values.  Are you sure you want to do regression?”"
     ]
    },
    {
     "data": {
      "text/plain": [
       "   pred\n",
       "      0   1\n",
       "  0 167   9\n",
       "  1  39  55"
      ]
     },
     "metadata": {},
     "output_type": "display_data"
    },
    {
     "data": {
      "text/html": [
       "'예측 확률 82.22 %'"
      ],
      "text/latex": [
       "'예측 확률 82.22 \\%'"
      ],
      "text/markdown": [
       "'예측 확률 82.22 %'"
      ],
      "text/plain": [
       "[1] \"예측 확률 82.22 %\""
      ]
     },
     "metadata": {},
     "output_type": "display_data"
    }
   ],
   "source": [
    "set.seed(1234) # 데이터가 안변하고 쓸수 있다. 숫자 아무거나 쓰면된당\n",
    "samp <-c(sample(1:51,15),sample(54:135,25),sample(142:372,69),sample(373:427,16),sample(428:452,16),sample(428:452,16),sample(462:494,9),\n",
    "         sample(505:540,10),sample(550:577,8),sample(578:625,14),sample(626:640,4),sample(641:701,18),sample(702:735,10),sample(736:768,10),\n",
    "       sample(769:785,5),sample(786:827,12),sample(837:846,3),sample(849:852,4),sample(868:891,6) )\n",
    "\n",
    "data.tr <- mlearn[-samp,]\n",
    "data.test <- mlearn[samp,]\n",
    "rf <- randomForest(Survived ~ ., data =data.tr , ntree =100)\n",
    "pred <- predict(rf,data.test)\n",
    "pred[pred <=0.5]<-0\n",
    "pred[pred >0.5]<-1\n",
    "\n",
    "table(data.test$Survived,pred)\n",
    "paste('예측 확률', round(mean((data.test$Survived==pred)),4)*100,'%')\n",
    "\n",
    "\n",
    "\n",
    "\n",
    "\n",
    "\n",
    "\n"
   ]
  },
  {
   "cell_type": "code",
   "execution_count": null,
   "metadata": {},
   "outputs": [],
   "source": []
  },
  {
   "cell_type": "markdown",
   "metadata": {},
   "source": [
    "# SVM 으로 진행"
   ]
  },
  {
   "cell_type": "code",
   "execution_count": 92,
   "metadata": {},
   "outputs": [
    {
     "data": {
      "text/plain": [
       "   pred\n",
       "      0   1\n",
       "  0 156  10\n",
       "  1  45  59"
      ]
     },
     "metadata": {},
     "output_type": "display_data"
    },
    {
     "data": {
      "text/html": [
       "79.63"
      ],
      "text/latex": [
       "79.63"
      ],
      "text/markdown": [
       "79.63"
      ],
      "text/plain": [
       "[1] 79.63"
      ]
     },
     "metadata": {},
     "output_type": "display_data"
    }
   ],
   "source": [
    "library(e1071)\n",
    "# 샘플 데이터 형성\n",
    "#  150 : 105 (70%) + 45 (30%)\n",
    "set.seed(1234) # 샘플값 고정\n",
    "samp <- c(sample(1:80, 56), sample(81:177,67), sample(178:549,260), sample(550:685,95), sample(686:772,60), sample(773:891,83))\n",
    "\n",
    "# 학습용 검증용 데이터 분류\n",
    "# 학습용 데이터\n",
    "data.train <- mlearn[samp,]\n",
    "# 검증용 데이터\n",
    "data.test <- mlearn[-samp,]\n",
    "\n",
    "# 학습시키기\n",
    "model <- svm(Survived ~., data = data.train)\n",
    "\n",
    "# 예측하기\n",
    "pred <- predict(model, data.test)\n",
    "pred[pred <= 0.5] <- 0\n",
    "pred[pred > 0.5] <- 1\n",
    "\n",
    "# 확인하기 - 정답 오답을\n",
    "table(data.test$Survived, pred)\n",
    "\n",
    "\n",
    "# 예측률\n",
    "round(mean(data.test$Survived == pred) * 100,2)\n",
    "\n",
    "\n",
    "\n",
    "\n",
    "\n",
    "\n",
    "\n",
    "\n",
    "\n",
    "\n",
    "\n",
    "\n",
    "\n",
    "\n",
    "\n"
   ]
  },
  {
   "cell_type": "markdown",
   "metadata": {},
   "source": [
    "# 특정값 사용하여 예측하기"
   ]
  },
  {
   "cell_type": "code",
   "execution_count": null,
   "metadata": {},
   "outputs": [],
   "source": []
  }
 ],
 "metadata": {
  "kernelspec": {
   "display_name": "R",
   "language": "R",
   "name": "ir"
  },
  "language_info": {
   "codemirror_mode": "r",
   "file_extension": ".r",
   "mimetype": "text/x-r-source",
   "name": "R",
   "pygments_lexer": "r",
   "version": "3.5.1"
  }
 },
 "nbformat": 4,
 "nbformat_minor": 2
}
