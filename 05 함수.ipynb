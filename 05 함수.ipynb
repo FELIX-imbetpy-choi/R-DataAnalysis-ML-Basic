{
 "cells": [
  {
   "cell_type": "markdown",
   "metadata": {},
   "source": [
    "# 함수의 종류"
   ]
  },
  {
   "cell_type": "code",
   "execution_count": 1,
   "metadata": {},
   "outputs": [],
   "source": [
    "# 매개 변수가 없는 함수\n",
    "f1 <- function(){\n",
    "    x<- 10\n",
    "    cat(\"x의 값 = \",x,\"\\n\")\n",
    "    print(x)\n",
    "}\n",
    "\n",
    "\n",
    "\n",
    "\n"
   ]
  },
  {
   "cell_type": "code",
   "execution_count": 2,
   "metadata": {},
   "outputs": [
    {
     "name": "stdout",
     "output_type": "stream",
     "text": [
      "x의 값 =  10 \n",
      "[1] 10\n"
     ]
    }
   ],
   "source": [
    "f1()\n",
    "\n",
    "\n",
    "\n"
   ]
  },
  {
   "cell_type": "code",
   "execution_count": 35,
   "metadata": {},
   "outputs": [],
   "source": [
    "# 매개변수가 있는 함수\n",
    "f2 <- function(x){\n",
    "    cat(\"x의 값 = \",x,\"\\n\")\n",
    "    print(x)\n",
    "}\n",
    "\n",
    "\n",
    "\n"
   ]
  },
  {
   "cell_type": "code",
   "execution_count": 37,
   "metadata": {},
   "outputs": [
    {
     "name": "stdout",
     "output_type": "stream",
     "text": [
      "x의 값 =  10 \n",
      "[1] 10\n"
     ]
    }
   ],
   "source": [
    "f2(10)\n",
    "\n",
    "\n",
    "\n"
   ]
  },
  {
   "cell_type": "code",
   "execution_count": 40,
   "metadata": {},
   "outputs": [],
   "source": [
    "# 리턴값이 있는 함수\n",
    "f3 <- function(x,y){\n",
    "    add <- x+y\n",
    "    return(add)\n",
    "}\n",
    "\n",
    "\n",
    "\n"
   ]
  },
  {
   "cell_type": "code",
   "execution_count": 41,
   "metadata": {},
   "outputs": [
    {
     "data": {
      "text/html": [
       "30"
      ],
      "text/latex": [
       "30"
      ],
      "text/markdown": [
       "30"
      ],
      "text/plain": [
       "[1] 30"
      ]
     },
     "metadata": {},
     "output_type": "display_data"
    }
   ],
   "source": [
    "a1 <- f3(10,20)\n",
    "a1\n",
    "\n",
    "\n",
    "\n"
   ]
  },
  {
   "cell_type": "code",
   "execution_count": 42,
   "metadata": {},
   "outputs": [],
   "source": [
    "# 리턴값이 없는 함수\n",
    "f4 <- function(x,y){\n",
    "    add <- x+y\n",
    "    print(add)\n",
    "}\n",
    "\n",
    "\n",
    "\n"
   ]
  },
  {
   "cell_type": "code",
   "execution_count": 44,
   "metadata": {},
   "outputs": [
    {
     "name": "stdout",
     "output_type": "stream",
     "text": [
      "[1] 30\n"
     ]
    },
    {
     "data": {
      "text/html": [
       "30"
      ],
      "text/latex": [
       "30"
      ],
      "text/markdown": [
       "30"
      ],
      "text/plain": [
       "[1] 30"
      ]
     },
     "metadata": {},
     "output_type": "display_data"
    }
   ],
   "source": [
    "a2 <- f4(10,20)\n",
    "a2\n",
    "\n",
    "\n",
    "\n"
   ]
  },
  {
   "cell_type": "markdown",
   "metadata": {},
   "source": [
    "# 함수 활용"
   ]
  },
  {
   "cell_type": "code",
   "execution_count": 23,
   "metadata": {},
   "outputs": [],
   "source": [
    "# 2개의 숫자 숫자를 입력받아 가감승제를 구하는 함수를 작성하고 시연하시오\n",
    "gagamsungjea <- function(x,y){\n",
    "    aa = x + y\n",
    "    bb = x - y\n",
    "    cc = x * y\n",
    "    dd = x / y\n",
    "    cat(\"\\n\")\n",
    "    cat(x,\"더하기\",y,\"=\",aa,\"\\n\")\n",
    "    cat(x,\"빼기\",y,\"=\",bb,\"\\n\")\n",
    "    cat(x,\"곱하기\",y,\"=\",cc,\"\\n\")\n",
    "    cat(x,\"나누기\",y,\"=\",dd,\"\\n\")\n",
    "    cat(\"0..0 -☞ ****** o3o\")\n",
    "}\n",
    "\n",
    "\n",
    "\n",
    "\n",
    "\n",
    "\n",
    "\n"
   ]
  },
  {
   "cell_type": "code",
   "execution_count": 24,
   "metadata": {},
   "outputs": [
    {
     "name": "stdout",
     "output_type": "stream",
     "text": [
      "사칙연산 할 1번째 숫자 입력 : 1\n",
      "사칙연산 할 1번째 숫자 입력 : 2\n",
      "\n",
      "1 더하기 2 = 3 \n",
      "1 빼기 2 = -1 \n",
      "1 곱하기 2 = 2 \n",
      "1 나누기 2 = 0.5 \n",
      "0..0 -☞ ****** o3o"
     ]
    }
   ],
   "source": [
    "insert1 = readline(\"사칙연산 할 1번째 숫자 입력 : \")\n",
    "insert2 = readline(\"사칙연산 할 1번째 숫자 입력 : \")\n",
    "gagamsungjea(as.integer(insert1),as.integer(insert2))\n",
    "\n",
    "\n",
    "\n"
   ]
  },
  {
   "cell_type": "code",
   "execution_count": 5,
   "metadata": {},
   "outputs": [
    {
     "data": {
      "text/html": [
       "<table>\n",
       "<thead><tr><th scope=col>A</th><th scope=col>B</th><th scope=col>C</th><th scope=col>D</th><th scope=col>E</th></tr></thead>\n",
       "<tbody>\n",
       "\t<tr><td>2</td><td>4</td><td>4</td><td>2</td><td>2</td></tr>\n",
       "\t<tr><td>1</td><td>2</td><td>2</td><td>2</td><td>2</td></tr>\n",
       "\t<tr><td>2</td><td>3</td><td>4</td><td>3</td><td>3</td></tr>\n",
       "\t<tr><td>3</td><td>5</td><td>5</td><td>3</td><td>3</td></tr>\n",
       "\t<tr><td>3</td><td>2</td><td>4</td><td>4</td><td>4</td></tr>\n",
       "\t<tr><td>4</td><td>3</td><td>3</td><td>4</td><td>2</td></tr>\n",
       "</tbody>\n",
       "</table>\n"
      ],
      "text/latex": [
       "\\begin{tabular}{r|lllll}\n",
       " A & B & C & D & E\\\\\n",
       "\\hline\n",
       "\t 2 & 4 & 4 & 2 & 2\\\\\n",
       "\t 1 & 2 & 2 & 2 & 2\\\\\n",
       "\t 2 & 3 & 4 & 3 & 3\\\\\n",
       "\t 3 & 5 & 5 & 3 & 3\\\\\n",
       "\t 3 & 2 & 4 & 4 & 4\\\\\n",
       "\t 4 & 3 & 3 & 4 & 2\\\\\n",
       "\\end{tabular}\n"
      ],
      "text/markdown": [
       "\n",
       "A | B | C | D | E | \n",
       "|---|---|---|---|---|---|\n",
       "| 2 | 4 | 4 | 2 | 2 | \n",
       "| 1 | 2 | 2 | 2 | 2 | \n",
       "| 2 | 3 | 4 | 3 | 3 | \n",
       "| 3 | 5 | 5 | 3 | 3 | \n",
       "| 3 | 2 | 4 | 4 | 4 | \n",
       "| 4 | 3 | 3 | 4 | 2 | \n",
       "\n",
       "\n"
      ],
      "text/plain": [
       "  A B C D E\n",
       "1 2 4 4 2 2\n",
       "2 1 2 2 2 2\n",
       "3 2 3 4 3 3\n",
       "4 3 5 5 3 3\n",
       "5 3 2 4 4 4\n",
       "6 4 3 3 4 2"
      ]
     },
     "metadata": {},
     "output_type": "display_data"
    }
   ],
   "source": [
    "# 파일 불러오기\n",
    "test <- read.csv('..//Data//test.csv',header = T)\n",
    "head(test)\n",
    "\n",
    "\n",
    "\n"
   ]
  },
  {
   "cell_type": "code",
   "execution_count": 26,
   "metadata": {},
   "outputs": [
    {
     "data": {
      "text/plain": [
       "       A               B               C               D              E        \n",
       " Min.   :1.000   Min.   :1.000   Min.   :1.000   Min.   :1.00   Min.   :1.000  \n",
       " 1st Qu.:2.000   1st Qu.:2.000   1st Qu.:3.000   1st Qu.:2.00   1st Qu.:3.000  \n",
       " Median :3.000   Median :3.000   Median :4.000   Median :2.00   Median :4.000  \n",
       " Mean   :2.734   Mean   :2.908   Mean   :3.622   Mean   :2.51   Mean   :3.386  \n",
       " 3rd Qu.:3.000   3rd Qu.:4.000   3rd Qu.:4.000   3rd Qu.:3.00   3rd Qu.:4.000  \n",
       " Max.   :5.000   Max.   :5.000   Max.   :5.000   Max.   :4.00   Max.   :5.000  "
      ]
     },
     "metadata": {},
     "output_type": "display_data"
    }
   ],
   "source": [
    "# 기초 통계 살펴보기\n",
    "summary(test)\n",
    "\n",
    "\n",
    "\n"
   ]
  },
  {
   "cell_type": "code",
   "execution_count": 33,
   "metadata": {},
   "outputs": [
    {
     "data": {
      "text/plain": [
       "\n",
       "  1   2   3   4   5 \n",
       " 30 133 156  80   3 "
      ]
     },
     "metadata": {},
     "output_type": "display_data"
    },
    {
     "data": {
      "text/plain": [
       "\n",
       "  1   2   3   4   5 \n",
       " 30 133 156  80   3 "
      ]
     },
     "metadata": {},
     "output_type": "display_data"
    },
    {
     "data": {
      "text/html": [
       "5"
      ],
      "text/latex": [
       "5"
      ],
      "text/markdown": [
       "5"
      ],
      "text/plain": [
       "[1] 5"
      ]
     },
     "metadata": {},
     "output_type": "display_data"
    },
    {
     "data": {
      "text/html": [
       "5"
      ],
      "text/latex": [
       "5"
      ],
      "text/markdown": [
       "5"
      ],
      "text/plain": [
       "[1] 5"
      ]
     },
     "metadata": {},
     "output_type": "display_data"
    },
    {
     "data": {
      "text/html": [
       "1"
      ],
      "text/latex": [
       "1"
      ],
      "text/markdown": [
       "1"
      ],
      "text/plain": [
       "[1] 1"
      ]
     },
     "metadata": {},
     "output_type": "display_data"
    },
    {
     "data": {
      "text/html": [
       "1"
      ],
      "text/latex": [
       "1"
      ],
      "text/markdown": [
       "1"
      ],
      "text/plain": [
       "[1] 1"
      ]
     },
     "metadata": {},
     "output_type": "display_data"
    }
   ],
   "source": [
    "# test의 A컬럼의 빈도수 구하기\n",
    "table(test[1])\n",
    "table(test$A)\n",
    "# test의 A컬럼의 최고수 구하기\n",
    "max(test[1])\n",
    "max(test$A)\n",
    "# test의 A컬럼의 최소수 구하기\n",
    "min(test[1])\n",
    "min(test$A)\n",
    "\n",
    "\n",
    "\n",
    "\n",
    "\n",
    "\n",
    "\n"
   ]
  },
  {
   "cell_type": "code",
   "execution_count": 104,
   "metadata": {},
   "outputs": [],
   "source": [
    "# 컬럼수는 length로 쓰고 로우수는 nrow로 사용해서 카운트 해야한다.\n",
    "columns1 <- function(x){\n",
    "    for (i in 1:length(x)){\n",
    "        cat(i,\"번째 칼럼의 빈도 분석 결과\")\n",
    "        print(table(x[i]))\n",
    "        cat(\"\\n\")\n",
    "    }\n",
    "    for (i in 1:length(x)){\n",
    "        cat(i,\"번째 칼럼의 빈도값의 최댓값/ 최솟값\",\"\\n\")\n",
    "        cat(\"\\t\",\"max = \",max(table(x[i])),\"\\t\",\"min = \",min(table(x[i])),\"\\n\")\n",
    "    }\n",
    "}\n",
    "\n",
    "\n",
    "\n",
    "\n",
    "\n",
    "\n",
    "\n"
   ]
  },
  {
   "cell_type": "code",
   "execution_count": 105,
   "metadata": {},
   "outputs": [
    {
     "name": "stdout",
     "output_type": "stream",
     "text": [
      "1 번째 칼럼의 빈도 분석 결과\n",
      "  1   2   3   4   5 \n",
      " 30 133 156  80   3 \n",
      "\n",
      "2 번째 칼럼의 빈도 분석 결과\n",
      "  1   2   3   4   5 \n",
      " 16 150  98 131   7 \n",
      "\n",
      "3 번째 칼럼의 빈도 분석 결과\n",
      "  1   2   3   4   5 \n",
      "  3  74  72 176  77 \n",
      "\n",
      "4 번째 칼럼의 빈도 분석 결과\n",
      "  1   2   3   4 \n",
      " 30 178 153  41 \n",
      "\n",
      "5 번째 칼럼의 빈도 분석 결과\n",
      "  1   2   3   4   5 \n",
      "  8  81 107 160  46 \n",
      "\n",
      "1 번째 칼럼의 빈도값의 최댓값/ 최솟값 \n",
      "\t max =  156 \t min =  3 \n",
      "2 번째 칼럼의 빈도값의 최댓값/ 최솟값 \n",
      "\t max =  150 \t min =  7 \n",
      "3 번째 칼럼의 빈도값의 최댓값/ 최솟값 \n",
      "\t max =  176 \t min =  3 \n",
      "4 번째 칼럼의 빈도값의 최댓값/ 최솟값 \n",
      "\t max =  178 \t min =  30 \n",
      "5 번째 칼럼의 빈도값의 최댓값/ 최솟값 \n",
      "\t max =  160 \t min =  8 \n"
     ]
    }
   ],
   "source": [
    "columns1(test)\n",
    "\n",
    "\n",
    "\n"
   ]
  },
  {
   "cell_type": "code",
   "execution_count": 111,
   "metadata": {},
   "outputs": [
    {
     "data": {
      "text/html": [
       "<table>\n",
       "<thead><tr><th></th><th scope=col>A</th></tr></thead>\n",
       "<tbody>\n",
       "\t<tr><th scope=row>A</th><td>0.7893264</td></tr>\n",
       "</tbody>\n",
       "</table>\n"
      ],
      "text/latex": [
       "\\begin{tabular}{r|l}\n",
       "  & A\\\\\n",
       "\\hline\n",
       "\tA & 0.7893264\\\\\n",
       "\\end{tabular}\n"
      ],
      "text/markdown": [
       "\n",
       "| <!--/--> | A | \n",
       "|---|\n",
       "| A | 0.7893264 | \n",
       "\n",
       "\n"
      ],
      "text/plain": [
       "  A        \n",
       "A 0.7893264"
      ]
     },
     "metadata": {},
     "output_type": "display_data"
    },
    {
     "data": {
      "text/html": [
       "0.31717923786792"
      ],
      "text/latex": [
       "0.31717923786792"
      ],
      "text/markdown": [
       "0.31717923786792"
      ],
      "text/plain": [
       "[1] 0.3171792"
      ]
     },
     "metadata": {},
     "output_type": "display_data"
    }
   ],
   "source": [
    "# 표본 분산가 표본 표준표차 구하는 함수 (분산- var(), 표준편차 - sd())\n",
    "var(test[1])\n",
    "sd(var(test))\n",
    "\n",
    "\n",
    "\n"
   ]
  },
  {
   "cell_type": "code",
   "execution_count": 6,
   "metadata": {},
   "outputs": [],
   "source": [
    "varsd <- function(x){\n",
    "    for (i in 1:length(x)){\n",
    "        cat(i,\"번째 칼럼의 \")\n",
    "        cat(\"표본 분산 : \",var(x[,i]),\"\\t\")\n",
    "        cat(\"표본 표준 편차 : \",sd(x[,i]))\n",
    "        cat(\"\\n\")\n",
    "    }\n",
    "}\n",
    "\n",
    "\n",
    "\n",
    "\n",
    "\n",
    "\n",
    "\n"
   ]
  },
  {
   "cell_type": "code",
   "execution_count": 7,
   "metadata": {},
   "outputs": [
    {
     "name": "stdout",
     "output_type": "stream",
     "text": [
      "1 번째 칼럼의 표본 분산 :  0.7893264 \t표본 표준 편차 :  0.8884405\n",
      "2 번째 칼럼의 표본 분산 :  0.9216821 \t표본 표준 편차 :  0.9600428\n",
      "3 번째 칼럼의 표본 분산 :  1.033734 \t표본 표준 편차 :  1.016727\n",
      "4 번째 칼럼의 표본 분산 :  0.6046389 \t표본 표준 편차 :  0.7775853\n",
      "5 번째 칼럼의 표본 분산 :  0.9906143 \t표본 표준 편차 :  0.9952961\n"
     ]
    }
   ],
   "source": [
    "varsd(test)\n",
    "\n",
    "\n",
    "\n"
   ]
  },
  {
   "cell_type": "code",
   "execution_count": 10,
   "metadata": {},
   "outputs": [],
   "source": [
    "# 구구단 출력 함수\n",
    "gugu <- function(i,j){\n",
    "    for (dan in i){\n",
    "        for (gop in j){\n",
    "            cat(dan,\"X\",gop,\"=\",(dan*gop),\"\\n\")\n",
    "        }\n",
    "        cat(paste(\"--------------------------\",\"\\n\"))\n",
    "    }\n",
    "    \n",
    "}\n",
    "\n",
    "\n",
    "\n",
    "\n",
    "\n",
    "\n",
    "\n"
   ]
  },
  {
   "cell_type": "code",
   "execution_count": 11,
   "metadata": {},
   "outputs": [
    {
     "name": "stdout",
     "output_type": "stream",
     "text": [
      "3 X 4 = 12 \n",
      "3 X 5 = 15 \n",
      "3 X 6 = 18 \n",
      "3 X 7 = 21 \n",
      "3 X 8 = 24 \n",
      "-------------------------- \n",
      "4 X 4 = 16 \n",
      "4 X 5 = 20 \n",
      "4 X 6 = 24 \n",
      "4 X 7 = 28 \n",
      "4 X 8 = 32 \n",
      "-------------------------- \n",
      "5 X 4 = 20 \n",
      "5 X 5 = 25 \n",
      "5 X 6 = 30 \n",
      "5 X 7 = 35 \n",
      "5 X 8 = 40 \n",
      "-------------------------- \n",
      "6 X 4 = 24 \n",
      "6 X 5 = 30 \n",
      "6 X 6 = 36 \n",
      "6 X 7 = 42 \n",
      "6 X 8 = 48 \n",
      "-------------------------- \n",
      "7 X 4 = 28 \n",
      "7 X 5 = 35 \n",
      "7 X 6 = 42 \n",
      "7 X 7 = 49 \n",
      "7 X 8 = 56 \n",
      "-------------------------- \n"
     ]
    }
   ],
   "source": [
    "i <- c(3:7) # 단 지정\n",
    "j <- c(4:8) # 곱해지는 수 범위 지정\n",
    "gugu(i,j)\n",
    "\n",
    "\n",
    "\n"
   ]
  },
  {
   "cell_type": "code",
   "execution_count": 12,
   "metadata": {},
   "outputs": [],
   "source": [
    "# 구구단 for 1개  출력 함수\n",
    "gugu2 <- function(i,j){\n",
    "    for (dan in i){\n",
    "        cat(\"\\n\")\n",
    "        cat(paste(\"\\t\",dan,\"X\",j,\"=\",(dan*j),\"\\n\"))\n",
    "        cat(paste(\"------------------------\",\"\\n\"))\n",
    "    }\n",
    "}\n",
    "\n",
    "\n",
    "\n",
    "\n",
    "\n",
    "\n",
    "\n"
   ]
  },
  {
   "cell_type": "code",
   "execution_count": 13,
   "metadata": {
    "scrolled": true
   },
   "outputs": [
    {
     "name": "stdout",
     "output_type": "stream",
     "text": [
      "\n",
      "\t 3 X 4 = 12 \n",
      " \t 3 X 5 = 15 \n",
      " \t 3 X 6 = 18 \n",
      " \t 3 X 7 = 21 \n",
      " \t 3 X 8 = 24 \n",
      "------------------------ \n",
      "\n",
      "\t 4 X 4 = 16 \n",
      " \t 4 X 5 = 20 \n",
      " \t 4 X 6 = 24 \n",
      " \t 4 X 7 = 28 \n",
      " \t 4 X 8 = 32 \n",
      "------------------------ \n",
      "\n",
      "\t 5 X 4 = 20 \n",
      " \t 5 X 5 = 25 \n",
      " \t 5 X 6 = 30 \n",
      " \t 5 X 7 = 35 \n",
      " \t 5 X 8 = 40 \n",
      "------------------------ \n",
      "\n",
      "\t 6 X 4 = 24 \n",
      " \t 6 X 5 = 30 \n",
      " \t 6 X 6 = 36 \n",
      " \t 6 X 7 = 42 \n",
      " \t 6 X 8 = 48 \n",
      "------------------------ \n",
      "\n",
      "\t 7 X 4 = 28 \n",
      " \t 7 X 5 = 35 \n",
      " \t 7 X 6 = 42 \n",
      " \t 7 X 7 = 49 \n",
      " \t 7 X 8 = 56 \n",
      "------------------------ \n"
     ]
    }
   ],
   "source": [
    "i <- c(3:7) # 단 지정\n",
    "j <- c(4:8) # 곱해지는 수 범위 지정\n",
    "gugu2(i,j)\n",
    "\n",
    "\n",
    "\n"
   ]
  },
  {
   "cell_type": "markdown",
   "metadata": {},
   "source": [
    "### 벡터만으로 구구단 찍기 불가능"
   ]
  },
  {
   "cell_type": "code",
   "execution_count": 16,
   "metadata": {},
   "outputs": [],
   "source": [
    "# 반복문 없이 벡터만으로 구구단?\n",
    "gugu3 <- function(i,j){\n",
    "        cat(\"\\n\")\n",
    "        cat(paste(\"\\t\",i,\"X\",j,\"=\",(i*j),\"\\n\"))\n",
    "        cat(paste(\"------------------------\",\"\\n\"))\n",
    "}\n",
    "\n",
    "\n",
    "\n"
   ]
  },
  {
   "cell_type": "code",
   "execution_count": 17,
   "metadata": {
    "scrolled": true
   },
   "outputs": [
    {
     "name": "stdout",
     "output_type": "stream",
     "text": [
      "\n",
      "\t 3 X 4 = 12 \n",
      " \t 4 X 5 = 20 \n",
      " \t 5 X 6 = 30 \n",
      " \t 6 X 7 = 42 \n",
      " \t 7 X 8 = 56 \n",
      "------------------------ \n"
     ]
    }
   ],
   "source": [
    "i <- c(3:7) # 단 지정\n",
    "j <- c(4:8) # 곱해지는 수 범위 지정\n",
    "gugu3(i,j)\n",
    "\n",
    "\n",
    "\n"
   ]
  },
  {
   "cell_type": "markdown",
   "metadata": {},
   "source": [
    "# 결측치 처리 함수"
   ]
  },
  {
   "cell_type": "code",
   "execution_count": 18,
   "metadata": {},
   "outputs": [
    {
     "data": {
      "text/html": [
       "<ol class=list-inline>\n",
       "\t<li>10</li>\n",
       "\t<li>20</li>\n",
       "\t<li>5</li>\n",
       "\t<li>4</li>\n",
       "\t<li>40</li>\n",
       "\t<li>7</li>\n",
       "\t<li>&lt;NA&gt;</li>\n",
       "\t<li>6</li>\n",
       "\t<li>3</li>\n",
       "\t<li>&lt;NA&gt;</li>\n",
       "\t<li>2</li>\n",
       "\t<li>&lt;NA&gt;</li>\n",
       "</ol>\n"
      ],
      "text/latex": [
       "\\begin{enumerate*}\n",
       "\\item 10\n",
       "\\item 20\n",
       "\\item 5\n",
       "\\item 4\n",
       "\\item 40\n",
       "\\item 7\n",
       "\\item <NA>\n",
       "\\item 6\n",
       "\\item 3\n",
       "\\item <NA>\n",
       "\\item 2\n",
       "\\item <NA>\n",
       "\\end{enumerate*}\n"
      ],
      "text/markdown": [
       "1. 10\n",
       "2. 20\n",
       "3. 5\n",
       "4. 4\n",
       "5. 40\n",
       "6. 7\n",
       "7. &lt;NA&gt;\n",
       "8. 6\n",
       "9. 3\n",
       "10. &lt;NA&gt;\n",
       "11. 2\n",
       "12. &lt;NA&gt;\n",
       "\n",
       "\n"
      ],
      "text/plain": [
       " [1] 10 20  5  4 40  7 NA  6  3 NA  2 NA"
      ]
     },
     "metadata": {},
     "output_type": "display_data"
    }
   ],
   "source": [
    "# 결측치 자료 평균 계산 함수 - 결측치 처리 방법 1. 결측치를 0으로 2.평균으로 3.최고값으로 4.최소값으로\n",
    "data <- c(10,20,5,4,40,7,NA,6,3,NA,2,NA)\n",
    "data\n",
    "\n",
    "\n",
    "\n"
   ]
  },
  {
   "cell_type": "code",
   "execution_count": 21,
   "metadata": {},
   "outputs": [],
   "source": [
    "na <- function(x){\n",
    "    # 1차 : NA 제거하고 평균값 보기\n",
    "    cat(\"NA제거 하고 평균값\\n\")\n",
    "    print(mean(x, na.rm = T))\n",
    "    cat(\"===========================\\n\")\n",
    "    \n",
    "    # 2차 : NA를 0으로 대체하고 평균값 구하기\n",
    "    cat(\"NA를 0으로 대체 평균값 \\n\")\n",
    "    data <- ifelse(!is.na(x), x, 0) # NA이면 0으로 대체\n",
    "    print(mean(data))\n",
    "    cat(\"===========================\\n\")\n",
    "    \n",
    "    # 3차 : NA를 평균값으로 대체하여 평균 구하기, 소수점 2째자리\n",
    "    cat(\"NA를 평균값 으로 대체 \\n\")\n",
    "    data <- ifelse(!is.na(x), x, (mean(x, na.rm = T))) \n",
    "    print(round(mean(data),2))\n",
    "    cat(\"===========================\\n\")\n",
    "    \n",
    "    # 4차 : NA를 최고값으로 대체하여 평균 구하기, 소수점 2째자리\n",
    "    cat(\"NA를 최고값 으로 대체 \\n\")\n",
    "    data <- ifelse(!is.na(x), x, (max(x, na.rm = T))) \n",
    "    print(round(mean(data),2))\n",
    "    cat(\"===========================\\n\")\n",
    "    \n",
    "    # 5차 : NA를 최소값으로 대체하여 평균 구하기, 소수점 2째자리\n",
    "    cat(\"NA를 최소값 으로 대체 \\n\")\n",
    "    data <- ifelse(!is.na(x), x, (min(x, na.rm = T))) \n",
    "    print(round(mean(data),2))\n",
    "    cat(\"===========================\\n\")\n",
    "    \n",
    "      # 4차 : NA를 중앙값으로 대체하여 평균 구하기, 소수점 2째자리\n",
    "    cat(\"NA를 중앙값 으로 대체 \\n\")\n",
    "    data <- ifelse(!is.na(x), x, (median(x, na.rm = T))) \n",
    "    print(round(mean(data),2))\n",
    "    cat(\"===========================\\n\")\n",
    "    \n",
    "}\n",
    "\n",
    "\n",
    "\n",
    "\n",
    "\n",
    "\n",
    "\n",
    "\n",
    "\n",
    "\n",
    "\n",
    "\n",
    "\n",
    "\n",
    "\n"
   ]
  },
  {
   "cell_type": "code",
   "execution_count": 22,
   "metadata": {},
   "outputs": [
    {
     "name": "stdout",
     "output_type": "stream",
     "text": [
      "NA제거 하고 평균값\n",
      "[1] 10.77778\n",
      "===========================\n",
      "NA를 0으로 대체 평균값 \n",
      "[1] 8.083333\n",
      "===========================\n",
      "NA를 평균값 으로 대체 \n",
      "[1] 10.78\n",
      "===========================\n",
      "NA를 최고값 으로 대체 \n",
      "[1] 18.08\n",
      "===========================\n",
      "NA를 최소값 으로 대체 \n",
      "[1] 8.58\n",
      "===========================\n",
      "NA를 중앙값 으로 대체 \n",
      "[1] 9.58\n",
      "===========================\n"
     ]
    }
   ],
   "source": [
    "na(data)\n",
    "\n",
    "\n",
    "\n"
   ]
  },
  {
   "cell_type": "markdown",
   "metadata": {},
   "source": [
    "# 몬테 카를로 시뮬레이션\n",
    "현실적으로 불가능한 문제의 해답을 얻기 위해 난수의 확률 분포를 이용하여   \n",
    "모의 실험으로 근사적 해를 구하는 방법  "
   ]
  },
  {
   "cell_type": "code",
   "execution_count": 23,
   "metadata": {},
   "outputs": [],
   "source": [
    "# 동전 던지기 앞/뒤 - 난수 확률 분포 함수\n",
    "coin <- function(n){\n",
    "    r <- runif(n, min=0, max=1)\n",
    "    # print(r)\n",
    "    result <- numeric()\n",
    "    for (i in 1:n){\n",
    "        if(r[i] <= 0.5) result[i] <- 0 #앞면\n",
    "        else result[i] <- 1 #뒷면\n",
    "    }\n",
    "    return(result)\n",
    "}\n",
    "\n",
    "\n",
    "\n",
    "\n",
    "\n",
    "\n",
    "\n"
   ]
  },
  {
   "cell_type": "code",
   "execution_count": 24,
   "metadata": {},
   "outputs": [
    {
     "data": {
      "text/html": [
       "<ol class=list-inline>\n",
       "\t<li>1</li>\n",
       "\t<li>0</li>\n",
       "\t<li>1</li>\n",
       "\t<li>0</li>\n",
       "\t<li>1</li>\n",
       "\t<li>0</li>\n",
       "\t<li>1</li>\n",
       "\t<li>1</li>\n",
       "\t<li>1</li>\n",
       "\t<li>1</li>\n",
       "\t<li>0</li>\n",
       "\t<li>0</li>\n",
       "\t<li>1</li>\n",
       "\t<li>1</li>\n",
       "\t<li>1</li>\n",
       "\t<li>1</li>\n",
       "\t<li>1</li>\n",
       "\t<li>1</li>\n",
       "\t<li>1</li>\n",
       "\t<li>1</li>\n",
       "</ol>\n"
      ],
      "text/latex": [
       "\\begin{enumerate*}\n",
       "\\item 1\n",
       "\\item 0\n",
       "\\item 1\n",
       "\\item 0\n",
       "\\item 1\n",
       "\\item 0\n",
       "\\item 1\n",
       "\\item 1\n",
       "\\item 1\n",
       "\\item 1\n",
       "\\item 0\n",
       "\\item 0\n",
       "\\item 1\n",
       "\\item 1\n",
       "\\item 1\n",
       "\\item 1\n",
       "\\item 1\n",
       "\\item 1\n",
       "\\item 1\n",
       "\\item 1\n",
       "\\end{enumerate*}\n"
      ],
      "text/markdown": [
       "1. 1\n",
       "2. 0\n",
       "3. 1\n",
       "4. 0\n",
       "5. 1\n",
       "6. 0\n",
       "7. 1\n",
       "8. 1\n",
       "9. 1\n",
       "10. 1\n",
       "11. 0\n",
       "12. 0\n",
       "13. 1\n",
       "14. 1\n",
       "15. 1\n",
       "16. 1\n",
       "17. 1\n",
       "18. 1\n",
       "19. 1\n",
       "20. 1\n",
       "\n",
       "\n"
      ],
      "text/plain": [
       " [1] 1 0 1 0 1 0 1 1 1 1 0 0 1 1 1 1 1 1 1 1"
      ]
     },
     "metadata": {},
     "output_type": "display_data"
    }
   ],
   "source": [
    "coin(20)\n",
    "\n",
    "\n",
    "\n"
   ]
  },
  {
   "cell_type": "code",
   "execution_count": 28,
   "metadata": {},
   "outputs": [],
   "source": [
    "# 몬테카를로 시뮬레이션\n",
    "montecoin <- function(n){\n",
    "    kk <- table(coin(n))/sum(table(coin(n)))\n",
    "    print(kk)\n",
    "}\n",
    "\n",
    "\n",
    "\n"
   ]
  },
  {
   "cell_type": "code",
   "execution_count": 29,
   "metadata": {},
   "outputs": [
    {
     "name": "stdout",
     "output_type": "stream",
     "text": [
      "\n",
      "       0        1 \n",
      "0.499834 0.500166 \n"
     ]
    }
   ],
   "source": [
    "montecoin(1000000)\n",
    "\n",
    "\n",
    "\n"
   ]
  },
  {
   "cell_type": "code",
   "execution_count": 271,
   "metadata": {},
   "outputs": [],
   "source": [
    "# 몬테카를로 시뮬레이션\n",
    "montecoin2 <- function(n){\n",
    "    cnt <- 0\n",
    "    for (i in 1:n){\n",
    "        if (coin(n)[i] == 1){\n",
    "            cnt <- cnt + 1\n",
    "        }\n",
    "    }\n",
    "    result <- cnt/n\n",
    "    return(result)\n",
    "}\n",
    "\n",
    "\n",
    "\n",
    "\n",
    "\n",
    "\n",
    "\n"
   ]
  },
  {
   "cell_type": "code",
   "execution_count": 296,
   "metadata": {},
   "outputs": [
    {
     "data": {
      "text/html": [
       "0.54"
      ],
      "text/latex": [
       "0.54"
      ],
      "text/markdown": [
       "0.54"
      ],
      "text/plain": [
       "[1] 0.54"
      ]
     },
     "metadata": {},
     "output_type": "display_data"
    }
   ],
   "source": [
    "# 뒷면의 확률\n",
    "montecoin2(100)\n",
    "\n",
    "\n",
    "\n"
   ]
  },
  {
   "cell_type": "code",
   "execution_count": 297,
   "metadata": {},
   "outputs": [],
   "source": [
    "# 몬테카를로 시뮬레이션\n",
    "montecoin3 <- function(n){\n",
    "    cnt <- 0\n",
    "    for (i in 1:n){\n",
    "            cnt <- cnt + coin(1)\n",
    "    }\n",
    "    result <- cnt/n\n",
    "    return(result)\n",
    "}\n",
    "\n",
    "\n",
    "\n",
    "\n",
    "\n",
    "\n",
    "\n"
   ]
  },
  {
   "cell_type": "code",
   "execution_count": 298,
   "metadata": {},
   "outputs": [
    {
     "data": {
      "text/html": [
       "0.56"
      ],
      "text/latex": [
       "0.56"
      ],
      "text/markdown": [
       "0.56"
      ],
      "text/plain": [
       "[1] 0.56"
      ]
     },
     "metadata": {},
     "output_type": "display_data"
    }
   ],
   "source": [
    "montecoin3(100)\n",
    "\n",
    "\n",
    "\n"
   ]
  },
  {
   "cell_type": "code",
   "execution_count": 304,
   "metadata": {},
   "outputs": [
    {
     "data": {
      "text/html": [
       "120"
      ],
      "text/latex": [
       "120"
      ],
      "text/markdown": [
       "120"
      ],
      "text/plain": [
       "[1] 120"
      ]
     },
     "metadata": {},
     "output_type": "display_data"
    },
    {
     "data": {
      "text/html": [
       "<ol class=list-inline>\n",
       "\t<li>1</li>\n",
       "\t<li>3</li>\n",
       "\t<li>6</li>\n",
       "\t<li>10</li>\n",
       "\t<li>15</li>\n",
       "\t<li>21</li>\n",
       "\t<li>28</li>\n",
       "\t<li>36</li>\n",
       "\t<li>45</li>\n",
       "\t<li>55</li>\n",
       "</ol>\n"
      ],
      "text/latex": [
       "\\begin{enumerate*}\n",
       "\\item 1\n",
       "\\item 3\n",
       "\\item 6\n",
       "\\item 10\n",
       "\\item 15\n",
       "\\item 21\n",
       "\\item 28\n",
       "\\item 36\n",
       "\\item 45\n",
       "\\item 55\n",
       "\\end{enumerate*}\n"
      ],
      "text/markdown": [
       "1. 1\n",
       "2. 3\n",
       "3. 6\n",
       "4. 10\n",
       "5. 15\n",
       "6. 21\n",
       "7. 28\n",
       "8. 36\n",
       "9. 45\n",
       "10. 55\n",
       "\n",
       "\n"
      ],
      "text/plain": [
       " [1]  1  3  6 10 15 21 28 36 45 55"
      ]
     },
     "metadata": {},
     "output_type": "display_data"
    },
    {
     "data": {
      "text/html": [
       "<ol class=list-inline>\n",
       "\t<li>1</li>\n",
       "\t<li>2</li>\n",
       "\t<li>6</li>\n",
       "\t<li>24</li>\n",
       "\t<li>120</li>\n",
       "\t<li>720</li>\n",
       "\t<li>5040</li>\n",
       "\t<li>40320</li>\n",
       "\t<li>362880</li>\n",
       "\t<li>3628800</li>\n",
       "</ol>\n"
      ],
      "text/latex": [
       "\\begin{enumerate*}\n",
       "\\item 1\n",
       "\\item 2\n",
       "\\item 6\n",
       "\\item 24\n",
       "\\item 120\n",
       "\\item 720\n",
       "\\item 5040\n",
       "\\item 40320\n",
       "\\item 362880\n",
       "\\item 3628800\n",
       "\\end{enumerate*}\n"
      ],
      "text/markdown": [
       "1. 1\n",
       "2. 2\n",
       "3. 6\n",
       "4. 24\n",
       "5. 120\n",
       "6. 720\n",
       "7. 5040\n",
       "8. 40320\n",
       "9. 362880\n",
       "10. 3628800\n",
       "\n",
       "\n"
      ],
      "text/plain": [
       " [1]       1       2       6      24     120     720    5040   40320  362880\n",
       "[10] 3628800"
      ]
     },
     "metadata": {},
     "output_type": "display_data"
    },
    {
     "data": {
      "text/html": [
       "55"
      ],
      "text/latex": [
       "55"
      ],
      "text/markdown": [
       "55"
      ],
      "text/plain": [
       "[1] 55"
      ]
     },
     "metadata": {},
     "output_type": "display_data"
    },
    {
     "data": {
      "text/html": [
       "3628800"
      ],
      "text/latex": [
       "3628800"
      ],
      "text/markdown": [
       "3628800"
      ],
      "text/plain": [
       "[1] 3628800"
      ]
     },
     "metadata": {},
     "output_type": "display_data"
    }
   ],
   "source": [
    "vec <- 1:10\n",
    "factorial(5)\n",
    "cumsum(vec) # 누적덧셈\n",
    "cumprod(vec) # 누적곱셈\n",
    "sum(vec)\n",
    "prod(vec) # 누적곲의 결과\n",
    "\n",
    "\n",
    "\n",
    "\n",
    "\n",
    "\n",
    "\n"
   ]
  },
  {
   "cell_type": "code",
   "execution_count": null,
   "metadata": {},
   "outputs": [],
   "source": []
  }
 ],
 "metadata": {
  "kernelspec": {
   "display_name": "R",
   "language": "R",
   "name": "ir"
  },
  "language_info": {
   "codemirror_mode": "r",
   "file_extension": ".r",
   "mimetype": "text/x-r-source",
   "name": "R",
   "pygments_lexer": "r",
   "version": "3.5.1"
  }
 },
 "nbformat": 4,
 "nbformat_minor": 2
}
