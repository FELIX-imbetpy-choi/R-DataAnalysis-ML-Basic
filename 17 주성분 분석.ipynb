{
 "cells": [
  {
   "cell_type": "code",
   "execution_count": 1,
   "metadata": {},
   "outputs": [
    {
     "data": {
      "text/html": [
       "<table>\n",
       "<thead><tr><th scope=col>Sepal.Length</th><th scope=col>Sepal.Width</th><th scope=col>Petal.Length</th><th scope=col>Petal.Width</th><th scope=col>Species</th></tr></thead>\n",
       "<tbody>\n",
       "\t<tr><td>5.1   </td><td>3.5   </td><td>1.4   </td><td>0.2   </td><td>setosa</td></tr>\n",
       "\t<tr><td>4.9   </td><td>3.0   </td><td>1.4   </td><td>0.2   </td><td>setosa</td></tr>\n",
       "\t<tr><td>4.7   </td><td>3.2   </td><td>1.3   </td><td>0.2   </td><td>setosa</td></tr>\n",
       "\t<tr><td>4.6   </td><td>3.1   </td><td>1.5   </td><td>0.2   </td><td>setosa</td></tr>\n",
       "\t<tr><td>5.0   </td><td>3.6   </td><td>1.4   </td><td>0.2   </td><td>setosa</td></tr>\n",
       "\t<tr><td>5.4   </td><td>3.9   </td><td>1.7   </td><td>0.4   </td><td>setosa</td></tr>\n",
       "</tbody>\n",
       "</table>\n"
      ],
      "text/latex": [
       "\\begin{tabular}{r|lllll}\n",
       " Sepal.Length & Sepal.Width & Petal.Length & Petal.Width & Species\\\\\n",
       "\\hline\n",
       "\t 5.1    & 3.5    & 1.4    & 0.2    & setosa\\\\\n",
       "\t 4.9    & 3.0    & 1.4    & 0.2    & setosa\\\\\n",
       "\t 4.7    & 3.2    & 1.3    & 0.2    & setosa\\\\\n",
       "\t 4.6    & 3.1    & 1.5    & 0.2    & setosa\\\\\n",
       "\t 5.0    & 3.6    & 1.4    & 0.2    & setosa\\\\\n",
       "\t 5.4    & 3.9    & 1.7    & 0.4    & setosa\\\\\n",
       "\\end{tabular}\n"
      ],
      "text/markdown": [
       "\n",
       "Sepal.Length | Sepal.Width | Petal.Length | Petal.Width | Species | \n",
       "|---|---|---|---|---|---|\n",
       "| 5.1    | 3.5    | 1.4    | 0.2    | setosa | \n",
       "| 4.9    | 3.0    | 1.4    | 0.2    | setosa | \n",
       "| 4.7    | 3.2    | 1.3    | 0.2    | setosa | \n",
       "| 4.6    | 3.1    | 1.5    | 0.2    | setosa | \n",
       "| 5.0    | 3.6    | 1.4    | 0.2    | setosa | \n",
       "| 5.4    | 3.9    | 1.7    | 0.4    | setosa | \n",
       "\n",
       "\n"
      ],
      "text/plain": [
       "  Sepal.Length Sepal.Width Petal.Length Petal.Width Species\n",
       "1 5.1          3.5         1.4          0.2         setosa \n",
       "2 4.9          3.0         1.4          0.2         setosa \n",
       "3 4.7          3.2         1.3          0.2         setosa \n",
       "4 4.6          3.1         1.5          0.2         setosa \n",
       "5 5.0          3.6         1.4          0.2         setosa \n",
       "6 5.4          3.9         1.7          0.4         setosa "
      ]
     },
     "metadata": {},
     "output_type": "display_data"
    }
   ],
   "source": [
    "head(iris)\n",
    "\n",
    "\n",
    "\n"
   ]
  },
  {
   "cell_type": "code",
   "execution_count": null,
   "metadata": {},
   "outputs": [],
   "source": []
  },
  {
   "cell_type": "code",
   "execution_count": 17,
   "metadata": {},
   "outputs": [
    {
     "data": {
      "text/html": [
       "<table>\n",
       "<thead><tr><th></th><th scope=col>Sepal.Length</th><th scope=col>Sepal.Width</th><th scope=col>Petal.Length</th><th scope=col>Petal.Width</th></tr></thead>\n",
       "<tbody>\n",
       "\t<tr><th scope=row>Sepal.Length</th><td> 1.0000000</td><td>-0.1175698</td><td> 0.8717538</td><td> 0.8179411</td></tr>\n",
       "\t<tr><th scope=row>Sepal.Width</th><td>-0.1175698</td><td> 1.0000000</td><td>-0.4284401</td><td>-0.3661259</td></tr>\n",
       "\t<tr><th scope=row>Petal.Length</th><td> 0.8717538</td><td>-0.4284401</td><td> 1.0000000</td><td> 0.9628654</td></tr>\n",
       "\t<tr><th scope=row>Petal.Width</th><td> 0.8179411</td><td>-0.3661259</td><td> 0.9628654</td><td> 1.0000000</td></tr>\n",
       "</tbody>\n",
       "</table>\n"
      ],
      "text/latex": [
       "\\begin{tabular}{r|llll}\n",
       "  & Sepal.Length & Sepal.Width & Petal.Length & Petal.Width\\\\\n",
       "\\hline\n",
       "\tSepal.Length &  1.0000000 & -0.1175698 &  0.8717538 &  0.8179411\\\\\n",
       "\tSepal.Width & -0.1175698 &  1.0000000 & -0.4284401 & -0.3661259\\\\\n",
       "\tPetal.Length &  0.8717538 & -0.4284401 &  1.0000000 &  0.9628654\\\\\n",
       "\tPetal.Width &  0.8179411 & -0.3661259 &  0.9628654 &  1.0000000\\\\\n",
       "\\end{tabular}\n"
      ],
      "text/markdown": [
       "\n",
       "| <!--/--> | Sepal.Length | Sepal.Width | Petal.Length | Petal.Width | \n",
       "|---|---|---|---|\n",
       "| Sepal.Length |  1.0000000 | -0.1175698 |  0.8717538 |  0.8179411 | \n",
       "| Sepal.Width | -0.1175698 |  1.0000000 | -0.4284401 | -0.3661259 | \n",
       "| Petal.Length |  0.8717538 | -0.4284401 |  1.0000000 |  0.9628654 | \n",
       "| Petal.Width |  0.8179411 | -0.3661259 |  0.9628654 |  1.0000000 | \n",
       "\n",
       "\n"
      ],
      "text/plain": [
       "             Sepal.Length Sepal.Width Petal.Length Petal.Width\n",
       "Sepal.Length  1.0000000   -0.1175698   0.8717538    0.8179411 \n",
       "Sepal.Width  -0.1175698    1.0000000  -0.4284401   -0.3661259 \n",
       "Petal.Length  0.8717538   -0.4284401   1.0000000    0.9628654 \n",
       "Petal.Width   0.8179411   -0.3661259   0.9628654    1.0000000 "
      ]
     },
     "metadata": {},
     "output_type": "display_data"
    }
   ],
   "source": [
    "# 다중공선성 : 독립변수들 간의 강한 상관계수를 파악하는 것\n",
    "# 상관관계 확인\n",
    "cor(iris[1:4])\n",
    "\n",
    "\n",
    "\n"
   ]
  },
  {
   "cell_type": "markdown",
   "metadata": {},
   "source": [
    "### 0.87, 0.96 처럼 높은 상관계수 때문에 회귀분석시 다중 공선성 문제가 발생하여    \n",
    "### 결과가 왜곡될 수 있음      \n",
    "### 따라서 주성분을 만들어 다중 공선성 문제를 해결.       \n",
    "### 데이터가 한쪽에 편향되어 있기 때문에 표준화 작업을 하고 y변수는 species는 따로 붙인다.   "
   ]
  },
  {
   "cell_type": "code",
   "execution_count": 18,
   "metadata": {},
   "outputs": [
    {
     "data": {
      "text/html": [
       "<table>\n",
       "<thead><tr><th scope=col>Sepal.Length</th><th scope=col>Sepal.Width</th><th scope=col>Petal.Length</th><th scope=col>Petal.Width</th></tr></thead>\n",
       "<tbody>\n",
       "\t<tr><td>-0.8976739 </td><td> 1.01560199</td><td>-1.335752  </td><td>-1.311052  </td></tr>\n",
       "\t<tr><td>-1.1392005 </td><td>-0.13153881</td><td>-1.335752  </td><td>-1.311052  </td></tr>\n",
       "\t<tr><td>-1.3807271 </td><td> 0.32731751</td><td>-1.392399  </td><td>-1.311052  </td></tr>\n",
       "\t<tr><td>-1.5014904 </td><td> 0.09788935</td><td>-1.279104  </td><td>-1.311052  </td></tr>\n",
       "\t<tr><td>-1.0184372 </td><td> 1.24503015</td><td>-1.335752  </td><td>-1.311052  </td></tr>\n",
       "\t<tr><td>-0.5353840 </td><td> 1.93331463</td><td>-1.165809  </td><td>-1.048667  </td></tr>\n",
       "</tbody>\n",
       "</table>\n"
      ],
      "text/latex": [
       "\\begin{tabular}{llll}\n",
       " Sepal.Length & Sepal.Width & Petal.Length & Petal.Width\\\\\n",
       "\\hline\n",
       "\t -0.8976739  &  1.01560199 & -1.335752   & -1.311052  \\\\\n",
       "\t -1.1392005  & -0.13153881 & -1.335752   & -1.311052  \\\\\n",
       "\t -1.3807271  &  0.32731751 & -1.392399   & -1.311052  \\\\\n",
       "\t -1.5014904  &  0.09788935 & -1.279104   & -1.311052  \\\\\n",
       "\t -1.0184372  &  1.24503015 & -1.335752   & -1.311052  \\\\\n",
       "\t -0.5353840  &  1.93331463 & -1.165809   & -1.048667  \\\\\n",
       "\\end{tabular}\n"
      ],
      "text/markdown": [
       "\n",
       "Sepal.Length | Sepal.Width | Petal.Length | Petal.Width | \n",
       "|---|---|---|---|---|---|\n",
       "| -0.8976739  |  1.01560199 | -1.335752   | -1.311052   | \n",
       "| -1.1392005  | -0.13153881 | -1.335752   | -1.311052   | \n",
       "| -1.3807271  |  0.32731751 | -1.392399   | -1.311052   | \n",
       "| -1.5014904  |  0.09788935 | -1.279104   | -1.311052   | \n",
       "| -1.0184372  |  1.24503015 | -1.335752   | -1.311052   | \n",
       "| -0.5353840  |  1.93331463 | -1.165809   | -1.048667   | \n",
       "\n",
       "\n"
      ],
      "text/plain": [
       "     Sepal.Length Sepal.Width Petal.Length Petal.Width\n",
       "[1,] -0.8976739    1.01560199 -1.335752    -1.311052  \n",
       "[2,] -1.1392005   -0.13153881 -1.335752    -1.311052  \n",
       "[3,] -1.3807271    0.32731751 -1.392399    -1.311052  \n",
       "[4,] -1.5014904    0.09788935 -1.279104    -1.311052  \n",
       "[5,] -1.0184372    1.24503015 -1.335752    -1.311052  \n",
       "[6,] -0.5353840    1.93331463 -1.165809    -1.048667  "
      ]
     },
     "metadata": {},
     "output_type": "display_data"
    },
    {
     "data": {
      "text/html": [
       "<ol class=list-inline>\n",
       "\t<li>setosa</li>\n",
       "\t<li>setosa</li>\n",
       "\t<li>setosa</li>\n",
       "\t<li>setosa</li>\n",
       "\t<li>setosa</li>\n",
       "\t<li>setosa</li>\n",
       "</ol>\n",
       "\n",
       "<details>\n",
       "\t<summary style=display:list-item;cursor:pointer>\n",
       "\t\t<strong>Levels</strong>:\n",
       "\t</summary>\n",
       "\t<ol class=list-inline>\n",
       "\t\t<li>'setosa'</li>\n",
       "\t\t<li>'versicolor'</li>\n",
       "\t\t<li>'virginica'</li>\n",
       "\t</ol>\n",
       "</details>"
      ],
      "text/latex": [
       "\\begin{enumerate*}\n",
       "\\item setosa\n",
       "\\item setosa\n",
       "\\item setosa\n",
       "\\item setosa\n",
       "\\item setosa\n",
       "\\item setosa\n",
       "\\end{enumerate*}\n",
       "\n",
       "\\emph{Levels}: \\begin{enumerate*}\n",
       "\\item 'setosa'\n",
       "\\item 'versicolor'\n",
       "\\item 'virginica'\n",
       "\\end{enumerate*}\n"
      ],
      "text/markdown": [
       "1. setosa\n",
       "2. setosa\n",
       "3. setosa\n",
       "4. setosa\n",
       "5. setosa\n",
       "6. setosa\n",
       "\n",
       "\n",
       "\n",
       "**Levels**: 1. 'setosa'\n",
       "2. 'versicolor'\n",
       "3. 'virginica'\n",
       "\n",
       "\n"
      ],
      "text/plain": [
       "[1] setosa setosa setosa setosa setosa setosa\n",
       "Levels: setosa versicolor virginica"
      ]
     },
     "metadata": {},
     "output_type": "display_data"
    }
   ],
   "source": [
    "# 데이터 표준화 작업 -- 함수사용\n",
    "log.ir <- scale(iris[,1:4])\n",
    "head(log.ir)   # x 변수가 될 것\n",
    "ir.species <- iris[,5]\n",
    "head(ir.species)  # y 변수가 될 것\n",
    "\n",
    "\n",
    "\n"
   ]
  },
  {
   "cell_type": "code",
   "execution_count": 14,
   "metadata": {
    "scrolled": false
   },
   "outputs": [
    {
     "data": {
      "text/plain": [
       "Standard deviations (1, .., p=4):\n",
       "[1] 1.7083611 0.9560494 0.3830886 0.1439265\n",
       "\n",
       "Rotation (n x k) = (4 x 4):\n",
       "                    PC1         PC2        PC3        PC4\n",
       "Sepal.Length  0.5210659 -0.37741762  0.7195664  0.2612863\n",
       "Sepal.Width  -0.2693474 -0.92329566 -0.2443818 -0.1235096\n",
       "Petal.Length  0.5804131 -0.02449161 -0.1421264 -0.8014492\n",
       "Petal.Width   0.5648565 -0.06694199 -0.6342727  0.5235971"
      ]
     },
     "metadata": {},
     "output_type": "display_data"
    }
   ],
   "source": [
    "# prcomp() : 주성분 분석함수\n",
    "# 데이터를 표준화 시키면서 주성분 분석을 실행\n",
    "# center = T : 중앙값을 0으로\n",
    "# scale = T : 분산을 1로 \n",
    "ir.pca <- prcomp(log.ir, center = T, scale = T )\n",
    "ir.pca\n",
    "\n",
    "# 4가지 주성분을 만들어줌\n",
    "# 각각 요소에 PC 1 2 3 4 를 곱해줘야 표준화된 데이터를 얻는 다는 뜻이다.\n",
    "\n",
    "(0.7195664  * Petal.Length)\n",
    "\n",
    "\n",
    "\n",
    "\n",
    "\n",
    "\n",
    "\n"
   ]
  },
  {
   "cell_type": "markdown",
   "metadata": {},
   "source": [
    "pc1 = (0.5210659 * Sepal.Length) + (-0.2693474  * Sepal.Width) +...+(0.5648565  * Petal.Width) "
   ]
  },
  {
   "cell_type": "code",
   "execution_count": 15,
   "metadata": {},
   "outputs": [
    {
     "data": {
      "image/png": "[encoded data removed]",
      "text/plain": [
       "Plot with title “ir.pca”"
      ]
     },
     "metadata": {},
     "output_type": "display_data"
    }
   ],
   "source": [
    "plot(ir.pca, type=\"l\")\n",
    "\n",
    "\n",
    "\n"
   ]
  },
  {
   "cell_type": "markdown",
   "metadata": {},
   "source": [
    "그림처럼 3번부터 기울기가 줄어드는 거을 알 수 있음   \n",
    "\n",
    "이때 기울기가 꺾이는 3번을 elbow point 라고 한다.   \n",
    "\n",
    "이 포인트를 기준으로 그 위의 주벙분을 선택하여 사용하지만   \n",
    "\n",
    "plot만으로는 주성분을 선택하기 분족하다.     "
   ]
  },
  {
   "cell_type": "code",
   "execution_count": 16,
   "metadata": {},
   "outputs": [
    {
     "data": {
      "text/plain": [
       "Importance of components:\n",
       "                          PC1    PC2     PC3     PC4\n",
       "Standard deviation     1.7084 0.9560 0.38309 0.14393\n",
       "Proportion of Variance 0.7296 0.2285 0.03669 0.00518\n",
       "Cumulative Proportion  0.7296 0.9581 0.99482 1.00000"
      ]
     },
     "metadata": {},
     "output_type": "display_data"
    }
   ],
   "source": [
    "summary(ir.pca)\n",
    "\n",
    "# 주성분 \n",
    "Proportion of Variance 0.7296 0.2285 0.03669 0.00518\n",
    "\n",
    "# 합산 -  각 누적으로 pc1 부터 pc4 까지 갔을 때 얼만큼 예측가능?\n",
    "Cumulative Proportion  0.7296 0.9581 0.99482 1.00000\n",
    "\n",
    "\n",
    "\n"
   ]
  },
  {
   "cell_type": "markdown",
   "metadata": {},
   "source": [
    "신뢰구간은 최소한 95% 신뢰구간을 맞춰야 한다.     \n",
    "\n",
    "95%의 신뢰구간에서 회귀식을 세운다 -- pc1과 pc2 를 가지고 회귀식을 세우면     \n",
    "(0.5210659 Sepal.Length) + (-0.2693474 Sepal.Width)      \n",
    "\n",
    "99%의 신뢰구간에서 회귀식을 세운다 -- pc1과 pc2 를 가지고 회귀식을 세우면     \n",
    "(0.5210659 Sepal.Length) + (-0.2693474 Sepal.Width) + (0.7195664  * Petal.Length)\n",
    "\n",
    "100%의 신뢰구간에서 회귀식을 세운다 -- pc1과 pc2 를 가지고 회귀식을 세우면     \n",
    "(0.5210659 Sepal.Length) + (-0.2693474 Sepal.Width) + (0.7195664  * Petal.Length) +(0.5648565 * Petal.Width)    \n",
    "\n",
    "상관관계가 85% 이상 넘어가면 데이터가 거의 쌍둥이기 때문에 데이터의 의미가 없어진다?"
   ]
  },
  {
   "cell_type": "code",
   "execution_count": null,
   "metadata": {},
   "outputs": [],
   "source": []
  },
  {
   "cell_type": "markdown",
   "metadata": {},
   "source": [
    "## Pasta"
   ]
  },
  {
   "cell_type": "code",
   "execution_count": 139,
   "metadata": {},
   "outputs": [
    {
     "data": {
      "text/html": [
       "<table>\n",
       "<thead><tr><th></th><th scope=col>noodle</th><th scope=col>dishes</th><th scope=col>sauce</th></tr></thead>\n",
       "<tbody>\n",
       "\t<tr><th scope=row>pesto_alla_Genovese</th><td>2</td><td>4</td><td>5</td></tr>\n",
       "\t<tr><th scope=row>Marinara</th><td>1</td><td>5</td><td>1</td></tr>\n",
       "\t<tr><th scope=row>Puttanesca</th><td>5</td><td>3</td><td>4</td></tr>\n",
       "\t<tr><th scope=row>Primavera</th><td>2</td><td>2</td><td>3</td></tr>\n",
       "\t<tr><th scope=row>Vongole</th><td>3</td><td>5</td><td>5</td></tr>\n",
       "\t<tr><th scope=row>Boscaiola</th><td>4</td><td>3</td><td>2</td></tr>\n",
       "\t<tr><th scope=row>Ragu</th><td>4</td><td>4</td><td>3</td></tr>\n",
       "\t<tr><th scope=row>Alfredo</th><td>1</td><td>2</td><td>1</td></tr>\n",
       "\t<tr><th scope=row>Bechamel</th><td>3</td><td>3</td><td>2</td></tr>\n",
       "\t<tr><th scope=row>Carbonara</th><td>5</td><td>5</td><td>3</td></tr>\n",
       "</tbody>\n",
       "</table>\n"
      ],
      "text/latex": [
       "\\begin{tabular}{r|lll}\n",
       "  & noodle & dishes & sauce\\\\\n",
       "\\hline\n",
       "\tpesto\\_alla\\_Genovese & 2 & 4 & 5\\\\\n",
       "\tMarinara & 1 & 5 & 1\\\\\n",
       "\tPuttanesca & 5 & 3 & 4\\\\\n",
       "\tPrimavera & 2 & 2 & 3\\\\\n",
       "\tVongole & 3 & 5 & 5\\\\\n",
       "\tBoscaiola & 4 & 3 & 2\\\\\n",
       "\tRagu & 4 & 4 & 3\\\\\n",
       "\tAlfredo & 1 & 2 & 1\\\\\n",
       "\tBechamel & 3 & 3 & 2\\\\\n",
       "\tCarbonara & 5 & 5 & 3\\\\\n",
       "\\end{tabular}\n"
      ],
      "text/markdown": [
       "\n",
       "| <!--/--> | noodle | dishes | sauce | \n",
       "|---|---|---|---|---|---|---|---|---|---|\n",
       "| pesto_alla_Genovese | 2 | 4 | 5 | \n",
       "| Marinara | 1 | 5 | 1 | \n",
       "| Puttanesca | 5 | 3 | 4 | \n",
       "| Primavera | 2 | 2 | 3 | \n",
       "| Vongole | 3 | 5 | 5 | \n",
       "| Boscaiola | 4 | 3 | 2 | \n",
       "| Ragu | 4 | 4 | 3 | \n",
       "| Alfredo | 1 | 2 | 1 | \n",
       "| Bechamel | 3 | 3 | 2 | \n",
       "| Carbonara | 5 | 5 | 3 | \n",
       "\n",
       "\n"
      ],
      "text/plain": [
       "                    noodle dishes sauce\n",
       "pesto_alla_Genovese 2      4      5    \n",
       "Marinara            1      5      1    \n",
       "Puttanesca          5      3      4    \n",
       "Primavera           2      2      3    \n",
       "Vongole             3      5      5    \n",
       "Boscaiola           4      3      2    \n",
       "Ragu                4      4      3    \n",
       "Alfredo             1      2      1    \n",
       "Bechamel            3      3      2    \n",
       "Carbonara           5      5      3    "
      ]
     },
     "metadata": {},
     "output_type": "display_data"
    },
    {
     "name": "stdout",
     "output_type": "stream",
     "text": [
      "'data.frame':\t10 obs. of  3 variables:\n",
      " $ noodle: int  2 1 5 2 3 4 4 1 3 5\n",
      " $ dishes: int  4 5 3 2 5 3 4 2 3 5\n",
      " $ sauce : int  5 1 4 3 5 2 3 1 2 3\n"
     ]
    }
   ],
   "source": [
    "data <- read.table('../Data/pasta.txt',header = T)\n",
    "data\n",
    "str(data)\n",
    "\n",
    "\n",
    "\n"
   ]
  },
  {
   "cell_type": "code",
   "execution_count": 112,
   "metadata": {},
   "outputs": [
    {
     "data": {
      "text/plain": [
       "     noodle      dishes         sauce     \n",
       " Min.   :1   Min.   :2.00   Min.   :1.00  \n",
       " 1st Qu.:2   1st Qu.:3.00   1st Qu.:2.00  \n",
       " Median :3   Median :3.50   Median :3.00  \n",
       " Mean   :3   Mean   :3.60   Mean   :2.90  \n",
       " 3rd Qu.:4   3rd Qu.:4.75   3rd Qu.:3.75  \n",
       " Max.   :5   Max.   :5.00   Max.   :5.00  "
      ]
     },
     "metadata": {},
     "output_type": "display_data"
    }
   ],
   "source": [
    "summary(data)\n",
    "\n",
    "\n",
    "\n"
   ]
  },
  {
   "cell_type": "code",
   "execution_count": 106,
   "metadata": {},
   "outputs": [
    {
     "data": {
      "text/html": [
       "<table>\n",
       "<thead><tr><th></th><th scope=col>noodle</th><th scope=col>dishes</th><th scope=col>sauce</th></tr></thead>\n",
       "<tbody>\n",
       "\t<tr><th scope=row>noodle</th><td>1.0000000</td><td>0.1905002</td><td>0.3600411</td></tr>\n",
       "\t<tr><th scope=row>dishes</th><td>0.1905002</td><td>1.0000000</td><td>0.3004804</td></tr>\n",
       "\t<tr><th scope=row>sauce</th><td>0.3600411</td><td>0.3004804</td><td>1.0000000</td></tr>\n",
       "</tbody>\n",
       "</table>\n"
      ],
      "text/latex": [
       "\\begin{tabular}{r|lll}\n",
       "  & noodle & dishes & sauce\\\\\n",
       "\\hline\n",
       "\tnoodle & 1.0000000 & 0.1905002 & 0.3600411\\\\\n",
       "\tdishes & 0.1905002 & 1.0000000 & 0.3004804\\\\\n",
       "\tsauce & 0.3600411 & 0.3004804 & 1.0000000\\\\\n",
       "\\end{tabular}\n"
      ],
      "text/markdown": [
       "\n",
       "| <!--/--> | noodle | dishes | sauce | \n",
       "|---|---|---|\n",
       "| noodle | 1.0000000 | 0.1905002 | 0.3600411 | \n",
       "| dishes | 0.1905002 | 1.0000000 | 0.3004804 | \n",
       "| sauce | 0.3600411 | 0.3004804 | 1.0000000 | \n",
       "\n",
       "\n"
      ],
      "text/plain": [
       "       noodle    dishes    sauce    \n",
       "noodle 1.0000000 0.1905002 0.3600411\n",
       "dishes 0.1905002 1.0000000 0.3004804\n",
       "sauce  0.3600411 0.3004804 1.0000000"
      ]
     },
     "metadata": {},
     "output_type": "display_data"
    }
   ],
   "source": [
    "# 상관행렬\n",
    "# 다중 공선성 문제는 없다? - 85 % 미만이면 데이터를 사용할 수 있다.!!!!!!!!!!!!!!!!!!!!!!!!@!@!@!@!@!@!@!@!@!@!@\n",
    "cor(data)\n",
    "\n",
    "\n",
    "\n"
   ]
  },
  {
   "cell_type": "code",
   "execution_count": 108,
   "metadata": {},
   "outputs": [
    {
     "data": {
      "text/plain": [
       "Standard deviations (1, .., p=3):\n",
       "[1] 1.2541347 0.9022241 0.7830312\n",
       "\n",
       "Rotation (n x k) = (3 x 3):\n",
       "             PC1        PC2        PC3\n",
       "noodle 0.5715110 -0.6044710  0.5549685\n",
       "dishes 0.5221161  0.7896069  0.3223595\n",
       "sauce  0.6330639 -0.1055260 -0.7668731"
      ]
     },
     "metadata": {},
     "output_type": "display_data"
    }
   ],
   "source": [
    "p1 <- prcomp(data, scale = T, center =  T)\n",
    "p1\n",
    "\n",
    "\n",
    "\n"
   ]
  },
  {
   "cell_type": "code",
   "execution_count": 109,
   "metadata": {},
   "outputs": [
    {
     "data": {
      "text/plain": [
       "Importance of components:\n",
       "                          PC1    PC2    PC3\n",
       "Standard deviation     1.2541 0.9022 0.7830\n",
       "Proportion of Variance 0.5243 0.2713 0.2044\n",
       "Cumulative Proportion  0.5243 0.7956 1.0000"
      ]
     },
     "metadata": {},
     "output_type": "display_data"
    }
   ],
   "source": [
    "summary(p1)\n",
    "\n",
    "# Proportion of Variance 0.5243 0.2713 0.2044 -  예측력!\n",
    "\n",
    "# Cumulative Proportion  0.5243 0.7956 1.0000\n",
    "\n",
    "\n",
    "\n"
   ]
  },
  {
   "cell_type": "code",
   "execution_count": 115,
   "metadata": {},
   "outputs": [
    {
     "data": {
      "image/png": "[encoded data removed]",
      "text/plain": [
       "plot without title"
      ]
     },
     "metadata": {},
     "output_type": "display_data"
    }
   ],
   "source": [
    "# 주성분을 토대로 그래프 작성\n",
    "biplot(p1)\n",
    "\n",
    "# 그래프 해석  --  biplot 은 컬럼 기준 점수 차이이다\n",
    "# 화살표를 기준으로 dishes dㅔ서는 봉골레가 가장 높게 평가 Premavera 가 가장 낮게 평가\n",
    "# 소스는 Carbonara 최고 이속 Alfredo 가장 낮게 평가 되엇다\n",
    "# 면은 Puttanesca 가 높게 평가 되었고 Marinara 가 가장 낮게 평가 되었다.\n",
    "\n",
    "\n",
    "\n",
    "\n",
    "\n",
    "\n",
    "\n"
   ]
  },
  {
   "cell_type": "code",
   "execution_count": 114,
   "metadata": {},
   "outputs": [
    {
     "data": {
      "text/html": [
       "<table>\n",
       "<thead><tr><th></th><th scope=col>PC1</th><th scope=col>PC2</th><th scope=col>PC3</th></tr></thead>\n",
       "<tbody>\n",
       "\t<tr><th scope=row>pesto_alla_Genovese</th><td> 0.7119408  </td><td> 0.5216497  </td><td>-1.373736133</td></tr>\n",
       "\t<tr><th scope=row>Marinara</th><td>-0.9740499  </td><td> 1.8911205  </td><td> 0.645382316</td></tr>\n",
       "\t<tr><th scope=row>Puttanesca</th><td> 0.9804158  </td><td>-1.2947047  </td><td>-0.002322692</td></tr>\n",
       "\t<tr><th scope=row>Primavera</th><td>-1.0513965  </td><td>-0.6781104  </td><td>-0.864614382</td></tr>\n",
       "\t<tr><th scope=row>Vongole</th><td> 1.5401350  </td><td> 0.7888582  </td><td>-0.726820118</td></tr>\n",
       "\t<tr><th scope=row>Boscaiola</th><td>-0.2766766  </td><td>-0.7435735  </td><td> 0.683778524</td></tr>\n",
       "\t<tr><th scope=row>Ragu</th><td> 0.6049920  </td><td>-0.1436935  </td><td> 0.429217649</td></tr>\n",
       "\t<tr><th scope=row>Alfredo</th><td>-2.3084890  </td><td>-0.1269792  </td><td>-0.178513165</td></tr>\n",
       "\t<tr><th scope=row>Bechamel</th><td>-0.6600579  </td><td>-0.3380821  </td><td> 0.311494336</td></tr>\n",
       "\t<tr><th scope=row>Carbonara</th><td> 1.4331863  </td><td> 0.1235150  </td><td> 1.076133664</td></tr>\n",
       "</tbody>\n",
       "</table>\n"
      ],
      "text/latex": [
       "\\begin{tabular}{r|lll}\n",
       "  & PC1 & PC2 & PC3\\\\\n",
       "\\hline\n",
       "\tpesto\\_alla\\_Genovese &  0.7119408   &  0.5216497   & -1.373736133\\\\\n",
       "\tMarinara & -0.9740499   &  1.8911205   &  0.645382316\\\\\n",
       "\tPuttanesca &  0.9804158   & -1.2947047   & -0.002322692\\\\\n",
       "\tPrimavera & -1.0513965   & -0.6781104   & -0.864614382\\\\\n",
       "\tVongole &  1.5401350   &  0.7888582   & -0.726820118\\\\\n",
       "\tBoscaiola & -0.2766766   & -0.7435735   &  0.683778524\\\\\n",
       "\tRagu &  0.6049920   & -0.1436935   &  0.429217649\\\\\n",
       "\tAlfredo & -2.3084890   & -0.1269792   & -0.178513165\\\\\n",
       "\tBechamel & -0.6600579   & -0.3380821   &  0.311494336\\\\\n",
       "\tCarbonara &  1.4331863   &  0.1235150   &  1.076133664\\\\\n",
       "\\end{tabular}\n"
      ],
      "text/markdown": [
       "\n",
       "| <!--/--> | PC1 | PC2 | PC3 | \n",
       "|---|---|---|---|---|---|---|---|---|---|\n",
       "| pesto_alla_Genovese |  0.7119408   |  0.5216497   | -1.373736133 | \n",
       "| Marinara | -0.9740499   |  1.8911205   |  0.645382316 | \n",
       "| Puttanesca |  0.9804158   | -1.2947047   | -0.002322692 | \n",
       "| Primavera | -1.0513965   | -0.6781104   | -0.864614382 | \n",
       "| Vongole |  1.5401350   |  0.7888582   | -0.726820118 | \n",
       "| Boscaiola | -0.2766766   | -0.7435735   |  0.683778524 | \n",
       "| Ragu |  0.6049920   | -0.1436935   |  0.429217649 | \n",
       "| Alfredo | -2.3084890   | -0.1269792   | -0.178513165 | \n",
       "| Bechamel | -0.6600579   | -0.3380821   |  0.311494336 | \n",
       "| Carbonara |  1.4331863   |  0.1235150   |  1.076133664 | \n",
       "\n",
       "\n"
      ],
      "text/plain": [
       "                    PC1        PC2        PC3         \n",
       "pesto_alla_Genovese  0.7119408  0.5216497 -1.373736133\n",
       "Marinara            -0.9740499  1.8911205  0.645382316\n",
       "Puttanesca           0.9804158 -1.2947047 -0.002322692\n",
       "Primavera           -1.0513965 -0.6781104 -0.864614382\n",
       "Vongole              1.5401350  0.7888582 -0.726820118\n",
       "Boscaiola           -0.2766766 -0.7435735  0.683778524\n",
       "Ragu                 0.6049920 -0.1436935  0.429217649\n",
       "Alfredo             -2.3084890 -0.1269792 -0.178513165\n",
       "Bechamel            -0.6600579 -0.3380821  0.311494336\n",
       "Carbonara            1.4331863  0.1235150  1.076133664"
      ]
     },
     "metadata": {},
     "output_type": "display_data"
    }
   ],
   "source": [
    "# 예측 -- 이 식당에서 \n",
    "predict(p1)\n",
    "\n",
    "# Proportion of Variance 0.5243 0.2713 0.2044 -  예측력 차이기 때문에\n",
    "# PC1 이 50퍼센트 이므로 만약에 PC2를 사용한다고 했으면 이 점수를 PC1 기준으로 반 값을 사용해서 봐야할 것이다.\n",
    "\n",
    "\n",
    "\n"
   ]
  },
  {
   "cell_type": "markdown",
   "metadata": {},
   "source": [
    "결록적으로 PC 1 만 가지고 분석을 진행해도 상관이 없다?"
   ]
  },
  {
   "cell_type": "code",
   "execution_count": null,
   "metadata": {},
   "outputs": [],
   "source": []
  },
  {
   "cell_type": "markdown",
   "metadata": {},
   "source": [
    "# Ramen"
   ]
  },
  {
   "cell_type": "code",
   "execution_count": 151,
   "metadata": {},
   "outputs": [
    {
     "data": {
      "text/html": [
       "<table>\n",
       "<thead><tr><th scope=col>라면종류</th><th scope=col>면발</th><th scope=col>포장재</th><th scope=col>국물</th></tr></thead>\n",
       "<tbody>\n",
       "\t<tr><td>신라면      </td><td>2           </td><td>4           </td><td>5           </td></tr>\n",
       "\t<tr><td>짜파게티    </td><td>5           </td><td>2           </td><td>1           </td></tr>\n",
       "\t<tr><td>쌀사리곰탕면</td><td>3           </td><td>4           </td><td>3           </td></tr>\n",
       "\t<tr><td>무파마      </td><td>3           </td><td>3           </td><td>5           </td></tr>\n",
       "\t<tr><td>안성탕면    </td><td>1           </td><td>2           </td><td>3           </td></tr>\n",
       "\t<tr><td>오징어짬뽕  </td><td>1           </td><td>3           </td><td>4           </td></tr>\n",
       "\t<tr><td>너구리      </td><td>3           </td><td>3           </td><td>4           </td></tr>\n",
       "\t<tr><td>육계장      </td><td>2           </td><td>3           </td><td>5           </td></tr>\n",
       "</tbody>\n",
       "</table>\n"
      ],
      "text/latex": [
       "\\begin{tabular}{r|llll}\n",
       " 라면종류 & 면발 & 포장재 & 국물\\\\\n",
       "\\hline\n",
       "\t 신라면       & 2            & 4            & 5           \\\\\n",
       "\t 짜파게티     & 5            & 2            & 1           \\\\\n",
       "\t 쌀사리곰탕면 & 3            & 4            & 3           \\\\\n",
       "\t 무파마       & 3            & 3            & 5           \\\\\n",
       "\t 안성탕면     & 1            & 2            & 3           \\\\\n",
       "\t 오징어짬뽕   & 1            & 3            & 4           \\\\\n",
       "\t 너구리       & 3            & 3            & 4           \\\\\n",
       "\t 육계장       & 2            & 3            & 5           \\\\\n",
       "\\end{tabular}\n"
      ],
      "text/markdown": [
       "\n",
       "라면종류 | 면발 | 포장재 | 국물 | \n",
       "|---|---|---|---|---|---|---|---|\n",
       "| 신라면       | 2            | 4            | 5            | \n",
       "| 짜파게티     | 5            | 2            | 1            | \n",
       "| 쌀사리곰탕면 | 3            | 4            | 3            | \n",
       "| 무파마       | 3            | 3            | 5            | \n",
       "| 안성탕면     | 1            | 2            | 3            | \n",
       "| 오징어짬뽕   | 1            | 3            | 4            | \n",
       "| 너구리       | 3            | 3            | 4            | \n",
       "| 육계장       | 2            | 3            | 5            | \n",
       "\n",
       "\n"
      ],
      "text/plain": [
       "  라면종류     면발 포장재 국물\n",
       "1 신라면       2    4      5   \n",
       "2 짜파게티     5    2      1   \n",
       "3 쌀사리곰탕면 3    4      3   \n",
       "4 무파마       3    3      5   \n",
       "5 안성탕면     1    2      3   \n",
       "6 오징어짬뽕   1    3      4   \n",
       "7 너구리       3    3      4   \n",
       "8 육계장       2    3      5   "
      ]
     },
     "metadata": {},
     "output_type": "display_data"
    },
    {
     "name": "stdout",
     "output_type": "stream",
     "text": [
      "'data.frame':\t8 obs. of  3 variables:\n",
      " $ 면발  : int  2 5 3 3 1 1 3 2\n",
      " $ 포장재: int  4 2 4 3 2 3 3 3\n",
      " $ 국물  : int  5 1 3 5 3 4 4 5\n"
     ]
    },
    {
     "data": {
      "text/html": [
       "<table>\n",
       "<thead><tr><th></th><th scope=col>면발</th><th scope=col>포장재</th><th scope=col>국물</th></tr></thead>\n",
       "<tbody>\n",
       "\t<tr><th scope=row>신라면</th><td>2</td><td>4</td><td>5</td></tr>\n",
       "\t<tr><th scope=row>짜파게티</th><td>5</td><td>2</td><td>1</td></tr>\n",
       "\t<tr><th scope=row>쌀사리곰탕면</th><td>3</td><td>4</td><td>3</td></tr>\n",
       "\t<tr><th scope=row>무파마</th><td>3</td><td>3</td><td>5</td></tr>\n",
       "\t<tr><th scope=row>안성탕면</th><td>1</td><td>2</td><td>3</td></tr>\n",
       "\t<tr><th scope=row>오징어짬뽕</th><td>1</td><td>3</td><td>4</td></tr>\n",
       "\t<tr><th scope=row>너구리</th><td>3</td><td>3</td><td>4</td></tr>\n",
       "\t<tr><th scope=row>육계장</th><td>2</td><td>3</td><td>5</td></tr>\n",
       "</tbody>\n",
       "</table>\n"
      ],
      "text/latex": [
       "\\begin{tabular}{r|lll}\n",
       "  & 면발 & 포장재 & 국물\\\\\n",
       "\\hline\n",
       "\t신라면 & 2 & 4 & 5\\\\\n",
       "\t짜파게티 & 5 & 2 & 1\\\\\n",
       "\t쌀사리곰탕면 & 3 & 4 & 3\\\\\n",
       "\t무파마 & 3 & 3 & 5\\\\\n",
       "\t안성탕면 & 1 & 2 & 3\\\\\n",
       "\t오징어짬뽕 & 1 & 3 & 4\\\\\n",
       "\t너구리 & 3 & 3 & 4\\\\\n",
       "\t육계장 & 2 & 3 & 5\\\\\n",
       "\\end{tabular}\n"
      ],
      "text/markdown": [
       "\n",
       "| <!--/--> | 면발 | 포장재 | 국물 | \n",
       "|---|---|---|---|---|---|---|---|\n",
       "| 신라면 | 2 | 4 | 5 | \n",
       "| 짜파게티 | 5 | 2 | 1 | \n",
       "| 쌀사리곰탕면 | 3 | 4 | 3 | \n",
       "| 무파마 | 3 | 3 | 5 | \n",
       "| 안성탕면 | 1 | 2 | 3 | \n",
       "| 오징어짬뽕 | 1 | 3 | 4 | \n",
       "| 너구리 | 3 | 3 | 4 | \n",
       "| 육계장 | 2 | 3 | 5 | \n",
       "\n",
       "\n"
      ],
      "text/plain": [
       "             면발 포장재 국물\n",
       "신라면       2    4      5   \n",
       "짜파게티     5    2      1   \n",
       "쌀사리곰탕면 3    4      3   \n",
       "무파마       3    3      5   \n",
       "안성탕면     1    2      3   \n",
       "오징어짬뽕   1    3      4   \n",
       "너구리       3    3      4   \n",
       "육계장       2    3      5   "
      ]
     },
     "metadata": {},
     "output_type": "display_data"
    }
   ],
   "source": [
    "ramen1 <- read.csv('../Data/라면.csv',header = T)\n",
    "ramen1\n",
    "str(ramen)\n",
    "ramen<-data.frame(면발=ramen1$면발,포장재=ramen1$포장재,국물=ramen1$국물)\n",
    "row.names(ramen) <- ramen1$라면종류\n",
    "ramen\n",
    "\n",
    "\n",
    "\n"
   ]
  },
  {
   "cell_type": "code",
   "execution_count": 157,
   "metadata": {},
   "outputs": [
    {
     "data": {
      "text/plain": [
       "      면발          포장재          국물     \n",
       " Min.   :1.00   Min.   :2.00   Min.   :1.00  \n",
       " 1st Qu.:1.75   1st Qu.:2.75   1st Qu.:3.00  \n",
       " Median :2.50   Median :3.00   Median :4.00  \n",
       " Mean   :2.50   Mean   :3.00   Mean   :3.75  \n",
       " 3rd Qu.:3.00   3rd Qu.:3.25   3rd Qu.:5.00  \n",
       " Max.   :5.00   Max.   :4.00   Max.   :5.00  "
      ]
     },
     "metadata": {},
     "output_type": "display_data"
    },
    {
     "name": "stdout",
     "output_type": "stream",
     "text": [
      "[1] \"=============================================================summary\"\n"
     ]
    },
    {
     "data": {
      "text/html": [
       "<table>\n",
       "<thead><tr><th></th><th scope=col>면발</th><th scope=col>포장재</th><th scope=col>국물</th></tr></thead>\n",
       "<tbody>\n",
       "\t<tr><th scope=row>면발</th><td> 1.0000000</td><td>-0.1443376</td><td>-0.5499719</td></tr>\n",
       "\t<tr><th scope=row>포장재</th><td>-0.1443376</td><td> 1.0000000</td><td> 0.5443311</td></tr>\n",
       "\t<tr><th scope=row>국물</th><td>-0.5499719</td><td> 0.5443311</td><td> 1.0000000</td></tr>\n",
       "</tbody>\n",
       "</table>\n"
      ],
      "text/latex": [
       "\\begin{tabular}{r|lll}\n",
       "  & 면발 & 포장재 & 국물\\\\\n",
       "\\hline\n",
       "\t면발 &  1.0000000 & -0.1443376 & -0.5499719\\\\\n",
       "\t포장재 & -0.1443376 &  1.0000000 &  0.5443311\\\\\n",
       "\t국물 & -0.5499719 &  0.5443311 &  1.0000000\\\\\n",
       "\\end{tabular}\n"
      ],
      "text/markdown": [
       "\n",
       "| <!--/--> | 면발 | 포장재 | 국물 | \n",
       "|---|---|---|\n",
       "| 면발 |  1.0000000 | -0.1443376 | -0.5499719 | \n",
       "| 포장재 | -0.1443376 |  1.0000000 |  0.5443311 | \n",
       "| 국물 | -0.5499719 |  0.5443311 |  1.0000000 | \n",
       "\n",
       "\n"
      ],
      "text/plain": [
       "       면발       포장재     국물      \n",
       "면발    1.0000000 -0.1443376 -0.5499719\n",
       "포장재 -0.1443376  1.0000000  0.5443311\n",
       "국물   -0.5499719  0.5443311  1.0000000"
      ]
     },
     "metadata": {},
     "output_type": "display_data"
    },
    {
     "name": "stdout",
     "output_type": "stream",
     "text": [
      "[1] \"=============================================================cor\"\n"
     ]
    },
    {
     "data": {
      "text/plain": [
       "Standard deviations (1, .., p=3):\n",
       "[1] 1.3598983 0.9250247 0.5431446\n",
       "\n",
       "Rotation (n x k) = (3 x 3):\n",
       "              PC1          PC2        PC3\n",
       "면발    0.5246079 -0.703176912  0.4799258\n",
       "포장재 -0.5207846 -0.711011926 -0.4724885\n",
       "국물   -0.6734760  0.002066804  0.7392062"
      ]
     },
     "metadata": {},
     "output_type": "display_data"
    },
    {
     "name": "stdout",
     "output_type": "stream",
     "text": [
      "[1] \"=============================================================prcomp\"\n"
     ]
    },
    {
     "data": {
      "text/plain": [
       "Importance of components:\n",
       "                          PC1    PC2     PC3\n",
       "Standard deviation     1.3599 0.9250 0.54314\n",
       "Proportion of Variance 0.6164 0.2852 0.09834\n",
       "Cumulative Proportion  0.6164 0.9017 1.00000"
      ]
     },
     "metadata": {},
     "output_type": "display_data"
    },
    {
     "name": "stdout",
     "output_type": "stream",
     "text": [
      "[1] \"=============================================================summary\"\n"
     ]
    }
   ],
   "source": [
    "summary(ramen)\n",
    "\n",
    "print(\"=============================================================summary\")\n",
    "\n",
    "# 상관행렬\n",
    "# 다중 공선성 문제는 없다? - 85 % 미만이면 데이터를 사용할 수 있다.!!!!!!!!!!!!!!!!!!!!!!!!@!@!@!@!@!@!@!@!@!@!@\n",
    "cor(ramen)\n",
    "\n",
    "print(\"=============================================================cor\")\n",
    "\n",
    "p2 <- prcomp(ramen, scale = T, center =  T)    # 스케일 함수는 두 데이터의 편차가 심할때 정규화 시킬 때 사용가능\n",
    "p2\n",
    "\n",
    "print(\"=============================================================prcomp\")\n",
    "\n",
    "summary(p2)\n",
    "\n",
    "print(\"=============================================================summary\")\n",
    "\n",
    "\n",
    "\n",
    "\n",
    "\n",
    "\n",
    "\n",
    "\n",
    "\n",
    "\n",
    "\n"
   ]
  },
  {
   "cell_type": "code",
   "execution_count": 153,
   "metadata": {},
   "outputs": [
    {
     "data": {
      "image/png": "[encoded data removed]",
      "text/plain": [
       "plot without title"
      ]
     },
     "metadata": {},
     "output_type": "display_data"
    }
   ],
   "source": [
    "# 주성분을 토대로 그래프 작성\n",
    "biplot(p2)\n",
    "\n",
    "\n",
    "\n"
   ]
  },
  {
   "cell_type": "code",
   "execution_count": 175,
   "metadata": {},
   "outputs": [
    {
     "data": {
      "text/html": [
       "<table>\n",
       "<thead><tr><th></th><th scope=col>PC1</th><th scope=col>PC2</th><th scope=col>PC3</th></tr></thead>\n",
       "<tbody>\n",
       "\t<tr><th scope=row>신라면</th><td>-1.4954690 </td><td>-0.6701899 </td><td>-0.14295664</td></tr>\n",
       "\t<tr><th scope=row>짜파게티</th><td> 3.0242580 </td><td>-0.4061630 </td><td> 0.07762152</td></tr>\n",
       "\t<tr><th scope=row>쌀사리곰탕면</th><td>-0.1248768 </td><td>-1.2102267 </td><td>-0.84098582</td></tr>\n",
       "\t<tr><th scope=row>무파마</th><td>-0.4058597 </td><td>-0.2666698 </td><td> 0.84863632</td></tr>\n",
       "\t<tr><th scope=row>안성탕면</th><td> 0.4516381 </td><td> 1.7450545 </td><td>-0.32399753</td></tr>\n",
       "\t<tr><th scope=row>오징어짬뽕</th><td>-0.7222534 </td><td> 0.8059624 </td><td>-0.41675179</td></tr>\n",
       "\t<tr><th scope=row>너구리</th><td> 0.0790984 </td><td>-0.2681581 </td><td> 0.31634703</td></tr>\n",
       "\t<tr><th scope=row>육계장</th><td>-0.8065356 </td><td> 0.2703905 </td><td> 0.48208691</td></tr>\n",
       "</tbody>\n",
       "</table>\n"
      ],
      "text/latex": [
       "\\begin{tabular}{r|lll}\n",
       "  & PC1 & PC2 & PC3\\\\\n",
       "\\hline\n",
       "\t신라면 & -1.4954690  & -0.6701899  & -0.14295664\\\\\n",
       "\t짜파게티 &  3.0242580  & -0.4061630  &  0.07762152\\\\\n",
       "\t쌀사리곰탕면 & -0.1248768  & -1.2102267  & -0.84098582\\\\\n",
       "\t무파마 & -0.4058597  & -0.2666698  &  0.84863632\\\\\n",
       "\t안성탕면 &  0.4516381  &  1.7450545  & -0.32399753\\\\\n",
       "\t오징어짬뽕 & -0.7222534  &  0.8059624  & -0.41675179\\\\\n",
       "\t너구리 &  0.0790984  & -0.2681581  &  0.31634703\\\\\n",
       "\t육계장 & -0.8065356  &  0.2703905  &  0.48208691\\\\\n",
       "\\end{tabular}\n"
      ],
      "text/markdown": [
       "\n",
       "| <!--/--> | PC1 | PC2 | PC3 | \n",
       "|---|---|---|---|---|---|---|---|\n",
       "| 신라면 | -1.4954690  | -0.6701899  | -0.14295664 | \n",
       "| 짜파게티 |  3.0242580  | -0.4061630  |  0.07762152 | \n",
       "| 쌀사리곰탕면 | -0.1248768  | -1.2102267  | -0.84098582 | \n",
       "| 무파마 | -0.4058597  | -0.2666698  |  0.84863632 | \n",
       "| 안성탕면 |  0.4516381  |  1.7450545  | -0.32399753 | \n",
       "| 오징어짬뽕 | -0.7222534  |  0.8059624  | -0.41675179 | \n",
       "| 너구리 |  0.0790984  | -0.2681581  |  0.31634703 | \n",
       "| 육계장 | -0.8065356  |  0.2703905  |  0.48208691 | \n",
       "\n",
       "\n"
      ],
      "text/plain": [
       "             PC1        PC2        PC3        \n",
       "신라면       -1.4954690 -0.6701899 -0.14295664\n",
       "짜파게티      3.0242580 -0.4061630  0.07762152\n",
       "쌀사리곰탕면 -0.1248768 -1.2102267 -0.84098582\n",
       "무파마       -0.4058597 -0.2666698  0.84863632\n",
       "안성탕면      0.4516381  1.7450545 -0.32399753\n",
       "오징어짬뽕   -0.7222534  0.8059624 -0.41675179\n",
       "너구리        0.0790984 -0.2681581  0.31634703\n",
       "육계장       -0.8065356  0.2703905  0.48208691"
      ]
     },
     "metadata": {},
     "output_type": "display_data"
    },
    {
     "data": {
      "text/html": [
       "<dl class=dl-horizontal>\n",
       "\t<dt>짜파게티</dt>\n",
       "\t\t<dd>1.988</dd>\n",
       "\t<dt>신라면</dt>\n",
       "\t\t<dd>1.127</dd>\n",
       "\t<dt>안성탕면</dt>\n",
       "\t\t<dd>0.808</dd>\n",
       "\t<dt>오징어짬뽕</dt>\n",
       "\t\t<dd>0.716</dd>\n",
       "\t<dt>육계장</dt>\n",
       "\t\t<dd>0.621</dd>\n",
       "\t<dt>쌀사리곰탕면</dt>\n",
       "\t\t<dd>0.505</dd>\n",
       "\t<dt>무파마</dt>\n",
       "\t\t<dd>0.409</dd>\n",
       "\t<dt>너구리</dt>\n",
       "\t\t<dd>0.156</dd>\n",
       "</dl>\n"
      ],
      "text/latex": [
       "\\begin{description*}\n",
       "\\item[짜파게티] 1.988\n",
       "\\item[신라면] 1.127\n",
       "\\item[안성탕면] 0.808\n",
       "\\item[오징어짬뽕] 0.716\n",
       "\\item[육계장] 0.621\n",
       "\\item[쌀사리곰탕면] 0.505\n",
       "\\item[무파마] 0.409\n",
       "\\item[너구리] 0.156\n",
       "\\end{description*}\n"
      ],
      "text/markdown": [
       "짜파게티\n",
       ":   1.988신라면\n",
       ":   1.127안성탕면\n",
       ":   0.808오징어짬뽕\n",
       ":   0.716육계장\n",
       ":   0.621쌀사리곰탕면\n",
       ":   0.505무파마\n",
       ":   0.409너구리\n",
       ":   0.156\n",
       "\n"
      ],
      "text/plain": [
       "    짜파게티       신라면     안성탕면   오징어짬뽕       육계장 쌀사리곰탕면 \n",
       "       1.988        1.127        0.808        0.716        0.621        0.505 \n",
       "      무파마       너구리 \n",
       "       0.409        0.156 "
      ]
     },
     "metadata": {},
     "output_type": "display_data"
    }
   ],
   "source": [
    "pre <- predict(p2)\n",
    "pre\n",
    "\n",
    "kk<-round(abs(pre[,1]) * 0.6164, 3) + round(abs(pre[,2]) * 0.2852, 3) + round(abs(pre[,3]) * 0.09834, 3)\n",
    "\n",
    "sort(kk,decreasing = T)\n",
    "\n",
    "\n",
    "\n",
    "\n",
    "\n",
    "\n",
    "\n"
   ]
  },
  {
   "cell_type": "code",
   "execution_count": null,
   "metadata": {},
   "outputs": [],
   "source": []
  }
 ],
 "metadata": {
  "kernelspec": {
   "display_name": "R",
   "language": "R",
   "name": "ir"
  },
  "language_info": {
   "codemirror_mode": "r",
   "file_extension": ".r",
   "mimetype": "text/x-r-source",
   "name": "R",
   "pygments_lexer": "r",
   "version": "3.5.1"
  }
 },
 "nbformat": 4,
 "nbformat_minor": 2
}
