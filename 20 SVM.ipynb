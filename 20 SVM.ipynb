{
 "cells": [
  {
   "cell_type": "markdown",
   "metadata": {},
   "source": [
    "# SVM    \n",
    "- 문제와 답을 알려주어야 하는 지도학습   \n",
    "- 적은양의 데이터로도 사용할 수 있다."
   ]
  },
  {
   "cell_type": "code",
   "execution_count": 1,
   "metadata": {},
   "outputs": [],
   "source": [
    "library(e1071)\n",
    "\n",
    "\n",
    "\n",
    "\n"
   ]
  },
  {
   "cell_type": "code",
   "execution_count": 3,
   "metadata": {},
   "outputs": [
    {
     "data": {
      "text/plain": [
       "            pred\n",
       "             setosa versicolor virginica\n",
       "  setosa         15          0         0\n",
       "  versicolor      0         14         1\n",
       "  virginica       0          2        13"
      ]
     },
     "metadata": {},
     "output_type": "display_data"
    },
    {
     "data": {
      "text/html": [
       "93.33"
      ],
      "text/latex": [
       "93.33"
      ],
      "text/markdown": [
       "93.33"
      ],
      "text/plain": [
       "[1] 93.33"
      ]
     },
     "metadata": {},
     "output_type": "display_data"
    }
   ],
   "source": [
    "library(e1071)\n",
    "# 샘플 데이터 형성\n",
    "#  150 : 105 (70%) + 45 (30%)\n",
    "set.seed(1234) # 샘플값 고정\n",
    "samp <- c(sample(1:50, 35), sample(51:100, 35),sample(101:150, 35))\n",
    "\n",
    "# 학습용 검증용 데이터 분류\n",
    "# 학습용 데이터\n",
    "data.train <- iris[samp,]\n",
    "# 검증용 데이터\n",
    "data.test <- iris[-samp,]\n",
    "\n",
    "# 학습시키기\n",
    "model <- svm(Species ~., data = data.train)\n",
    "\n",
    "# 예측하기\n",
    "pred <- predict(model, data.test)\n",
    "\n",
    "# 확인하기 - 정답 오답을\n",
    "table(data.test$Species, pred)\n",
    "\n",
    "# 예측률\n",
    "round(mean(data.test$Species == pred) * 100,2)\n",
    "\n",
    "\n",
    "\n",
    "\n",
    "\n",
    "\n",
    "\n",
    "\n",
    "\n",
    "\n",
    "\n",
    "\n",
    "\n",
    "\n",
    "\n"
   ]
  }
 ],
 "metadata": {
  "kernelspec": {
   "display_name": "R",
   "language": "R",
   "name": "ir"
  },
  "language_info": {
   "codemirror_mode": "r",
   "file_extension": ".r",
   "mimetype": "text/x-r-source",
   "name": "R",
   "pygments_lexer": "r",
   "version": "3.5.1"
  }
 },
 "nbformat": 4,
 "nbformat_minor": 2
}
